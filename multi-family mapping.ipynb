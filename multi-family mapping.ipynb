{
 "cells": [
  {
   "cell_type": "code",
   "execution_count": 1,
   "metadata": {
    "collapsed": true
   },
   "outputs": [],
   "source": [
    "from linkage_map.multi_family_mapping_functions import *"
   ]
  },
  {
   "cell_type": "code",
   "execution_count": 39,
   "metadata": {
    "collapsed": false
   },
   "outputs": [],
   "source": [
    "import os.path\n",
    "import pandas as pd\n",
    "import collections"
   ]
  },
  {
   "cell_type": "markdown",
   "metadata": {},
   "source": [
    "### Write a file listing all identified paralogs"
   ]
  },
  {
   "cell_type": "code",
   "execution_count": 3,
   "metadata": {
    "collapsed": true
   },
   "outputs": [],
   "source": [
    "stats_file_1 = os.path.join('linkage_map','chum_08.stats')\n",
    "stats_file_2 = os.path.join('linkage_map','chum_01.stats')\n",
    "stats_file_3 = os.path.join('linkage_map','chum_09.stats')\n",
    "\n",
    "paralogs_file = os.path.join('linkage_map','chum_paralogs.txt')"
   ]
  },
  {
   "cell_type": "code",
   "execution_count": 4,
   "metadata": {
    "collapsed": false
   },
   "outputs": [],
   "source": [
    "paralogs = set()\n",
    "for stats_file in [stats_file_1, stats_file_2, stats_file_3]:\n",
    "    with open(stats_file) as INFILE:\n",
    "        for line in INFILE:\n",
    "            if line.strip().split()[2] not in ['AA_xx', \"AB\"]:\n",
    "                paralogs.add(line.strip().split()[0])\n",
    "paralogs = sorted([int(xx) for xx in paralogs])\n",
    "with open(paralogs_file, 'w') as OUTFILE:\n",
    "    for xx in sorted(list(paralogs)):\n",
    "        OUTFILE.write('{}\\n'.format(xx))"
   ]
  },
  {
   "cell_type": "markdown",
   "metadata": {},
   "source": [
    "### Import genotype data from MST map input files:"
   ]
  },
  {
   "cell_type": "code",
   "execution_count": 5,
   "metadata": {
    "collapsed": true
   },
   "outputs": [],
   "source": [
    "linkage_map_file_1 = os.path.join('linkage_map','chum_08_mstmap.txt')\n",
    "linkage_map_file_2 = os.path.join('linkage_map','chum_01_mstmap.txt')\n",
    "linkage_map_file_3 = os.path.join('linkage_map','chum_09_mstmap.txt')"
   ]
  },
  {
   "cell_type": "code",
   "execution_count": 6,
   "metadata": {
    "collapsed": false
   },
   "outputs": [],
   "source": [
    "individuals_08, genotypes_at_locus_08 = import_MSTmap(linkage_map_file_1)\n",
    "individuals_01, genotypes_at_locus_01 = import_MSTmap(linkage_map_file_2)\n",
    "individuals_09, genotypes_at_locus_09 = import_MSTmap(linkage_map_file_3)\n",
    "\n",
    "my_pd_genos_08 = prep_data_pandas(individuals_08, genotypes_at_locus_08)\n",
    "my_pd_genos_01 = prep_data_pandas(individuals_01, genotypes_at_locus_01)\n",
    "my_pd_genos_09  = prep_data_pandas(individuals_09,  genotypes_at_locus_09)\n",
    "\n",
    "fam_08 = prepare_matrix(my_pd_genos_08)\n",
    "fam_01 = prepare_matrix(my_pd_genos_01)\n",
    "fam_09 = prepare_matrix(my_pd_genos_09)"
   ]
  },
  {
   "cell_type": "code",
   "execution_count": 7,
   "metadata": {
    "collapsed": true
   },
   "outputs": [],
   "source": [
    "def rename_loci_by_family(paralogs_file, fam_names, families):\n",
    "    # check if each family listed in families is formatted as if returned from prepare matrix\n",
    "    for afam in families:\n",
    "        if not isinstance(afam, pd.core.frame.DataFrame):\n",
    "            raise ValueError(\"families should be a pandas DataFrame\")\n",
    "        else:\n",
    "            pass\n",
    "    if len(fam_names) != len(families) :\n",
    "        raise ValueError(\"names and families should have the same length\")\n",
    "    if not isinstance(fam_names, list ):\n",
    "        raise ValueError(\"names should be a list\")\n",
    "    \n",
    "    with open(paralogs_file) as INFILE: \n",
    "        paralogs = [yy.strip() for yy in INFILE.readlines()]\n",
    "    # for each family, for each locus, if the locus is a paralog, append family-specific text to locus name\n",
    "    # genotypes are unchanged\n",
    "    #new_familes = list()\n",
    "    for idx, afam in enumerate(families):\n",
    "        old_locus_names = afam.columns.values.tolist()\n",
    "        new_locus_names = []\n",
    "        for xx in old_locus_names:\n",
    "            base_name = xx[:-3]\n",
    "            if base_name in paralogs:\n",
    "                #print(\"{} is a paralog\".format(base_name))\n",
    "                new_name = \"{}_{}_{}\".format(base_name, fam_names[idx], xx[-2:])\n",
    "            else: \n",
    "                new_name = base_name\n",
    "            new_locus_names.append(new_name)\n",
    "        afam.columns = new_locus_names\n",
    "    return(families)"
   ]
  },
  {
   "cell_type": "code",
   "execution_count": 8,
   "metadata": {
    "collapsed": false
   },
   "outputs": [],
   "source": [
    "renamed_08, renamed_01, renamed_09 = rename_loci_by_family(paralogs_file = paralogs_file, \n",
    "    fam_names = ['chum_08', 'chum_01', 'chum_09'], families = [my_pd_genos_08, my_pd_genos_01, my_pd_genos_09])"
   ]
  },
  {
   "cell_type": "code",
   "execution_count": 9,
   "metadata": {
    "collapsed": false
   },
   "outputs": [
    {
     "data": {
      "text/html": [
       "<div style=\"max-height:1000px;max-width:1500px;overflow:auto;\">\n",
       "<table border=\"1\" class=\"dataframe\">\n",
       "  <thead>\n",
       "    <tr style=\"text-align: right;\">\n",
       "      <th></th>\n",
       "      <th>10001</th>\n",
       "      <th>10003_chum_08_x1</th>\n",
       "      <th>10020</th>\n",
       "      <th>10029</th>\n",
       "      <th>10039</th>\n",
       "      <th>10043</th>\n",
       "      <th>1004_chum_08_x1</th>\n",
       "      <th>10061</th>\n",
       "      <th>10068_chum_08_x1</th>\n",
       "      <th>10068_chum_08_x2</th>\n",
       "      <th>...</th>\n",
       "      <th>Oke_lactb2-71</th>\n",
       "      <th>Oke_mgll-49</th>\n",
       "      <th>Oke_nc2b-148</th>\n",
       "      <th>Oke_pnrc2-78</th>\n",
       "      <th>Oke_sylc-90</th>\n",
       "      <th>Oke_thic-84</th>\n",
       "      <th>Oke_txnrd1-74</th>\n",
       "      <th>Oke_u0602-244</th>\n",
       "      <th>Oke_u217-172</th>\n",
       "      <th>Oke_zn593-152</th>\n",
       "    </tr>\n",
       "  </thead>\n",
       "  <tbody>\n",
       "    <tr>\n",
       "      <th>CMUW10X08H_0002</th>\n",
       "      <td>1</td>\n",
       "      <td>2</td>\n",
       "      <td>2</td>\n",
       "      <td>1</td>\n",
       "      <td>1</td>\n",
       "      <td>2</td>\n",
       "      <td>1</td>\n",
       "      <td>2</td>\n",
       "      <td>1</td>\n",
       "      <td>2</td>\n",
       "      <td>...</td>\n",
       "      <td>2</td>\n",
       "      <td>1</td>\n",
       "      <td>2</td>\n",
       "      <td>2</td>\n",
       "      <td>1</td>\n",
       "      <td>2</td>\n",
       "      <td>2</td>\n",
       "      <td>1</td>\n",
       "      <td>1</td>\n",
       "      <td>2</td>\n",
       "    </tr>\n",
       "    <tr>\n",
       "      <th>CMUW10X08H_0003</th>\n",
       "      <td>2</td>\n",
       "      <td>1</td>\n",
       "      <td>2</td>\n",
       "      <td>2</td>\n",
       "      <td>1</td>\n",
       "      <td>1</td>\n",
       "      <td>1</td>\n",
       "      <td>2</td>\n",
       "      <td>2</td>\n",
       "      <td>2</td>\n",
       "      <td>...</td>\n",
       "      <td>2</td>\n",
       "      <td>2</td>\n",
       "      <td>2</td>\n",
       "      <td>2</td>\n",
       "      <td>1</td>\n",
       "      <td>1</td>\n",
       "      <td>2</td>\n",
       "      <td>2</td>\n",
       "      <td>1</td>\n",
       "      <td>1</td>\n",
       "    </tr>\n",
       "    <tr>\n",
       "      <th>CMUW10X08H_0005</th>\n",
       "      <td>2</td>\n",
       "      <td>2</td>\n",
       "      <td>1</td>\n",
       "      <td>1</td>\n",
       "      <td>1</td>\n",
       "      <td>2</td>\n",
       "      <td>1</td>\n",
       "      <td>2</td>\n",
       "      <td>1</td>\n",
       "      <td>2</td>\n",
       "      <td>...</td>\n",
       "      <td>1</td>\n",
       "      <td>2</td>\n",
       "      <td>1</td>\n",
       "      <td>2</td>\n",
       "      <td>1</td>\n",
       "      <td>2</td>\n",
       "      <td>2</td>\n",
       "      <td>2</td>\n",
       "      <td>2</td>\n",
       "      <td>2</td>\n",
       "    </tr>\n",
       "    <tr>\n",
       "      <th>CMUW10X08H_0006</th>\n",
       "      <td>2</td>\n",
       "      <td>2</td>\n",
       "      <td>2</td>\n",
       "      <td>1</td>\n",
       "      <td>2</td>\n",
       "      <td>1</td>\n",
       "      <td>1</td>\n",
       "      <td>2</td>\n",
       "      <td>2</td>\n",
       "      <td>1</td>\n",
       "      <td>...</td>\n",
       "      <td>1</td>\n",
       "      <td>2</td>\n",
       "      <td>1</td>\n",
       "      <td>2</td>\n",
       "      <td>2</td>\n",
       "      <td>2</td>\n",
       "      <td>1</td>\n",
       "      <td>1</td>\n",
       "      <td>2</td>\n",
       "      <td>2</td>\n",
       "    </tr>\n",
       "    <tr>\n",
       "      <th>CMUW10X08H_0011</th>\n",
       "      <td>1</td>\n",
       "      <td>1</td>\n",
       "      <td>1</td>\n",
       "      <td>2</td>\n",
       "      <td>2</td>\n",
       "      <td>1</td>\n",
       "      <td>2</td>\n",
       "      <td>2</td>\n",
       "      <td>1</td>\n",
       "      <td>1</td>\n",
       "      <td>...</td>\n",
       "      <td>1</td>\n",
       "      <td>1</td>\n",
       "      <td>2</td>\n",
       "      <td>1</td>\n",
       "      <td>2</td>\n",
       "      <td>1</td>\n",
       "      <td>2</td>\n",
       "      <td>2</td>\n",
       "      <td>2</td>\n",
       "      <td>2</td>\n",
       "    </tr>\n",
       "  </tbody>\n",
       "</table>\n",
       "<p>5 rows × 6236 columns</p>\n",
       "</div>"
      ],
      "text/plain": [
       "                 10001  10003_chum_08_x1  10020  10029  10039  10043  \\\n",
       "CMUW10X08H_0002      1                 2      2      1      1      2   \n",
       "CMUW10X08H_0003      2                 1      2      2      1      1   \n",
       "CMUW10X08H_0005      2                 2      1      1      1      2   \n",
       "CMUW10X08H_0006      2                 2      2      1      2      1   \n",
       "CMUW10X08H_0011      1                 1      1      2      2      1   \n",
       "\n",
       "                 1004_chum_08_x1  10061  10068_chum_08_x1  10068_chum_08_x2  \\\n",
       "CMUW10X08H_0002                1      2                 1                 2   \n",
       "CMUW10X08H_0003                1      2                 2                 2   \n",
       "CMUW10X08H_0005                1      2                 1                 2   \n",
       "CMUW10X08H_0006                1      2                 2                 1   \n",
       "CMUW10X08H_0011                2      2                 1                 1   \n",
       "\n",
       "                     ...        Oke_lactb2-71  Oke_mgll-49  Oke_nc2b-148  \\\n",
       "CMUW10X08H_0002      ...                    2            1             2   \n",
       "CMUW10X08H_0003      ...                    2            2             2   \n",
       "CMUW10X08H_0005      ...                    1            2             1   \n",
       "CMUW10X08H_0006      ...                    1            2             1   \n",
       "CMUW10X08H_0011      ...                    1            1             2   \n",
       "\n",
       "                 Oke_pnrc2-78  Oke_sylc-90  Oke_thic-84  Oke_txnrd1-74  \\\n",
       "CMUW10X08H_0002             2            1            2              2   \n",
       "CMUW10X08H_0003             2            1            1              2   \n",
       "CMUW10X08H_0005             2            1            2              2   \n",
       "CMUW10X08H_0006             2            2            2              1   \n",
       "CMUW10X08H_0011             1            2            1              2   \n",
       "\n",
       "                 Oke_u0602-244  Oke_u217-172  Oke_zn593-152  \n",
       "CMUW10X08H_0002              1             1              2  \n",
       "CMUW10X08H_0003              2             1              1  \n",
       "CMUW10X08H_0005              2             2              2  \n",
       "CMUW10X08H_0006              1             2              2  \n",
       "CMUW10X08H_0011              2             2              2  \n",
       "\n",
       "[5 rows x 6236 columns]"
      ]
     },
     "execution_count": 9,
     "metadata": {},
     "output_type": "execute_result"
    }
   ],
   "source": [
    "renamed_08.head()"
   ]
  },
  {
   "cell_type": "code",
   "execution_count": 10,
   "metadata": {
    "collapsed": true
   },
   "outputs": [],
   "source": [
    "###### this should be moved inside function\n",
    "renamed_08t = renamed_08.transpose()\n",
    "renamed_01t = renamed_01.transpose()\n",
    "renamed_09t = renamed_09.transpose()"
   ]
  },
  {
   "cell_type": "code",
   "execution_count": 11,
   "metadata": {
    "collapsed": true
   },
   "outputs": [],
   "source": [
    "aa = pd.merge(left = renamed_08t, right = renamed_01t, how = 'outer', left_index =True, right_index =True)"
   ]
  },
  {
   "cell_type": "code",
   "execution_count": 12,
   "metadata": {
    "collapsed": false
   },
   "outputs": [],
   "source": [
    "bb = pd.merge(left = aa, right = renamed_09t, how = 'outer', left_index =True, right_index =True) \n",
    "###### end move into function"
   ]
  },
  {
   "cell_type": "code",
   "execution_count": 13,
   "metadata": {
    "collapsed": true
   },
   "outputs": [],
   "source": [
    "all_my_data, loci_all = prepare_matrix(bb.transpose())"
   ]
  },
  {
   "cell_type": "code",
   "execution_count": 14,
   "metadata": {
    "collapsed": true
   },
   "outputs": [],
   "source": [
    "def write_LEPmap(families, family_names, loci, genotypes, output_filename):\n",
    "    with open(output_filename, 'w') as OUTFILE:\n",
    "        header = \"\\t\".join([\"#family\", 'name', 'sire', 'dam', 'sex', 'blank'] + loci) + \"\\n\"\n",
    "        OUTFILE.write(header)\n",
    "        for fam_idx, fam in enumerate(families):\n",
    "            fam_name = family_names[fam_idx]\n",
    "            DAM_line = \"\\t\".join([fam_name, fam_name + \"_Dam\", '0', '0', '2', '0'] + ['1 1' for xx in loci]) + \"\\n\"\n",
    "            SIRE_line = \"\\t\".join([fam_name, fam_name + \"_Sire\", '0', '0', '1', '0'] + ['1 2' for xx in loci]) + \"\\n\"\n",
    "            OUTFILE.write(DAM_line)\n",
    "            OUTFILE.write(SIRE_line)\n",
    "            for ind in fam:\n",
    "                ind_info = \"\\t\".join([fam_name, ind, fam_name + \"_Sire\", fam_name + \"_Dam\", '0', '0'])\n",
    "                ind_genotypes = genotypes.loc[ind]\n",
    "                OUTFILE.write(ind_info + \"\\t\" + \"\\t\".join([str(xx) for xx in ind_genotypes]) + \"\\n\")"
   ]
  },
  {
   "cell_type": "code",
   "execution_count": 20,
   "metadata": {
    "collapsed": true
   },
   "outputs": [],
   "source": [
    "fams = [individuals_08, individuals_01, individuals_09]\n",
    "LEPmap_filename = os.path.join('linkage_map','LEPmap', 'with_paralogs', 'all_loci.lepmap')"
   ]
  },
  {
   "cell_type": "code",
   "execution_count": 21,
   "metadata": {
    "collapsed": true
   },
   "outputs": [],
   "source": [
    "my_genotypes = bb.transpose()\n",
    "my_genotypes = my_genotypes.replace(to_replace = [np.NaN, 0, 1, 2 ], value = ['0 0', '0 0', '1 1', '1 2'])"
   ]
  },
  {
   "cell_type": "code",
   "execution_count": 22,
   "metadata": {
    "collapsed": false
   },
   "outputs": [
    {
     "data": {
      "text/plain": [
       "(240, 12603)"
      ]
     },
     "execution_count": 22,
     "metadata": {},
     "output_type": "execute_result"
    }
   ],
   "source": [
    "my_genotypes.shape"
   ]
  },
  {
   "cell_type": "code",
   "execution_count": null,
   "metadata": {
    "collapsed": true
   },
   "outputs": [],
   "source": []
  },
  {
   "cell_type": "code",
   "execution_count": 23,
   "metadata": {
    "collapsed": false
   },
   "outputs": [
    {
     "data": {
      "text/plain": [
       "(246, 12522)"
      ]
     },
     "execution_count": 23,
     "metadata": {},
     "output_type": "execute_result"
    }
   ],
   "source": [
    "pd.read_csv(\"linkage_map/LEPmap/with_paralogs/all_loci.lepmap\", sep = '\\t').shape"
   ]
  },
  {
   "cell_type": "code",
   "execution_count": 24,
   "metadata": {
    "collapsed": true
   },
   "outputs": [],
   "source": [
    "write_LEPmap(families = fams, family_names = [\"fam_08\", \"fam_01\", \"fam_09\"], \n",
    "             loci = loci_all, genotypes = my_genotypes, output_filename = LEPmap_filename)"
   ]
  },
  {
   "cell_type": "code",
   "execution_count": 25,
   "metadata": {
    "collapsed": false
   },
   "outputs": [
    {
     "name": "stdout",
     "output_type": "stream",
     "text": [
      "java SeparateChromosomes data=/home/ipseg/Desktop/waples/chum_populations/linkage_map/LEPmap/with_paralogs/all_loci.lepmap lodLimit = 10 sizeLimit = 3 > /home/ipseg/Desktop/waples/chum_populations/linkage_map/LEPmap/with_paralogs/all_loci.inital_chromosomes 2> /home/ipseg/Desktop/waples/chum_populations/linkage_map/LEPmap/with_paralogs/all_loci.inital_chromosomes.log\n",
      "java JoinSingles /home/ipseg/Desktop/waples/chum_populations/linkage_map/LEPmap/with_paralogs/all_loci.inital_chromosomes lodLimit = 8 data=/home/ipseg/Desktop/waples/chum_populations/linkage_map/LEPmap/with_paralogs/all_loci.lepmap > /home/ipseg/Desktop/waples/chum_populations/linkage_map/LEPmap/with_paralogs/all_loci.lod8_singles.chromosomes 2> /home/ipseg/Desktop/waples/chum_populations/linkage_map/LEPmap/with_paralogs/all_loci.lod8_singles.chromosomes.log\n",
      "java JoinSingles /home/ipseg/Desktop/waples/chum_populations/linkage_map/LEPmap/with_paralogs/all_loci.lod8_singles.chromosomes lodLimit = 7 data=/home/ipseg/Desktop/waples/chum_populations/linkage_map/LEPmap/with_paralogs/all_loci.lepmap > /home/ipseg/Desktop/waples/chum_populations/linkage_map/LEPmap/with_paralogs/all_loci.lod7_singles.chromosomes 2> /home/ipseg/Desktop/waples/chum_populations/linkage_map/LEPmap/with_paralogs/all_loci.lod7_singles.chromosomes.log\n",
      "java JoinSingles /home/ipseg/Desktop/waples/chum_populations/linkage_map/LEPmap/with_paralogs/all_loci.lod7_singles.chromosomes lodLimit = 6 data=/home/ipseg/Desktop/waples/chum_populations/linkage_map/LEPmap/with_paralogs/all_loci.lepmap > /home/ipseg/Desktop/waples/chum_populations/linkage_map/LEPmap/with_paralogs/all_loci.lod6_singles.chromosomes 2> /home/ipseg/Desktop/waples/chum_populations/linkage_map/LEPmap/with_paralogs/all_loci.lod6_singles.chromosomes.log\n",
      "java JoinSingles /home/ipseg/Desktop/waples/chum_populations/linkage_map/LEPmap/with_paralogs/all_loci.lod6_singles.chromosomes lodLimit = 5 data=/home/ipseg/Desktop/waples/chum_populations/linkage_map/LEPmap/with_paralogs/all_loci.lepmap > /home/ipseg/Desktop/waples/chum_populations/linkage_map/LEPmap/with_paralogs/all_loci.lod5_singles.chromosomes 2> /home/ipseg/Desktop/waples/chum_populations/linkage_map/LEPmap/with_paralogs/all_loci.lod5_singles.chromosomes.log\n",
      "java JoinSingles /home/ipseg/Desktop/waples/chum_populations/linkage_map/LEPmap/with_paralogs/all_loci.lod5_singles.chromosomes lodLimit = 4 data=/home/ipseg/Desktop/waples/chum_populations/linkage_map/LEPmap/with_paralogs/all_loci.lepmap > /home/ipseg/Desktop/waples/chum_populations/linkage_map/LEPmap/with_paralogs/all_loci.lod4_singles.chromosomes 2> /home/ipseg/Desktop/waples/chum_populations/linkage_map/LEPmap/with_paralogs/all_loci.lod4_singles.chromosomes.log\n",
      "java JoinSingles /home/ipseg/Desktop/waples/chum_populations/linkage_map/LEPmap/with_paralogs/all_loci.lod4_singles.chromosomes lodLimit = 3.5 data=/home/ipseg/Desktop/waples/chum_populations/linkage_map/LEPmap/with_paralogs/all_loci.lepmap > /home/ipseg/Desktop/waples/chum_populations/linkage_map/LEPmap/with_paralogs/all_loci.lod3-5_singles.chromosomes 2> /home/ipseg/Desktop/waples/chum_populations/linkage_map/LEPmap/with_paralogs/all_loci.lod3-5_singles.chromosomes.log\n"
     ]
    }
   ],
   "source": [
    "print \"java SeparateChromosomes data=/home/ipseg/Desktop/waples/chum_populations/linkage_map/LEPmap/with_paralogs/all_loci.lepmap \\\n",
    "lodLimit = 10 sizeLimit = 3 \\\n",
    "> /home/ipseg/Desktop/waples/chum_populations/linkage_map/LEPmap/with_paralogs/all_loci.inital_chromosomes \\\n",
    "2> /home/ipseg/Desktop/waples/chum_populations/linkage_map/LEPmap/with_paralogs/all_loci.inital_chromosomes.log\"\n",
    "\n",
    "print \"java JoinSingles /home/ipseg/Desktop/waples/chum_populations/linkage_map/LEPmap/with_paralogs/all_loci.inital_chromosomes \\\n",
    "lodLimit = 8 \\\n",
    "data=/home/ipseg/Desktop/waples/chum_populations/linkage_map/LEPmap/with_paralogs/all_loci.lepmap \\\n",
    "> /home/ipseg/Desktop/waples/chum_populations/linkage_map/LEPmap/with_paralogs/all_loci.lod8_singles.chromosomes \\\n",
    "2> /home/ipseg/Desktop/waples/chum_populations/linkage_map/LEPmap/with_paralogs/all_loci.lod8_singles.chromosomes.log\"\n",
    "\n",
    "print \"java JoinSingles /home/ipseg/Desktop/waples/chum_populations/linkage_map/LEPmap/with_paralogs/all_loci.lod8_singles.chromosomes \\\n",
    "lodLimit = 7 \\\n",
    "data=/home/ipseg/Desktop/waples/chum_populations/linkage_map/LEPmap/with_paralogs/all_loci.lepmap \\\n",
    "> /home/ipseg/Desktop/waples/chum_populations/linkage_map/LEPmap/with_paralogs/all_loci.lod7_singles.chromosomes \\\n",
    "2> /home/ipseg/Desktop/waples/chum_populations/linkage_map/LEPmap/with_paralogs/all_loci.lod7_singles.chromosomes.log\"\n",
    "\n",
    "print \"java JoinSingles /home/ipseg/Desktop/waples/chum_populations/linkage_map/LEPmap/with_paralogs/all_loci.lod7_singles.chromosomes \\\n",
    "lodLimit = 6 \\\n",
    "data=/home/ipseg/Desktop/waples/chum_populations/linkage_map/LEPmap/with_paralogs/all_loci.lepmap \\\n",
    "> /home/ipseg/Desktop/waples/chum_populations/linkage_map/LEPmap/with_paralogs/all_loci.lod6_singles.chromosomes \\\n",
    "2> /home/ipseg/Desktop/waples/chum_populations/linkage_map/LEPmap/with_paralogs/all_loci.lod6_singles.chromosomes.log\"\n",
    "\n",
    "print \"java JoinSingles /home/ipseg/Desktop/waples/chum_populations/linkage_map/LEPmap/with_paralogs/all_loci.lod6_singles.chromosomes \\\n",
    "lodLimit = 5 \\\n",
    "data=/home/ipseg/Desktop/waples/chum_populations/linkage_map/LEPmap/with_paralogs/all_loci.lepmap \\\n",
    "> /home/ipseg/Desktop/waples/chum_populations/linkage_map/LEPmap/with_paralogs/all_loci.lod5_singles.chromosomes \\\n",
    "2> /home/ipseg/Desktop/waples/chum_populations/linkage_map/LEPmap/with_paralogs/all_loci.lod5_singles.chromosomes.log\"\n",
    "\n",
    "print \"java JoinSingles /home/ipseg/Desktop/waples/chum_populations/linkage_map/LEPmap/with_paralogs/all_loci.lod5_singles.chromosomes \\\n",
    "lodLimit = 4 \\\n",
    "data=/home/ipseg/Desktop/waples/chum_populations/linkage_map/LEPmap/with_paralogs/all_loci.lepmap \\\n",
    "> /home/ipseg/Desktop/waples/chum_populations/linkage_map/LEPmap/with_paralogs/all_loci.lod4_singles.chromosomes \\\n",
    "2> /home/ipseg/Desktop/waples/chum_populations/linkage_map/LEPmap/with_paralogs/all_loci.lod4_singles.chromosomes.log\"\n",
    "\n",
    "print \"java JoinSingles /home/ipseg/Desktop/waples/chum_populations/linkage_map/LEPmap/with_paralogs/all_loci.lod4_singles.chromosomes \\\n",
    "lodLimit = 3.5 \\\n",
    "data=/home/ipseg/Desktop/waples/chum_populations/linkage_map/LEPmap/with_paralogs/all_loci.lepmap \\\n",
    "> /home/ipseg/Desktop/waples/chum_populations/linkage_map/LEPmap/with_paralogs/all_loci.lod3-5_singles.chromosomes \\\n",
    "2> /home/ipseg/Desktop/waples/chum_populations/linkage_map/LEPmap/with_paralogs/all_loci.lod3-5_singles.chromosomes.log\"\n"
   ]
  },
  {
   "cell_type": "code",
   "execution_count": 28,
   "metadata": {
    "collapsed": true
   },
   "outputs": [],
   "source": [
    "def find_duplicate_names(paralogs_file, loci, LG_file, output_file):\n",
    "    with open(paralogs_file) as INFILE: \n",
    "        paralogs = [yy.strip() for yy in INFILE.readlines()]\n",
    "    #get list of the locus names\n",
    "        #  given by loci\n",
    "    #get list of LG assignments\n",
    "    with open(LG_file) as INFILE:\n",
    "        #skip first line\n",
    "        next(INFILE)\n",
    "        LG_assignments = [int(line.strip()) for line in INFILE]\n",
    "    LG_of_locus = dict(zip(loci, LG_assignments))\n",
    "    #print(paralogs)\n",
    "    with open(output_file, 'w') as OUTFILE:\n",
    "        OUTFILE.write(\"{}\\t{}\\t{}\\t{}\\n\".format('catalog_name', 'family', 'copy', 'LG'))\n",
    "        for locus in loci:\n",
    "            catalog_name = locus.split(\"_\")[0]\n",
    "            if catalog_name in paralogs:\n",
    "                family = locus.split(\"_\")[2]\n",
    "                copy = locus[-2:]\n",
    "                OUTFILE.write(\"{}\\t{}\\t{}\\t{}\\n\".format(catalog_name, family, copy, LG_of_locus[locus]))\n",
    "            #list of all loci sharing base name\n",
    "                sharing = [loc for loc in loci if locus.split(\"_\")[0] == loc.split(\"_\")[0]]\n",
    "                sharing.remove(locus)\n",
    "                agree_on_LG = sum([1 for loc in sharing if LG_of_locus[loc] == LG_of_locus[locus] ])\n",
    "                disagree_on_LG = sum([1 for loc in sharing if LG_of_locus[loc] != LG_of_locus[locus] ])\n",
    "                #print(locus, agree_on_LG, disagree_on_LG)"
   ]
  },
  {
   "cell_type": "code",
   "execution_count": 30,
   "metadata": {
    "collapsed": false
   },
   "outputs": [],
   "source": [
    "find_duplicate_names(paralogs_file = paralogs_file, \n",
    "    loci = loci_all, LG_file = \"/home/ipseg/Desktop/waples/chum_populations/linkage_map/LEPmap/with_paralogs/all_loci.lod5_singles.chromosomes\", \n",
    "    output_file = '/home/ipseg/Desktop/waples/chum_populations/linkage_map/LEPmap/with_paralogs/LG_congruence.tsv')"
   ]
  },
  {
   "cell_type": "code",
   "execution_count": 53,
   "metadata": {
    "collapsed": true
   },
   "outputs": [],
   "source": [
    "# this is not used!\n",
    "def write_name_table(paralogs_file, loci, LG_file, output_file):\n",
    "    with open(paralogs_file) as INFILE: \n",
    "        paralogs = [yy.strip() for yy in INFILE.readlines()]\n",
    "    with open(LG_file) as INFILE:\n",
    "        #skip first line\n",
    "        next(INFILE)\n",
    "        LG_assignments = [int(line.strip()) for line in INFILE]\n",
    "    LG_of_locus = collections.defaultdict(int, zip(loci, LG_assignments))\n",
    "    with open(output_file, 'w') as OUTFILE:\n",
    "        OUTFILE.write(\"{}\\t{}\\t{}\\t{}\\n\".format('catalog_name', 'LG_08_x1', 'LG_08_x2', 'LG_01_x1', 'LG_01_x2', 'LG_09_x1', 'LG_09_x2'))\n",
    "        for locus in loci:\n",
    "            catalog_name = locus.split(\"_\")[0]\n",
    "            if catalog_name in paralogs:\n",
    "                family = locus.split(\"_\")[2]\n",
    "                copy = locus[-2:]\n",
    "                OUTFILE.write(\"{}\\t{}\\t{}\\t{}\\t{}\\n\".format(catalog_name, LG_of_locus[locus]))\n",
    "            #list of all loci sharing base name\n",
    "                sharing = [loc for loc in loci if locus.split(\"_\")[0] == loc.split(\"_\")[0]]\n",
    "                sharing.remove(locus)\n",
    "                agree_on_LG = sum([1 for loc in sharing if LG_of_locus[loc] == LG_of_locus[locus] ])\n",
    "                disagree_on_LG = sum([1 for loc in sharing if LG_of_locus[loc] != LG_of_locus[locus] ])\n",
    "                #print(locus, agree_on_LG, disagree_on_LG)"
   ]
  },
  {
   "cell_type": "code",
   "execution_count": 54,
   "metadata": {
    "collapsed": false
   },
   "outputs": [],
   "source": [
    "#write_name_table(paralogs_file = paralogs_file,\n",
    "#    loci = loci_all, LG_file = \"/home/ipseg/Desktop/waples/chum_populations/linkage_map/LEPmap/with_paralogs/all_loci.lod5_singles.chromosomes\", \n",
    "#    output_file = '/home/ipseg/Desktop/waples/chum_populations/linkage_map/LEPmap/with_paralogs/name_table.tsv')"
   ]
  },
  {
   "cell_type": "code",
   "execution_count": 55,
   "metadata": {
    "collapsed": true
   },
   "outputs": [],
   "source": [
    "def collapse_names(LG_08_x1, LG_08_x2, LG_01_x1, LG_01_x2, LG_09_x1, LG_09_x2):\n",
    "    # take them in order given here\n",
    "    possible_results = ['A','B','C','D','E','F']\n",
    "    #possible_results.reverse()\n",
    "    result = []\n",
    "    \n",
    "    # check for segmental\n",
    "    # if segmental do not try to resolve\n",
    "    for xx in ((LG_08_x1, LG_08_x2), (LG_01_x1, LG_01_x2), (LG_09_x1, LG_09_x2)):\n",
    "        x1, x2 = xx\n",
    "        if x1 == x2 and x1 != 0: # segmental\n",
    "            result = possible_results\n",
    "\n",
    "    else:\n",
    "        mapping = dict()\n",
    "        for assign in (LG_08_x1, LG_08_x2, LG_01_x1, LG_01_x2, LG_09_x1, LG_09_x2):\n",
    "            if assign in mapping:\n",
    "                result.append(mapping[assign])\n",
    "            else:\n",
    "                if assign == 0:\n",
    "                     result.append(possible_results.pop(0))\n",
    "                else:\n",
    "                    mapping[assign] = possible_results.pop(0)\n",
    "                    result.append(mapping[assign])\n",
    "    return(result)  "
   ]
  },
  {
   "cell_type": "code",
   "execution_count": 56,
   "metadata": {
    "collapsed": false
   },
   "outputs": [
    {
     "name": "stdout",
     "output_type": "stream",
     "text": [
      "['A', 'B', 'B', 'A', 'B', 'A']\n",
      "['A', 'B', 'C', 'D', 'C', 'E']\n",
      "['A', 'B', 'C', 'D', 'C', 'E']\n",
      "['A', 'B', 'C', 'D', 'E', 'F']\n",
      "['F', 'A', 'B', 'C', 'D', 'E', 'E']\n"
     ]
    }
   ],
   "source": [
    "#examples\n",
    "print collapse_names(1,2,2,1,2,1)\n",
    "print collapse_names(0,1,2,0,2,0)\n",
    "print collapse_names(1,0,2,0,2,0)\n",
    "print collapse_names(0,0,1,0,2,0)\n",
    "print collapse_names(0,12,0,0,2,2)"
   ]
  },
  {
   "cell_type": "code",
   "execution_count": 57,
   "metadata": {
    "collapsed": true
   },
   "outputs": [],
   "source": [
    "def parse_LG_congruence_line(line):\n",
    "    catalog_name, family, copy, LG = line.strip().split(\"\\t\")\n",
    "    return(catalog_name, family, copy, LG)"
   ]
  },
  {
   "cell_type": "code",
   "execution_count": 58,
   "metadata": {
    "collapsed": true
   },
   "outputs": [],
   "source": [
    "def write_rename_table(LG_congruence_file, out_file):\n",
    "    famLG_of_locus = collections.defaultdict(dict)\n",
    "    with open(out_file, 'w') as OUTFILE:\n",
    "        OUTFILE.write(\"{}\\t{}\\t{}\\n\".format(\"old_name\", \"new_name\", \"LG\"))\n",
    "        with open(LG_congruence_file) as PARALOG_LGS:\n",
    "            #skip first line\n",
    "            next(PARALOG_LGS)\n",
    "            for line in PARALOG_LGS:\n",
    "                catalog_name, family, copy, LG = parse_LG_congruence_line(line)\n",
    "                famLG_of_locus[catalog_name][family, copy] = int(LG)\n",
    "            for cn, famLG in famLG_of_locus.items():\n",
    "                LG_08_x1 = famLG.get(('08', 'x1'), 0)\n",
    "                LG_08_x2 = famLG.get(('08', 'x2'), 0)\n",
    "                LG_01_x1 = famLG.get(('01', 'x1'), 0)\n",
    "                LG_01_x2 = famLG.get(('01', 'x2'), 0)\n",
    "                LG_09_x1 = famLG.get(('09', 'x1'), 0)\n",
    "                LG_09_x2 = famLG.get(('09', 'x2'), 0)\n",
    "                #print cn, [LG_08_x1, LG_08_x2, LG_01_x1, LG_01_x2, LG_09_x1, LG_09_x2], collapse_names(LG_08_x1, LG_08_x2, LG_01_x1, LG_01_x2, LG_09_x1, LG_09_x2)\n",
    "                fam_names = [\"{}_chum_08_x1\", \"{}_chum_08_x2\", \"{}_chum_01_x1\", \"{}_chum_01_x2\", \"{}_chum_09_x1\", \"{}_chum_09_x2\"]\n",
    "                collaped_names = collapse_names(LG_08_x1, LG_08_x2, LG_01_x1, LG_01_x2, LG_09_x1, LG_09_x2)\n",
    "                LGs = [LG_08_x1, LG_08_x2, LG_01_x1, LG_01_x2, LG_09_x1, LG_09_x2]\n",
    "                family_specific_names = [xx.format(cn) for xx in fam_names]\n",
    "                for cnt, fsn in enumerate(family_specific_names):\n",
    "                    OUTFILE.write(\"{}\\t{}\\t{}\\n\".format(fsn, cn+\"_{}\".format(collaped_names[cnt]), LGs[cnt]))"
   ]
  },
  {
   "cell_type": "code",
   "execution_count": 59,
   "metadata": {
    "collapsed": true
   },
   "outputs": [],
   "source": [
    "write_rename_table(LG_congruence_file =  \"/home/ipseg/Desktop/waples/chum_populations/linkage_map/LEPmap/with_paralogs/LG_congruence.tsv\", \n",
    "    out_file = \"/home/ipseg/Desktop/waples/chum_populations/linkage_map/LEPmap/with_paralogs/rename_table.tsv\")   "
   ]
  },
  {
   "cell_type": "code",
   "execution_count": 60,
   "metadata": {
    "collapsed": true
   },
   "outputs": [],
   "source": [
    "#get rename dict\n",
    "rename_table = pd.read_table(\"/home/ipseg/Desktop/waples/chum_populations/linkage_map/LEPmap/with_paralogs/rename_table.tsv\")\n",
    "rename_dict = dict(zip(rename_table.old_name,rename_table.new_name))"
   ]
  },
  {
   "cell_type": "code",
   "execution_count": 61,
   "metadata": {
    "collapsed": true
   },
   "outputs": [],
   "source": [
    "renamed_08t = renamed_08.rename(columns=rename_dict).transpose()\n",
    "renamed_01t = renamed_01.rename(columns=rename_dict).transpose()\n",
    "renamed_09t = renamed_09.rename(columns=rename_dict).transpose()\n",
    "aa = pd.merge(left = renamed_08t, right = renamed_01t, how = 'outer', left_index =True, right_index =True)\n",
    "bb = pd.merge(left = aa, right = renamed_09t, how = 'outer', left_index =True, right_index =True)"
   ]
  },
  {
   "cell_type": "code",
   "execution_count": 62,
   "metadata": {
    "collapsed": true
   },
   "outputs": [],
   "source": [
    "fams = [individuals_08, individuals_01, individuals_09]\n",
    "LEPmap_filename = \"/home/ipseg/Desktop/waples/chum_populations/linkage_map/LEPmap/with_paralogs/collapsed_loci.lepmap\"\n",
    "my_genotypes = bb.transpose()\n",
    "my_genotypes = my_genotypes.replace(to_replace = [np.NaN, 0, 1, 2 ], value = ['0 0', '0 0', '1 1', '1 2'])\n",
    "write_LEPmap(families = fams, family_names = [\"fam_08\", \"fam_01\", \"fam_09\"], loci = my_genotypes.columns.values.tolist(),\n",
    "    genotypes = my_genotypes, output_filename = LEPmap_filename)"
   ]
  },
  {
   "cell_type": "code",
   "execution_count": 63,
   "metadata": {
    "collapsed": false
   },
   "outputs": [
    {
     "name": "stdout",
     "output_type": "stream",
     "text": [
      "java SeparateChromosomes data=/home/ipseg/Desktop/waples/chum_populations/linkage_map/LEPmap/with_paralogs/collapsed_loci.lepmap lodLimit = 10 sizeLimit = 20 > /home/ipseg/Desktop/waples/chum_populations/linkage_map/LEPmap/with_paralogs/collapsed_loci.inital.chromosomes 2> /home/ipseg/Desktop/waples/chum_populations/linkage_map/LEPmap/with_paralogs/collapsed_loci.inital.chromosomes.log\n",
      "java JoinSingles /home/ipseg/Desktop/waples/chum_populations/linkage_map/LEPmap/with_paralogs/collapsed_loci.inital.chromosomes lodLimit = 8 lodDifference=3 data=/home/ipseg/Desktop/waples/chum_populations/linkage_map/LEPmap/with_paralogs/collapsed_loci.lepmap > /home/ipseg/Desktop/waples/chum_populations/linkage_map/LEPmap/with_paralogs/collapsed_loci.lod8_singles.chromosomes 2> /home/ipseg/Desktop/waples/chum_populations/linkage_map/LEPmap/with_paralogs/collapsed_loci.lod8_singles.chromosomes.log\n",
      "java JoinSingles /home/ipseg/Desktop/waples/chum_populations/linkage_map/LEPmap/with_paralogs/collapsed_loci.lod8_singles.chromosomes lodLimit = 7 lodDifference=3 data=/home/ipseg/Desktop/waples/chum_populations/linkage_map/LEPmap/with_paralogs/collapsed_loci.lepmap > /home/ipseg/Desktop/waples/chum_populations/linkage_map/LEPmap/with_paralogs/collapsed_loci.lod7_singles.chromosomes 2> /home/ipseg/Desktop/waples/chum_populations/linkage_map/LEPmap/with_paralogs/collapsed_loci.lod7_singles.chromosomes.log\n",
      "java JoinSingles /home/ipseg/Desktop/waples/chum_populations/linkage_map/LEPmap/with_paralogs/collapsed_loci.lod7_singles.chromosomes lodLimit = 6 lodDifference=3 data=/home/ipseg/Desktop/waples/chum_populations/linkage_map/LEPmap/with_paralogs/collapsed_loci.lepmap > /home/ipseg/Desktop/waples/chum_populations/linkage_map/LEPmap/with_paralogs/collapsed_loci.lod6_singles.chromosomes 2> /home/ipseg/Desktop/waples/chum_populations/linkage_map/LEPmap/with_paralogs/collapsed_loci.lod6_singles.chromosomes.log\n",
      "java JoinSingles /home/ipseg/Desktop/waples/chum_populations/linkage_map/LEPmap/with_paralogs/collapsed_loci.lod6_singles.chromosomes lodLimit = 5 lodDifference=3 data=/home/ipseg/Desktop/waples/chum_populations/linkage_map/LEPmap/with_paralogs/collapsed_loci.lepmap > /home/ipseg/Desktop/waples/chum_populations/linkage_map/LEPmap/with_paralogs/collapsed_loci.lod5_singles.chromosomes 2> /home/ipseg/Desktop/waples/chum_populations/linkage_map/LEPmap/with_paralogs/collapsed_loci.lod5_singles.chromosomes.log\n"
     ]
    }
   ],
   "source": [
    "# form linkage groups\n",
    "print \"java SeparateChromosomes data=/home/ipseg/Desktop/waples/chum_populations/linkage_map/LEPmap/with_paralogs/collapsed_loci.lepmap \\\n",
    "lodLimit = 10 sizeLimit = 20 \\\n",
    "> /home/ipseg/Desktop/waples/chum_populations/linkage_map/LEPmap/with_paralogs/collapsed_loci.inital.chromosomes \\\n",
    "2> /home/ipseg/Desktop/waples/chum_populations/linkage_map/LEPmap/with_paralogs/collapsed_loci.inital.chromosomes.log\"\n",
    "\n",
    "print \"java JoinSingles /home/ipseg/Desktop/waples/chum_populations/linkage_map/LEPmap/with_paralogs/collapsed_loci.inital.chromosomes \\\n",
    "lodLimit = 8 lodDifference=3 \\\n",
    "data=/home/ipseg/Desktop/waples/chum_populations/linkage_map/LEPmap/with_paralogs/collapsed_loci.lepmap \\\n",
    "> /home/ipseg/Desktop/waples/chum_populations/linkage_map/LEPmap/with_paralogs/collapsed_loci.lod8_singles.chromosomes \\\n",
    "2> /home/ipseg/Desktop/waples/chum_populations/linkage_map/LEPmap/with_paralogs/collapsed_loci.lod8_singles.chromosomes.log\"\n",
    "\n",
    "print \"java JoinSingles /home/ipseg/Desktop/waples/chum_populations/linkage_map/LEPmap/with_paralogs/collapsed_loci.lod8_singles.chromosomes \\\n",
    "lodLimit = 7 lodDifference=3 \\\n",
    "data=/home/ipseg/Desktop/waples/chum_populations/linkage_map/LEPmap/with_paralogs/collapsed_loci.lepmap \\\n",
    "> /home/ipseg/Desktop/waples/chum_populations/linkage_map/LEPmap/with_paralogs/collapsed_loci.lod7_singles.chromosomes \\\n",
    "2> /home/ipseg/Desktop/waples/chum_populations/linkage_map/LEPmap/with_paralogs/collapsed_loci.lod7_singles.chromosomes.log\"\n",
    "\n",
    "print \"java JoinSingles /home/ipseg/Desktop/waples/chum_populations/linkage_map/LEPmap/with_paralogs/collapsed_loci.lod7_singles.chromosomes \\\n",
    "lodLimit = 6 lodDifference=3 \\\n",
    "data=/home/ipseg/Desktop/waples/chum_populations/linkage_map/LEPmap/with_paralogs/collapsed_loci.lepmap \\\n",
    "> /home/ipseg/Desktop/waples/chum_populations/linkage_map/LEPmap/with_paralogs/collapsed_loci.lod6_singles.chromosomes \\\n",
    "2> /home/ipseg/Desktop/waples/chum_populations/linkage_map/LEPmap/with_paralogs/collapsed_loci.lod6_singles.chromosomes.log\"\n",
    "\n",
    "print \"java JoinSingles /home/ipseg/Desktop/waples/chum_populations/linkage_map/LEPmap/with_paralogs/collapsed_loci.lod6_singles.chromosomes \\\n",
    "lodLimit = 5 lodDifference=3 \\\n",
    "data=/home/ipseg/Desktop/waples/chum_populations/linkage_map/LEPmap/with_paralogs/collapsed_loci.lepmap \\\n",
    "> /home/ipseg/Desktop/waples/chum_populations/linkage_map/LEPmap/with_paralogs/collapsed_loci.lod5_singles.chromosomes \\\n",
    "2> /home/ipseg/Desktop/waples/chum_populations/linkage_map/LEPmap/with_paralogs/collapsed_loci.lod5_singles.chromosomes.log\""
   ]
  },
  {
   "cell_type": "markdown",
   "metadata": {},
   "source": [
    "# WORKING HERE"
   ]
  },
  {
   "cell_type": "code",
   "execution_count": 67,
   "metadata": {
    "collapsed": false,
    "scrolled": true
   },
   "outputs": [
    {
     "name": "stdout",
     "output_type": "stream",
     "text": [
      "java OrderMarkers /home/ipseg/Desktop/waples/chum_populations/linkage_map/LEPmap/with_paralogs/collapsed_loci.lod5_singles.chromosomes         data=/home/ipseg/Desktop/waples/chum_populations/linkage_map/LEPmap/with_paralogs/collapsed_loci.lepmap         alpha=1 maxDistance=30         chromosome=37         > /home/ipseg/Desktop/waples/chum_populations/linkage_map/LEPmap/with_paralogs/chr_37.map         2> /home/ipseg/Desktop/waples/chum_populations/linkage_map/LEPmap/with_paralogs/chr_37.map.log\n",
      "\n",
      "java OrderMarkers /home/ipseg/Desktop/waples/chum_populations/linkage_map/LEPmap/with_paralogs/collapsed_loci.lod5_singles.chromosomes         data=/home/ipseg/Desktop/waples/chum_populations/linkage_map/LEPmap/with_paralogs/collapsed_loci.lepmap         alpha=1 maxDistance=30         chromosome=36         > /home/ipseg/Desktop/waples/chum_populations/linkage_map/LEPmap/with_paralogs/chr_36.map         2> /home/ipseg/Desktop/waples/chum_populations/linkage_map/LEPmap/with_paralogs/chr_36.map.log\n",
      "\n",
      "java OrderMarkers /home/ipseg/Desktop/waples/chum_populations/linkage_map/LEPmap/with_paralogs/collapsed_loci.lod5_singles.chromosomes         data=/home/ipseg/Desktop/waples/chum_populations/linkage_map/LEPmap/with_paralogs/collapsed_loci.lepmap         alpha=1 maxDistance=30         chromosome=35         > /home/ipseg/Desktop/waples/chum_populations/linkage_map/LEPmap/with_paralogs/chr_35.map         2> /home/ipseg/Desktop/waples/chum_populations/linkage_map/LEPmap/with_paralogs/chr_35.map.log\n",
      "\n",
      "java OrderMarkers /home/ipseg/Desktop/waples/chum_populations/linkage_map/LEPmap/with_paralogs/collapsed_loci.lod5_singles.chromosomes         data=/home/ipseg/Desktop/waples/chum_populations/linkage_map/LEPmap/with_paralogs/collapsed_loci.lepmap         alpha=1 maxDistance=30         chromosome=34         > /home/ipseg/Desktop/waples/chum_populations/linkage_map/LEPmap/with_paralogs/chr_34.map         2> /home/ipseg/Desktop/waples/chum_populations/linkage_map/LEPmap/with_paralogs/chr_34.map.log\n",
      "\n",
      "java OrderMarkers /home/ipseg/Desktop/waples/chum_populations/linkage_map/LEPmap/with_paralogs/collapsed_loci.lod5_singles.chromosomes         data=/home/ipseg/Desktop/waples/chum_populations/linkage_map/LEPmap/with_paralogs/collapsed_loci.lepmap         alpha=1 maxDistance=30         chromosome=33         > /home/ipseg/Desktop/waples/chum_populations/linkage_map/LEPmap/with_paralogs/chr_33.map         2> /home/ipseg/Desktop/waples/chum_populations/linkage_map/LEPmap/with_paralogs/chr_33.map.log\n",
      "\n",
      "java OrderMarkers /home/ipseg/Desktop/waples/chum_populations/linkage_map/LEPmap/with_paralogs/collapsed_loci.lod5_singles.chromosomes         data=/home/ipseg/Desktop/waples/chum_populations/linkage_map/LEPmap/with_paralogs/collapsed_loci.lepmap         alpha=1 maxDistance=30         chromosome=32         > /home/ipseg/Desktop/waples/chum_populations/linkage_map/LEPmap/with_paralogs/chr_32.map         2> /home/ipseg/Desktop/waples/chum_populations/linkage_map/LEPmap/with_paralogs/chr_32.map.log\n",
      "\n",
      "java OrderMarkers /home/ipseg/Desktop/waples/chum_populations/linkage_map/LEPmap/with_paralogs/collapsed_loci.lod5_singles.chromosomes         data=/home/ipseg/Desktop/waples/chum_populations/linkage_map/LEPmap/with_paralogs/collapsed_loci.lepmap         alpha=1 maxDistance=30         chromosome=31         > /home/ipseg/Desktop/waples/chum_populations/linkage_map/LEPmap/with_paralogs/chr_31.map         2> /home/ipseg/Desktop/waples/chum_populations/linkage_map/LEPmap/with_paralogs/chr_31.map.log\n",
      "\n",
      "java OrderMarkers /home/ipseg/Desktop/waples/chum_populations/linkage_map/LEPmap/with_paralogs/collapsed_loci.lod5_singles.chromosomes         data=/home/ipseg/Desktop/waples/chum_populations/linkage_map/LEPmap/with_paralogs/collapsed_loci.lepmap         alpha=1 maxDistance=30         chromosome=30         > /home/ipseg/Desktop/waples/chum_populations/linkage_map/LEPmap/with_paralogs/chr_30.map         2> /home/ipseg/Desktop/waples/chum_populations/linkage_map/LEPmap/with_paralogs/chr_30.map.log\n",
      "\n",
      "java OrderMarkers /home/ipseg/Desktop/waples/chum_populations/linkage_map/LEPmap/with_paralogs/collapsed_loci.lod5_singles.chromosomes         data=/home/ipseg/Desktop/waples/chum_populations/linkage_map/LEPmap/with_paralogs/collapsed_loci.lepmap         alpha=1 maxDistance=30         chromosome=29         > /home/ipseg/Desktop/waples/chum_populations/linkage_map/LEPmap/with_paralogs/chr_29.map         2> /home/ipseg/Desktop/waples/chum_populations/linkage_map/LEPmap/with_paralogs/chr_29.map.log\n",
      "\n",
      "java OrderMarkers /home/ipseg/Desktop/waples/chum_populations/linkage_map/LEPmap/with_paralogs/collapsed_loci.lod5_singles.chromosomes         data=/home/ipseg/Desktop/waples/chum_populations/linkage_map/LEPmap/with_paralogs/collapsed_loci.lepmap         alpha=1 maxDistance=30         chromosome=28         > /home/ipseg/Desktop/waples/chum_populations/linkage_map/LEPmap/with_paralogs/chr_28.map         2> /home/ipseg/Desktop/waples/chum_populations/linkage_map/LEPmap/with_paralogs/chr_28.map.log\n",
      "\n",
      "java OrderMarkers /home/ipseg/Desktop/waples/chum_populations/linkage_map/LEPmap/with_paralogs/collapsed_loci.lod5_singles.chromosomes         data=/home/ipseg/Desktop/waples/chum_populations/linkage_map/LEPmap/with_paralogs/collapsed_loci.lepmap         alpha=1 maxDistance=30         chromosome=27         > /home/ipseg/Desktop/waples/chum_populations/linkage_map/LEPmap/with_paralogs/chr_27.map         2> /home/ipseg/Desktop/waples/chum_populations/linkage_map/LEPmap/with_paralogs/chr_27.map.log\n",
      "\n",
      "java OrderMarkers /home/ipseg/Desktop/waples/chum_populations/linkage_map/LEPmap/with_paralogs/collapsed_loci.lod5_singles.chromosomes         data=/home/ipseg/Desktop/waples/chum_populations/linkage_map/LEPmap/with_paralogs/collapsed_loci.lepmap         alpha=1 maxDistance=30         chromosome=26         > /home/ipseg/Desktop/waples/chum_populations/linkage_map/LEPmap/with_paralogs/chr_26.map         2> /home/ipseg/Desktop/waples/chum_populations/linkage_map/LEPmap/with_paralogs/chr_26.map.log\n",
      "\n",
      "java OrderMarkers /home/ipseg/Desktop/waples/chum_populations/linkage_map/LEPmap/with_paralogs/collapsed_loci.lod5_singles.chromosomes         data=/home/ipseg/Desktop/waples/chum_populations/linkage_map/LEPmap/with_paralogs/collapsed_loci.lepmap         alpha=1 maxDistance=30         chromosome=25         > /home/ipseg/Desktop/waples/chum_populations/linkage_map/LEPmap/with_paralogs/chr_25.map         2> /home/ipseg/Desktop/waples/chum_populations/linkage_map/LEPmap/with_paralogs/chr_25.map.log\n",
      "\n",
      "java OrderMarkers /home/ipseg/Desktop/waples/chum_populations/linkage_map/LEPmap/with_paralogs/collapsed_loci.lod5_singles.chromosomes         data=/home/ipseg/Desktop/waples/chum_populations/linkage_map/LEPmap/with_paralogs/collapsed_loci.lepmap         alpha=1 maxDistance=30         chromosome=24         > /home/ipseg/Desktop/waples/chum_populations/linkage_map/LEPmap/with_paralogs/chr_24.map         2> /home/ipseg/Desktop/waples/chum_populations/linkage_map/LEPmap/with_paralogs/chr_24.map.log\n",
      "\n",
      "java OrderMarkers /home/ipseg/Desktop/waples/chum_populations/linkage_map/LEPmap/with_paralogs/collapsed_loci.lod5_singles.chromosomes         data=/home/ipseg/Desktop/waples/chum_populations/linkage_map/LEPmap/with_paralogs/collapsed_loci.lepmap         alpha=1 maxDistance=30         chromosome=23         > /home/ipseg/Desktop/waples/chum_populations/linkage_map/LEPmap/with_paralogs/chr_23.map         2> /home/ipseg/Desktop/waples/chum_populations/linkage_map/LEPmap/with_paralogs/chr_23.map.log\n",
      "\n",
      "java OrderMarkers /home/ipseg/Desktop/waples/chum_populations/linkage_map/LEPmap/with_paralogs/collapsed_loci.lod5_singles.chromosomes         data=/home/ipseg/Desktop/waples/chum_populations/linkage_map/LEPmap/with_paralogs/collapsed_loci.lepmap         alpha=1 maxDistance=30         chromosome=22         > /home/ipseg/Desktop/waples/chum_populations/linkage_map/LEPmap/with_paralogs/chr_22.map         2> /home/ipseg/Desktop/waples/chum_populations/linkage_map/LEPmap/with_paralogs/chr_22.map.log\n",
      "\n",
      "java OrderMarkers /home/ipseg/Desktop/waples/chum_populations/linkage_map/LEPmap/with_paralogs/collapsed_loci.lod5_singles.chromosomes         data=/home/ipseg/Desktop/waples/chum_populations/linkage_map/LEPmap/with_paralogs/collapsed_loci.lepmap         alpha=1 maxDistance=30         chromosome=21         > /home/ipseg/Desktop/waples/chum_populations/linkage_map/LEPmap/with_paralogs/chr_21.map         2> /home/ipseg/Desktop/waples/chum_populations/linkage_map/LEPmap/with_paralogs/chr_21.map.log\n",
      "\n",
      "java OrderMarkers /home/ipseg/Desktop/waples/chum_populations/linkage_map/LEPmap/with_paralogs/collapsed_loci.lod5_singles.chromosomes         data=/home/ipseg/Desktop/waples/chum_populations/linkage_map/LEPmap/with_paralogs/collapsed_loci.lepmap         alpha=1 maxDistance=30         chromosome=20         > /home/ipseg/Desktop/waples/chum_populations/linkage_map/LEPmap/with_paralogs/chr_20.map         2> /home/ipseg/Desktop/waples/chum_populations/linkage_map/LEPmap/with_paralogs/chr_20.map.log\n",
      "\n"
     ]
    }
   ],
   "source": [
    "for xx in reversed(range(20,38)):\n",
    "    print(\"java OrderMarkers /home/ipseg/Desktop/waples/chum_populations/linkage_map/LEPmap/with_paralogs/collapsed_loci.lod5_singles.chromosomes \\\n",
    "        data=/home/ipseg/Desktop/waples/chum_populations/linkage_map/LEPmap/with_paralogs/collapsed_loci.lepmap \\\n",
    "        alpha=1 maxDistance=30 \\\n",
    "        chromosome={} \\\n",
    "        > /home/ipseg/Desktop/waples/chum_populations/linkage_map/LEPmap/with_paralogs/chr_{}.map \\\n",
    "        2> /home/ipseg/Desktop/waples/chum_populations/linkage_map/LEPmap/with_paralogs/chr_{}.map.log\\n\".format(xx, xx, xx)\n",
    "        )"
   ]
  },
  {
   "cell_type": "code",
   "execution_count": 68,
   "metadata": {
    "collapsed": false
   },
   "outputs": [
    {
     "name": "stdout",
     "output_type": "stream",
     "text": [
      "java OrderMarkers /home/ipseg/Desktop/waples/chum_populations/linkage_map/LEPmap/with_paralogs/collapsed_loci.lod5_singles.chromosomes         data=/home/ipseg/Desktop/waples/chum_populations/linkage_map/LEPmap/with_paralogs/collapsed_loci.lepmap         alpha=1 maxDistance=30         chromosome=19         > /home/ipseg/Desktop/waples/chum_populations/linkage_map/LEPmap/with_paralogs/chr_19.map         2> /home/ipseg/Desktop/waples/chum_populations/linkage_map/LEPmap/with_paralogs/chr_19.map.log\n",
      "\n",
      "java OrderMarkers /home/ipseg/Desktop/waples/chum_populations/linkage_map/LEPmap/with_paralogs/collapsed_loci.lod5_singles.chromosomes         data=/home/ipseg/Desktop/waples/chum_populations/linkage_map/LEPmap/with_paralogs/collapsed_loci.lepmap         alpha=1 maxDistance=30         chromosome=18         > /home/ipseg/Desktop/waples/chum_populations/linkage_map/LEPmap/with_paralogs/chr_18.map         2> /home/ipseg/Desktop/waples/chum_populations/linkage_map/LEPmap/with_paralogs/chr_18.map.log\n",
      "\n",
      "java OrderMarkers /home/ipseg/Desktop/waples/chum_populations/linkage_map/LEPmap/with_paralogs/collapsed_loci.lod5_singles.chromosomes         data=/home/ipseg/Desktop/waples/chum_populations/linkage_map/LEPmap/with_paralogs/collapsed_loci.lepmap         alpha=1 maxDistance=30         chromosome=17         > /home/ipseg/Desktop/waples/chum_populations/linkage_map/LEPmap/with_paralogs/chr_17.map         2> /home/ipseg/Desktop/waples/chum_populations/linkage_map/LEPmap/with_paralogs/chr_17.map.log\n",
      "\n",
      "java OrderMarkers /home/ipseg/Desktop/waples/chum_populations/linkage_map/LEPmap/with_paralogs/collapsed_loci.lod5_singles.chromosomes         data=/home/ipseg/Desktop/waples/chum_populations/linkage_map/LEPmap/with_paralogs/collapsed_loci.lepmap         alpha=1 maxDistance=30         chromosome=16         > /home/ipseg/Desktop/waples/chum_populations/linkage_map/LEPmap/with_paralogs/chr_16.map         2> /home/ipseg/Desktop/waples/chum_populations/linkage_map/LEPmap/with_paralogs/chr_16.map.log\n",
      "\n",
      "java OrderMarkers /home/ipseg/Desktop/waples/chum_populations/linkage_map/LEPmap/with_paralogs/collapsed_loci.lod5_singles.chromosomes         data=/home/ipseg/Desktop/waples/chum_populations/linkage_map/LEPmap/with_paralogs/collapsed_loci.lepmap         alpha=1 maxDistance=30         chromosome=15         > /home/ipseg/Desktop/waples/chum_populations/linkage_map/LEPmap/with_paralogs/chr_15.map         2> /home/ipseg/Desktop/waples/chum_populations/linkage_map/LEPmap/with_paralogs/chr_15.map.log\n",
      "\n",
      "java OrderMarkers /home/ipseg/Desktop/waples/chum_populations/linkage_map/LEPmap/with_paralogs/collapsed_loci.lod5_singles.chromosomes         data=/home/ipseg/Desktop/waples/chum_populations/linkage_map/LEPmap/with_paralogs/collapsed_loci.lepmap         alpha=1 maxDistance=30         chromosome=14         > /home/ipseg/Desktop/waples/chum_populations/linkage_map/LEPmap/with_paralogs/chr_14.map         2> /home/ipseg/Desktop/waples/chum_populations/linkage_map/LEPmap/with_paralogs/chr_14.map.log\n",
      "\n",
      "java OrderMarkers /home/ipseg/Desktop/waples/chum_populations/linkage_map/LEPmap/with_paralogs/collapsed_loci.lod5_singles.chromosomes         data=/home/ipseg/Desktop/waples/chum_populations/linkage_map/LEPmap/with_paralogs/collapsed_loci.lepmap         alpha=1 maxDistance=30         chromosome=13         > /home/ipseg/Desktop/waples/chum_populations/linkage_map/LEPmap/with_paralogs/chr_13.map         2> /home/ipseg/Desktop/waples/chum_populations/linkage_map/LEPmap/with_paralogs/chr_13.map.log\n",
      "\n"
     ]
    }
   ],
   "source": [
    "for xx in reversed(range(13,20)):\n",
    "    print(\"java OrderMarkers /home/ipseg/Desktop/waples/chum_populations/linkage_map/LEPmap/with_paralogs/collapsed_loci.lod5_singles.chromosomes \\\n",
    "        data=/home/ipseg/Desktop/waples/chum_populations/linkage_map/LEPmap/with_paralogs/collapsed_loci.lepmap \\\n",
    "        alpha=1 maxDistance=30 \\\n",
    "        chromosome={} \\\n",
    "        > /home/ipseg/Desktop/waples/chum_populations/linkage_map/LEPmap/with_paralogs/chr_{}.map \\\n",
    "        2> /home/ipseg/Desktop/waples/chum_populations/linkage_map/LEPmap/with_paralogs/chr_{}.map.log\\n\".format(xx, xx, xx)\n",
    "        )"
   ]
  },
  {
   "cell_type": "code",
   "execution_count": 69,
   "metadata": {
    "collapsed": false
   },
   "outputs": [
    {
     "name": "stdout",
     "output_type": "stream",
     "text": [
      "java OrderMarkers /home/ipseg/Desktop/waples/chum_populations/linkage_map/LEPmap/with_paralogs/collapsed_loci.lod5_singles.chromosomes         data=/home/ipseg/Desktop/waples/chum_populations/linkage_map/LEPmap/with_paralogs/collapsed_loci.lepmap         alpha=1 maxDistance=30         chromosome=12         > /home/ipseg/Desktop/waples/chum_populations/linkage_map/LEPmap/with_paralogs/chr_12.map         2> /home/ipseg/Desktop/waples/chum_populations/linkage_map/LEPmap/with_paralogs/chr_12.map.log\n",
      "\n",
      "java OrderMarkers /home/ipseg/Desktop/waples/chum_populations/linkage_map/LEPmap/with_paralogs/collapsed_loci.lod5_singles.chromosomes         data=/home/ipseg/Desktop/waples/chum_populations/linkage_map/LEPmap/with_paralogs/collapsed_loci.lepmap         alpha=1 maxDistance=30         chromosome=11         > /home/ipseg/Desktop/waples/chum_populations/linkage_map/LEPmap/with_paralogs/chr_11.map         2> /home/ipseg/Desktop/waples/chum_populations/linkage_map/LEPmap/with_paralogs/chr_11.map.log\n",
      "\n",
      "java OrderMarkers /home/ipseg/Desktop/waples/chum_populations/linkage_map/LEPmap/with_paralogs/collapsed_loci.lod5_singles.chromosomes         data=/home/ipseg/Desktop/waples/chum_populations/linkage_map/LEPmap/with_paralogs/collapsed_loci.lepmap         alpha=1 maxDistance=30         chromosome=10         > /home/ipseg/Desktop/waples/chum_populations/linkage_map/LEPmap/with_paralogs/chr_10.map         2> /home/ipseg/Desktop/waples/chum_populations/linkage_map/LEPmap/with_paralogs/chr_10.map.log\n",
      "\n",
      "java OrderMarkers /home/ipseg/Desktop/waples/chum_populations/linkage_map/LEPmap/with_paralogs/collapsed_loci.lod5_singles.chromosomes         data=/home/ipseg/Desktop/waples/chum_populations/linkage_map/LEPmap/with_paralogs/collapsed_loci.lepmap         alpha=1 maxDistance=30         chromosome=9         > /home/ipseg/Desktop/waples/chum_populations/linkage_map/LEPmap/with_paralogs/chr_9.map         2> /home/ipseg/Desktop/waples/chum_populations/linkage_map/LEPmap/with_paralogs/chr_9.map.log\n",
      "\n",
      "java OrderMarkers /home/ipseg/Desktop/waples/chum_populations/linkage_map/LEPmap/with_paralogs/collapsed_loci.lod5_singles.chromosomes         data=/home/ipseg/Desktop/waples/chum_populations/linkage_map/LEPmap/with_paralogs/collapsed_loci.lepmap         alpha=1 maxDistance=30         chromosome=8         > /home/ipseg/Desktop/waples/chum_populations/linkage_map/LEPmap/with_paralogs/chr_8.map         2> /home/ipseg/Desktop/waples/chum_populations/linkage_map/LEPmap/with_paralogs/chr_8.map.log\n",
      "\n",
      "java OrderMarkers /home/ipseg/Desktop/waples/chum_populations/linkage_map/LEPmap/with_paralogs/collapsed_loci.lod5_singles.chromosomes         data=/home/ipseg/Desktop/waples/chum_populations/linkage_map/LEPmap/with_paralogs/collapsed_loci.lepmap         alpha=1 maxDistance=30         chromosome=7         > /home/ipseg/Desktop/waples/chum_populations/linkage_map/LEPmap/with_paralogs/chr_7.map         2> /home/ipseg/Desktop/waples/chum_populations/linkage_map/LEPmap/with_paralogs/chr_7.map.log\n",
      "\n"
     ]
    }
   ],
   "source": [
    "for xx in reversed(range(7,13)):\n",
    "    print(\"java OrderMarkers /home/ipseg/Desktop/waples/chum_populations/linkage_map/LEPmap/with_paralogs/collapsed_loci.lod5_singles.chromosomes \\\n",
    "        data=/home/ipseg/Desktop/waples/chum_populations/linkage_map/LEPmap/with_paralogs/collapsed_loci.lepmap \\\n",
    "        alpha=1 maxDistance=30 \\\n",
    "        chromosome={} \\\n",
    "        > /home/ipseg/Desktop/waples/chum_populations/linkage_map/LEPmap/with_paralogs/chr_{}.map \\\n",
    "        2> /home/ipseg/Desktop/waples/chum_populations/linkage_map/LEPmap/with_paralogs/chr_{}.map.log\\n\".format(xx, xx, xx)\n",
    "        )"
   ]
  },
  {
   "cell_type": "code",
   "execution_count": 70,
   "metadata": {
    "collapsed": false
   },
   "outputs": [
    {
     "name": "stdout",
     "output_type": "stream",
     "text": [
      "java OrderMarkers /home/ipseg/Desktop/waples/chum_populations/linkage_map/LEPmap/with_paralogs/collapsed_loci.lod5_singles.chromosomes         data=/home/ipseg/Desktop/waples/chum_populations/linkage_map/LEPmap/with_paralogs/collapsed_loci.lepmap         alpha=1 maxDistance=30         chromosome=6         > /home/ipseg/Desktop/waples/chum_populations/linkage_map/LEPmap/with_paralogs/chr_6.map         2> /home/ipseg/Desktop/waples/chum_populations/linkage_map/LEPmap/with_paralogs/chr_6.map.log\n",
      "\n",
      "java OrderMarkers /home/ipseg/Desktop/waples/chum_populations/linkage_map/LEPmap/with_paralogs/collapsed_loci.lod5_singles.chromosomes         data=/home/ipseg/Desktop/waples/chum_populations/linkage_map/LEPmap/with_paralogs/collapsed_loci.lepmap         alpha=1 maxDistance=30         chromosome=5         > /home/ipseg/Desktop/waples/chum_populations/linkage_map/LEPmap/with_paralogs/chr_5.map         2> /home/ipseg/Desktop/waples/chum_populations/linkage_map/LEPmap/with_paralogs/chr_5.map.log\n",
      "\n",
      "java OrderMarkers /home/ipseg/Desktop/waples/chum_populations/linkage_map/LEPmap/with_paralogs/collapsed_loci.lod5_singles.chromosomes         data=/home/ipseg/Desktop/waples/chum_populations/linkage_map/LEPmap/with_paralogs/collapsed_loci.lepmap         alpha=1 maxDistance=30         chromosome=4         > /home/ipseg/Desktop/waples/chum_populations/linkage_map/LEPmap/with_paralogs/chr_4.map         2> /home/ipseg/Desktop/waples/chum_populations/linkage_map/LEPmap/with_paralogs/chr_4.map.log\n",
      "\n"
     ]
    }
   ],
   "source": [
    "for xx in reversed(range(4,7)):\n",
    "    print(\"java OrderMarkers /home/ipseg/Desktop/waples/chum_populations/linkage_map/LEPmap/with_paralogs/collapsed_loci.lod5_singles.chromosomes \\\n",
    "        data=/home/ipseg/Desktop/waples/chum_populations/linkage_map/LEPmap/with_paralogs/collapsed_loci.lepmap \\\n",
    "        alpha=1 maxDistance=30 \\\n",
    "        chromosome={} \\\n",
    "        > /home/ipseg/Desktop/waples/chum_populations/linkage_map/LEPmap/with_paralogs/chr_{}.map \\\n",
    "        2> /home/ipseg/Desktop/waples/chum_populations/linkage_map/LEPmap/with_paralogs/chr_{}.map.log\\n\".format(xx, xx, xx)\n",
    "        )"
   ]
  },
  {
   "cell_type": "code",
   "execution_count": 71,
   "metadata": {
    "collapsed": false
   },
   "outputs": [
    {
     "name": "stdout",
     "output_type": "stream",
     "text": [
      "java OrderMarkers /home/ipseg/Desktop/waples/chum_populations/linkage_map/LEPmap/with_paralogs/collapsed_loci.lod5_singles.chromosomes         data=/home/ipseg/Desktop/waples/chum_populations/linkage_map/LEPmap/with_paralogs/collapsed_loci.lepmap         alpha=1 maxDistance=30         chromosome=3         > /home/ipseg/Desktop/waples/chum_populations/linkage_map/LEPmap/with_paralogs/chr_3.map         2> /home/ipseg/Desktop/waples/chum_populations/linkage_map/LEPmap/with_paralogs/chr_3.map.log\n",
      "\n",
      "java OrderMarkers /home/ipseg/Desktop/waples/chum_populations/linkage_map/LEPmap/with_paralogs/collapsed_loci.lod5_singles.chromosomes         data=/home/ipseg/Desktop/waples/chum_populations/linkage_map/LEPmap/with_paralogs/collapsed_loci.lepmap         alpha=1 maxDistance=30         chromosome=2         > /home/ipseg/Desktop/waples/chum_populations/linkage_map/LEPmap/with_paralogs/chr_2.map         2> /home/ipseg/Desktop/waples/chum_populations/linkage_map/LEPmap/with_paralogs/chr_2.map.log\n",
      "\n"
     ]
    }
   ],
   "source": [
    "for xx in reversed(range(2,4)):\n",
    "    print(\"java OrderMarkers /home/ipseg/Desktop/waples/chum_populations/linkage_map/LEPmap/with_paralogs/collapsed_loci.lod5_singles.chromosomes \\\n",
    "        data=/home/ipseg/Desktop/waples/chum_populations/linkage_map/LEPmap/with_paralogs/collapsed_loci.lepmap \\\n",
    "        alpha=1 maxDistance=30 \\\n",
    "        chromosome={} \\\n",
    "        > /home/ipseg/Desktop/waples/chum_populations/linkage_map/LEPmap/with_paralogs/chr_{}.map \\\n",
    "        2> /home/ipseg/Desktop/waples/chum_populations/linkage_map/LEPmap/with_paralogs/chr_{}.map.log\\n\".format(xx, xx, xx)\n",
    "        )"
   ]
  },
  {
   "cell_type": "code",
   "execution_count": 72,
   "metadata": {
    "collapsed": false
   },
   "outputs": [
    {
     "name": "stdout",
     "output_type": "stream",
     "text": [
      "java OrderMarkers /home/ipseg/Desktop/waples/chum_populations/linkage_map/LEPmap/with_paralogs/collapsed_loci.lod5_singles.chromosomes         data=/home/ipseg/Desktop/waples/chum_populations/linkage_map/LEPmap/with_paralogs/collapsed_loci.lepmap         alpha=1 maxDistance=30         chromosome=1         > /home/ipseg/Desktop/waples/chum_populations/linkage_map/LEPmap/with_paralogs/chr_1.map         2> /home/ipseg/Desktop/waples/chum_populations/linkage_map/LEPmap/with_paralogs/chr_1.map.log\n",
      "\n"
     ]
    }
   ],
   "source": [
    "for xx in reversed(range(1,2)):\n",
    "    print(\"java OrderMarkers /home/ipseg/Desktop/waples/chum_populations/linkage_map/LEPmap/with_paralogs/collapsed_loci.lod5_singles.chromosomes \\\n",
    "        data=/home/ipseg/Desktop/waples/chum_populations/linkage_map/LEPmap/with_paralogs/collapsed_loci.lepmap \\\n",
    "        alpha=1 maxDistance=30 \\\n",
    "        chromosome={} \\\n",
    "        > /home/ipseg/Desktop/waples/chum_populations/linkage_map/LEPmap/with_paralogs/chr_{}.map \\\n",
    "        2> /home/ipseg/Desktop/waples/chum_populations/linkage_map/LEPmap/with_paralogs/chr_{}.map.log\\n\".format(xx, xx, xx)\n",
    "        )"
   ]
  },
  {
   "cell_type": "code",
   "execution_count": null,
   "metadata": {
    "collapsed": true
   },
   "outputs": [],
   "source": [
    "for xx in (1, 7):\n",
    "    print(\"java OrderMarkers /home/ipseg/Desktop/waples/chum_populations/linkage_map/LEPmap/with_paralogs/collapsed_loci.lod5_singles.chromosomes \\\n",
    "        data=/home/ipseg/Desktop/waples/chum_populations/linkage_map/LEPmap/with_paralogs/collapsed_loci.lepmap \\\n",
    "        alpha=1 maxDistance=30 \\\n",
    "        chromosome={} \\\n",
    "        > /home/ipseg/Desktop/waples/chum_populations/linkage_map/LEPmap/with_paralogs/chr_{}.map \\\n",
    "        2> /home/ipseg/Desktop/waples/chum_populations/linkage_map/LEPmap/with_paralogs/chr_{}.map.log\\n\".format(xx, xx, xx)\n",
    "        )\n",
    "\n",
    "for xx in (1, 7, 25, 26, 31, 33):\n",
    "    print(\"java OrderMarkers /home/ipseg/Desktop/waples/chum_populations/linkage_map/LEPmap/with_paralogs/collapsed_loci.lod5_singles.chromosomes \\\n",
    "        data=/home/ipseg/Desktop/waples/chum_populations/linkage_map/LEPmap/with_paralogs/collapsed_loci.lepmap \\\n",
    "        alpha=.5 maxDistance=20 \\\n",
    "        chromosome={} \\\n",
    "        > /home/ipseg/Desktop/waples/chum_populations/linkage_map/LEPmap/with_paralogs/chr_{}.map \\\n",
    "        2> /home/ipseg/Desktop/waples/chum_populations/linkage_map/LEPmap/with_paralogs/chr_{}.map.log\\n\".format(xx, xx, xx)\n",
    "        )"
   ]
  }
 ],
 "metadata": {
  "kernelspec": {
   "display_name": "Python 2",
   "language": "python",
   "name": "python2"
  },
  "language_info": {
   "codemirror_mode": {
    "name": "ipython",
    "version": 2
   },
   "file_extension": ".py",
   "mimetype": "text/x-python",
   "name": "python",
   "nbconvert_exporter": "python",
   "pygments_lexer": "ipython2",
   "version": "2.7.10"
  }
 },
 "nbformat": 4,
 "nbformat_minor": 0
}
