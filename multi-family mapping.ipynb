{
 "cells": [
  {
   "cell_type": "code",
   "execution_count": 1,
   "metadata": {
    "collapsed": true
   },
   "outputs": [],
   "source": [
    "from linkage_map.multi_family_mapping_functions import *"
   ]
  },
  {
   "cell_type": "code",
   "execution_count": 2,
   "metadata": {
    "collapsed": false
   },
   "outputs": [],
   "source": [
    "import os.path\n",
    "import pandas as pd\n",
    "import collections"
   ]
  },
  {
   "cell_type": "markdown",
   "metadata": {},
   "source": [
    "### Write a file listing all identified paralogs"
   ]
  },
  {
   "cell_type": "code",
   "execution_count": 3,
   "metadata": {
    "collapsed": true
   },
   "outputs": [],
   "source": [
    "stats_file_1 = os.path.join('linkage_map','chum_08.stats')\n",
    "stats_file_2 = os.path.join('linkage_map','chum_01.stats')\n",
    "stats_file_3 = os.path.join('linkage_map','chum_09.stats')\n",
    "\n",
    "paralogs_file = os.path.join('linkage_map','chum_paralogs.txt')"
   ]
  },
  {
   "cell_type": "code",
   "execution_count": 4,
   "metadata": {
    "collapsed": false
   },
   "outputs": [],
   "source": [
    "paralogs = set()\n",
    "for stats_file in [stats_file_1, stats_file_2, stats_file_3]:\n",
    "    with open(stats_file) as INFILE:\n",
    "        for line in INFILE:\n",
    "            if line.strip().split()[2] not in ['AA_xx', \"AB\"]:\n",
    "                paralogs.add(line.strip().split()[0])\n",
    "paralogs = sorted([int(xx) for xx in paralogs])\n",
    "with open(paralogs_file, 'w') as OUTFILE:\n",
    "    for xx in sorted(list(paralogs)):\n",
    "        OUTFILE.write('{}\\n'.format(xx))"
   ]
  },
  {
   "cell_type": "markdown",
   "metadata": {},
   "source": [
    "### Import genotype data from MST map input files:"
   ]
  },
  {
   "cell_type": "code",
   "execution_count": 5,
   "metadata": {
    "collapsed": true
   },
   "outputs": [],
   "source": [
    "linkage_map_file_1 = os.path.join('linkage_map','chum_08_mstmap.txt')\n",
    "linkage_map_file_2 = os.path.join('linkage_map','chum_01_mstmap.txt')\n",
    "linkage_map_file_3 = os.path.join('linkage_map','chum_09_mstmap.txt')"
   ]
  },
  {
   "cell_type": "code",
   "execution_count": 6,
   "metadata": {
    "collapsed": false
   },
   "outputs": [],
   "source": [
    "individuals_08, genotypes_at_locus_08 = import_MSTmap(linkage_map_file_1)\n",
    "individuals_01, genotypes_at_locus_01 = import_MSTmap(linkage_map_file_2)\n",
    "individuals_09, genotypes_at_locus_09 = import_MSTmap(linkage_map_file_3)\n",
    "\n",
    "my_pd_genos_08 = prep_data_pandas(individuals_08, genotypes_at_locus_08)\n",
    "my_pd_genos_01 = prep_data_pandas(individuals_01, genotypes_at_locus_01)\n",
    "my_pd_genos_09  = prep_data_pandas(individuals_09,  genotypes_at_locus_09)\n",
    "\n",
    "fam_08 = prepare_matrix(my_pd_genos_08)\n",
    "fam_01 = prepare_matrix(my_pd_genos_01)\n",
    "fam_09 = prepare_matrix(my_pd_genos_09)"
   ]
  },
  {
   "cell_type": "code",
   "execution_count": 7,
   "metadata": {
    "collapsed": true
   },
   "outputs": [],
   "source": [
    "def rename_loci_by_family(paralogs_file, fam_names, families):\n",
    "    # check if each family listed in families is formatted as if returned from prepare matrix\n",
    "    for afam in families:\n",
    "        if not isinstance(afam, pd.core.frame.DataFrame):\n",
    "            raise ValueError(\"families should be a pandas DataFrame\")\n",
    "        else:\n",
    "            pass\n",
    "    if len(fam_names) != len(families) :\n",
    "        raise ValueError(\"names and families should have the same length\")\n",
    "    if not isinstance(fam_names, list ):\n",
    "        raise ValueError(\"names should be a list\")\n",
    "    \n",
    "    with open(paralogs_file) as INFILE: \n",
    "        paralogs = [yy.strip() for yy in INFILE.readlines()]\n",
    "    # for each family, for each locus, if the locus is a paralog, append family-specific text to locus name\n",
    "    # genotypes are unchanged\n",
    "    #new_familes = list()\n",
    "    for idx, afam in enumerate(families):\n",
    "        old_locus_names = afam.columns.values.tolist()\n",
    "        new_locus_names = []\n",
    "        for xx in old_locus_names:\n",
    "            base_name = xx[:-3]\n",
    "            if base_name in paralogs:\n",
    "                #print(\"{} is a paralog\".format(base_name))\n",
    "                new_name = \"{}_{}_{}\".format(base_name, fam_names[idx], xx[-2:])\n",
    "            else: \n",
    "                new_name = base_name\n",
    "            new_locus_names.append(new_name)\n",
    "        afam.columns = new_locus_names\n",
    "    return(families)"
   ]
  },
  {
   "cell_type": "code",
   "execution_count": 8,
   "metadata": {
    "collapsed": false
   },
   "outputs": [],
   "source": [
    "renamed_08, renamed_01, renamed_09 = rename_loci_by_family(paralogs_file = paralogs_file, \n",
    "    fam_names = ['chum_08', 'chum_01', 'chum_09'], families = [my_pd_genos_08, my_pd_genos_01, my_pd_genos_09])"
   ]
  },
  {
   "cell_type": "code",
   "execution_count": 9,
   "metadata": {
    "collapsed": false
   },
   "outputs": [
    {
     "data": {
      "text/html": [
       "<div style=\"max-height:1000px;max-width:1500px;overflow:auto;\">\n",
       "<table border=\"1\" class=\"dataframe\">\n",
       "  <thead>\n",
       "    <tr style=\"text-align: right;\">\n",
       "      <th></th>\n",
       "      <th>10001</th>\n",
       "      <th>10003_chum_08_x1</th>\n",
       "      <th>10020</th>\n",
       "      <th>10029</th>\n",
       "      <th>10039</th>\n",
       "      <th>10043</th>\n",
       "      <th>1004_chum_08_x1</th>\n",
       "      <th>10061</th>\n",
       "      <th>10068_chum_08_x1</th>\n",
       "      <th>10068_chum_08_x2</th>\n",
       "      <th>...</th>\n",
       "      <th>Oke_lactb2-71</th>\n",
       "      <th>Oke_mgll-49</th>\n",
       "      <th>Oke_nc2b-148</th>\n",
       "      <th>Oke_pnrc2-78</th>\n",
       "      <th>Oke_sylc-90</th>\n",
       "      <th>Oke_thic-84</th>\n",
       "      <th>Oke_txnrd1-74</th>\n",
       "      <th>Oke_u0602-244</th>\n",
       "      <th>Oke_u217-172</th>\n",
       "      <th>Oke_zn593-152</th>\n",
       "    </tr>\n",
       "  </thead>\n",
       "  <tbody>\n",
       "    <tr>\n",
       "      <th>CMUW10X08H_0002</th>\n",
       "      <td> 1</td>\n",
       "      <td> 2</td>\n",
       "      <td> 2</td>\n",
       "      <td> 1</td>\n",
       "      <td> 1</td>\n",
       "      <td> 2</td>\n",
       "      <td> 1</td>\n",
       "      <td> 2</td>\n",
       "      <td> 1</td>\n",
       "      <td> 2</td>\n",
       "      <td>...</td>\n",
       "      <td> 2</td>\n",
       "      <td> 1</td>\n",
       "      <td> 2</td>\n",
       "      <td> 2</td>\n",
       "      <td> 1</td>\n",
       "      <td> 2</td>\n",
       "      <td> 2</td>\n",
       "      <td> 1</td>\n",
       "      <td> 1</td>\n",
       "      <td> 2</td>\n",
       "    </tr>\n",
       "    <tr>\n",
       "      <th>CMUW10X08H_0003</th>\n",
       "      <td> 2</td>\n",
       "      <td> 1</td>\n",
       "      <td> 2</td>\n",
       "      <td> 2</td>\n",
       "      <td> 1</td>\n",
       "      <td> 1</td>\n",
       "      <td> 1</td>\n",
       "      <td> 2</td>\n",
       "      <td> 2</td>\n",
       "      <td> 2</td>\n",
       "      <td>...</td>\n",
       "      <td> 2</td>\n",
       "      <td> 2</td>\n",
       "      <td> 2</td>\n",
       "      <td> 2</td>\n",
       "      <td> 1</td>\n",
       "      <td> 1</td>\n",
       "      <td> 2</td>\n",
       "      <td> 2</td>\n",
       "      <td> 1</td>\n",
       "      <td> 1</td>\n",
       "    </tr>\n",
       "    <tr>\n",
       "      <th>CMUW10X08H_0005</th>\n",
       "      <td> 2</td>\n",
       "      <td> 2</td>\n",
       "      <td> 1</td>\n",
       "      <td> 1</td>\n",
       "      <td> 1</td>\n",
       "      <td> 2</td>\n",
       "      <td> 1</td>\n",
       "      <td> 2</td>\n",
       "      <td> 1</td>\n",
       "      <td> 2</td>\n",
       "      <td>...</td>\n",
       "      <td> 1</td>\n",
       "      <td> 2</td>\n",
       "      <td> 1</td>\n",
       "      <td> 2</td>\n",
       "      <td> 1</td>\n",
       "      <td> 2</td>\n",
       "      <td> 2</td>\n",
       "      <td> 2</td>\n",
       "      <td> 2</td>\n",
       "      <td> 2</td>\n",
       "    </tr>\n",
       "    <tr>\n",
       "      <th>CMUW10X08H_0006</th>\n",
       "      <td> 2</td>\n",
       "      <td> 2</td>\n",
       "      <td> 2</td>\n",
       "      <td> 1</td>\n",
       "      <td> 2</td>\n",
       "      <td> 1</td>\n",
       "      <td> 1</td>\n",
       "      <td> 2</td>\n",
       "      <td> 2</td>\n",
       "      <td> 1</td>\n",
       "      <td>...</td>\n",
       "      <td> 1</td>\n",
       "      <td> 2</td>\n",
       "      <td> 1</td>\n",
       "      <td> 2</td>\n",
       "      <td> 2</td>\n",
       "      <td> 2</td>\n",
       "      <td> 1</td>\n",
       "      <td> 1</td>\n",
       "      <td> 2</td>\n",
       "      <td> 2</td>\n",
       "    </tr>\n",
       "    <tr>\n",
       "      <th>CMUW10X08H_0011</th>\n",
       "      <td> 1</td>\n",
       "      <td> 1</td>\n",
       "      <td> 1</td>\n",
       "      <td> 2</td>\n",
       "      <td> 2</td>\n",
       "      <td> 1</td>\n",
       "      <td> 2</td>\n",
       "      <td> 2</td>\n",
       "      <td> 1</td>\n",
       "      <td> 1</td>\n",
       "      <td>...</td>\n",
       "      <td> 1</td>\n",
       "      <td> 1</td>\n",
       "      <td> 2</td>\n",
       "      <td> 1</td>\n",
       "      <td> 2</td>\n",
       "      <td> 1</td>\n",
       "      <td> 2</td>\n",
       "      <td> 2</td>\n",
       "      <td> 2</td>\n",
       "      <td> 2</td>\n",
       "    </tr>\n",
       "  </tbody>\n",
       "</table>\n",
       "<p>5 rows × 6236 columns</p>\n",
       "</div>"
      ],
      "text/plain": [
       "                 10001  10003_chum_08_x1  10020  10029  10039  10043  \\\n",
       "CMUW10X08H_0002      1                 2      2      1      1      2   \n",
       "CMUW10X08H_0003      2                 1      2      2      1      1   \n",
       "CMUW10X08H_0005      2                 2      1      1      1      2   \n",
       "CMUW10X08H_0006      2                 2      2      1      2      1   \n",
       "CMUW10X08H_0011      1                 1      1      2      2      1   \n",
       "\n",
       "                 1004_chum_08_x1  10061  10068_chum_08_x1  10068_chum_08_x2  \\\n",
       "CMUW10X08H_0002                1      2                 1                 2   \n",
       "CMUW10X08H_0003                1      2                 2                 2   \n",
       "CMUW10X08H_0005                1      2                 1                 2   \n",
       "CMUW10X08H_0006                1      2                 2                 1   \n",
       "CMUW10X08H_0011                2      2                 1                 1   \n",
       "\n",
       "                       ...         Oke_lactb2-71  Oke_mgll-49  Oke_nc2b-148  \\\n",
       "CMUW10X08H_0002        ...                     2            1             2   \n",
       "CMUW10X08H_0003        ...                     2            2             2   \n",
       "CMUW10X08H_0005        ...                     1            2             1   \n",
       "CMUW10X08H_0006        ...                     1            2             1   \n",
       "CMUW10X08H_0011        ...                     1            1             2   \n",
       "\n",
       "                 Oke_pnrc2-78  Oke_sylc-90  Oke_thic-84  Oke_txnrd1-74  \\\n",
       "CMUW10X08H_0002             2            1            2              2   \n",
       "CMUW10X08H_0003             2            1            1              2   \n",
       "CMUW10X08H_0005             2            1            2              2   \n",
       "CMUW10X08H_0006             2            2            2              1   \n",
       "CMUW10X08H_0011             1            2            1              2   \n",
       "\n",
       "                 Oke_u0602-244  Oke_u217-172  Oke_zn593-152  \n",
       "CMUW10X08H_0002              1             1              2  \n",
       "CMUW10X08H_0003              2             1              1  \n",
       "CMUW10X08H_0005              2             2              2  \n",
       "CMUW10X08H_0006              1             2              2  \n",
       "CMUW10X08H_0011              2             2              2  \n",
       "\n",
       "[5 rows x 6236 columns]"
      ]
     },
     "execution_count": 9,
     "metadata": {},
     "output_type": "execute_result"
    }
   ],
   "source": [
    "renamed_08.head()"
   ]
  },
  {
   "cell_type": "code",
   "execution_count": 10,
   "metadata": {
    "collapsed": true
   },
   "outputs": [],
   "source": [
    "###### this should be moved inside function\n",
    "renamed_08t = renamed_08.transpose()\n",
    "renamed_01t = renamed_01.transpose()\n",
    "renamed_09t = renamed_09.transpose()"
   ]
  },
  {
   "cell_type": "code",
   "execution_count": 11,
   "metadata": {
    "collapsed": true
   },
   "outputs": [],
   "source": [
    "aa = pd.merge(left = renamed_08t, right = renamed_01t, how = 'outer', left_index =True, right_index =True)"
   ]
  },
  {
   "cell_type": "code",
   "execution_count": 13,
   "metadata": {
    "collapsed": false
   },
   "outputs": [],
   "source": [
    "bb = pd.merge(left = aa, right = renamed_09t, how = 'outer', left_index =True, right_index =True) \n",
    "###### end move into function"
   ]
  },
  {
   "cell_type": "code",
   "execution_count": 14,
   "metadata": {
    "collapsed": true
   },
   "outputs": [],
   "source": [
    "all_my_data, loci_all = prepare_matrix(bb.transpose())"
   ]
  },
  {
   "cell_type": "code",
   "execution_count": 17,
   "metadata": {
    "collapsed": true
   },
   "outputs": [],
   "source": [
    "def write_LEPmap(families, family_names, loci, genotypes, output_filename):\n",
    "    with open(output_filename, 'w') as OUTFILE:\n",
    "        header = \"\\t\".join([\"#family\", 'name', 'sire', 'dam', 'sex', 'blank'] + loci) + \"\\n\"\n",
    "        OUTFILE.write(header)\n",
    "        for fam_idx, fam in enumerate(families):\n",
    "            fam_name = family_names[fam_idx]\n",
    "            DAM_line = \"\\t\".join([fam_name, fam_name + \"_Dam\", '0', '0', '2', '0'] + ['1 1' for xx in loci]) + \"\\n\"\n",
    "            SIRE_line = \"\\t\".join([fam_name, fam_name + \"_Sire\", '0', '0', '1', '0'] + ['1 2' for xx in loci]) + \"\\n\"\n",
    "            OUTFILE.write(DAM_line)\n",
    "            OUTFILE.write(SIRE_line)\n",
    "            for ind in fam:\n",
    "                ind_info = \"\\t\".join([fam_name, ind, fam_name + \"_Sire\", fam_name + \"_Dam\", '0', '0'])\n",
    "                ind_genotypes = genotypes.loc[ind]\n",
    "                OUTFILE.write(ind_info + \"\\t\" + \"\\t\".join([str(xx) for xx in ind_genotypes]) + \"\\n\")"
   ]
  },
  {
   "cell_type": "code",
   "execution_count": 16,
   "metadata": {
    "collapsed": true
   },
   "outputs": [],
   "source": [
    "fams = [individuals_08, individuals_01, individuals_09]\n",
    "LEPmap_filename = os.path.join('linkage_map','LEPmap', 'with_paralogs', 'all_loci.lepmap2')"
   ]
  },
  {
   "cell_type": "code",
   "execution_count": null,
   "metadata": {
    "collapsed": true
   },
   "outputs": [],
   "source": [
    "my_genotypes = bb.transpose()\n",
    "my_genotypes = my_genotypes.replace(to_replace = [np.NaN, 0, 1, 2 ], value = ['0 0', '0 0', '1 1', '1 2'])"
   ]
  },
  {
   "cell_type": "code",
   "execution_count": 19,
   "metadata": {
    "collapsed": false
   },
   "outputs": [
    {
     "data": {
      "text/plain": [
       "(240, 12603)"
      ]
     },
     "execution_count": 19,
     "metadata": {},
     "output_type": "execute_result"
    }
   ],
   "source": [
    "my_genotypes.shape"
   ]
  },
  {
   "cell_type": "code",
   "execution_count": 26,
   "metadata": {
    "collapsed": false
   },
   "outputs": [
    {
     "data": {
      "text/plain": [
       "(246, 12522)"
      ]
     },
     "execution_count": 26,
     "metadata": {},
     "output_type": "execute_result"
    }
   ],
   "source": [
    "pd.read_csv(\"linkage_map/LEPmap/with_paralogs/all_loci.lepmap\", sep = '\\t').shape"
   ]
  },
  {
   "cell_type": "code",
   "execution_count": 18,
   "metadata": {
    "collapsed": true
   },
   "outputs": [],
   "source": [
    "write_LEPmap(families = fams, family_names = [\"fam_08\", \"fam_01\", \"fam_09\"], \n",
    "             loci = loci_all, genotypes = my_genotypes, output_filename = LEPmap_filename)"
   ]
  }
 ],
 "metadata": {
  "kernelspec": {
   "display_name": "Python 2",
   "language": "python",
   "name": "python2"
  },
  "language_info": {
   "codemirror_mode": {
    "name": "ipython",
    "version": 2
   },
   "file_extension": ".py",
   "mimetype": "text/x-python",
   "name": "python",
   "nbconvert_exporter": "python",
   "pygments_lexer": "ipython2",
   "version": "2.7.8"
  }
 },
 "nbformat": 4,
 "nbformat_minor": 0
}
