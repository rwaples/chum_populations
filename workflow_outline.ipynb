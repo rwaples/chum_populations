{
 "metadata": {
  "name": "",
  "signature": "sha256:166dbf244ef8fc75ff2661cbc75333fe0a976303f2681b7d16b2be5f0fb3f486"
 },
 "nbformat": 3,
 "nbformat_minor": 0,
 "worksheets": [
  {
   "cells": [
    {
     "cell_type": "markdown",
     "metadata": {},
     "source": [
      "Chum Populations Workflow\n",
      "========================="
     ]
    },
    {
     "cell_type": "markdown",
     "metadata": {},
     "source": [
      "Outline - each step is a separate notebook\n",
      "-------\n",
      "* genotype family data\n",
      "* resolve paralogs\n",
      "* construct linkage map\n",
      "* generate reference 'genome'\n",
      "* annotate refrence\n",
      "* align RADseq reads to reference\n",
      "* genotype population data\n",
      "* filter population data\n",
      "* analyze population data"
     ]
    },
    {
     "cell_type": "markdown",
     "metadata": {},
     "source": [
      "Inital data:\n",
      "--------------\n",
      "* families\n",
      "    * pedigree\n",
      "    * RADseq data\n",
      "* populations\n",
      "    * collection metadata\n",
      "    * RADseq data\n",
      "\n",
      "    "
     ]
    },
    {
     "cell_type": "markdown",
     "metadata": {},
     "source": [
      "Programs used:\n",
      "--------------\n",
      "* Genotyping\n",
      "    * Stacks\n",
      "    * FreeBayes\n",
      "* Linkage map construction\n",
      "    * MSTmap\n",
      "    * LEPmap\n",
      "* Population Genetics\n",
      "    * Stacks\n",
      "    * PLINK 1.9\n",
      "    * Multivariate stastistics (custom scripts)\n",
      "* Other\n",
      "    * BWA\n",
      "    * samtools\n",
      "    * Python, etc...\n",
      "    * R\n",
      "    \n",
      "    \n"
     ]
    },
    {
     "cell_type": "raw",
     "metadata": {},
     "source": []
    }
   ],
   "metadata": {}
  }
 ]
}