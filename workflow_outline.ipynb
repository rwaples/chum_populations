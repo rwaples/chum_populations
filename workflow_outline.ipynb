{
 "metadata": {
  "name": "",
  "signature": "sha256:a3df124d7999a7cab48610f2f20adfb335658bffbb251466cf50e2609c34c917"
 },
 "nbformat": 3,
 "nbformat_minor": 0,
 "worksheets": [
  {
   "cells": [
    {
     "cell_type": "markdown",
     "metadata": {},
     "source": [
      "Chum Populations Workflow\n",
      "========================="
     ]
    },
    {
     "cell_type": "markdown",
     "metadata": {},
     "source": [
      "Outline - each step is a separate notebook\n",
      "-------\n",
      "* genotype family data\n",
      "* resolve paralogs\n",
      "* construct linkage map\n",
      "* generate reference 'genome'\n",
      "* annotate refrence\n",
      "* align RADseq reads to reference\n",
      "* genotype population data\n",
      "* filter population data\n",
      "* analyze population data"
     ]
    },
    {
     "cell_type": "markdown",
     "metadata": {},
     "source": [
      "Inital data:\n",
      "--------------\n",
      "* families\n",
      "    * pedigree\n",
      "    * RADseq data\n",
      "* populations\n",
      "    * collection metadata\n",
      "    * RADseq data    "
     ]
    },
    {
     "cell_type": "markdown",
     "metadata": {},
     "source": [
      "Programs used:\n",
      "--------------\n",
      "* Genotyping\n",
      "    * Stacks\n",
      "    * FreeBayes\n",
      "* Linkage map construction\n",
      "    * MSTmap\n",
      "    * LEPmap\n",
      "* Population Genetics\n",
      "    * Stacks\n",
      "    * PLINK 1.9\n",
      "    * Multivariate stastistics (custom scripts)\n",
      "* Other\n",
      "    * BWA\n",
      "    * samtools\n",
      "    * Python, etc...\n",
      "    * R\n",
      "    \n",
      "    \n"
     ]
    },
    {
     "cell_type": "raw",
     "metadata": {},
     "source": []
    }
   ],
   "metadata": {}
  }
 ]
}