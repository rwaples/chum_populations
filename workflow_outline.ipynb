{
 "metadata": {
  "name": "",
  "signature": "sha256:23987a77db83adb9f435171daa2a6bc749ae0e6c1973bbc56aac9a399a77dba2"
 },
 "nbformat": 3,
 "nbformat_minor": 0,
 "worksheets": [
  {
   "cells": [
    {
     "cell_type": "markdown",
     "metadata": {},
     "source": [
      "# Chum Populations Workflow"
     ]
    },
    {
     "cell_type": "markdown",
     "metadata": {},
     "source": [
      "## Outline - each step is a separate notebook\n",
      "* genotype family data\n",
      "* resolve paralogs\n",
      "* construct linkage map\n",
      "* generate reference 'genome'\n",
      "* annotate refrence\n",
      "* align RADseq reads to reference\n",
      "* genotype population data\n",
      "* filter population data\n",
      "* analyze population data"
     ]
    },
    {
     "cell_type": "markdown",
     "metadata": {},
     "source": [
      "## Inital data:\n",
      "* families\n",
      "    * pedigree\n",
      "    * RADseq data\n",
      "* populations\n",
      "    * collection metadata\n",
      "    * RADseq data"
     ]
    },
    {
     "cell_type": "markdown",
     "metadata": {},
     "source": [
      "Programs used:\n",
      "--------------\n",
      "* Genotyping\n",
      "    * Stacks\n",
      "    * FreeBayes\n",
      "* Linkage map construction\n",
      "    * MSTmap\n",
      "    * LEPmap\n",
      "* Population Genetics\n",
      "    * Stacks\n",
      "    * PLINK 1.9\n",
      "    * Multivariate stastistics (custom scripts)\n",
      "* Other\n",
      "    * BWA\n",
      "    * samtools\n",
      "    * Python, etc...\n",
      "    * R\n",
      "    \n",
      "    \n"
     ]
    },
    {
     "cell_type": "raw",
     "metadata": {},
     "source": []
    }
   ],
   "metadata": {}
  }
 ]
}