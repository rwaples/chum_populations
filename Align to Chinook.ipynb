{
 "cells": [
  {
   "cell_type": "markdown",
   "metadata": {},
   "source": [
    "## Align to Chinook"
   ]
  },
  {
   "cell_type": "code",
   "execution_count": 37,
   "metadata": {
    "collapsed": false
   },
   "outputs": [],
   "source": [
    "import os.path\n",
    "import numpy as np\n",
    "import pandas as pd\n",
    "from IPython.core.pylabtools import figsize\n",
    "import matplotlib.pyplot as plt\n",
    "import seaborn as sns\n",
    "sns.set(font_scale=2)\n",
    "sns.set_style(\"white\")\n",
    "%matplotlib inline"
   ]
  },
  {
   "cell_type": "code",
   "execution_count": 38,
   "metadata": {
    "collapsed": false
   },
   "outputs": [
    {
     "data": {
      "text/html": [
       "<div style=\"max-height:1000px;max-width:1500px;overflow:auto;\">\n",
       "<table border=\"1\" class=\"dataframe\">\n",
       "  <thead>\n",
       "    <tr style=\"text-align: right;\">\n",
       "      <th></th>\n",
       "      <th>Locus</th>\n",
       "      <th>Chromosome</th>\n",
       "      <th>Duplicate</th>\n",
       "      <th>Arm</th>\n",
       "      <th>Position (cM)</th>\n",
       "      <th>Region of population divergence</th>\n",
       "      <th>Paired-end annotation</th>\n",
       "      <th>Locus name from Larson et al. 2014</th>\n",
       "      <th>Outlier from Larson et al. 2014</th>\n",
       "      <th>Consensus Sequence</th>\n",
       "    </tr>\n",
       "  </thead>\n",
       "  <tbody>\n",
       "    <tr>\n",
       "      <th>0</th>\n",
       "      <td> 44207_x1</td>\n",
       "      <td> Ots01</td>\n",
       "      <td> 1</td>\n",
       "      <td> p</td>\n",
       "      <td> 0.00</td>\n",
       "      <td> 0</td>\n",
       "      <td>  NaN</td>\n",
       "      <td>NaN</td>\n",
       "      <td>NaN</td>\n",
       "      <td> TGCAGGTGTCTGCAAAAAAACACTCCCCTCCCTAGTTCTCCATATG...</td>\n",
       "    </tr>\n",
       "    <tr>\n",
       "      <th>1</th>\n",
       "      <td> 28051_x1</td>\n",
       "      <td> Ots01</td>\n",
       "      <td> 1</td>\n",
       "      <td> p</td>\n",
       "      <td> 0.55</td>\n",
       "      <td> 0</td>\n",
       "      <td>  NaN</td>\n",
       "      <td>NaN</td>\n",
       "      <td>NaN</td>\n",
       "      <td> TGCAGGCACCTGGACAGCCACAAGGAGTCGCTAGATTGTGATGAGC...</td>\n",
       "    </tr>\n",
       "    <tr>\n",
       "      <th>2</th>\n",
       "      <td>  6689_x1</td>\n",
       "      <td> Ots01</td>\n",
       "      <td> 1</td>\n",
       "      <td> p</td>\n",
       "      <td> 0.55</td>\n",
       "      <td> 0</td>\n",
       "      <td>  NaN</td>\n",
       "      <td>NaN</td>\n",
       "      <td>NaN</td>\n",
       "      <td> TGCAGGGAGAAACTTTGTAGTGGGGTGAAAAGAGGGAGAAGCATCG...</td>\n",
       "    </tr>\n",
       "    <tr>\n",
       "      <th>3</th>\n",
       "      <td> 59778_x1</td>\n",
       "      <td> Ots01</td>\n",
       "      <td> 1</td>\n",
       "      <td> p</td>\n",
       "      <td> 0.55</td>\n",
       "      <td> 0</td>\n",
       "      <td>  NaN</td>\n",
       "      <td>NaN</td>\n",
       "      <td>NaN</td>\n",
       "      <td> TGCAGGATATTAATGCAGGTAAGAAGAAATGGCTTTTAAATGTTTT...</td>\n",
       "    </tr>\n",
       "    <tr>\n",
       "      <th>4</th>\n",
       "      <td> 38781_x1</td>\n",
       "      <td> Ots01</td>\n",
       "      <td> 1</td>\n",
       "      <td> p</td>\n",
       "      <td> 0.55</td>\n",
       "      <td> 0</td>\n",
       "      <td> PRTG</td>\n",
       "      <td>NaN</td>\n",
       "      <td>NaN</td>\n",
       "      <td> TGCAGGAAGGGTCCTCTGGTGGACAACAGAACTCCAGGGACTGGAC...</td>\n",
       "    </tr>\n",
       "  </tbody>\n",
       "</table>\n",
       "</div>"
      ],
      "text/plain": [
       "      Locus Chromosome  Duplicate Arm  Position (cM)  \\\n",
       "0  44207_x1      Ots01          1   p           0.00   \n",
       "1  28051_x1      Ots01          1   p           0.55   \n",
       "2   6689_x1      Ots01          1   p           0.55   \n",
       "3  59778_x1      Ots01          1   p           0.55   \n",
       "4  38781_x1      Ots01          1   p           0.55   \n",
       "\n",
       "   Region of population divergence Paired-end annotation  \\\n",
       "0                                0                   NaN   \n",
       "1                                0                   NaN   \n",
       "2                                0                   NaN   \n",
       "3                                0                   NaN   \n",
       "4                                0                  PRTG   \n",
       "\n",
       "   Locus name from Larson et al. 2014  Outlier from Larson et al. 2014  \\\n",
       "0                                 NaN                              NaN   \n",
       "1                                 NaN                              NaN   \n",
       "2                                 NaN                              NaN   \n",
       "3                                 NaN                              NaN   \n",
       "4                                 NaN                              NaN   \n",
       "\n",
       "                                  Consensus Sequence  \n",
       "0  TGCAGGTGTCTGCAAAAAAACACTCCCCTCCCTAGTTCTCCATATG...  \n",
       "1  TGCAGGCACCTGGACAGCCACAAGGAGTCGCTAGATTGTGATGAGC...  \n",
       "2  TGCAGGGAGAAACTTTGTAGTGGGGTGAAAAGAGGGAGAAGCATCG...  \n",
       "3  TGCAGGATATTAATGCAGGTAAGAAGAAATGGCTTTTAAATGTTTT...  \n",
       "4  TGCAGGAAGGGTCCTCTGGTGGACAACAGAACTCCAGGGACTGGAC...  "
      ]
     },
     "execution_count": 38,
     "metadata": {},
     "output_type": "execute_result"
    }
   ],
   "source": [
    "chin_ex = pd.read_excel(os.path.join('data','ref','chinook','Supplemental Table 1.xlsx'))\n",
    "chin_ex.head()"
   ]
  },
  {
   "cell_type": "code",
   "execution_count": 39,
   "metadata": {
    "collapsed": false
   },
   "outputs": [
    {
     "data": {
      "text/html": [
       "<div style=\"max-height:1000px;max-width:1500px;overflow:auto;\">\n",
       "<table border=\"1\" class=\"dataframe\">\n",
       "  <thead>\n",
       "    <tr style=\"text-align: right;\">\n",
       "      <th></th>\n",
       "      <th>Locus</th>\n",
       "      <th>Consensus Sequence</th>\n",
       "      <th>Locus_basename</th>\n",
       "    </tr>\n",
       "  </thead>\n",
       "  <tbody>\n",
       "    <tr>\n",
       "      <th>0</th>\n",
       "      <td> 44207_x1</td>\n",
       "      <td> TGCAGGTGTCTGCAAAAAAACACTCCCCTCCCTAGTTCTCCATATG...</td>\n",
       "      <td> 44207</td>\n",
       "    </tr>\n",
       "    <tr>\n",
       "      <th>1</th>\n",
       "      <td> 28051_x1</td>\n",
       "      <td> TGCAGGCACCTGGACAGCCACAAGGAGTCGCTAGATTGTGATGAGC...</td>\n",
       "      <td> 28051</td>\n",
       "    </tr>\n",
       "    <tr>\n",
       "      <th>2</th>\n",
       "      <td>  6689_x1</td>\n",
       "      <td> TGCAGGGAGAAACTTTGTAGTGGGGTGAAAAGAGGGAGAAGCATCG...</td>\n",
       "      <td>  6689</td>\n",
       "    </tr>\n",
       "    <tr>\n",
       "      <th>3</th>\n",
       "      <td> 59778_x1</td>\n",
       "      <td> TGCAGGATATTAATGCAGGTAAGAAGAAATGGCTTTTAAATGTTTT...</td>\n",
       "      <td> 59778</td>\n",
       "    </tr>\n",
       "    <tr>\n",
       "      <th>4</th>\n",
       "      <td> 38781_x1</td>\n",
       "      <td> TGCAGGAAGGGTCCTCTGGTGGACAACAGAACTCCAGGGACTGGAC...</td>\n",
       "      <td> 38781</td>\n",
       "    </tr>\n",
       "  </tbody>\n",
       "</table>\n",
       "</div>"
      ],
      "text/plain": [
       "      Locus                                 Consensus Sequence Locus_basename\n",
       "0  44207_x1  TGCAGGTGTCTGCAAAAAAACACTCCCCTCCCTAGTTCTCCATATG...          44207\n",
       "1  28051_x1  TGCAGGCACCTGGACAGCCACAAGGAGTCGCTAGATTGTGATGAGC...          28051\n",
       "2   6689_x1  TGCAGGGAGAAACTTTGTAGTGGGGTGAAAAGAGGGAGAAGCATCG...           6689\n",
       "3  59778_x1  TGCAGGATATTAATGCAGGTAAGAAGAAATGGCTTTTAAATGTTTT...          59778\n",
       "4  38781_x1  TGCAGGAAGGGTCCTCTGGTGGACAACAGAACTCCAGGGACTGGAC...          38781"
      ]
     },
     "execution_count": 39,
     "metadata": {},
     "output_type": "execute_result"
    }
   ],
   "source": [
    "chin_ex = chin_ex[['Locus', 'Consensus Sequence']]\n",
    "chin_ex['Locus_basename'] = [xx.split('_')[0] for xx in chin_ex['Locus'] ]\n",
    "chin_ex.head()"
   ]
  },
  {
   "cell_type": "markdown",
   "metadata": {},
   "source": [
    "drop duplicates, checking with locus basename and sequence"
   ]
  },
  {
   "cell_type": "code",
   "execution_count": 40,
   "metadata": {
    "collapsed": false
   },
   "outputs": [],
   "source": [
    "chin_ex.drop_duplicates(subset = ['Locus_basename', 'Consensus Sequence'], inplace = True)"
   ]
  },
  {
   "cell_type": "markdown",
   "metadata": {},
   "source": [
    "check that each locus is now present only once"
   ]
  },
  {
   "cell_type": "code",
   "execution_count": 41,
   "metadata": {
    "collapsed": false
   },
   "outputs": [
    {
     "data": {
      "text/plain": [
       "True"
      ]
     },
     "execution_count": 41,
     "metadata": {},
     "output_type": "execute_result"
    }
   ],
   "source": [
    "len(set(chin_ex['Locus_basename'])) == len(chin_ex['Locus_basename'])"
   ]
  },
  {
   "cell_type": "code",
   "execution_count": 44,
   "metadata": {
    "collapsed": false
   },
   "outputs": [],
   "source": [
    "with open(os.path.join('data','ref','chinook','chin_ref.fasta'), 'w') as OUTFILE:\n",
    "    count = 0\n",
    "    for index,  locus_row in chin_ex.iterrows():\n",
    "        \n",
    "        OUTFILE.write('>{}\\n{}\\n'.format(locus_row['Locus_basename'], locus_row['Consensus Sequence']))"
   ]
  },
  {
   "cell_type": "markdown",
   "metadata": {},
   "source": [
    "### Align chum loci to chinook loci using bowtie 2 "
   ]
  },
  {
   "cell_type": "code",
   "execution_count": 45,
   "metadata": {
    "collapsed": true
   },
   "outputs": [],
   "source": [
    "chin_FASTA = os.path.join('data','ref','chinook','chin_ref.fasta')"
   ]
  },
  {
   "cell_type": "code",
   "execution_count": 46,
   "metadata": {
    "collapsed": false
   },
   "outputs": [
    {
     "name": "stdout",
     "output_type": "stream",
     "text": [
      "bowtie2-build data\\ref\\chinook\\chin_ref.fasta salmo\n"
     ]
    }
   ],
   "source": [
    "print('bowtie2-build {} chinook'.format(chin_FASTA))"
   ]
  },
  {
   "cell_type": "markdown",
   "metadata": {},
   "source": [
    "chum ref"
   ]
  },
  {
   "cell_type": "code",
   "execution_count": null,
   "metadata": {
    "collapsed": true
   },
   "outputs": [],
   "source": [
    "chum_ref = '/media/Shared/Data/chum/populations/ref/paper_1/chum_paper_1_ref.CURATED.fasta'"
   ]
  },
  {
   "cell_type": "markdown",
   "metadata": {},
   "source": [
    "align"
   ]
  },
  {
   "cell_type": "code",
   "execution_count": null,
   "metadata": {
    "collapsed": true
   },
   "outputs": [],
   "source": [
    "SAM_output = '/home/ipseg/Desktop/waples/chum_populations/results/batch_4/synteny/to_chinook.SAM'\n",
    "filtered_SAM_output = '/home/ipseg/Desktop/waples/chum_populations/results/batch_4/synteny/to_chinook.filtered.SAM'"
   ]
  },
  {
   "cell_type": "code",
   "execution_count": null,
   "metadata": {
    "collapsed": true
   },
   "outputs": [],
   "source": [
    "run bowtie 2\n",
    "\n",
    "check directories here"
   ]
  },
  {
   "cell_type": "code",
   "execution_count": null,
   "metadata": {
    "collapsed": true
   },
   "outputs": [],
   "source": [
    "print('bowtie2 -f --local --very-sensitive -p 4 -x /home/ipseg/Data/chinook/chinook -U {} -S {}'.format(chum_ref, SAM_output))"
   ]
  }
 ],
 "metadata": {
  "kernelspec": {
   "display_name": "Python 2",
   "language": "python",
   "name": "python2"
  },
  "language_info": {
   "codemirror_mode": {
    "name": "ipython",
    "version": 2
   },
   "file_extension": ".py",
   "mimetype": "text/x-python",
   "name": "python",
   "nbconvert_exporter": "python",
   "pygments_lexer": "ipython2",
   "version": "2.7.8"
  }
 },
 "nbformat": 4,
 "nbformat_minor": 0
}
