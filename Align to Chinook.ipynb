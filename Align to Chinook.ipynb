{
 "cells": [
  {
   "cell_type": "markdown",
   "metadata": {},
   "source": [
    "## Align to Chinook"
   ]
  },
  {
   "cell_type": "code",
   "execution_count": 109,
   "metadata": {
    "collapsed": false
   },
   "outputs": [],
   "source": [
    "import pysam\n",
    "import os.path\n",
    "import numpy as np\n",
    "import pandas as pd\n",
    "from IPython.core.pylabtools import figsize\n",
    "import matplotlib.pyplot as plt\n",
    "import seaborn as sns\n",
    "sns.set(font_scale=2)\n",
    "sns.set_style(\"white\")\n",
    "%matplotlib inline"
   ]
  },
  {
   "cell_type": "code",
   "execution_count": 110,
   "metadata": {
    "collapsed": false
   },
   "outputs": [
    {
     "data": {
      "text/html": [
       "<div style=\"max-height:1000px;max-width:1500px;overflow:auto;\">\n",
       "<table border=\"1\" class=\"dataframe\">\n",
       "  <thead>\n",
       "    <tr style=\"text-align: right;\">\n",
       "      <th></th>\n",
       "      <th>Locus</th>\n",
       "      <th>Chromosome</th>\n",
       "      <th>Duplicate</th>\n",
       "      <th>Arm</th>\n",
       "      <th>Position (cM)</th>\n",
       "      <th>Region of population divergence</th>\n",
       "      <th>Paired-end annotation</th>\n",
       "      <th>Locus name from Larson et al. 2014</th>\n",
       "      <th>Outlier from Larson et al. 2014</th>\n",
       "      <th>Consensus Sequence</th>\n",
       "    </tr>\n",
       "  </thead>\n",
       "  <tbody>\n",
       "    <tr>\n",
       "      <th>0</th>\n",
       "      <td>44207_x1</td>\n",
       "      <td>Ots01</td>\n",
       "      <td>1</td>\n",
       "      <td>p</td>\n",
       "      <td>0.00</td>\n",
       "      <td>0</td>\n",
       "      <td>NaN</td>\n",
       "      <td>NaN</td>\n",
       "      <td>NaN</td>\n",
       "      <td>TGCAGGTGTCTGCAAAAAAACACTCCCCTCCCTAGTTCTCCATATG...</td>\n",
       "    </tr>\n",
       "    <tr>\n",
       "      <th>1</th>\n",
       "      <td>28051_x1</td>\n",
       "      <td>Ots01</td>\n",
       "      <td>1</td>\n",
       "      <td>p</td>\n",
       "      <td>0.55</td>\n",
       "      <td>0</td>\n",
       "      <td>NaN</td>\n",
       "      <td>NaN</td>\n",
       "      <td>NaN</td>\n",
       "      <td>TGCAGGCACCTGGACAGCCACAAGGAGTCGCTAGATTGTGATGAGC...</td>\n",
       "    </tr>\n",
       "    <tr>\n",
       "      <th>2</th>\n",
       "      <td>6689_x1</td>\n",
       "      <td>Ots01</td>\n",
       "      <td>1</td>\n",
       "      <td>p</td>\n",
       "      <td>0.55</td>\n",
       "      <td>0</td>\n",
       "      <td>NaN</td>\n",
       "      <td>NaN</td>\n",
       "      <td>NaN</td>\n",
       "      <td>TGCAGGGAGAAACTTTGTAGTGGGGTGAAAAGAGGGAGAAGCATCG...</td>\n",
       "    </tr>\n",
       "    <tr>\n",
       "      <th>3</th>\n",
       "      <td>59778_x1</td>\n",
       "      <td>Ots01</td>\n",
       "      <td>1</td>\n",
       "      <td>p</td>\n",
       "      <td>0.55</td>\n",
       "      <td>0</td>\n",
       "      <td>NaN</td>\n",
       "      <td>NaN</td>\n",
       "      <td>NaN</td>\n",
       "      <td>TGCAGGATATTAATGCAGGTAAGAAGAAATGGCTTTTAAATGTTTT...</td>\n",
       "    </tr>\n",
       "    <tr>\n",
       "      <th>4</th>\n",
       "      <td>38781_x1</td>\n",
       "      <td>Ots01</td>\n",
       "      <td>1</td>\n",
       "      <td>p</td>\n",
       "      <td>0.55</td>\n",
       "      <td>0</td>\n",
       "      <td>PRTG</td>\n",
       "      <td>NaN</td>\n",
       "      <td>NaN</td>\n",
       "      <td>TGCAGGAAGGGTCCTCTGGTGGACAACAGAACTCCAGGGACTGGAC...</td>\n",
       "    </tr>\n",
       "  </tbody>\n",
       "</table>\n",
       "</div>"
      ],
      "text/plain": [
       "      Locus Chromosome  Duplicate Arm  Position (cM)  \\\n",
       "0  44207_x1      Ots01          1   p           0.00   \n",
       "1  28051_x1      Ots01          1   p           0.55   \n",
       "2   6689_x1      Ots01          1   p           0.55   \n",
       "3  59778_x1      Ots01          1   p           0.55   \n",
       "4  38781_x1      Ots01          1   p           0.55   \n",
       "\n",
       "   Region of population divergence Paired-end annotation  \\\n",
       "0                                0                   NaN   \n",
       "1                                0                   NaN   \n",
       "2                                0                   NaN   \n",
       "3                                0                   NaN   \n",
       "4                                0                  PRTG   \n",
       "\n",
       "   Locus name from Larson et al. 2014  Outlier from Larson et al. 2014  \\\n",
       "0                                 NaN                              NaN   \n",
       "1                                 NaN                              NaN   \n",
       "2                                 NaN                              NaN   \n",
       "3                                 NaN                              NaN   \n",
       "4                                 NaN                              NaN   \n",
       "\n",
       "                                  Consensus Sequence  \n",
       "0  TGCAGGTGTCTGCAAAAAAACACTCCCCTCCCTAGTTCTCCATATG...  \n",
       "1  TGCAGGCACCTGGACAGCCACAAGGAGTCGCTAGATTGTGATGAGC...  \n",
       "2  TGCAGGGAGAAACTTTGTAGTGGGGTGAAAAGAGGGAGAAGCATCG...  \n",
       "3  TGCAGGATATTAATGCAGGTAAGAAGAAATGGCTTTTAAATGTTTT...  \n",
       "4  TGCAGGAAGGGTCCTCTGGTGGACAACAGAACTCCAGGGACTGGAC...  "
      ]
     },
     "execution_count": 110,
     "metadata": {},
     "output_type": "execute_result"
    }
   ],
   "source": [
    "chin_ex = pd.read_excel(os.path.join('data','ref','chinook','Supplemental Table 1.xlsx'))\n",
    "chin_ex.head()"
   ]
  },
  {
   "cell_type": "code",
   "execution_count": 111,
   "metadata": {
    "collapsed": false
   },
   "outputs": [
    {
     "data": {
      "text/html": [
       "<div style=\"max-height:1000px;max-width:1500px;overflow:auto;\">\n",
       "<table border=\"1\" class=\"dataframe\">\n",
       "  <thead>\n",
       "    <tr style=\"text-align: right;\">\n",
       "      <th></th>\n",
       "      <th>Locus</th>\n",
       "      <th>Consensus Sequence</th>\n",
       "      <th>Chromosome</th>\n",
       "      <th>Position (cM)</th>\n",
       "      <th>Locus_basename</th>\n",
       "    </tr>\n",
       "  </thead>\n",
       "  <tbody>\n",
       "    <tr>\n",
       "      <th>0</th>\n",
       "      <td>44207_x1</td>\n",
       "      <td>TGCAGGTGTCTGCAAAAAAACACTCCCCTCCCTAGTTCTCCATATG...</td>\n",
       "      <td>Ots01</td>\n",
       "      <td>0.00</td>\n",
       "      <td>44207</td>\n",
       "    </tr>\n",
       "    <tr>\n",
       "      <th>1</th>\n",
       "      <td>28051_x1</td>\n",
       "      <td>TGCAGGCACCTGGACAGCCACAAGGAGTCGCTAGATTGTGATGAGC...</td>\n",
       "      <td>Ots01</td>\n",
       "      <td>0.55</td>\n",
       "      <td>28051</td>\n",
       "    </tr>\n",
       "    <tr>\n",
       "      <th>2</th>\n",
       "      <td>6689_x1</td>\n",
       "      <td>TGCAGGGAGAAACTTTGTAGTGGGGTGAAAAGAGGGAGAAGCATCG...</td>\n",
       "      <td>Ots01</td>\n",
       "      <td>0.55</td>\n",
       "      <td>6689</td>\n",
       "    </tr>\n",
       "    <tr>\n",
       "      <th>3</th>\n",
       "      <td>59778_x1</td>\n",
       "      <td>TGCAGGATATTAATGCAGGTAAGAAGAAATGGCTTTTAAATGTTTT...</td>\n",
       "      <td>Ots01</td>\n",
       "      <td>0.55</td>\n",
       "      <td>59778</td>\n",
       "    </tr>\n",
       "    <tr>\n",
       "      <th>4</th>\n",
       "      <td>38781_x1</td>\n",
       "      <td>TGCAGGAAGGGTCCTCTGGTGGACAACAGAACTCCAGGGACTGGAC...</td>\n",
       "      <td>Ots01</td>\n",
       "      <td>0.55</td>\n",
       "      <td>38781</td>\n",
       "    </tr>\n",
       "  </tbody>\n",
       "</table>\n",
       "</div>"
      ],
      "text/plain": [
       "      Locus                                 Consensus Sequence Chromosome  \\\n",
       "0  44207_x1  TGCAGGTGTCTGCAAAAAAACACTCCCCTCCCTAGTTCTCCATATG...      Ots01   \n",
       "1  28051_x1  TGCAGGCACCTGGACAGCCACAAGGAGTCGCTAGATTGTGATGAGC...      Ots01   \n",
       "2   6689_x1  TGCAGGGAGAAACTTTGTAGTGGGGTGAAAAGAGGGAGAAGCATCG...      Ots01   \n",
       "3  59778_x1  TGCAGGATATTAATGCAGGTAAGAAGAAATGGCTTTTAAATGTTTT...      Ots01   \n",
       "4  38781_x1  TGCAGGAAGGGTCCTCTGGTGGACAACAGAACTCCAGGGACTGGAC...      Ots01   \n",
       "\n",
       "   Position (cM) Locus_basename  \n",
       "0           0.00          44207  \n",
       "1           0.55          28051  \n",
       "2           0.55           6689  \n",
       "3           0.55          59778  \n",
       "4           0.55          38781  "
      ]
     },
     "execution_count": 111,
     "metadata": {},
     "output_type": "execute_result"
    }
   ],
   "source": [
    "chin_ex = chin_ex[['Locus', 'Consensus Sequence', 'Chromosome', 'Position (cM)']]\n",
    "chin_ex['Locus_basename'] = [xx.split('_')[0] for xx in chin_ex['Locus'] ]\n",
    "chin_ex.head()"
   ]
  },
  {
   "cell_type": "markdown",
   "metadata": {},
   "source": [
    "drop duplicates, checking with locus basename and sequence"
   ]
  },
  {
   "cell_type": "code",
   "execution_count": 112,
   "metadata": {
    "collapsed": false
   },
   "outputs": [],
   "source": [
    "chin_ex.drop_duplicates(subset = ['Locus_basename', 'Consensus Sequence'], inplace = True)"
   ]
  },
  {
   "cell_type": "markdown",
   "metadata": {},
   "source": [
    "check that each locus is now present only once"
   ]
  },
  {
   "cell_type": "code",
   "execution_count": 113,
   "metadata": {
    "collapsed": false
   },
   "outputs": [
    {
     "data": {
      "text/plain": [
       "True"
      ]
     },
     "execution_count": 113,
     "metadata": {},
     "output_type": "execute_result"
    }
   ],
   "source": [
    "len(set(chin_ex['Locus_basename'])) == len(chin_ex['Locus_basename'])"
   ]
  },
  {
   "cell_type": "code",
   "execution_count": 114,
   "metadata": {
    "collapsed": false
   },
   "outputs": [],
   "source": [
    "with open(os.path.join('data','ref','chinook','chin_ref.fasta'), 'w') as OUTFILE:\n",
    "    count = 0\n",
    "    for index,  locus_row in chin_ex.iterrows():\n",
    "        \n",
    "        OUTFILE.write('>{}\\n{}\\n'.format(locus_row['Locus_basename'], locus_row['Consensus Sequence']))"
   ]
  },
  {
   "cell_type": "markdown",
   "metadata": {},
   "source": [
    "### Align chum loci to chinook loci using bowtie 2 "
   ]
  },
  {
   "cell_type": "code",
   "execution_count": 115,
   "metadata": {
    "collapsed": true
   },
   "outputs": [],
   "source": [
    "chin_FASTA = 'chin_ref.fasta'"
   ]
  },
  {
   "cell_type": "code",
   "execution_count": 116,
   "metadata": {
    "collapsed": false
   },
   "outputs": [
    {
     "name": "stdout",
     "output_type": "stream",
     "text": [
      "bowtie2-build chin_ref.fasta chinook\n"
     ]
    }
   ],
   "source": [
    "print('bowtie2-build {} chinook'.format(chin_FASTA))"
   ]
  },
  {
   "cell_type": "markdown",
   "metadata": {},
   "source": [
    "chum ref"
   ]
  },
  {
   "cell_type": "code",
   "execution_count": 117,
   "metadata": {
    "collapsed": true
   },
   "outputs": [],
   "source": [
    "chum_ref = '/media/Shared/Data/chum/populations/ref/paper_1/chum_paper_1_ref.CURATED.fasta'"
   ]
  },
  {
   "cell_type": "markdown",
   "metadata": {},
   "source": [
    "align"
   ]
  },
  {
   "cell_type": "code",
   "execution_count": 118,
   "metadata": {
    "collapsed": true
   },
   "outputs": [],
   "source": [
    "SAM_output = '/home/ipseg/Desktop/waples/chum_populations/results/batch_4/synteny/to_chinook.SAM'\n",
    "filtered_SAM_output = '/home/ipseg/Desktop/waples/chum_populations/results/batch_4/synteny/to_chinook.filtered.SAM'"
   ]
  },
  {
   "cell_type": "markdown",
   "metadata": {
    "collapsed": true
   },
   "source": [
    "run bowtie 2\n",
    "\n",
    "check directories here"
   ]
  },
  {
   "cell_type": "code",
   "execution_count": 119,
   "metadata": {
    "collapsed": false
   },
   "outputs": [
    {
     "name": "stdout",
     "output_type": "stream",
     "text": [
      "bowtie2 -f --local --very-sensitive -p 4 -x /home/ipseg/Desktop/waples/chum_populations/data/ref/chinook/chinook -U /media/Shared/Data/chum/populations/ref/paper_1/chum_paper_1_ref.CURATED.fasta -S /home/ipseg/Desktop/waples/chum_populations/results/batch_4/synteny/to_chinook.SAM\n"
     ]
    }
   ],
   "source": [
    "print('bowtie2 -f --local --very-sensitive -p 4 -x /home/ipseg/Desktop/waples/chum_populations/data/ref/chinook/chinook -U {} -S {}'.format(chum_ref, SAM_output))"
   ]
  },
  {
   "cell_type": "markdown",
   "metadata": {},
   "source": [
    "#### Examine reference"
   ]
  },
  {
   "cell_type": "code",
   "execution_count": 120,
   "metadata": {
    "collapsed": true
   },
   "outputs": [],
   "source": [
    "def get_aligns():\n",
    "    return(pysam.AlignmentFile(SAM_output, \"r\").fetch())"
   ]
  },
  {
   "cell_type": "code",
   "execution_count": 121,
   "metadata": {
    "collapsed": true
   },
   "outputs": [],
   "source": [
    "### Mapping quality"
   ]
  },
  {
   "cell_type": "code",
   "execution_count": 122,
   "metadata": {
    "collapsed": true
   },
   "outputs": [],
   "source": [
    "mpqs = [read.mapping_quality for read in get_aligns()]"
   ]
  },
  {
   "cell_type": "code",
   "execution_count": 123,
   "metadata": {
    "collapsed": false
   },
   "outputs": [
    {
     "data": {
      "image/png": "[encoded data removed]",
      "text/plain": [
       "<matplotlib.figure.Figure at 0x7ff88d0f2450>"
      ]
     },
     "metadata": {},
     "output_type": "display_data"
    },
    {
     "data": {
      "image/png": "[encoded data removed]",
      "text/plain": [
       "<matplotlib.figure.Figure at 0x7ff88d0f2910>"
      ]
     },
     "metadata": {},
     "output_type": "display_data"
    }
   ],
   "source": [
    "plt.hist(mpqs, bins = 20)\n",
    "plt.xlabel('Mapping quality')\n",
    "plt.ylabel('count')\n",
    "plt.title('')\n",
    "plt.show()\n",
    "\n",
    "plt.hist(mpqs, bins = 20)\n",
    "plt.xlabel('Mapping quality')\n",
    "plt.ylabel('count')\n",
    "plt.title('')\n",
    "plt.xlim(2)\n",
    "plt.ylim(0, 10000)\n",
    "plt.show()"
   ]
  },
  {
   "cell_type": "markdown",
   "metadata": {},
   "source": [
    "### As expected, there is strand bias"
   ]
  },
  {
   "cell_type": "code",
   "execution_count": 124,
   "metadata": {
    "collapsed": false
   },
   "outputs": [
    {
     "data": {
      "image/png": "[encoded data removed]",
      "text/plain": [
       "<matplotlib.figure.Figure at 0x7ff888c57cd0>"
      ]
     },
     "metadata": {},
     "output_type": "display_data"
    }
   ],
   "source": [
    "flags  = [read.flag for read in get_aligns()]\n",
    "figsize(5,5)\n",
    "plt.hist(flags, bins = 16)\n",
    "plt.show()"
   ]
  },
  {
   "cell_type": "markdown",
   "metadata": {},
   "source": [
    "### Alignment lengths"
   ]
  },
  {
   "cell_type": "code",
   "execution_count": 125,
   "metadata": {
    "collapsed": false
   },
   "outputs": [
    {
     "data": {
      "image/png": "[encoded data removed]",
      "text/plain": [
       "<matplotlib.figure.Figure at 0x7ff8896bb250>"
      ]
     },
     "metadata": {},
     "output_type": "display_data"
    }
   ],
   "source": [
    "qal =  [read.query_alignment_length for read in get_aligns()]\n",
    "plt.hist(qal)\n",
    "plt.show()"
   ]
  },
  {
   "cell_type": "markdown",
   "metadata": {},
   "source": [
    "### Edit distances"
   ]
  },
  {
   "cell_type": "code",
   "execution_count": 126,
   "metadata": {
    "collapsed": true
   },
   "outputs": [],
   "source": [
    "edit_distances = list()\n",
    "mq = list()\n",
    "for read in get_aligns():\n",
    "    try:\n",
    "        edit_distances.append(np.int(read.get_tag('XM')))\n",
    "        mq.append(np.int(read.mapping_quality))\n",
    "    except KeyError:\n",
    "        pass"
   ]
  },
  {
   "cell_type": "code",
   "execution_count": 127,
   "metadata": {
    "collapsed": false
   },
   "outputs": [
    {
     "data": {
      "image/png": "[encoded data removed]",
      "text/plain": [
       "<matplotlib.figure.Figure at 0x7ff88d2abd50>"
      ]
     },
     "metadata": {},
     "output_type": "display_data"
    }
   ],
   "source": [
    "plt.hist(edit_distances)\n",
    "plt.show()"
   ]
  },
  {
   "cell_type": "markdown",
   "metadata": {},
   "source": [
    "### Edit distance vs Mapping quality"
   ]
  },
  {
   "cell_type": "code",
   "execution_count": 128,
   "metadata": {
    "collapsed": true
   },
   "outputs": [],
   "source": [
    "rr = pd.DataFrame({'ed' : edit_distances, 'mq' : mq })"
   ]
  },
  {
   "cell_type": "code",
   "execution_count": 129,
   "metadata": {
    "collapsed": false
   },
   "outputs": [
    {
     "data": {
      "image/png": "[encoded data removed]",
      "text/plain": [
       "<matplotlib.figure.Figure at 0x7ff8889df390>"
      ]
     },
     "metadata": {},
     "output_type": "display_data"
    }
   ],
   "source": [
    "sns.kdeplot(rr, cmap=\"Blues\", shade = True, legend = True)\n",
    "plt.show()"
   ]
  },
  {
   "cell_type": "markdown",
   "metadata": {},
   "source": [
    "#### Lets keep only the alignments with:\n",
    "(query_alignment_length >= 93) AND (mapping_quality >= 30)"
   ]
  },
  {
   "cell_type": "code",
   "execution_count": 130,
   "metadata": {
    "collapsed": true
   },
   "outputs": [],
   "source": [
    "with pysam.AlignmentFile(SAM_output, \"r\") as INFILE:\n",
    "    with pysam.AlignmentFile(filtered_SAM_output, \"wh\", template=INFILE) as OUTFILE:\n",
    "        for aln in INFILE:\n",
    "            if (aln.query_alignment_length >= 93) and (aln.mapping_quality >= 30):\n",
    "                OUTFILE.write(aln)"
   ]
  },
  {
   "cell_type": "code",
   "execution_count": 131,
   "metadata": {
    "collapsed": false
   },
   "outputs": [
    {
     "data": {
      "text/html": [
       "<div style=\"max-height:1000px;max-width:1500px;overflow:auto;\">\n",
       "<table border=\"1\" class=\"dataframe\">\n",
       "  <thead>\n",
       "    <tr style=\"text-align: right;\">\n",
       "      <th></th>\n",
       "      <th>QNAME</th>\n",
       "      <th>FLAG</th>\n",
       "      <th>RNAME</th>\n",
       "      <th>POS</th>\n",
       "      <th>MAPQ</th>\n",
       "      <th>CIGAR</th>\n",
       "      <th>RNEXT</th>\n",
       "      <th>PNEXT</th>\n",
       "      <th>ISIZE</th>\n",
       "      <th>SEQ</th>\n",
       "      <th>QUAL</th>\n",
       "      <th>TAG1</th>\n",
       "      <th>TAG2</th>\n",
       "      <th>TAG3TAG4</th>\n",
       "      <th>TAG5</th>\n",
       "      <th>TAG6</th>\n",
       "      <th>TAG7</th>\n",
       "      <th>TAG8</th>\n",
       "      <th>TAG9</th>\n",
       "      <th>TAG10</th>\n",
       "    </tr>\n",
       "  </thead>\n",
       "  <tbody>\n",
       "    <tr>\n",
       "      <th>0</th>\n",
       "      <td>c6</td>\n",
       "      <td>0</td>\n",
       "      <td>66281</td>\n",
       "      <td>1</td>\n",
       "      <td>44</td>\n",
       "      <td>93M</td>\n",
       "      <td>*</td>\n",
       "      <td>0</td>\n",
       "      <td>0</td>\n",
       "      <td>TGCAGGTACTGCCTCTGCTTGGGCAGCCGCGGGGTCATCAGAGGGC...</td>\n",
       "      <td>IIIIIIIIIIIIIIIIIIIIIIIIIIIIIIIIIIIIIIIIIIIIII...</td>\n",
       "      <td>AS:i:178</td>\n",
       "      <td>XN:i:0</td>\n",
       "      <td>XM:i:1</td>\n",
       "      <td>XO:i:0</td>\n",
       "      <td>XG:i:0</td>\n",
       "      <td>NM:i:1</td>\n",
       "      <td>MD:Z:41C51</td>\n",
       "      <td>YT:Z:UU</td>\n",
       "      <td>None</td>\n",
       "    </tr>\n",
       "    <tr>\n",
       "      <th>1</th>\n",
       "      <td>c5</td>\n",
       "      <td>0</td>\n",
       "      <td>16028</td>\n",
       "      <td>1</td>\n",
       "      <td>42</td>\n",
       "      <td>93M</td>\n",
       "      <td>*</td>\n",
       "      <td>0</td>\n",
       "      <td>0</td>\n",
       "      <td>TGCAGGCTGTGTCAGTTCATGAAGAACTACCTGCCCCGGGACTTCA...</td>\n",
       "      <td>IIIIIIIIIIIIIIIIIIIIIIIIIIIIIIIIIIIIIIIIIIIIII...</td>\n",
       "      <td>AS:i:146</td>\n",
       "      <td>XN:i:0</td>\n",
       "      <td>XM:i:5</td>\n",
       "      <td>XO:i:0</td>\n",
       "      <td>XG:i:0</td>\n",
       "      <td>NM:i:5</td>\n",
       "      <td>MD:Z:6A17T41A1T8A15</td>\n",
       "      <td>YT:Z:UU</td>\n",
       "      <td>None</td>\n",
       "    </tr>\n",
       "    <tr>\n",
       "      <th>2</th>\n",
       "      <td>c14</td>\n",
       "      <td>0</td>\n",
       "      <td>7663</td>\n",
       "      <td>1</td>\n",
       "      <td>44</td>\n",
       "      <td>93M</td>\n",
       "      <td>*</td>\n",
       "      <td>0</td>\n",
       "      <td>0</td>\n",
       "      <td>TGCAGGAATATGAGAGGTTGTTCCAAATACAACTGTCTTTTCTGTT...</td>\n",
       "      <td>IIIIIIIIIIIIIIIIIIIIIIIIIIIIIIIIIIIIIIIIIIIIII...</td>\n",
       "      <td>AS:i:186</td>\n",
       "      <td>XN:i:0</td>\n",
       "      <td>XM:i:0</td>\n",
       "      <td>XO:i:0</td>\n",
       "      <td>XG:i:0</td>\n",
       "      <td>NM:i:0</td>\n",
       "      <td>MD:Z:93</td>\n",
       "      <td>YT:Z:UU</td>\n",
       "      <td>None</td>\n",
       "    </tr>\n",
       "    <tr>\n",
       "      <th>3</th>\n",
       "      <td>c15</td>\n",
       "      <td>0</td>\n",
       "      <td>2732</td>\n",
       "      <td>1</td>\n",
       "      <td>44</td>\n",
       "      <td>93M</td>\n",
       "      <td>*</td>\n",
       "      <td>0</td>\n",
       "      <td>0</td>\n",
       "      <td>TGCAGGTTGTCCACCCTGGAGATGCAGTTCCCTGCCAGGTTCAACA...</td>\n",
       "      <td>IIIIIIIIIIIIIIIIIIIIIIIIIIIIIIIIIIIIIIIIIIIIII...</td>\n",
       "      <td>AS:i:162</td>\n",
       "      <td>XN:i:0</td>\n",
       "      <td>XM:i:3</td>\n",
       "      <td>XO:i:0</td>\n",
       "      <td>XG:i:0</td>\n",
       "      <td>NM:i:3</td>\n",
       "      <td>MD:Z:37A9A20G24</td>\n",
       "      <td>YT:Z:UU</td>\n",
       "      <td>None</td>\n",
       "    </tr>\n",
       "    <tr>\n",
       "      <th>4</th>\n",
       "      <td>c16</td>\n",
       "      <td>0</td>\n",
       "      <td>86922</td>\n",
       "      <td>1</td>\n",
       "      <td>41</td>\n",
       "      <td>25M4I64M</td>\n",
       "      <td>*</td>\n",
       "      <td>0</td>\n",
       "      <td>0</td>\n",
       "      <td>TGCAGGTAACCACTAAAACCATGACCACACACACACACACAACCAA...</td>\n",
       "      <td>IIIIIIIIIIIIIIIIIIIIIIIIIIIIIIIIIIIIIIIIIIIIII...</td>\n",
       "      <td>AS:i:137</td>\n",
       "      <td>XN:i:0</td>\n",
       "      <td>XM:i:3</td>\n",
       "      <td>XO:i:1</td>\n",
       "      <td>XG:i:4</td>\n",
       "      <td>NM:i:7</td>\n",
       "      <td>MD:Z:50C5G12C19</td>\n",
       "      <td>YT:Z:UU</td>\n",
       "      <td>None</td>\n",
       "    </tr>\n",
       "  </tbody>\n",
       "</table>\n",
       "</div>"
      ],
      "text/plain": [
       "  QNAME  FLAG  RNAME  POS  MAPQ     CIGAR RNEXT  PNEXT  ISIZE  \\\n",
       "0    c6     0  66281    1    44       93M     *      0      0   \n",
       "1    c5     0  16028    1    42       93M     *      0      0   \n",
       "2   c14     0   7663    1    44       93M     *      0      0   \n",
       "3   c15     0   2732    1    44       93M     *      0      0   \n",
       "4   c16     0  86922    1    41  25M4I64M     *      0      0   \n",
       "\n",
       "                                                 SEQ  \\\n",
       "0  TGCAGGTACTGCCTCTGCTTGGGCAGCCGCGGGGTCATCAGAGGGC...   \n",
       "1  TGCAGGCTGTGTCAGTTCATGAAGAACTACCTGCCCCGGGACTTCA...   \n",
       "2  TGCAGGAATATGAGAGGTTGTTCCAAATACAACTGTCTTTTCTGTT...   \n",
       "3  TGCAGGTTGTCCACCCTGGAGATGCAGTTCCCTGCCAGGTTCAACA...   \n",
       "4  TGCAGGTAACCACTAAAACCATGACCACACACACACACACAACCAA...   \n",
       "\n",
       "                                                QUAL      TAG1    TAG2  \\\n",
       "0  IIIIIIIIIIIIIIIIIIIIIIIIIIIIIIIIIIIIIIIIIIIIII...  AS:i:178  XN:i:0   \n",
       "1  IIIIIIIIIIIIIIIIIIIIIIIIIIIIIIIIIIIIIIIIIIIIII...  AS:i:146  XN:i:0   \n",
       "2  IIIIIIIIIIIIIIIIIIIIIIIIIIIIIIIIIIIIIIIIIIIIII...  AS:i:186  XN:i:0   \n",
       "3  IIIIIIIIIIIIIIIIIIIIIIIIIIIIIIIIIIIIIIIIIIIIII...  AS:i:162  XN:i:0   \n",
       "4  IIIIIIIIIIIIIIIIIIIIIIIIIIIIIIIIIIIIIIIIIIIIII...  AS:i:137  XN:i:0   \n",
       "\n",
       "  TAG3TAG4    TAG5    TAG6    TAG7                 TAG8     TAG9 TAG10  \n",
       "0   XM:i:1  XO:i:0  XG:i:0  NM:i:1           MD:Z:41C51  YT:Z:UU  None  \n",
       "1   XM:i:5  XO:i:0  XG:i:0  NM:i:5  MD:Z:6A17T41A1T8A15  YT:Z:UU  None  \n",
       "2   XM:i:0  XO:i:0  XG:i:0  NM:i:0              MD:Z:93  YT:Z:UU  None  \n",
       "3   XM:i:3  XO:i:0  XG:i:0  NM:i:3      MD:Z:37A9A20G24  YT:Z:UU  None  \n",
       "4   XM:i:3  XO:i:1  XG:i:4  NM:i:7      MD:Z:50C5G12C19  YT:Z:UU  None  "
      ]
     },
     "execution_count": 131,
     "metadata": {},
     "output_type": "execute_result"
    }
   ],
   "source": [
    "filtered_SAM = pd.read_csv(filtered_SAM_output, sep = '\\t', comment='@', engine='python', \n",
    "            names = ['QNAME','FLAG','RNAME','POS','MAPQ','CIGAR','RNEXT','PNEXT','ISIZE','SEQ','QUAL',\n",
    "                     'TAG1', 'TAG2', 'TAG3' 'TAG4', 'TAG5', 'TAG6', 'TAG7','TAG8', 'TAG9','TAG10'])\n",
    "filtered_SAM.head()"
   ]
  },
  {
   "cell_type": "code",
   "execution_count": 132,
   "metadata": {
    "collapsed": false
   },
   "outputs": [
    {
     "data": {
      "text/html": [
       "<div style=\"max-height:1000px;max-width:1500px;overflow:auto;\">\n",
       "<table border=\"1\" class=\"dataframe\">\n",
       "  <thead>\n",
       "    <tr style=\"text-align: right;\">\n",
       "      <th></th>\n",
       "      <th>QNAME</th>\n",
       "      <th>FLAG</th>\n",
       "      <th>RNAME</th>\n",
       "      <th>MAPQ</th>\n",
       "      <th>CIGAR</th>\n",
       "      <th>TAG1</th>\n",
       "      <th>TAG2</th>\n",
       "      <th>TAG3TAG4</th>\n",
       "      <th>TAG5</th>\n",
       "      <th>TAG6</th>\n",
       "      <th>TAG7</th>\n",
       "      <th>TAG8</th>\n",
       "      <th>TAG9</th>\n",
       "      <th>TAG10</th>\n",
       "    </tr>\n",
       "  </thead>\n",
       "  <tbody>\n",
       "    <tr>\n",
       "      <th>0</th>\n",
       "      <td>c6</td>\n",
       "      <td>0</td>\n",
       "      <td>66281</td>\n",
       "      <td>44</td>\n",
       "      <td>93M</td>\n",
       "      <td>AS:i:178</td>\n",
       "      <td>XN:i:0</td>\n",
       "      <td>XM:i:1</td>\n",
       "      <td>XO:i:0</td>\n",
       "      <td>XG:i:0</td>\n",
       "      <td>NM:i:1</td>\n",
       "      <td>MD:Z:41C51</td>\n",
       "      <td>YT:Z:UU</td>\n",
       "      <td>None</td>\n",
       "    </tr>\n",
       "    <tr>\n",
       "      <th>1</th>\n",
       "      <td>c5</td>\n",
       "      <td>0</td>\n",
       "      <td>16028</td>\n",
       "      <td>42</td>\n",
       "      <td>93M</td>\n",
       "      <td>AS:i:146</td>\n",
       "      <td>XN:i:0</td>\n",
       "      <td>XM:i:5</td>\n",
       "      <td>XO:i:0</td>\n",
       "      <td>XG:i:0</td>\n",
       "      <td>NM:i:5</td>\n",
       "      <td>MD:Z:6A17T41A1T8A15</td>\n",
       "      <td>YT:Z:UU</td>\n",
       "      <td>None</td>\n",
       "    </tr>\n",
       "    <tr>\n",
       "      <th>2</th>\n",
       "      <td>c14</td>\n",
       "      <td>0</td>\n",
       "      <td>7663</td>\n",
       "      <td>44</td>\n",
       "      <td>93M</td>\n",
       "      <td>AS:i:186</td>\n",
       "      <td>XN:i:0</td>\n",
       "      <td>XM:i:0</td>\n",
       "      <td>XO:i:0</td>\n",
       "      <td>XG:i:0</td>\n",
       "      <td>NM:i:0</td>\n",
       "      <td>MD:Z:93</td>\n",
       "      <td>YT:Z:UU</td>\n",
       "      <td>None</td>\n",
       "    </tr>\n",
       "    <tr>\n",
       "      <th>3</th>\n",
       "      <td>c15</td>\n",
       "      <td>0</td>\n",
       "      <td>2732</td>\n",
       "      <td>44</td>\n",
       "      <td>93M</td>\n",
       "      <td>AS:i:162</td>\n",
       "      <td>XN:i:0</td>\n",
       "      <td>XM:i:3</td>\n",
       "      <td>XO:i:0</td>\n",
       "      <td>XG:i:0</td>\n",
       "      <td>NM:i:3</td>\n",
       "      <td>MD:Z:37A9A20G24</td>\n",
       "      <td>YT:Z:UU</td>\n",
       "      <td>None</td>\n",
       "    </tr>\n",
       "    <tr>\n",
       "      <th>4</th>\n",
       "      <td>c16</td>\n",
       "      <td>0</td>\n",
       "      <td>86922</td>\n",
       "      <td>41</td>\n",
       "      <td>25M4I64M</td>\n",
       "      <td>AS:i:137</td>\n",
       "      <td>XN:i:0</td>\n",
       "      <td>XM:i:3</td>\n",
       "      <td>XO:i:1</td>\n",
       "      <td>XG:i:4</td>\n",
       "      <td>NM:i:7</td>\n",
       "      <td>MD:Z:50C5G12C19</td>\n",
       "      <td>YT:Z:UU</td>\n",
       "      <td>None</td>\n",
       "    </tr>\n",
       "  </tbody>\n",
       "</table>\n",
       "</div>"
      ],
      "text/plain": [
       "  QNAME  FLAG  RNAME  MAPQ     CIGAR      TAG1    TAG2 TAG3TAG4    TAG5  \\\n",
       "0    c6     0  66281    44       93M  AS:i:178  XN:i:0   XM:i:1  XO:i:0   \n",
       "1    c5     0  16028    42       93M  AS:i:146  XN:i:0   XM:i:5  XO:i:0   \n",
       "2   c14     0   7663    44       93M  AS:i:186  XN:i:0   XM:i:0  XO:i:0   \n",
       "3   c15     0   2732    44       93M  AS:i:162  XN:i:0   XM:i:3  XO:i:0   \n",
       "4   c16     0  86922    41  25M4I64M  AS:i:137  XN:i:0   XM:i:3  XO:i:1   \n",
       "\n",
       "     TAG6    TAG7                 TAG8     TAG9 TAG10  \n",
       "0  XG:i:0  NM:i:1           MD:Z:41C51  YT:Z:UU  None  \n",
       "1  XG:i:0  NM:i:5  MD:Z:6A17T41A1T8A15  YT:Z:UU  None  \n",
       "2  XG:i:0  NM:i:0              MD:Z:93  YT:Z:UU  None  \n",
       "3  XG:i:0  NM:i:3      MD:Z:37A9A20G24  YT:Z:UU  None  \n",
       "4  XG:i:4  NM:i:7      MD:Z:50C5G12C19  YT:Z:UU  None  "
      ]
     },
     "execution_count": 132,
     "metadata": {},
     "output_type": "execute_result"
    }
   ],
   "source": [
    "filtered_SAM.drop(['POS', 'RNEXT', 'PNEXT', 'ISIZE', 'SEQ','QUAL'], axis=1, inplace=True)\n",
    "filtered_SAM['RNAME'] = [str(xx) for xx in filtered_SAM['RNAME'] ]\n",
    "filtered_SAM.head()"
   ]
  },
  {
   "cell_type": "markdown",
   "metadata": {},
   "source": [
    "### Now merge with chum and chinook maps"
   ]
  },
  {
   "cell_type": "code",
   "execution_count": 133,
   "metadata": {
    "collapsed": false
   },
   "outputs": [
    {
     "data": {
      "text/html": [
       "<div style=\"max-height:1000px;max-width:1500px;overflow:auto;\">\n",
       "<table border=\"1\" class=\"dataframe\">\n",
       "  <thead>\n",
       "    <tr style=\"text-align: right;\">\n",
       "      <th></th>\n",
       "      <th>stacks_SNP</th>\n",
       "      <th>contig</th>\n",
       "      <th>LEP_LG</th>\n",
       "    </tr>\n",
       "  </thead>\n",
       "  <tbody>\n",
       "    <tr>\n",
       "      <th>0</th>\n",
       "      <td>7_74</td>\n",
       "      <td>c1000</td>\n",
       "      <td>11</td>\n",
       "    </tr>\n",
       "    <tr>\n",
       "      <th>1</th>\n",
       "      <td>7_92</td>\n",
       "      <td>c1000</td>\n",
       "      <td>11</td>\n",
       "    </tr>\n",
       "    <tr>\n",
       "      <th>2</th>\n",
       "      <td>68651_80</td>\n",
       "      <td>c10001</td>\n",
       "      <td>10</td>\n",
       "    </tr>\n",
       "    <tr>\n",
       "      <th>3</th>\n",
       "      <td>68651_91</td>\n",
       "      <td>c10001</td>\n",
       "      <td>10</td>\n",
       "    </tr>\n",
       "    <tr>\n",
       "      <th>4</th>\n",
       "      <td>2_78</td>\n",
       "      <td>c10003</td>\n",
       "      <td>19</td>\n",
       "    </tr>\n",
       "  </tbody>\n",
       "</table>\n",
       "</div>"
      ],
      "text/plain": [
       "  stacks_SNP  contig  LEP_LG\n",
       "0       7_74   c1000      11\n",
       "1       7_92   c1000      11\n",
       "2   68651_80  c10001      10\n",
       "3   68651_91  c10001      10\n",
       "4       2_78  c10003      19"
      ]
     },
     "execution_count": 133,
     "metadata": {},
     "output_type": "execute_result"
    }
   ],
   "source": [
    "lep_v_pop = pd.read_csv('/home/ipseg/Desktop/waples/chum_populations/data/batch_4/lep_v_pop.txt', sep = '\\t')\n",
    "lep_v_pop.head()"
   ]
  },
  {
   "cell_type": "code",
   "execution_count": 134,
   "metadata": {
    "collapsed": false
   },
   "outputs": [],
   "source": [
    "chin_lgs = pd.merge(filtered_SAM, chin_ex, left_on = 'RNAME' , right_on = 'Locus_basename')\n",
    "synteny = pd.merge(lep_v_pop, chin_lgs, left_on = 'contig' , right_on = 'QNAME')\n",
    "synteny.drop_duplicates(subset=['contig'], inplace=True)"
   ]
  },
  {
   "cell_type": "code",
   "execution_count": 135,
   "metadata": {
    "collapsed": false
   },
   "outputs": [
    {
     "data": {
      "text/html": [
       "<div style=\"max-height:1000px;max-width:1500px;overflow:auto;\">\n",
       "<table border=\"1\" class=\"dataframe\">\n",
       "  <thead>\n",
       "    <tr style=\"text-align: right;\">\n",
       "      <th></th>\n",
       "      <th>contig</th>\n",
       "      <th>LEP_LG</th>\n",
       "      <th>RNAME</th>\n",
       "      <th>Chromosome</th>\n",
       "      <th>Position (cM)</th>\n",
       "    </tr>\n",
       "  </thead>\n",
       "  <tbody>\n",
       "    <tr>\n",
       "      <th>0</th>\n",
       "      <td>c10061</td>\n",
       "      <td>12</td>\n",
       "      <td>108941</td>\n",
       "      <td>Ots15</td>\n",
       "      <td>18.77</td>\n",
       "    </tr>\n",
       "    <tr>\n",
       "      <th>1</th>\n",
       "      <td>c10068</td>\n",
       "      <td>37</td>\n",
       "      <td>54872</td>\n",
       "      <td>Ots11</td>\n",
       "      <td>13.44</td>\n",
       "    </tr>\n",
       "    <tr>\n",
       "      <th>11</th>\n",
       "      <td>c10106</td>\n",
       "      <td>1</td>\n",
       "      <td>13246</td>\n",
       "      <td>Ots05</td>\n",
       "      <td>68.42</td>\n",
       "    </tr>\n",
       "    <tr>\n",
       "      <th>12</th>\n",
       "      <td>c10111</td>\n",
       "      <td>22</td>\n",
       "      <td>31594</td>\n",
       "      <td>Ots06</td>\n",
       "      <td>1.57</td>\n",
       "    </tr>\n",
       "    <tr>\n",
       "      <th>15</th>\n",
       "      <td>c10114</td>\n",
       "      <td>10</td>\n",
       "      <td>15470</td>\n",
       "      <td>Ots08</td>\n",
       "      <td>78.82</td>\n",
       "    </tr>\n",
       "  </tbody>\n",
       "</table>\n",
       "</div>"
      ],
      "text/plain": [
       "    contig  LEP_LG   RNAME Chromosome  Position (cM)\n",
       "0   c10061      12  108941      Ots15          18.77\n",
       "1   c10068      37   54872      Ots11          13.44\n",
       "11  c10106       1   13246      Ots05          68.42\n",
       "12  c10111      22   31594      Ots06           1.57\n",
       "15  c10114      10   15470      Ots08          78.82"
      ]
     },
     "execution_count": 135,
     "metadata": {},
     "output_type": "execute_result"
    }
   ],
   "source": [
    "synteny[['contig', 'LEP_LG', 'RNAME', 'Chromosome', 'Position (cM)']].head()"
   ]
  },
  {
   "cell_type": "code",
   "execution_count": 136,
   "metadata": {
    "collapsed": false
   },
   "outputs": [],
   "source": [
    "LG_vs_CHR = pd.crosstab(synteny['LEP_LG'], columns = synteny['Chromosome'])\n",
    "LG_vs_CHR.index.name = 'Chum LG'"
   ]
  },
  {
   "cell_type": "code",
   "execution_count": 146,
   "metadata": {
    "collapsed": false
   },
   "outputs": [
    {
     "data": {
      "image/png": "[encoded data removed]",
      "text/plain": [
       "<matplotlib.figure.Figure at 0x7ff889241ad0>"
      ]
     },
     "metadata": {},
     "output_type": "display_data"
    }
   ],
   "source": [
    "figsize(16,10)\n",
    "my_colors = sns.cubehelix_palette(n_colors = 6, light=1, start = 2.8, rot = -.1, gamma = 1.2, as_cmap=True)\n",
    "sns.heatmap(LG_vs_CHR, annot = True, linewidths = 0,square = False, cmap=my_colors, \n",
    "           cbar_kws={\"orientation\": \"vertical\"})\n",
    "plt.xlabel('chinook')\n",
    "plt.show()"
   ]
  },
  {
   "cell_type": "code",
   "execution_count": 138,
   "metadata": {
    "collapsed": false
   },
   "outputs": [
    {
     "data": {
      "text/plain": [
       "dtype('O')"
      ]
     },
     "execution_count": 138,
     "metadata": {},
     "output_type": "execute_result"
    }
   ],
   "source": [
    "chin_ex['Locus_basename'].dtype"
   ]
  },
  {
   "cell_type": "code",
   "execution_count": 139,
   "metadata": {
    "collapsed": false
   },
   "outputs": [
    {
     "data": {
      "text/plain": [
       "dtype('O')"
      ]
     },
     "execution_count": 139,
     "metadata": {},
     "output_type": "execute_result"
    }
   ],
   "source": [
    "filtered_SAM['RNAME'].dtype"
   ]
  }
 ],
 "metadata": {
  "kernelspec": {
   "display_name": "Python 2",
   "language": "python",
   "name": "python2"
  },
  "language_info": {
   "codemirror_mode": {
    "name": "ipython",
    "version": 2
   },
   "file_extension": ".py",
   "mimetype": "text/x-python",
   "name": "python",
   "nbconvert_exporter": "python",
   "pygments_lexer": "ipython2",
   "version": "2.7.9"
  }
 },
 "nbformat": 4,
 "nbformat_minor": 0
}
