{
 "cells": [
  {
   "cell_type": "markdown",
   "metadata": {},
   "source": [
    "# Population F-statistics"
   ]
  },
  {
   "cell_type": "markdown",
   "metadata": {},
   "source": [
    "generate a whitelist from filtered data sets"
   ]
  },
  {
   "cell_type": "code",
   "execution_count": 6,
   "metadata": {
    "collapsed": false
   },
   "outputs": [],
   "source": [
    "def gen_whitelist(snplist, whitelist):\n",
    "    with open(snplist) as INFILE:\n",
    "        with open(whitelist, 'w') as OUTFILE:\n",
    "            for line in INFILE:\n",
    "                locus, pos = line.strip().split('_')\n",
    "                OUTFILE.write('{}\\t{}\\n'.format(locus, pos))"
   ]
  },
  {
   "cell_type": "code",
   "execution_count": 7,
   "metadata": {
    "collapsed": false
   },
   "outputs": [],
   "source": [
    "gen_whitelist(snplist = '/home/ipseg/Desktop/waples/chum_populations/data/batch_4/pop_genotypes/non_paralogs.snplist', \n",
    "              whitelist = '/media/Shared/Data/chum/populations/pstacks/batch_4/non_paralogs.whitelist'\n",
    "              )\n",
    "gen_whitelist(snplist = '/home/ipseg/Desktop/waples/chum_populations/data/batch_4/pop_genotypes/mapped_non_paralogs.snplist', \n",
    "              whitelist = '/media/Shared/Data/chum/populations/pstacks/batch_4/mapped_non_paralogs.whitelist'\n",
    "              )"
   ]
  },
  {
   "cell_type": "markdown",
   "metadata": {},
   "source": [
    "generate a popmap containing only individuals that were retain during filtering"
   ]
  },
  {
   "cell_type": "code",
   "execution_count": 8,
   "metadata": {
    "collapsed": false
   },
   "outputs": [],
   "source": [
    "def gen_popmap(nosex, pop_map):\n",
    "    with open(nosex) as INFILE:\n",
    "        with open(pop_map, 'w') as OUTFILE:\n",
    "            for line in INFILE:\n",
    "                dummy, ind = line.strip().split('\\t')\n",
    "                pop, dummy = ind.split('_')\n",
    "                OUTFILE.write('{}\\t{}\\n'.format(ind, pop))            "
   ]
  },
  {
   "cell_type": "code",
   "execution_count": 9,
   "metadata": {
    "collapsed": false
   },
   "outputs": [],
   "source": [
    "gen_popmap(nosex = '/home/ipseg/Desktop/waples/chum_populations/data/batch_4/pop_genotypes/non_paralogs.nosex', \n",
    "              pop_map = '/media/Shared/Data/chum/populations/pstacks/batch_4/non_paralogs.popmap'\n",
    "              )\n",
    "gen_popmap(nosex = '/home/ipseg/Desktop/waples/chum_populations/data/batch_4/pop_genotypes/mapped_non_paralogs.nosex', \n",
    "              pop_map = '/media/Shared/Data/chum/populations/pstacks/batch_4/mapped_non_paralogs.popmap'\n",
    "              )"
   ]
  },
  {
   "cell_type": "markdown",
   "metadata": {
    "collapsed": false
   },
   "source": [
    "Run the populations program to calcualte F-statistics"
   ]
  },
  {
   "cell_type": "code",
   "execution_count": 10,
   "metadata": {
    "collapsed": false
   },
   "outputs": [],
   "source": [
    "!populations \\\n",
    "-P '/media/Shared/Data/chum/populations/pstacks/batch_4' \\\n",
    "-b 4 \\\n",
    "-t 6 \\\n",
    "-W '/media/Shared/Data/chum/populations/pstacks/batch_4/non_paralogs/non_paralogs.whitelist' \\\n",
    "-M '/media/Shared/Data/chum/populations/pstacks/batch_4/mapped_non_paralogs/mapped_non_paralogs.popmap' \\\n",
    "--fstats 2> '/media/Shared/Data/chum/populations/pstacks/batch_4/mapped_non_paralogs/populations.log'"
   ]
  },
  {
   "cell_type": "code",
   "execution_count": 11,
   "metadata": {
    "collapsed": false
   },
   "outputs": [
    {
     "ename": "SyntaxError",
     "evalue": "invalid syntax (<ipython-input-11-b7b9f322878a>, line 1)",
     "output_type": "error",
     "traceback": [
      "\u001b[1;36m  File \u001b[1;32m\"<ipython-input-11-b7b9f322878a>\"\u001b[1;36m, line \u001b[1;32m1\u001b[0m\n\u001b[1;33m    PCA of pairwise population Fst\u001b[0m\n\u001b[1;37m         ^\u001b[0m\n\u001b[1;31mSyntaxError\u001b[0m\u001b[1;31m:\u001b[0m invalid syntax\n"
     ]
    }
   ],
   "source": [
    "PCA of pairwise population Fst"
   ]
  },
  {
   "cell_type": "code",
   "execution_count": null,
   "metadata": {
    "collapsed": false
   },
   "outputs": [],
   "source": [
    "import pandas as pd\n",
    "import numpy as np\n",
    "import scipy.spatial.distance\n",
    "p_fst = pd.read_csv('/media/Shared/Data/chum/populations/pstacks/batch_4/batch_4.fst_summary.tsv', sep = \"\\t\", index_col = 0)\n",
    "p_fst.loc['CMUW10'] = np.repeat(np.NaN, 10)\n",
    "\n",
    "for xx in range(10):\n",
    "    for yy in range(10):\n",
    "        p_fst.iloc[yy, xx] = p_fst.iloc[xx, yy] \n",
    "p_fst"
   ]
  },
  {
   "cell_type": "code",
   "execution_count": null,
   "metadata": {
    "collapsed": false
   },
   "outputs": [],
   "source": [
    "p_fst_mat = p_fst.as_matrix()\n",
    "np.fill_diagonal(p_fst_mat, 0)\n",
    "ut10 = np.triu_indices(10)\n",
    "print(p_fst_mat)"
   ]
  },
  {
   "cell_type": "code",
   "execution_count": null,
   "metadata": {
    "collapsed": false
   },
   "outputs": [],
   "source": [
    "pop_d_mat = scipy.spatial.distance.squareform(p_fst_mat[ut9])\n",
    "pop_d_mat"
   ]
  },
  {
   "cell_type": "code",
   "execution_count": null,
   "metadata": {
    "collapsed": false
   },
   "outputs": [],
   "source": [
    "from sklearn.decomposition import PCA\n",
    "pca = PCA(n_components=10)\n",
    "X = pca.fit_transform(p_fst_mat)\n",
    "X.shape\n",
    "pca.explained_variance_ratio_\n",
    "#pca.components_"
   ]
  },
  {
   "cell_type": "code",
   "execution_count": null,
   "metadata": {
    "collapsed": false
   },
   "outputs": [],
   "source": [
    "aa = pd.DataFrame(pca.components_)\n",
    "aa=aa.T\n",
    "aa.columns = ['PC{}'.format(xx) for xx in range(1, 11)]\n",
    "aa['POPNAME'] = p_fst.columns.values"
   ]
  },
  {
   "cell_type": "code",
   "execution_count": null,
   "metadata": {
    "collapsed": false
   },
   "outputs": [],
   "source": [
    "import matplotlib.pyplot as plt\n",
    "import seaborn as sns\n",
    "\n",
    "pop_colors = ['purply pink', \n",
    "              'blood', \n",
    "              'leaf green', \n",
    "              'vomit', \n",
    "              'primary blue', \n",
    "              'bright sky blue', \n",
    "              'dark cyan', \n",
    "              'grey', \n",
    "              'red',\n",
    "              'golden',\n",
    "              ]"
   ]
  },
  {
   "cell_type": "code",
   "execution_count": null,
   "metadata": {
    "collapsed": false
   },
   "outputs": [],
   "source": [
    "sns.lmplot('PC1', 'PC2', data = aa, hue = 'POPNAME',  palette=sns.xkcd_palette(pop_colors), \n",
    "           fit_reg=False, size = 8, scatter_kws={\"s\": 300., 'alpha': .8} )\n",
    "plt.show()"
   ]
  },
  {
   "cell_type": "code",
   "execution_count": null,
   "metadata": {
    "collapsed": false
   },
   "outputs": [],
   "source": [
    "sns.lmplot('PC1', 'PC3', data = aa, hue = 'POPNAME',  palette=sns.xkcd_palette(pop_colors), \n",
    "           fit_reg=False, size = 8, scatter_kws={\"s\": 300., 'alpha': .8} )\n",
    "plt.show()"
   ]
  },
  {
   "cell_type": "code",
   "execution_count": null,
   "metadata": {
    "collapsed": false
   },
   "outputs": [],
   "source": []
  }
 ],
 "metadata": {
  "kernelspec": {
   "display_name": "Python 2",
   "language": "python",
   "name": "python2"
  },
  "language_info": {
   "codemirror_mode": {
    "name": "ipython",
    "version": 2
   },
   "file_extension": ".py",
   "mimetype": "text/x-python",
   "name": "python",
   "nbconvert_exporter": "python",
   "pygments_lexer": "ipython2",
   "version": "2.7.10"
  }
 },
 "nbformat": 4,
 "nbformat_minor": 0
}
