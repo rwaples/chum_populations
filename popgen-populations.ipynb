{
 "metadata": {
  "name": "",
  "signature": "sha256:6e6988e0cc6dd8afe5b615dc2be3ea90a12ea4ec96a19063502b4fc4222d87a4"
 },
 "nbformat": 3,
 "nbformat_minor": 0,
 "worksheets": [
  {
   "cells": [
    {
     "cell_type": "markdown",
     "metadata": {},
     "source": [
      "# Population F-statistics"
     ]
    },
    {
     "cell_type": "markdown",
     "metadata": {},
     "source": [
      "generate a whitelist from filtered data sets"
     ]
    },
    {
     "cell_type": "code",
     "collapsed": false,
     "input": [
      "def gen_whitelist(snplist, whitelist):\n",
      "    with open(snplist) as INFILE:\n",
      "        with open(whitelist, 'w') as OUTFILE:\n",
      "            for line in INFILE:\n",
      "                locus, pos = line.strip().split('_')\n",
      "                OUTFILE.write('{}\\t{}\\n'.format(locus, pos))"
     ],
     "language": "python",
     "metadata": {},
     "outputs": [],
     "prompt_number": 7
    },
    {
     "cell_type": "code",
     "collapsed": false,
     "input": [
      "gen_whitelist(snplist = '/home/ipseg/Desktop/waples/chum_populations/data/batch_4/pop_genotypes/non_paralogs.snplist', \n",
      "              whitelist = '/media/Shared/Data/chum/populations/pstacks/batch_4/non_paralogs.whitelist'\n",
      "              )\n",
      "gen_whitelist(snplist = '/home/ipseg/Desktop/waples/chum_populations/data/batch_4/pop_genotypes/mapped_non_paralogs.snplist', \n",
      "              whitelist = '/media/Shared/Data/chum/populations/pstacks/batch_4/mapped_non_paralogs.whitelist'\n",
      "              )"
     ],
     "language": "python",
     "metadata": {},
     "outputs": [],
     "prompt_number": 9
    },
    {
     "cell_type": "markdown",
     "metadata": {},
     "source": [
      "generate a popmap containing only individuals that were retain during filtering"
     ]
    },
    {
     "cell_type": "code",
     "collapsed": false,
     "input": [
      "def gen_popmap(nosex, pop_map):\n",
      "    with open(nosex) as INFILE:\n",
      "        with open(pop_map, 'w') as OUTFILE:\n",
      "            for line in INFILE:\n",
      "                dummy, ind = line.strip().split('\\t')\n",
      "                pop, dummy = ind.split('_')\n",
      "                OUTFILE.write('{}\\t{}\\n'.format(ind, pop))            "
     ],
     "language": "python",
     "metadata": {},
     "outputs": [],
     "prompt_number": 15
    },
    {
     "cell_type": "code",
     "collapsed": false,
     "input": [
      "gen_popmap(nosex = '/home/ipseg/Desktop/waples/chum_populations/data/batch_4/pop_genotypes/non_paralogs.nosex', \n",
      "              pop_map = '/media/Shared/Data/chum/populations/pstacks/batch_4/non_paralogs.popmap'\n",
      "              )\n",
      "gen_popmap(nosex = '/home/ipseg/Desktop/waples/chum_populations/data/batch_4/pop_genotypes/mapped_non_paralogs.nosex', \n",
      "              pop_map = '/media/Shared/Data/chum/populations/pstacks/batch_4/mapped_non_paralogs.popmap'\n",
      "              )"
     ],
     "language": "python",
     "metadata": {},
     "outputs": [],
     "prompt_number": 16
    },
    {
     "cell_type": "code",
     "collapsed": false,
     "input": [
      "Run the populations program to calcualte F-statistics"
     ],
     "language": "python",
     "metadata": {},
     "outputs": []
    },
    {
     "cell_type": "code",
     "collapsed": false,
     "input": [
      "!populations \\\n",
      "-P '/media/Shared/Data/chum/populations/pstacks/batch_4' \\\n",
      "-b 4 \\\n",
      "-t 6 \\\n",
      "-W '/media/Shared/Data/chum/populations/pstacks/batch_4/non_paralogs/non_paralogs.whitelist' \\\n",
      "-M '/media/Shared/Data/chum/populations/pstacks/batch_4/mapped_non_paralogs/mapped_non_paralogs.popmap' \\\n",
      "--fstats 2> '/media/Shared/Data/chum/populations/pstacks/batch_4/mapped_non_paralogs/populations.log'"
     ],
     "language": "python",
     "metadata": {},
     "outputs": [],
     "prompt_number": 3
    },
    {
     "cell_type": "code",
     "collapsed": false,
     "input": [
      "PCA of pairwise population Fst"
     ],
     "language": "python",
     "metadata": {},
     "outputs": []
    },
    {
     "cell_type": "code",
     "collapsed": false,
     "input": [
      "import pandas as pd\n",
      "import numpy as np\n",
      "import scipy.spatial.distance\n",
      "p_fst = pd.read_csv('/media/Shared/Data/chum/populations/pstacks/batch_4/batch_4.fst_summary.tsv', sep = \"\\t\", index_col = 0)\n",
      "p_fst.loc['CMUW10'] = np.repeat(np.NaN, 10)\n",
      "\n",
      "for xx in range(10):\n",
      "    for yy in range(10):\n",
      "        p_fst.iloc[yy, xx] = p_fst.iloc[xx, yy] \n",
      "p_fst"
     ],
     "language": "python",
     "metadata": {},
     "outputs": [
      {
       "html": [
        "<div style=\"max-height:1000px;max-width:1500px;overflow:auto;\">\n",
        "<table border=\"1\" class=\"dataframe\">\n",
        "  <thead>\n",
        "    <tr style=\"text-align: right;\">\n",
        "      <th></th>\n",
        "      <th>CMHAMM10</th>\n",
        "      <th>CMKALA03</th>\n",
        "      <th>CMLILLIW11</th>\n",
        "      <th>CMSHERW94F</th>\n",
        "      <th>CMSHERW94S</th>\n",
        "      <th>CMSKOO10</th>\n",
        "      <th>CMSNOH10</th>\n",
        "      <th>CMSQUA10</th>\n",
        "      <th>CMSTILL10</th>\n",
        "      <th>CMUW10</th>\n",
        "    </tr>\n",
        "  </thead>\n",
        "  <tbody>\n",
        "    <tr>\n",
        "      <th>CMHAMM10</th>\n",
        "      <td>NaN</td>\n",
        "      <td>0.043720</td>\n",
        "      <td>0.037545</td>\n",
        "      <td>0.030789</td>\n",
        "      <td>0.032902</td>\n",
        "      <td>0.043529</td>\n",
        "      <td>0.042399</td>\n",
        "      <td>0.048262</td>\n",
        "      <td>0.045256</td>\n",
        "      <td>0.046047</td>\n",
        "    </tr>\n",
        "    <tr>\n",
        "      <th>CMKALA03</th>\n",
        "      <td>0.043720</td>\n",
        "      <td>NaN</td>\n",
        "      <td>0.027025</td>\n",
        "      <td>0.021798</td>\n",
        "      <td>0.024209</td>\n",
        "      <td>0.030397</td>\n",
        "      <td>0.029385</td>\n",
        "      <td>0.036724</td>\n",
        "      <td>0.031563</td>\n",
        "      <td>0.034384</td>\n",
        "    </tr>\n",
        "    <tr>\n",
        "      <th>CMLILLIW11</th>\n",
        "      <td>0.037545</td>\n",
        "      <td>0.027025</td>\n",
        "      <td>NaN</td>\n",
        "      <td>0.017215</td>\n",
        "      <td>0.019629</td>\n",
        "      <td>0.026912</td>\n",
        "      <td>0.023103</td>\n",
        "      <td>0.029728</td>\n",
        "      <td>0.025892</td>\n",
        "      <td>0.022932</td>\n",
        "    </tr>\n",
        "    <tr>\n",
        "      <th>CMSHERW94F</th>\n",
        "      <td>0.030789</td>\n",
        "      <td>0.021798</td>\n",
        "      <td>0.017215</td>\n",
        "      <td>NaN</td>\n",
        "      <td>0.010017</td>\n",
        "      <td>0.016073</td>\n",
        "      <td>0.020139</td>\n",
        "      <td>0.022992</td>\n",
        "      <td>0.021784</td>\n",
        "      <td>0.021466</td>\n",
        "    </tr>\n",
        "    <tr>\n",
        "      <th>CMSHERW94S</th>\n",
        "      <td>0.032902</td>\n",
        "      <td>0.024209</td>\n",
        "      <td>0.019629</td>\n",
        "      <td>0.010017</td>\n",
        "      <td>NaN</td>\n",
        "      <td>0.017723</td>\n",
        "      <td>0.022948</td>\n",
        "      <td>0.025968</td>\n",
        "      <td>0.024814</td>\n",
        "      <td>0.024053</td>\n",
        "    </tr>\n",
        "    <tr>\n",
        "      <th>CMSKOO10</th>\n",
        "      <td>0.043529</td>\n",
        "      <td>0.030397</td>\n",
        "      <td>0.026912</td>\n",
        "      <td>0.016073</td>\n",
        "      <td>0.017723</td>\n",
        "      <td>NaN</td>\n",
        "      <td>0.032349</td>\n",
        "      <td>0.044884</td>\n",
        "      <td>0.036124</td>\n",
        "      <td>0.042458</td>\n",
        "    </tr>\n",
        "    <tr>\n",
        "      <th>CMSNOH10</th>\n",
        "      <td>0.042399</td>\n",
        "      <td>0.029385</td>\n",
        "      <td>0.023103</td>\n",
        "      <td>0.020139</td>\n",
        "      <td>0.022948</td>\n",
        "      <td>0.032349</td>\n",
        "      <td>NaN</td>\n",
        "      <td>0.030001</td>\n",
        "      <td>0.022043</td>\n",
        "      <td>0.035285</td>\n",
        "    </tr>\n",
        "    <tr>\n",
        "      <th>CMSQUA10</th>\n",
        "      <td>0.048262</td>\n",
        "      <td>0.036724</td>\n",
        "      <td>0.029728</td>\n",
        "      <td>0.022992</td>\n",
        "      <td>0.025968</td>\n",
        "      <td>0.044884</td>\n",
        "      <td>0.030001</td>\n",
        "      <td>NaN</td>\n",
        "      <td>0.033915</td>\n",
        "      <td>0.053184</td>\n",
        "    </tr>\n",
        "    <tr>\n",
        "      <th>CMSTILL10</th>\n",
        "      <td>0.045256</td>\n",
        "      <td>0.031563</td>\n",
        "      <td>0.025892</td>\n",
        "      <td>0.021784</td>\n",
        "      <td>0.024814</td>\n",
        "      <td>0.036124</td>\n",
        "      <td>0.022043</td>\n",
        "      <td>0.033915</td>\n",
        "      <td>NaN</td>\n",
        "      <td>0.040051</td>\n",
        "    </tr>\n",
        "    <tr>\n",
        "      <th>CMUW10</th>\n",
        "      <td>0.046047</td>\n",
        "      <td>0.034384</td>\n",
        "      <td>0.022932</td>\n",
        "      <td>0.021466</td>\n",
        "      <td>0.024053</td>\n",
        "      <td>0.042458</td>\n",
        "      <td>0.035285</td>\n",
        "      <td>0.053184</td>\n",
        "      <td>0.040051</td>\n",
        "      <td>NaN</td>\n",
        "    </tr>\n",
        "  </tbody>\n",
        "</table>\n",
        "</div>"
       ],
       "metadata": {},
       "output_type": "pyout",
       "prompt_number": 145,
       "text": [
        "            CMHAMM10  CMKALA03  CMLILLIW11  CMSHERW94F  CMSHERW94S  CMSKOO10  \\\n",
        "CMHAMM10         NaN  0.043720    0.037545    0.030789    0.032902  0.043529   \n",
        "CMKALA03    0.043720       NaN    0.027025    0.021798    0.024209  0.030397   \n",
        "CMLILLIW11  0.037545  0.027025         NaN    0.017215    0.019629  0.026912   \n",
        "CMSHERW94F  0.030789  0.021798    0.017215         NaN    0.010017  0.016073   \n",
        "CMSHERW94S  0.032902  0.024209    0.019629    0.010017         NaN  0.017723   \n",
        "CMSKOO10    0.043529  0.030397    0.026912    0.016073    0.017723       NaN   \n",
        "CMSNOH10    0.042399  0.029385    0.023103    0.020139    0.022948  0.032349   \n",
        "CMSQUA10    0.048262  0.036724    0.029728    0.022992    0.025968  0.044884   \n",
        "CMSTILL10   0.045256  0.031563    0.025892    0.021784    0.024814  0.036124   \n",
        "CMUW10      0.046047  0.034384    0.022932    0.021466    0.024053  0.042458   \n",
        "\n",
        "            CMSNOH10  CMSQUA10  CMSTILL10    CMUW10  \n",
        "CMHAMM10    0.042399  0.048262   0.045256  0.046047  \n",
        "CMKALA03    0.029385  0.036724   0.031563  0.034384  \n",
        "CMLILLIW11  0.023103  0.029728   0.025892  0.022932  \n",
        "CMSHERW94F  0.020139  0.022992   0.021784  0.021466  \n",
        "CMSHERW94S  0.022948  0.025968   0.024814  0.024053  \n",
        "CMSKOO10    0.032349  0.044884   0.036124  0.042458  \n",
        "CMSNOH10         NaN  0.030001   0.022043  0.035285  \n",
        "CMSQUA10    0.030001       NaN   0.033915  0.053184  \n",
        "CMSTILL10   0.022043  0.033915        NaN  0.040051  \n",
        "CMUW10      0.035285  0.053184   0.040051       NaN  "
       ]
      }
     ],
     "prompt_number": 145
    },
    {
     "cell_type": "code",
     "collapsed": false,
     "input": [
      "p_fst_mat = p_fst.as_matrix()\n",
      "np.fill_diagonal(p_fst_mat, 0)\n",
      "ut10 = np.triu_indices(10)\n",
      "print(p_fst_mat)"
     ],
     "language": "python",
     "metadata": {},
     "outputs": [
      {
       "output_type": "stream",
       "stream": "stdout",
       "text": [
        "[[ 0.         0.0437198  0.0375449  0.0307888  0.0329021  0.0435293\n",
        "   0.0423993  0.0482622  0.0452556  0.0460469]\n",
        " [ 0.0437198  0.         0.0270251  0.0217976  0.0242085  0.0303968\n",
        "   0.0293854  0.0367237  0.0315634  0.034384 ]\n",
        " [ 0.0375449  0.0270251  0.         0.0172152  0.019629   0.0269116\n",
        "   0.0231035  0.0297281  0.0258915  0.0229317]\n",
        " [ 0.0307888  0.0217976  0.0172152  0.         0.0100167  0.0160727\n",
        "   0.020139   0.0229918  0.0217844  0.0214664]\n",
        " [ 0.0329021  0.0242085  0.019629   0.0100167  0.         0.0177227\n",
        "   0.0229482  0.0259678  0.0248143  0.0240533]\n",
        " [ 0.0435293  0.0303968  0.0269116  0.0160727  0.0177227  0.         0.0323489\n",
        "   0.0448843  0.0361238  0.0424583]\n",
        " [ 0.0423993  0.0293854  0.0231035  0.020139   0.0229482  0.0323489  0.\n",
        "   0.0300009  0.0220431  0.035285 ]\n",
        " [ 0.0482622  0.0367237  0.0297281  0.0229918  0.0259678  0.0448843\n",
        "   0.0300009  0.         0.0339145  0.0531843]\n",
        " [ 0.0452556  0.0315634  0.0258915  0.0217844  0.0248143  0.0361238\n",
        "   0.0220431  0.0339145  0.         0.0400507]\n",
        " [ 0.0460469  0.034384   0.0229317  0.0214664  0.0240533  0.0424583\n",
        "   0.035285   0.0531843  0.0400507  0.       ]]\n"
       ]
      }
     ],
     "prompt_number": 148
    },
    {
     "cell_type": "code",
     "collapsed": false,
     "input": [
      "pop_d_mat = scipy.spatial.distance.squareform(p_fst_mat[ut9])\n",
      "pop_d_mat"
     ],
     "language": "python",
     "metadata": {},
     "outputs": [
      {
       "metadata": {},
       "output_type": "pyout",
       "prompt_number": 147,
       "text": [
        "array([[ 0.       ,  0.       ,  0.0437198,  0.0375449,  0.0307888,\n",
        "         0.0329021,  0.0435293,  0.0423993,  0.0482622,  0.0452556,\n",
        "         0.0460469],\n",
        "       [ 0.       ,  0.       ,  0.       ,  0.0270251,  0.0217976,\n",
        "         0.0242085,  0.0303968,  0.0293854,  0.0367237,  0.0315634,\n",
        "         0.034384 ],\n",
        "       [ 0.0437198,  0.       ,  0.       ,  0.       ,  0.0172152,\n",
        "         0.019629 ,  0.0269116,  0.0231035,  0.0297281,  0.0258915,\n",
        "         0.0229317],\n",
        "       [ 0.0375449,  0.0270251,  0.       ,  0.       ,  0.       ,\n",
        "         0.0100167,  0.0160727,  0.020139 ,  0.0229918,  0.0217844,\n",
        "         0.0214664],\n",
        "       [ 0.0307888,  0.0217976,  0.0172152,  0.       ,  0.       ,\n",
        "         0.       ,  0.0177227,  0.0229482,  0.0259678,  0.0248143,\n",
        "         0.0240533],\n",
        "       [ 0.0329021,  0.0242085,  0.019629 ,  0.0100167,  0.       ,\n",
        "         0.       ,  0.       ,  0.0323489,  0.0448843,  0.0361238,\n",
        "         0.0424583],\n",
        "       [ 0.0435293,  0.0303968,  0.0269116,  0.0160727,  0.0177227,\n",
        "         0.       ,  0.       ,  0.       ,  0.0300009,  0.0220431,\n",
        "         0.035285 ],\n",
        "       [ 0.0423993,  0.0293854,  0.0231035,  0.020139 ,  0.0229482,\n",
        "         0.0323489,  0.       ,  0.       ,  0.       ,  0.0339145,\n",
        "         0.0531843],\n",
        "       [ 0.0482622,  0.0367237,  0.0297281,  0.0229918,  0.0259678,\n",
        "         0.0448843,  0.0300009,  0.       ,  0.       ,  0.       ,\n",
        "         0.0400507],\n",
        "       [ 0.0452556,  0.0315634,  0.0258915,  0.0217844,  0.0248143,\n",
        "         0.0361238,  0.0220431,  0.0339145,  0.       ,  0.       ,  0.       ],\n",
        "       [ 0.0460469,  0.034384 ,  0.0229317,  0.0214664,  0.0240533,\n",
        "         0.0424583,  0.035285 ,  0.0531843,  0.0400507,  0.       ,  0.       ]])"
       ]
      }
     ],
     "prompt_number": 147
    },
    {
     "cell_type": "code",
     "collapsed": false,
     "input": [
      "from sklearn.decomposition import PCA\n",
      "pca = PCA(n_components=10)\n",
      "X = pca.fit_transform(p_fst_mat)\n",
      "X.shape\n",
      "pca.explained_variance_ratio_\n",
      "#pca.components_"
     ],
     "language": "python",
     "metadata": {},
     "outputs": [
      {
       "metadata": {},
       "output_type": "pyout",
       "prompt_number": 154,
       "text": [
        "array([  3.20472284e-01,   2.32373764e-01,   1.42815728e-01,\n",
        "         9.37403356e-02,   8.31936166e-02,   5.77597497e-02,\n",
        "         3.41339925e-02,   2.80104878e-02,   7.50004128e-03,\n",
        "         2.55018471e-32])"
       ]
      }
     ],
     "prompt_number": 154
    },
    {
     "cell_type": "code",
     "collapsed": false,
     "input": [
      "aa = pd.DataFrame(pca.components_)\n",
      "aa=aa.T\n",
      "aa.columns = ['PC{}'.format(xx) for xx in range(1, 11)]\n",
      "aa['POPNAME'] = p_fst.columns.values"
     ],
     "language": "python",
     "metadata": {},
     "outputs": [],
     "prompt_number": 158
    },
    {
     "cell_type": "code",
     "collapsed": false,
     "input": [
      "import matplotlib.pyplot as plt\n",
      "import seaborn as sns\n",
      "\n",
      "pop_colors = ['purply pink', \n",
      "              'blood', \n",
      "              'leaf green', \n",
      "              'vomit', \n",
      "              'primary blue', \n",
      "              'bright sky blue', \n",
      "              'dark cyan', \n",
      "              'grey', \n",
      "              'red',\n",
      "              'golden',\n",
      "              ]"
     ],
     "language": "python",
     "metadata": {},
     "outputs": []
    },
    {
     "cell_type": "code",
     "collapsed": false,
     "input": [
      "sns.lmplot('PC1', 'PC2', data = aa, hue = 'POPNAME',  palette=sns.xkcd_palette(pop_colors), \n",
      "           fit_reg=False, size = 8, scatter_kws={\"s\": 300., 'alpha': .8} )\n",
      "plt.show()"
     ],
     "language": "python",
     "metadata": {},
     "outputs": [
      {
       "metadata": {},
       "output_type": "display_data",
       "png": "[encoded data removed]",
       "text": [
        "<matplotlib.figure.Figure at 0xacb6410>"
       ]
      }
     ],
     "prompt_number": 172
    },
    {
     "cell_type": "code",
     "collapsed": false,
     "input": [
      "sns.lmplot('PC1', 'PC3', data = aa, hue = 'POPNAME',  palette=sns.xkcd_palette(pop_colors), \n",
      "           fit_reg=False, size = 8, scatter_kws={\"s\": 300., 'alpha': .8} )\n",
      "plt.show()"
     ],
     "language": "python",
     "metadata": {},
     "outputs": [
      {
       "metadata": {},
       "output_type": "display_data",
       "png": "[encoded data removed]",
       "text": [
        "<matplotlib.figure.Figure at 0xa18d990>"
       ]
      }
     ],
     "prompt_number": 174
    },
    {
     "cell_type": "code",
     "collapsed": false,
     "input": [],
     "language": "python",
     "metadata": {},
     "outputs": [],
     "prompt_number": 168
    }
   ],
   "metadata": {}
  }
 ]
}