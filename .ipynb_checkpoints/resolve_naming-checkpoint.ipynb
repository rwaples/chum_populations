{
 "metadata": {
  "name": "",
  "signature": "sha256:59890483272372f95d1d300827ae93e42526a35d2a46aa3720240ccc2df7e053"
 },
 "nbformat": 3,
 "nbformat_minor": 0,
 "worksheets": [
  {
   "cells": [
    {
     "cell_type": "code",
     "collapsed": false,
     "input": [
      "## Naming (to be moved to a separate notebook later)"
     ],
     "language": "python",
     "metadata": {},
     "outputs": [],
     "prompt_number": 1
    },
    {
     "cell_type": "code",
     "collapsed": false,
     "input": [
      "import pandas as pd\n",
      "\n",
      "## write a names file that translates betwwen LEPmap output and our locus names\n",
      "lepmap_filename = \"/home/ipseg/Desktop/waples/chum_populations/linkage_map/LEPmap/with_paralogs/collapsed_loci.lepmap\"\n",
      "names_file = \"/home/ipseg/Desktop/waples/chum_populations/linkage_map/LEPmap/with_paralogs/collapsed_loci.names\"\n",
      "with open(lepmap_filename)as INFILE:\n",
      "    #just need first line\n",
      "    first_line = next(INFILE)\n",
      "    marker_names = first_line.strip().split()[6:]\n",
      "\n",
      "with open(names_file, 'w') as OUTFILE:\n",
      "    count = 0\n",
      "    for marker in marker_names:\n",
      "        count += 1\n",
      "        OUTFILE.write( \"{}\\t{}\\n\".format(count, marker))"
     ],
     "language": "python",
     "metadata": {},
     "outputs": [],
     "prompt_number": 2
    },
    {
     "cell_type": "code",
     "collapsed": false,
     "input": [
      "LG_file =\"/home/ipseg/Desktop/waples/chum_populations/linkage_map/LEPmap/with_paralogs/collapsed_loci.lod5_singles.chromosomes\"\n",
      "LG_assigns = pd.read_csv(LG_file, comment = \"#\", header = None)\n",
      "LG_assigns.columns = ['LG']\n",
      "LG_assigns['lepname'] = xrange(1, len(LG_assigns)+1)\n",
      "\n",
      "names_table = pd.read_csv(names_file, sep=\"\\t\", header = None)\n",
      "names_table.columns = ['lepname', 'mapname']\n",
      "mapnames = pd.merge(names_table, LG_assigns)\n",
      "mapnames['match'] = [xx[0] for xx in mapnames['mapname'].str.split(\"_\")]\n",
      "mapnames.head()"
     ],
     "language": "python",
     "metadata": {},
     "outputs": [
      {
       "html": [
        "<div style=\"max-height:1000px;max-width:1500px;overflow:auto;\">\n",
        "<table border=\"1\" class=\"dataframe\">\n",
        "  <thead>\n",
        "    <tr style=\"text-align: right;\">\n",
        "      <th></th>\n",
        "      <th>lepname</th>\n",
        "      <th>mapname</th>\n",
        "      <th>LG</th>\n",
        "      <th>match</th>\n",
        "    </tr>\n",
        "  </thead>\n",
        "  <tbody>\n",
        "    <tr>\n",
        "      <th>0</th>\n",
        "      <td> 1</td>\n",
        "      <td>  10001</td>\n",
        "      <td> 10</td>\n",
        "      <td> 10001</td>\n",
        "    </tr>\n",
        "    <tr>\n",
        "      <th>1</th>\n",
        "      <td> 2</td>\n",
        "      <td>  10003</td>\n",
        "      <td> 19</td>\n",
        "      <td> 10003</td>\n",
        "    </tr>\n",
        "    <tr>\n",
        "      <th>2</th>\n",
        "      <td> 3</td>\n",
        "      <td> 1000_C</td>\n",
        "      <td> 11</td>\n",
        "      <td>  1000</td>\n",
        "    </tr>\n",
        "    <tr>\n",
        "      <th>3</th>\n",
        "      <td> 4</td>\n",
        "      <td>  10012</td>\n",
        "      <td>  2</td>\n",
        "      <td> 10012</td>\n",
        "    </tr>\n",
        "    <tr>\n",
        "      <th>4</th>\n",
        "      <td> 5</td>\n",
        "      <td>  10020</td>\n",
        "      <td> 22</td>\n",
        "      <td> 10020</td>\n",
        "    </tr>\n",
        "  </tbody>\n",
        "</table>\n",
        "</div>"
       ],
       "metadata": {},
       "output_type": "pyout",
       "prompt_number": 3,
       "text": [
        "   lepname mapname  LG  match\n",
        "0        1   10001  10  10001\n",
        "1        2   10003  19  10003\n",
        "2        3  1000_C  11   1000\n",
        "3        4   10012   2  10012\n",
        "4        5   10020  22  10020"
       ]
      }
     ],
     "prompt_number": 3
    },
    {
     "cell_type": "code",
     "collapsed": false,
     "input": [
      "## raw *.map file from stacks"
     ],
     "language": "python",
     "metadata": {},
     "outputs": [],
     "prompt_number": 4
    },
    {
     "cell_type": "code",
     "collapsed": false,
     "input": [
      "pop_snpfile = \"/home/ipseg/Desktop/waples/chum_populations/data/batch_3/batch_3.plink.map\"\n",
      "pop_snps = pd.read_csv(pop_snpfile, sep =\"\\t\", header = None, comment = \"#\" )\n",
      "pop_snps.columns = ['contig', 'stacks_SNP', 'ignore', 'pos']\n",
      "pop_snps['match'] = [xx for xx in pop_snps['contig'].str.strip(\"c\")]\n",
      "pop_snps.head()"
     ],
     "language": "python",
     "metadata": {},
     "outputs": [
      {
       "html": [
        "<div style=\"max-height:1000px;max-width:1500px;overflow:auto;\">\n",
        "<table border=\"1\" class=\"dataframe\">\n",
        "  <thead>\n",
        "    <tr style=\"text-align: right;\">\n",
        "      <th></th>\n",
        "      <th>contig</th>\n",
        "      <th>stacks_SNP</th>\n",
        "      <th>ignore</th>\n",
        "      <th>pos</th>\n",
        "      <th>match</th>\n",
        "    </tr>\n",
        "  </thead>\n",
        "  <tbody>\n",
        "    <tr>\n",
        "      <th>0</th>\n",
        "      <td> c10001</td>\n",
        "      <td>  2_70</td>\n",
        "      <td> 0</td>\n",
        "      <td> 70</td>\n",
        "      <td> 10001</td>\n",
        "    </tr>\n",
        "    <tr>\n",
        "      <th>1</th>\n",
        "      <td> c10024</td>\n",
        "      <td> 20_16</td>\n",
        "      <td> 0</td>\n",
        "      <td> 16</td>\n",
        "      <td> 10024</td>\n",
        "    </tr>\n",
        "    <tr>\n",
        "      <th>2</th>\n",
        "      <td> c10027</td>\n",
        "      <td> 23_13</td>\n",
        "      <td> 0</td>\n",
        "      <td> 13</td>\n",
        "      <td> 10027</td>\n",
        "    </tr>\n",
        "    <tr>\n",
        "      <th>3</th>\n",
        "      <td> c10027</td>\n",
        "      <td> 23_41</td>\n",
        "      <td> 0</td>\n",
        "      <td> 41</td>\n",
        "      <td> 10027</td>\n",
        "    </tr>\n",
        "    <tr>\n",
        "      <th>4</th>\n",
        "      <td> c10027</td>\n",
        "      <td> 23_62</td>\n",
        "      <td> 0</td>\n",
        "      <td> 62</td>\n",
        "      <td> 10027</td>\n",
        "    </tr>\n",
        "  </tbody>\n",
        "</table>\n",
        "</div>"
       ],
       "metadata": {},
       "output_type": "pyout",
       "prompt_number": 5,
       "text": [
        "   contig stacks_SNP  ignore  pos  match\n",
        "0  c10001       2_70       0   70  10001\n",
        "1  c10024      20_16       0   16  10024\n",
        "2  c10027      23_13       0   13  10027\n",
        "3  c10027      23_41       0   41  10027\n",
        "4  c10027      23_62       0   62  10027"
       ]
      }
     ],
     "prompt_number": 5
    },
    {
     "cell_type": "code",
     "collapsed": false,
     "input": [
      "## Look at overlap"
     ],
     "language": "python",
     "metadata": {},
     "outputs": [],
     "prompt_number": 6
    },
    {
     "cell_type": "code",
     "collapsed": false,
     "input": [
      "LEPmap_v_pop = pd.merge(pop_snps, mapnames, on = 'match', how = 'inner')\n",
      "LEPmap_v_pop.head()\n",
      "print(LEPmap_v_pop.shape)"
     ],
     "language": "python",
     "metadata": {},
     "outputs": [
      {
       "output_type": "stream",
       "stream": "stdout",
       "text": [
        "(4103, 8)\n"
       ]
      }
     ],
     "prompt_number": 10
    },
    {
     "cell_type": "code",
     "collapsed": false,
     "input": [
      "## Retained in populations after filtering"
     ],
     "language": "python",
     "metadata": {},
     "outputs": [],
     "prompt_number": 7
    },
    {
     "cell_type": "code",
     "collapsed": false,
     "input": [
      "retained_pop_snpfile = \"/home/ipseg/Desktop/waples/chum_populations/data/batch_3/work/single_catID.snplist\"\n",
      "retained_pop_snps = pd.read_csv(retained_pop_snpfile, sep = \"\\t\", header = None)\n",
      "retained_pop_snps.columns = ['stacks_SNP']\n",
      "retained_pop_snps.head()"
     ],
     "language": "python",
     "metadata": {},
     "outputs": [
      {
       "html": [
        "<div style=\"max-height:1000px;max-width:1500px;overflow:auto;\">\n",
        "<table border=\"1\" class=\"dataframe\">\n",
        "  <thead>\n",
        "    <tr style=\"text-align: right;\">\n",
        "      <th></th>\n",
        "      <th>stacks_SNP</th>\n",
        "    </tr>\n",
        "  </thead>\n",
        "  <tbody>\n",
        "    <tr>\n",
        "      <th>0</th>\n",
        "      <td> 81718_57</td>\n",
        "    </tr>\n",
        "    <tr>\n",
        "      <th>1</th>\n",
        "      <td> 81531_71</td>\n",
        "    </tr>\n",
        "    <tr>\n",
        "      <th>2</th>\n",
        "      <td> 81344_40</td>\n",
        "    </tr>\n",
        "    <tr>\n",
        "      <th>3</th>\n",
        "      <td> 80896_50</td>\n",
        "    </tr>\n",
        "    <tr>\n",
        "      <th>4</th>\n",
        "      <td> 80454_19</td>\n",
        "    </tr>\n",
        "  </tbody>\n",
        "</table>\n",
        "</div>"
       ],
       "metadata": {},
       "output_type": "pyout",
       "prompt_number": 8,
       "text": [
        "  stacks_SNP\n",
        "0   81718_57\n",
        "1   81531_71\n",
        "2   81344_40\n",
        "3   80896_50\n",
        "4   80454_19"
       ]
      }
     ],
     "prompt_number": 8
    },
    {
     "cell_type": "code",
     "collapsed": false,
     "input": [
      "retained = pd.merge(LEPmap_v_pop, retained_pop_snps)\n",
      "print(retained.shape)\n",
      "retained.head()"
     ],
     "language": "python",
     "metadata": {},
     "outputs": [
      {
       "output_type": "stream",
       "stream": "stdout",
       "text": [
        "(1926, 8)\n"
       ]
      },
      {
       "html": [
        "<div style=\"max-height:1000px;max-width:1500px;overflow:auto;\">\n",
        "<table border=\"1\" class=\"dataframe\">\n",
        "  <thead>\n",
        "    <tr style=\"text-align: right;\">\n",
        "      <th></th>\n",
        "      <th>contig</th>\n",
        "      <th>stacks_SNP</th>\n",
        "      <th>ignore</th>\n",
        "      <th>pos</th>\n",
        "      <th>match</th>\n",
        "      <th>lepname</th>\n",
        "      <th>mapname</th>\n",
        "      <th>LG</th>\n",
        "    </tr>\n",
        "  </thead>\n",
        "  <tbody>\n",
        "    <tr>\n",
        "      <th>0</th>\n",
        "      <td> c10001</td>\n",
        "      <td>  2_70</td>\n",
        "      <td> 0</td>\n",
        "      <td> 70</td>\n",
        "      <td> 10001</td>\n",
        "      <td>  1</td>\n",
        "      <td>   10001</td>\n",
        "      <td> 10</td>\n",
        "    </tr>\n",
        "    <tr>\n",
        "      <th>1</th>\n",
        "      <td> c10068</td>\n",
        "      <td> 63_53</td>\n",
        "      <td> 0</td>\n",
        "      <td> 53</td>\n",
        "      <td> 10068</td>\n",
        "      <td> 15</td>\n",
        "      <td> 10068_A</td>\n",
        "      <td> 37</td>\n",
        "    </tr>\n",
        "    <tr>\n",
        "      <th>2</th>\n",
        "      <td> c10068</td>\n",
        "      <td> 63_53</td>\n",
        "      <td> 0</td>\n",
        "      <td> 53</td>\n",
        "      <td> 10068</td>\n",
        "      <td> 16</td>\n",
        "      <td> 10068_B</td>\n",
        "      <td>  9</td>\n",
        "    </tr>\n",
        "    <tr>\n",
        "      <th>3</th>\n",
        "      <td> c10081</td>\n",
        "      <td> 76_65</td>\n",
        "      <td> 0</td>\n",
        "      <td> 65</td>\n",
        "      <td> 10081</td>\n",
        "      <td> 18</td>\n",
        "      <td>   10081</td>\n",
        "      <td>  1</td>\n",
        "    </tr>\n",
        "    <tr>\n",
        "      <th>4</th>\n",
        "      <td> c10098</td>\n",
        "      <td> 90_75</td>\n",
        "      <td> 0</td>\n",
        "      <td> 75</td>\n",
        "      <td> 10098</td>\n",
        "      <td> 24</td>\n",
        "      <td>   10098</td>\n",
        "      <td> 17</td>\n",
        "    </tr>\n",
        "  </tbody>\n",
        "</table>\n",
        "</div>"
       ],
       "metadata": {},
       "output_type": "pyout",
       "prompt_number": 11,
       "text": [
        "   contig stacks_SNP  ignore  pos  match  lepname  mapname  LG\n",
        "0  c10001       2_70       0   70  10001        1    10001  10\n",
        "1  c10068      63_53       0   53  10068       15  10068_A  37\n",
        "2  c10068      63_53       0   53  10068       16  10068_B   9\n",
        "3  c10081      76_65       0   65  10081       18    10081   1\n",
        "4  c10098      90_75       0   75  10098       24    10098  17"
       ]
      }
     ],
     "prompt_number": 11
    },
    {
     "cell_type": "code",
     "collapsed": false,
     "input": [
      "chum_08_map_filename = '/olympus/WORK/WAPLES/Stacks_mapping/Chum_data/consensus/chum_08_PSV_map_ALIGNED.tsv'\n",
      "chum_08_map = pd.read_csv(chum_08_map_filename, sep = \"\\t\", header = None)\n",
      "chum_08_map.columns = ['LG', 'SNPx', 'cM']\n",
      "chum_08_map['match'] = [xx[0] for xx in chum_08_map['SNPx'].str.split(\"_\") ]\n",
      "\n",
      "pd.merge(pop_snps, chum_08_map).head()"
     ],
     "language": "python",
     "metadata": {},
     "outputs": [
      {
       "html": [
        "<div style=\"max-height:1000px;max-width:1500px;overflow:auto;\">\n",
        "<table border=\"1\" class=\"dataframe\">\n",
        "  <thead>\n",
        "    <tr style=\"text-align: right;\">\n",
        "      <th></th>\n",
        "      <th>contig</th>\n",
        "      <th>stacks_SNP</th>\n",
        "      <th>ignore</th>\n",
        "      <th>pos</th>\n",
        "      <th>match</th>\n",
        "      <th>LG</th>\n",
        "      <th>SNPx</th>\n",
        "      <th>cM</th>\n",
        "    </tr>\n",
        "  </thead>\n",
        "  <tbody>\n",
        "    <tr>\n",
        "      <th>0</th>\n",
        "      <td> c10001</td>\n",
        "      <td>   2_70</td>\n",
        "      <td> 0</td>\n",
        "      <td> 70</td>\n",
        "      <td> 10001</td>\n",
        "      <td> 29</td>\n",
        "      <td> 10001_x1</td>\n",
        "      <td>   4.986</td>\n",
        "    </tr>\n",
        "    <tr>\n",
        "      <th>1</th>\n",
        "      <td> c10068</td>\n",
        "      <td>  63_53</td>\n",
        "      <td> 0</td>\n",
        "      <td> 53</td>\n",
        "      <td> 10068</td>\n",
        "      <td> 28</td>\n",
        "      <td> 10068_x2</td>\n",
        "      <td> 111.654</td>\n",
        "    </tr>\n",
        "    <tr>\n",
        "      <th>2</th>\n",
        "      <td> c10068</td>\n",
        "      <td>  63_53</td>\n",
        "      <td> 0</td>\n",
        "      <td> 53</td>\n",
        "      <td> 10068</td>\n",
        "      <td> 15</td>\n",
        "      <td> 10068_x1</td>\n",
        "      <td>  55.225</td>\n",
        "    </tr>\n",
        "    <tr>\n",
        "      <th>3</th>\n",
        "      <td> c10081</td>\n",
        "      <td>  76_65</td>\n",
        "      <td> 0</td>\n",
        "      <td> 65</td>\n",
        "      <td> 10081</td>\n",
        "      <td>  0</td>\n",
        "      <td> 10081_x1</td>\n",
        "      <td>  67.785</td>\n",
        "    </tr>\n",
        "    <tr>\n",
        "      <th>4</th>\n",
        "      <td> c10106</td>\n",
        "      <td> 100_35</td>\n",
        "      <td> 0</td>\n",
        "      <td> 35</td>\n",
        "      <td> 10106</td>\n",
        "      <td>  0</td>\n",
        "      <td> 10106_x1</td>\n",
        "      <td>  77.872</td>\n",
        "    </tr>\n",
        "  </tbody>\n",
        "</table>\n",
        "</div>"
       ],
       "metadata": {},
       "output_type": "pyout",
       "prompt_number": 13,
       "text": [
        "   contig stacks_SNP  ignore  pos  match  LG      SNPx       cM\n",
        "0  c10001       2_70       0   70  10001  29  10001_x1    4.986\n",
        "1  c10068      63_53       0   53  10068  28  10068_x2  111.654\n",
        "2  c10068      63_53       0   53  10068  15  10068_x1   55.225\n",
        "3  c10081      76_65       0   65  10081   0  10081_x1   67.785\n",
        "4  c10106     100_35       0   35  10106   0  10106_x1   77.872"
       ]
      }
     ],
     "prompt_number": 13
    },
    {
     "cell_type": "code",
     "collapsed": false,
     "input": [
      "aa = pd.merge(mapnames, chum_08_map, on =['match'])\n",
      "aa = aa[aa['match'] != 'Oke']"
     ],
     "language": "python",
     "metadata": {},
     "outputs": [],
     "prompt_number": 16
    },
    {
     "cell_type": "code",
     "collapsed": false,
     "input": [
      "!pwd"
     ],
     "language": "python",
     "metadata": {},
     "outputs": [
      {
       "output_type": "stream",
       "stream": "stdout",
       "text": [
        "/home/ipseg/.canopy/ipython_notebooks\r\n"
       ]
      }
     ],
     "prompt_number": 17
    },
    {
     "cell_type": "code",
     "collapsed": false,
     "input": [],
     "language": "python",
     "metadata": {},
     "outputs": []
    },
    {
     "cell_type": "code",
     "collapsed": false,
     "input": [],
     "language": "python",
     "metadata": {},
     "outputs": []
    },
    {
     "cell_type": "code",
     "collapsed": false,
     "input": [],
     "language": "python",
     "metadata": {},
     "outputs": []
    }
   ],
   "metadata": {}
  }
 ]
}