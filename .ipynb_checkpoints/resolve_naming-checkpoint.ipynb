{
 "metadata": {
  "name": "",
  "signature": "sha256:9419c21dbc61008c1a9a0d42d6d2597f2b63a0a47306c9b693cebe6e5ecf8869"
 },
 "nbformat": 3,
 "nbformat_minor": 0,
 "worksheets": [
  {
   "cells": [
    {
     "cell_type": "markdown",
     "metadata": {},
     "source": [
      "# Naming"
     ]
    },
    {
     "cell_type": "code",
     "collapsed": false,
     "input": [
      "import pandas as pd\n",
      "\n",
      "## write a names file that translates betwwen LEPmap output and our locus names\n",
      "lepmap_filename = \"/home/ipseg/Desktop/waples/chum_populations/linkage_map/LEPmap/with_paralogs/collapsed_loci.lepmap\"\n",
      "names_file = \"/home/ipseg/Desktop/waples/chum_populations/linkage_map/LEPmap/with_paralogs/collapsed_loci.names\"\n",
      "with open(lepmap_filename)as INFILE:\n",
      "    #just need first line\n",
      "    first_line = next(INFILE)\n",
      "    marker_names = first_line.strip().split()[6:]\n",
      "\n",
      "with open(names_file, 'w') as OUTFILE:\n",
      "    OUTFILE.write('{}\\t{}\\n'.format('LEP_locus', 'Resolved_locus'))\n",
      "    count = 0\n",
      "    for marker in marker_names:\n",
      "        count += 1\n",
      "        OUTFILE.write( \"{}\\t{}\\n\".format(count, marker))\n",
      "        \n",
      "names_table = pd.read_csv(names_file, sep=\"\\t\", header = 0)\n",
      "names_table.head()"
     ],
     "language": "python",
     "metadata": {},
     "outputs": [
      {
       "html": [
        "<div style=\"max-height:1000px;max-width:1500px;overflow:auto;\">\n",
        "<table border=\"1\" class=\"dataframe\">\n",
        "  <thead>\n",
        "    <tr style=\"text-align: right;\">\n",
        "      <th></th>\n",
        "      <th>LEP_locus</th>\n",
        "      <th>Resolved_locus</th>\n",
        "    </tr>\n",
        "  </thead>\n",
        "  <tbody>\n",
        "    <tr>\n",
        "      <th>0</th>\n",
        "      <td> 1</td>\n",
        "      <td>  10001</td>\n",
        "    </tr>\n",
        "    <tr>\n",
        "      <th>1</th>\n",
        "      <td> 2</td>\n",
        "      <td>  10003</td>\n",
        "    </tr>\n",
        "    <tr>\n",
        "      <th>2</th>\n",
        "      <td> 3</td>\n",
        "      <td> 1000_C</td>\n",
        "    </tr>\n",
        "    <tr>\n",
        "      <th>3</th>\n",
        "      <td> 4</td>\n",
        "      <td>  10012</td>\n",
        "    </tr>\n",
        "    <tr>\n",
        "      <th>4</th>\n",
        "      <td> 5</td>\n",
        "      <td>  10020</td>\n",
        "    </tr>\n",
        "  </tbody>\n",
        "</table>\n",
        "</div>"
       ],
       "metadata": {},
       "output_type": "pyout",
       "prompt_number": 52,
       "text": [
        "   LEP_locus Resolved_locus\n",
        "0          1          10001\n",
        "1          2          10003\n",
        "2          3         1000_C\n",
        "3          4          10012\n",
        "4          5          10020"
       ]
      }
     ],
     "prompt_number": 52
    },
    {
     "cell_type": "markdown",
     "metadata": {},
     "source": [
      "## TODO \n",
      "translate the LG_file below to match the chum_08 linkage groups."
     ]
    },
    {
     "cell_type": "markdown",
     "metadata": {},
     "source": [
      "#### notice this is a *.map file produced by the 'populations' program from Stacks, not LEPmap"
     ]
    },
    {
     "cell_type": "code",
     "collapsed": false,
     "input": [
      "pop_snpfile = \"/home/ipseg/Desktop/waples/chum_populations/data/batch_4/pop_genotypes/batch_4.plink.map\"\n",
      "pop_snps = pd.read_csv(pop_snpfile, sep =\"\\t\", header = None, comment = \"#\")\n",
      "pop_snps.columns = ['contig', 'stacks_SNP', 'ignore', 'pos']\n",
      "pop_snps['match'] = [xx for xx in pop_snps['contig'].str.strip(\"c\")]\n",
      "pop_snps.head()\n",
      "print(pop_snps.shape)"
     ],
     "language": "python",
     "metadata": {},
     "outputs": [
      {
       "output_type": "stream",
       "stream": "stdout",
       "text": [
        "(28861, 5)\n"
       ]
      }
     ],
     "prompt_number": 55
    },
    {
     "cell_type": "markdown",
     "metadata": {},
     "source": [
      "## Look at overlap"
     ]
    },
    {
     "cell_type": "code",
     "collapsed": false,
     "input": [
      "LEPmap_v_pop = pd.merge(pop_snps, mapnames, on = 'match', how = 'inner')\n",
      "LEPmap_v_pop_to_print = LEPmap_v_pop[['stacks_SNP', 'contig', 'LEP_LG']]\n",
      "LEPmap_v_pop_to_print.to_csv('/home/ipseg/Desktop/waples/chum_populations/data/batch_4/lep_v_pop.txt', \n",
      "                                             sep = \"\\t\", index = False)"
     ],
     "language": "python",
     "metadata": {},
     "outputs": [],
     "prompt_number": 51
    },
    {
     "cell_type": "code",
     "collapsed": false,
     "input": [
      "## Retained in populations after filtering"
     ],
     "language": "python",
     "metadata": {},
     "outputs": [],
     "prompt_number": 7
    },
    {
     "cell_type": "code",
     "collapsed": false,
     "input": [
      "retained_pop_snpfile = \"/home/ipseg/Desktop/waples/chum_populations/data/batch_3/work/single_catID.snplist\"\n",
      "retained_pop_snps = pd.read_csv(retained_pop_snpfile, sep = \"\\t\", header = None)\n",
      "retained_pop_snps.columns = ['stacks_SNP']\n",
      "retained_pop_snps.head()"
     ],
     "language": "python",
     "metadata": {},
     "outputs": [
      {
       "html": [
        "<div style=\"max-height:1000px;max-width:1500px;overflow:auto;\">\n",
        "<table border=\"1\" class=\"dataframe\">\n",
        "  <thead>\n",
        "    <tr style=\"text-align: right;\">\n",
        "      <th></th>\n",
        "      <th>stacks_SNP</th>\n",
        "    </tr>\n",
        "  </thead>\n",
        "  <tbody>\n",
        "    <tr>\n",
        "      <th>0</th>\n",
        "      <td> 81718_57</td>\n",
        "    </tr>\n",
        "    <tr>\n",
        "      <th>1</th>\n",
        "      <td> 81531_71</td>\n",
        "    </tr>\n",
        "    <tr>\n",
        "      <th>2</th>\n",
        "      <td> 81344_40</td>\n",
        "    </tr>\n",
        "    <tr>\n",
        "      <th>3</th>\n",
        "      <td> 80896_50</td>\n",
        "    </tr>\n",
        "    <tr>\n",
        "      <th>4</th>\n",
        "      <td> 80454_19</td>\n",
        "    </tr>\n",
        "  </tbody>\n",
        "</table>\n",
        "</div>"
       ],
       "metadata": {},
       "output_type": "pyout",
       "prompt_number": 5,
       "text": [
        "  stacks_SNP\n",
        "0   81718_57\n",
        "1   81531_71\n",
        "2   81344_40\n",
        "3   80896_50\n",
        "4   80454_19"
       ]
      }
     ],
     "prompt_number": 5
    },
    {
     "cell_type": "code",
     "collapsed": false,
     "input": [
      "retained = pd.merge(LEPmap_v_pop, retained_pop_snps)\n",
      "print(retained.shape)\n",
      "retained.head()"
     ],
     "language": "python",
     "metadata": {},
     "outputs": [
      {
       "output_type": "stream",
       "stream": "stdout",
       "text": [
        "(1926, 8)\n"
       ]
      },
      {
       "html": [
        "<div style=\"max-height:1000px;max-width:1500px;overflow:auto;\">\n",
        "<table border=\"1\" class=\"dataframe\">\n",
        "  <thead>\n",
        "    <tr style=\"text-align: right;\">\n",
        "      <th></th>\n",
        "      <th>contig</th>\n",
        "      <th>stacks_SNP</th>\n",
        "      <th>ignore</th>\n",
        "      <th>pos</th>\n",
        "      <th>match</th>\n",
        "      <th>lepname</th>\n",
        "      <th>mapname</th>\n",
        "      <th>LG</th>\n",
        "    </tr>\n",
        "  </thead>\n",
        "  <tbody>\n",
        "    <tr>\n",
        "      <th>0</th>\n",
        "      <td> c10001</td>\n",
        "      <td>  2_70</td>\n",
        "      <td> 0</td>\n",
        "      <td> 70</td>\n",
        "      <td> 10001</td>\n",
        "      <td>  1</td>\n",
        "      <td>   10001</td>\n",
        "      <td> 10</td>\n",
        "    </tr>\n",
        "    <tr>\n",
        "      <th>1</th>\n",
        "      <td> c10068</td>\n",
        "      <td> 63_53</td>\n",
        "      <td> 0</td>\n",
        "      <td> 53</td>\n",
        "      <td> 10068</td>\n",
        "      <td> 15</td>\n",
        "      <td> 10068_A</td>\n",
        "      <td> 37</td>\n",
        "    </tr>\n",
        "    <tr>\n",
        "      <th>2</th>\n",
        "      <td> c10068</td>\n",
        "      <td> 63_53</td>\n",
        "      <td> 0</td>\n",
        "      <td> 53</td>\n",
        "      <td> 10068</td>\n",
        "      <td> 16</td>\n",
        "      <td> 10068_B</td>\n",
        "      <td>  9</td>\n",
        "    </tr>\n",
        "    <tr>\n",
        "      <th>3</th>\n",
        "      <td> c10081</td>\n",
        "      <td> 76_65</td>\n",
        "      <td> 0</td>\n",
        "      <td> 65</td>\n",
        "      <td> 10081</td>\n",
        "      <td> 18</td>\n",
        "      <td>   10081</td>\n",
        "      <td>  1</td>\n",
        "    </tr>\n",
        "    <tr>\n",
        "      <th>4</th>\n",
        "      <td> c10098</td>\n",
        "      <td> 90_75</td>\n",
        "      <td> 0</td>\n",
        "      <td> 75</td>\n",
        "      <td> 10098</td>\n",
        "      <td> 24</td>\n",
        "      <td>   10098</td>\n",
        "      <td> 17</td>\n",
        "    </tr>\n",
        "  </tbody>\n",
        "</table>\n",
        "</div>"
       ],
       "metadata": {},
       "output_type": "pyout",
       "prompt_number": 6,
       "text": [
        "   contig stacks_SNP  ignore  pos  match  lepname  mapname  LG\n",
        "0  c10001       2_70       0   70  10001        1    10001  10\n",
        "1  c10068      63_53       0   53  10068       15  10068_A  37\n",
        "2  c10068      63_53       0   53  10068       16  10068_B   9\n",
        "3  c10081      76_65       0   65  10081       18    10081   1\n",
        "4  c10098      90_75       0   75  10098       24    10098  17"
       ]
      }
     ],
     "prompt_number": 6
    },
    {
     "cell_type": "code",
     "collapsed": false,
     "input": [
      "chum_08_map_filename = '/olympus/WORK/WAPLES/Stacks_mapping/Chum_data/consensus/chum_08_PSV_map_ALIGNED.tsv'\n",
      "chum_08_map = pd.read_csv(chum_08_map_filename, sep = \"\\t\", header = None)\n",
      "chum_08_map.columns = ['LG', 'SNPx', 'cM']\n",
      "chum_08_map['match'] = [xx[0] for xx in chum_08_map['SNPx'].str.split(\"_\") ]\n",
      "\n",
      "pd.merge(pop_snps, chum_08_map).head()"
     ],
     "language": "python",
     "metadata": {},
     "outputs": [
      {
       "html": [
        "<div style=\"max-height:1000px;max-width:1500px;overflow:auto;\">\n",
        "<table border=\"1\" class=\"dataframe\">\n",
        "  <thead>\n",
        "    <tr style=\"text-align: right;\">\n",
        "      <th></th>\n",
        "      <th>contig</th>\n",
        "      <th>stacks_SNP</th>\n",
        "      <th>ignore</th>\n",
        "      <th>pos</th>\n",
        "      <th>match</th>\n",
        "      <th>LG</th>\n",
        "      <th>SNPx</th>\n",
        "      <th>cM</th>\n",
        "    </tr>\n",
        "  </thead>\n",
        "  <tbody>\n",
        "    <tr>\n",
        "      <th>0</th>\n",
        "      <td> c10001</td>\n",
        "      <td>   2_70</td>\n",
        "      <td> 0</td>\n",
        "      <td> 70</td>\n",
        "      <td> 10001</td>\n",
        "      <td> 29</td>\n",
        "      <td> 10001_x1</td>\n",
        "      <td>   4.986</td>\n",
        "    </tr>\n",
        "    <tr>\n",
        "      <th>1</th>\n",
        "      <td> c10068</td>\n",
        "      <td>  63_53</td>\n",
        "      <td> 0</td>\n",
        "      <td> 53</td>\n",
        "      <td> 10068</td>\n",
        "      <td> 28</td>\n",
        "      <td> 10068_x2</td>\n",
        "      <td> 111.654</td>\n",
        "    </tr>\n",
        "    <tr>\n",
        "      <th>2</th>\n",
        "      <td> c10068</td>\n",
        "      <td>  63_53</td>\n",
        "      <td> 0</td>\n",
        "      <td> 53</td>\n",
        "      <td> 10068</td>\n",
        "      <td> 15</td>\n",
        "      <td> 10068_x1</td>\n",
        "      <td>  55.225</td>\n",
        "    </tr>\n",
        "    <tr>\n",
        "      <th>3</th>\n",
        "      <td> c10081</td>\n",
        "      <td>  76_65</td>\n",
        "      <td> 0</td>\n",
        "      <td> 65</td>\n",
        "      <td> 10081</td>\n",
        "      <td>  0</td>\n",
        "      <td> 10081_x1</td>\n",
        "      <td>  67.785</td>\n",
        "    </tr>\n",
        "    <tr>\n",
        "      <th>4</th>\n",
        "      <td> c10106</td>\n",
        "      <td> 100_35</td>\n",
        "      <td> 0</td>\n",
        "      <td> 35</td>\n",
        "      <td> 10106</td>\n",
        "      <td>  0</td>\n",
        "      <td> 10106_x1</td>\n",
        "      <td>  77.872</td>\n",
        "    </tr>\n",
        "  </tbody>\n",
        "</table>\n",
        "</div>"
       ],
       "metadata": {},
       "output_type": "pyout",
       "prompt_number": 7,
       "text": [
        "   contig stacks_SNP  ignore  pos  match  LG      SNPx       cM\n",
        "0  c10001       2_70       0   70  10001  29  10001_x1    4.986\n",
        "1  c10068      63_53       0   53  10068  28  10068_x2  111.654\n",
        "2  c10068      63_53       0   53  10068  15  10068_x1   55.225\n",
        "3  c10081      76_65       0   65  10081   0  10081_x1   67.785\n",
        "4  c10106     100_35       0   35  10106   0  10106_x1   77.872"
       ]
      }
     ],
     "prompt_number": 7
    },
    {
     "cell_type": "code",
     "collapsed": false,
     "input": [
      "aa = pd.merge(mapnames, chum_08_map, on =['match'])\n",
      "aa = aa[aa['match'] != 'Oke']\n",
      "bb = pd.merge(aa, pop_snps)\n",
      "bb = bb.drop_duplicates(['lepname'])\n",
      "bb.head()\n",
      "bb.shape"
     ],
     "language": "python",
     "metadata": {},
     "outputs": [
      {
       "metadata": {},
       "output_type": "pyout",
       "prompt_number": 16,
       "text": [
        "(1429, 11)"
       ]
      }
     ],
     "prompt_number": 16
    },
    {
     "cell_type": "code",
     "collapsed": false,
     "input": [
      "!pwd"
     ],
     "language": "python",
     "metadata": {},
     "outputs": [
      {
       "output_type": "stream",
       "stream": "stdout",
       "text": [
        "/home/ipseg/Desktop/waples/chum_populations\r\n"
       ]
      }
     ],
     "prompt_number": 9
    },
    {
     "cell_type": "code",
     "collapsed": false,
     "input": [],
     "language": "python",
     "metadata": {},
     "outputs": []
    },
    {
     "cell_type": "code",
     "collapsed": false,
     "input": [],
     "language": "python",
     "metadata": {},
     "outputs": []
    },
    {
     "cell_type": "code",
     "collapsed": false,
     "input": [],
     "language": "python",
     "metadata": {},
     "outputs": []
    }
   ],
   "metadata": {}
  }
 ]
}