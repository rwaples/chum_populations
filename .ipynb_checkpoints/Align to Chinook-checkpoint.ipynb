{
 "cells": [
  {
   "cell_type": "markdown",
   "metadata": {},
   "source": [
    "## Align to Chinook"
   ]
  },
  {
   "cell_type": "code",
   "execution_count": 1,
   "metadata": {
    "collapsed": false
   },
   "outputs": [],
   "source": [
    "import pysam\n",
    "import os.path\n",
    "import numpy as np\n",
    "import pandas as pd\n",
    "from IPython.core.pylabtools import figsize\n",
    "import matplotlib.pyplot as plt\n",
    "import seaborn as sns\n",
    "sns.set(font_scale=2)\n",
    "sns.set_style(\"white\")\n",
    "%matplotlib inline"
   ]
  },
  {
   "cell_type": "code",
   "execution_count": 2,
   "metadata": {
    "collapsed": false
   },
   "outputs": [
    {
     "data": {
      "text/html": [
       "<div>\n",
       "<table border=\"1\" class=\"dataframe\">\n",
       "  <thead>\n",
       "    <tr style=\"text-align: right;\">\n",
       "      <th></th>\n",
       "      <th>Locus</th>\n",
       "      <th>Chromosome</th>\n",
       "      <th>Duplicate</th>\n",
       "      <th>Arm</th>\n",
       "      <th>Position (cM)</th>\n",
       "      <th>Region of population divergence</th>\n",
       "      <th>Paired-end annotation</th>\n",
       "      <th>Locus name from Larson et al. 2014</th>\n",
       "      <th>Outlier from Larson et al. 2014</th>\n",
       "      <th>Consensus Sequence</th>\n",
       "    </tr>\n",
       "  </thead>\n",
       "  <tbody>\n",
       "    <tr>\n",
       "      <th>0</th>\n",
       "      <td>44207_x1</td>\n",
       "      <td>Ots01</td>\n",
       "      <td>1</td>\n",
       "      <td>p</td>\n",
       "      <td>0.00</td>\n",
       "      <td>0</td>\n",
       "      <td>NaN</td>\n",
       "      <td>NaN</td>\n",
       "      <td>NaN</td>\n",
       "      <td>TGCAGGTGTCTGCAAAAAAACACTCCCCTCCCTAGTTCTCCATATG...</td>\n",
       "    </tr>\n",
       "    <tr>\n",
       "      <th>1</th>\n",
       "      <td>28051_x1</td>\n",
       "      <td>Ots01</td>\n",
       "      <td>1</td>\n",
       "      <td>p</td>\n",
       "      <td>0.55</td>\n",
       "      <td>0</td>\n",
       "      <td>NaN</td>\n",
       "      <td>NaN</td>\n",
       "      <td>NaN</td>\n",
       "      <td>TGCAGGCACCTGGACAGCCACAAGGAGTCGCTAGATTGTGATGAGC...</td>\n",
       "    </tr>\n",
       "    <tr>\n",
       "      <th>2</th>\n",
       "      <td>6689_x1</td>\n",
       "      <td>Ots01</td>\n",
       "      <td>1</td>\n",
       "      <td>p</td>\n",
       "      <td>0.55</td>\n",
       "      <td>0</td>\n",
       "      <td>NaN</td>\n",
       "      <td>NaN</td>\n",
       "      <td>NaN</td>\n",
       "      <td>TGCAGGGAGAAACTTTGTAGTGGGGTGAAAAGAGGGAGAAGCATCG...</td>\n",
       "    </tr>\n",
       "    <tr>\n",
       "      <th>3</th>\n",
       "      <td>59778_x1</td>\n",
       "      <td>Ots01</td>\n",
       "      <td>1</td>\n",
       "      <td>p</td>\n",
       "      <td>0.55</td>\n",
       "      <td>0</td>\n",
       "      <td>NaN</td>\n",
       "      <td>NaN</td>\n",
       "      <td>NaN</td>\n",
       "      <td>TGCAGGATATTAATGCAGGTAAGAAGAAATGGCTTTTAAATGTTTT...</td>\n",
       "    </tr>\n",
       "    <tr>\n",
       "      <th>4</th>\n",
       "      <td>38781_x1</td>\n",
       "      <td>Ots01</td>\n",
       "      <td>1</td>\n",
       "      <td>p</td>\n",
       "      <td>0.55</td>\n",
       "      <td>0</td>\n",
       "      <td>PRTG</td>\n",
       "      <td>NaN</td>\n",
       "      <td>NaN</td>\n",
       "      <td>TGCAGGAAGGGTCCTCTGGTGGACAACAGAACTCCAGGGACTGGAC...</td>\n",
       "    </tr>\n",
       "  </tbody>\n",
       "</table>\n",
       "</div>"
      ],
      "text/plain": [
       "      Locus Chromosome  Duplicate Arm  Position (cM)  \\\n",
       "0  44207_x1      Ots01          1   p           0.00   \n",
       "1  28051_x1      Ots01          1   p           0.55   \n",
       "2   6689_x1      Ots01          1   p           0.55   \n",
       "3  59778_x1      Ots01          1   p           0.55   \n",
       "4  38781_x1      Ots01          1   p           0.55   \n",
       "\n",
       "   Region of population divergence Paired-end annotation  \\\n",
       "0                                0                   NaN   \n",
       "1                                0                   NaN   \n",
       "2                                0                   NaN   \n",
       "3                                0                   NaN   \n",
       "4                                0                  PRTG   \n",
       "\n",
       "   Locus name from Larson et al. 2014  Outlier from Larson et al. 2014  \\\n",
       "0                                 NaN                              NaN   \n",
       "1                                 NaN                              NaN   \n",
       "2                                 NaN                              NaN   \n",
       "3                                 NaN                              NaN   \n",
       "4                                 NaN                              NaN   \n",
       "\n",
       "                                  Consensus Sequence  \n",
       "0  TGCAGGTGTCTGCAAAAAAACACTCCCCTCCCTAGTTCTCCATATG...  \n",
       "1  TGCAGGCACCTGGACAGCCACAAGGAGTCGCTAGATTGTGATGAGC...  \n",
       "2  TGCAGGGAGAAACTTTGTAGTGGGGTGAAAAGAGGGAGAAGCATCG...  \n",
       "3  TGCAGGATATTAATGCAGGTAAGAAGAAATGGCTTTTAAATGTTTT...  \n",
       "4  TGCAGGAAGGGTCCTCTGGTGGACAACAGAACTCCAGGGACTGGAC...  "
      ]
     },
     "execution_count": 2,
     "metadata": {},
     "output_type": "execute_result"
    }
   ],
   "source": [
    "chin_ex = pd.read_excel(os.path.join('data','ref','chinook','Supplemental Table 1.xlsx'))\n",
    "chin_ex.head()"
   ]
  },
  {
   "cell_type": "code",
   "execution_count": 3,
   "metadata": {
    "collapsed": false
   },
   "outputs": [
    {
     "data": {
      "text/html": [
       "<div>\n",
       "<table border=\"1\" class=\"dataframe\">\n",
       "  <thead>\n",
       "    <tr style=\"text-align: right;\">\n",
       "      <th></th>\n",
       "      <th>Locus</th>\n",
       "      <th>Consensus Sequence</th>\n",
       "      <th>Chromosome</th>\n",
       "      <th>Position (cM)</th>\n",
       "      <th>Locus_basename</th>\n",
       "    </tr>\n",
       "  </thead>\n",
       "  <tbody>\n",
       "    <tr>\n",
       "      <th>0</th>\n",
       "      <td>44207_x1</td>\n",
       "      <td>TGCAGGTGTCTGCAAAAAAACACTCCCCTCCCTAGTTCTCCATATG...</td>\n",
       "      <td>Ots01</td>\n",
       "      <td>0.00</td>\n",
       "      <td>44207</td>\n",
       "    </tr>\n",
       "    <tr>\n",
       "      <th>1</th>\n",
       "      <td>28051_x1</td>\n",
       "      <td>TGCAGGCACCTGGACAGCCACAAGGAGTCGCTAGATTGTGATGAGC...</td>\n",
       "      <td>Ots01</td>\n",
       "      <td>0.55</td>\n",
       "      <td>28051</td>\n",
       "    </tr>\n",
       "    <tr>\n",
       "      <th>2</th>\n",
       "      <td>6689_x1</td>\n",
       "      <td>TGCAGGGAGAAACTTTGTAGTGGGGTGAAAAGAGGGAGAAGCATCG...</td>\n",
       "      <td>Ots01</td>\n",
       "      <td>0.55</td>\n",
       "      <td>6689</td>\n",
       "    </tr>\n",
       "    <tr>\n",
       "      <th>3</th>\n",
       "      <td>59778_x1</td>\n",
       "      <td>TGCAGGATATTAATGCAGGTAAGAAGAAATGGCTTTTAAATGTTTT...</td>\n",
       "      <td>Ots01</td>\n",
       "      <td>0.55</td>\n",
       "      <td>59778</td>\n",
       "    </tr>\n",
       "    <tr>\n",
       "      <th>4</th>\n",
       "      <td>38781_x1</td>\n",
       "      <td>TGCAGGAAGGGTCCTCTGGTGGACAACAGAACTCCAGGGACTGGAC...</td>\n",
       "      <td>Ots01</td>\n",
       "      <td>0.55</td>\n",
       "      <td>38781</td>\n",
       "    </tr>\n",
       "  </tbody>\n",
       "</table>\n",
       "</div>"
      ],
      "text/plain": [
       "      Locus                                 Consensus Sequence Chromosome  \\\n",
       "0  44207_x1  TGCAGGTGTCTGCAAAAAAACACTCCCCTCCCTAGTTCTCCATATG...      Ots01   \n",
       "1  28051_x1  TGCAGGCACCTGGACAGCCACAAGGAGTCGCTAGATTGTGATGAGC...      Ots01   \n",
       "2   6689_x1  TGCAGGGAGAAACTTTGTAGTGGGGTGAAAAGAGGGAGAAGCATCG...      Ots01   \n",
       "3  59778_x1  TGCAGGATATTAATGCAGGTAAGAAGAAATGGCTTTTAAATGTTTT...      Ots01   \n",
       "4  38781_x1  TGCAGGAAGGGTCCTCTGGTGGACAACAGAACTCCAGGGACTGGAC...      Ots01   \n",
       "\n",
       "   Position (cM) Locus_basename  \n",
       "0           0.00          44207  \n",
       "1           0.55          28051  \n",
       "2           0.55           6689  \n",
       "3           0.55          59778  \n",
       "4           0.55          38781  "
      ]
     },
     "execution_count": 3,
     "metadata": {},
     "output_type": "execute_result"
    }
   ],
   "source": [
    "chin_ex = chin_ex[['Locus', 'Consensus Sequence', 'Chromosome', 'Position (cM)']]\n",
    "chin_ex['Locus_basename'] = [xx.split('_')[0] for xx in chin_ex['Locus'] ]\n",
    "chin_ex.head()"
   ]
  },
  {
   "cell_type": "markdown",
   "metadata": {},
   "source": [
    "drop duplicates, checking with locus basename and sequence"
   ]
  },
  {
   "cell_type": "code",
   "execution_count": 4,
   "metadata": {
    "collapsed": false
   },
   "outputs": [],
   "source": [
    "chin_ex.drop_duplicates(subset = ['Locus_basename', 'Consensus Sequence'], inplace = True)"
   ]
  },
  {
   "cell_type": "markdown",
   "metadata": {},
   "source": [
    "check that each locus is now present only once"
   ]
  },
  {
   "cell_type": "code",
   "execution_count": 5,
   "metadata": {
    "collapsed": false
   },
   "outputs": [
    {
     "data": {
      "text/plain": [
       "True"
      ]
     },
     "execution_count": 5,
     "metadata": {},
     "output_type": "execute_result"
    }
   ],
   "source": [
    "len(set(chin_ex['Locus_basename'])) == len(chin_ex['Locus_basename'])"
   ]
  },
  {
   "cell_type": "code",
   "execution_count": 6,
   "metadata": {
    "collapsed": false
   },
   "outputs": [],
   "source": [
    "with open(os.path.join('data','ref','chinook','chin_ref.fasta'), 'w') as OUTFILE:\n",
    "    count = 0\n",
    "    for index,  locus_row in chin_ex.iterrows():\n",
    "        \n",
    "        OUTFILE.write('>{}\\n{}\\n'.format(locus_row['Locus_basename'], locus_row['Consensus Sequence']))"
   ]
  },
  {
   "cell_type": "markdown",
   "metadata": {},
   "source": [
    "### Align chum loci to chinook loci using bowtie 2 "
   ]
  },
  {
   "cell_type": "code",
   "execution_count": 7,
   "metadata": {
    "collapsed": true
   },
   "outputs": [],
   "source": [
    "chin_FASTA = 'chin_ref.fasta'"
   ]
  },
  {
   "cell_type": "code",
   "execution_count": 8,
   "metadata": {
    "collapsed": false
   },
   "outputs": [
    {
     "name": "stdout",
     "output_type": "stream",
     "text": [
      "bowtie2-build chin_ref.fasta chinook\n"
     ]
    }
   ],
   "source": [
    "print('bowtie2-build {} chinook'.format(chin_FASTA))"
   ]
  },
  {
   "cell_type": "markdown",
   "metadata": {},
   "source": [
    "chum ref"
   ]
  },
  {
   "cell_type": "code",
   "execution_count": 9,
   "metadata": {
    "collapsed": true
   },
   "outputs": [],
   "source": [
    "chum_ref = '/media/Shared/Data/chum/populations/ref/paper_1/chum_paper_1_ref.CURATED.fasta'"
   ]
  },
  {
   "cell_type": "markdown",
   "metadata": {},
   "source": [
    "align"
   ]
  },
  {
   "cell_type": "code",
   "execution_count": 10,
   "metadata": {
    "collapsed": true
   },
   "outputs": [],
   "source": [
    "SAM_output = '/home/ipseg/Desktop/waples/chum_populations/results/batch_4/synteny/to_chinook.SAM'\n",
    "filtered_SAM_output = '/home/ipseg/Desktop/waples/chum_populations/results/batch_4/synteny/to_chinook.filtered.SAM'"
   ]
  },
  {
   "cell_type": "markdown",
   "metadata": {
    "collapsed": true
   },
   "source": [
    "run bowtie 2\n",
    "\n",
    "check directories here"
   ]
  },
  {
   "cell_type": "code",
   "execution_count": 11,
   "metadata": {
    "collapsed": false
   },
   "outputs": [
    {
     "name": "stdout",
     "output_type": "stream",
     "text": [
      "bowtie2 -f --local --very-sensitive -p 4 -x /home/ipseg/Desktop/waples/chum_populations/data/ref/chinook/chinook -U /media/Shared/Data/chum/populations/ref/paper_1/chum_paper_1_ref.CURATED.fasta -S /home/ipseg/Desktop/waples/chum_populations/results/batch_4/synteny/to_chinook.SAM\n"
     ]
    }
   ],
   "source": [
    "print('bowtie2 -f --local --very-sensitive -p 4 -x /home/ipseg/Desktop/waples/chum_populations/data/ref/chinook/chinook -U {} -S {}'.format(chum_ref, SAM_output))"
   ]
  },
  {
   "cell_type": "markdown",
   "metadata": {},
   "source": [
    "#### Examine reference"
   ]
  },
  {
   "cell_type": "code",
   "execution_count": 12,
   "metadata": {
    "collapsed": true
   },
   "outputs": [],
   "source": [
    "def get_aligns():\n",
    "    return(pysam.AlignmentFile(SAM_output, \"r\").fetch())"
   ]
  },
  {
   "cell_type": "markdown",
   "metadata": {
    "collapsed": true
   },
   "source": [
    "### Mapping quality"
   ]
  },
  {
   "cell_type": "code",
   "execution_count": 13,
   "metadata": {
    "collapsed": true
   },
   "outputs": [],
   "source": [
    "mpqs = [read.mapping_quality for read in get_aligns()]"
   ]
  },
  {
   "cell_type": "code",
   "execution_count": 14,
   "metadata": {
    "collapsed": false
   },
   "outputs": [
    {
     "data": {
      "image/png": "[encoded data removed]",
      "text/plain": [
       "<matplotlib.figure.Figure at 0x7f2eee9d81d0>"
      ]
     },
     "metadata": {},
     "output_type": "display_data"
    },
    {
     "data": {
      "image/png": "[encoded data removed]",
      "text/plain": [
       "<matplotlib.figure.Figure at 0x7f2eeebc6850>"
      ]
     },
     "metadata": {},
     "output_type": "display_data"
    }
   ],
   "source": [
    "plt.hist(mpqs, bins = 20)\n",
    "plt.xlabel('Mapping quality')\n",
    "plt.ylabel('count')\n",
    "plt.title('')\n",
    "plt.show()\n",
    "\n",
    "plt.hist(mpqs, bins = 20)\n",
    "plt.xlabel('Mapping quality')\n",
    "plt.ylabel('count')\n",
    "plt.title('')\n",
    "plt.xlim(2)\n",
    "plt.ylim(0, 10000)\n",
    "plt.show()"
   ]
  },
  {
   "cell_type": "markdown",
   "metadata": {},
   "source": [
    "### As expected, there is strand bias"
   ]
  },
  {
   "cell_type": "code",
   "execution_count": 15,
   "metadata": {
    "collapsed": false
   },
   "outputs": [
    {
     "data": {
      "image/png": "[encoded data removed]",
      "text/plain": [
       "<matplotlib.figure.Figure at 0x7f2eee350d10>"
      ]
     },
     "metadata": {},
     "output_type": "display_data"
    }
   ],
   "source": [
    "flags  = [read.flag for read in get_aligns()]\n",
    "figsize(5,5)\n",
    "plt.hist(flags, bins = 16)\n",
    "plt.show()"
   ]
  },
  {
   "cell_type": "markdown",
   "metadata": {},
   "source": [
    "### Alignment lengths"
   ]
  },
  {
   "cell_type": "code",
   "execution_count": 16,
   "metadata": {
    "collapsed": false
   },
   "outputs": [
    {
     "data": {
      "image/png": "[encoded data removed]",
      "text/plain": [
       "<matplotlib.figure.Figure at 0x7f2eef19e7d0>"
      ]
     },
     "metadata": {},
     "output_type": "display_data"
    }
   ],
   "source": [
    "qal =  [read.query_alignment_length for read in get_aligns()]\n",
    "plt.hist(qal)\n",
    "plt.show()"
   ]
  },
  {
   "cell_type": "markdown",
   "metadata": {},
   "source": [
    "### Edit distances"
   ]
  },
  {
   "cell_type": "code",
   "execution_count": 17,
   "metadata": {
    "collapsed": true
   },
   "outputs": [],
   "source": [
    "edit_distances = list()\n",
    "mq = list()\n",
    "for read in get_aligns():\n",
    "    try:\n",
    "        edit_distances.append(np.int(read.get_tag('XM')))\n",
    "        mq.append(np.int(read.mapping_quality))\n",
    "    except KeyError:\n",
    "        pass"
   ]
  },
  {
   "cell_type": "code",
   "execution_count": 18,
   "metadata": {
    "collapsed": false
   },
   "outputs": [
    {
     "data": {
      "image/png": "[encoded data removed]",
      "text/plain": [
       "<matplotlib.figure.Figure at 0x7f2eedfd7190>"
      ]
     },
     "metadata": {},
     "output_type": "display_data"
    }
   ],
   "source": [
    "plt.hist(edit_distances)\n",
    "plt.show()"
   ]
  },
  {
   "cell_type": "markdown",
   "metadata": {},
   "source": [
    "### Edit distance vs Mapping quality"
   ]
  },
  {
   "cell_type": "code",
   "execution_count": 19,
   "metadata": {
    "collapsed": true
   },
   "outputs": [],
   "source": [
    "rr = pd.DataFrame({'ed' : edit_distances, 'mq' : mq })"
   ]
  },
  {
   "cell_type": "code",
   "execution_count": 20,
   "metadata": {
    "collapsed": false
   },
   "outputs": [
    {
     "data": {
      "image/png": "[encoded data removed]",
      "text/plain": [
       "<matplotlib.figure.Figure at 0x7f2eedea5a50>"
      ]
     },
     "metadata": {},
     "output_type": "display_data"
    }
   ],
   "source": [
    "sns.kdeplot(rr, cmap=\"Blues\", shade = True, legend = True)\n",
    "plt.show()"
   ]
  },
  {
   "cell_type": "markdown",
   "metadata": {},
   "source": [
    "#### Lets keep only the alignments with:\n",
    "(query_alignment_length >= 93) AND (mapping_quality >= 30)"
   ]
  },
  {
   "cell_type": "code",
   "execution_count": 21,
   "metadata": {
    "collapsed": true
   },
   "outputs": [],
   "source": [
    "with pysam.AlignmentFile(SAM_output, \"r\") as INFILE:\n",
    "    with pysam.AlignmentFile(filtered_SAM_output, \"wh\", template=INFILE) as OUTFILE:\n",
    "        for aln in INFILE:\n",
    "            if (aln.query_alignment_length >= 93) and (aln.mapping_quality >= 30):\n",
    "                OUTFILE.write(aln)"
   ]
  },
  {
   "cell_type": "code",
   "execution_count": 22,
   "metadata": {
    "collapsed": false
   },
   "outputs": [
    {
     "data": {
      "text/html": [
       "<div>\n",
       "<table border=\"1\" class=\"dataframe\">\n",
       "  <thead>\n",
       "    <tr style=\"text-align: right;\">\n",
       "      <th></th>\n",
       "      <th>QNAME</th>\n",
       "      <th>FLAG</th>\n",
       "      <th>RNAME</th>\n",
       "      <th>POS</th>\n",
       "      <th>MAPQ</th>\n",
       "      <th>CIGAR</th>\n",
       "      <th>RNEXT</th>\n",
       "      <th>PNEXT</th>\n",
       "      <th>ISIZE</th>\n",
       "      <th>SEQ</th>\n",
       "      <th>QUAL</th>\n",
       "      <th>TAG1</th>\n",
       "      <th>TAG2</th>\n",
       "      <th>TAG3TAG4</th>\n",
       "      <th>TAG5</th>\n",
       "      <th>TAG6</th>\n",
       "      <th>TAG7</th>\n",
       "      <th>TAG8</th>\n",
       "      <th>TAG9</th>\n",
       "      <th>TAG10</th>\n",
       "    </tr>\n",
       "  </thead>\n",
       "  <tbody>\n",
       "    <tr>\n",
       "      <th>0</th>\n",
       "      <td>c6</td>\n",
       "      <td>0</td>\n",
       "      <td>66281</td>\n",
       "      <td>1</td>\n",
       "      <td>44</td>\n",
       "      <td>93M</td>\n",
       "      <td>*</td>\n",
       "      <td>0</td>\n",
       "      <td>0</td>\n",
       "      <td>TGCAGGTACTGCCTCTGCTTGGGCAGCCGCGGGGTCATCAGAGGGC...</td>\n",
       "      <td>IIIIIIIIIIIIIIIIIIIIIIIIIIIIIIIIIIIIIIIIIIIIII...</td>\n",
       "      <td>AS:i:178</td>\n",
       "      <td>XN:i:0</td>\n",
       "      <td>XM:i:1</td>\n",
       "      <td>XO:i:0</td>\n",
       "      <td>XG:i:0</td>\n",
       "      <td>NM:i:1</td>\n",
       "      <td>MD:Z:41C51</td>\n",
       "      <td>YT:Z:UU</td>\n",
       "      <td>None</td>\n",
       "    </tr>\n",
       "    <tr>\n",
       "      <th>1</th>\n",
       "      <td>c5</td>\n",
       "      <td>0</td>\n",
       "      <td>16028</td>\n",
       "      <td>1</td>\n",
       "      <td>42</td>\n",
       "      <td>93M</td>\n",
       "      <td>*</td>\n",
       "      <td>0</td>\n",
       "      <td>0</td>\n",
       "      <td>TGCAGGCTGTGTCAGTTCATGAAGAACTACCTGCCCCGGGACTTCA...</td>\n",
       "      <td>IIIIIIIIIIIIIIIIIIIIIIIIIIIIIIIIIIIIIIIIIIIIII...</td>\n",
       "      <td>AS:i:146</td>\n",
       "      <td>XN:i:0</td>\n",
       "      <td>XM:i:5</td>\n",
       "      <td>XO:i:0</td>\n",
       "      <td>XG:i:0</td>\n",
       "      <td>NM:i:5</td>\n",
       "      <td>MD:Z:6A17T41A1T8A15</td>\n",
       "      <td>YT:Z:UU</td>\n",
       "      <td>None</td>\n",
       "    </tr>\n",
       "    <tr>\n",
       "      <th>2</th>\n",
       "      <td>c14</td>\n",
       "      <td>0</td>\n",
       "      <td>7663</td>\n",
       "      <td>1</td>\n",
       "      <td>44</td>\n",
       "      <td>93M</td>\n",
       "      <td>*</td>\n",
       "      <td>0</td>\n",
       "      <td>0</td>\n",
       "      <td>TGCAGGAATATGAGAGGTTGTTCCAAATACAACTGTCTTTTCTGTT...</td>\n",
       "      <td>IIIIIIIIIIIIIIIIIIIIIIIIIIIIIIIIIIIIIIIIIIIIII...</td>\n",
       "      <td>AS:i:186</td>\n",
       "      <td>XN:i:0</td>\n",
       "      <td>XM:i:0</td>\n",
       "      <td>XO:i:0</td>\n",
       "      <td>XG:i:0</td>\n",
       "      <td>NM:i:0</td>\n",
       "      <td>MD:Z:93</td>\n",
       "      <td>YT:Z:UU</td>\n",
       "      <td>None</td>\n",
       "    </tr>\n",
       "    <tr>\n",
       "      <th>3</th>\n",
       "      <td>c15</td>\n",
       "      <td>0</td>\n",
       "      <td>2732</td>\n",
       "      <td>1</td>\n",
       "      <td>44</td>\n",
       "      <td>93M</td>\n",
       "      <td>*</td>\n",
       "      <td>0</td>\n",
       "      <td>0</td>\n",
       "      <td>TGCAGGTTGTCCACCCTGGAGATGCAGTTCCCTGCCAGGTTCAACA...</td>\n",
       "      <td>IIIIIIIIIIIIIIIIIIIIIIIIIIIIIIIIIIIIIIIIIIIIII...</td>\n",
       "      <td>AS:i:162</td>\n",
       "      <td>XN:i:0</td>\n",
       "      <td>XM:i:3</td>\n",
       "      <td>XO:i:0</td>\n",
       "      <td>XG:i:0</td>\n",
       "      <td>NM:i:3</td>\n",
       "      <td>MD:Z:37A9A20G24</td>\n",
       "      <td>YT:Z:UU</td>\n",
       "      <td>None</td>\n",
       "    </tr>\n",
       "    <tr>\n",
       "      <th>4</th>\n",
       "      <td>c16</td>\n",
       "      <td>0</td>\n",
       "      <td>86922</td>\n",
       "      <td>1</td>\n",
       "      <td>41</td>\n",
       "      <td>25M4I64M</td>\n",
       "      <td>*</td>\n",
       "      <td>0</td>\n",
       "      <td>0</td>\n",
       "      <td>TGCAGGTAACCACTAAAACCATGACCACACACACACACACAACCAA...</td>\n",
       "      <td>IIIIIIIIIIIIIIIIIIIIIIIIIIIIIIIIIIIIIIIIIIIIII...</td>\n",
       "      <td>AS:i:137</td>\n",
       "      <td>XN:i:0</td>\n",
       "      <td>XM:i:3</td>\n",
       "      <td>XO:i:1</td>\n",
       "      <td>XG:i:4</td>\n",
       "      <td>NM:i:7</td>\n",
       "      <td>MD:Z:50C5G12C19</td>\n",
       "      <td>YT:Z:UU</td>\n",
       "      <td>None</td>\n",
       "    </tr>\n",
       "  </tbody>\n",
       "</table>\n",
       "</div>"
      ],
      "text/plain": [
       "  QNAME  FLAG  RNAME  POS  MAPQ     CIGAR RNEXT  PNEXT  ISIZE  \\\n",
       "0    c6     0  66281    1    44       93M     *      0      0   \n",
       "1    c5     0  16028    1    42       93M     *      0      0   \n",
       "2   c14     0   7663    1    44       93M     *      0      0   \n",
       "3   c15     0   2732    1    44       93M     *      0      0   \n",
       "4   c16     0  86922    1    41  25M4I64M     *      0      0   \n",
       "\n",
       "                                                 SEQ  \\\n",
       "0  TGCAGGTACTGCCTCTGCTTGGGCAGCCGCGGGGTCATCAGAGGGC...   \n",
       "1  TGCAGGCTGTGTCAGTTCATGAAGAACTACCTGCCCCGGGACTTCA...   \n",
       "2  TGCAGGAATATGAGAGGTTGTTCCAAATACAACTGTCTTTTCTGTT...   \n",
       "3  TGCAGGTTGTCCACCCTGGAGATGCAGTTCCCTGCCAGGTTCAACA...   \n",
       "4  TGCAGGTAACCACTAAAACCATGACCACACACACACACACAACCAA...   \n",
       "\n",
       "                                                QUAL      TAG1    TAG2  \\\n",
       "0  IIIIIIIIIIIIIIIIIIIIIIIIIIIIIIIIIIIIIIIIIIIIII...  AS:i:178  XN:i:0   \n",
       "1  IIIIIIIIIIIIIIIIIIIIIIIIIIIIIIIIIIIIIIIIIIIIII...  AS:i:146  XN:i:0   \n",
       "2  IIIIIIIIIIIIIIIIIIIIIIIIIIIIIIIIIIIIIIIIIIIIII...  AS:i:186  XN:i:0   \n",
       "3  IIIIIIIIIIIIIIIIIIIIIIIIIIIIIIIIIIIIIIIIIIIIII...  AS:i:162  XN:i:0   \n",
       "4  IIIIIIIIIIIIIIIIIIIIIIIIIIIIIIIIIIIIIIIIIIIIII...  AS:i:137  XN:i:0   \n",
       "\n",
       "  TAG3TAG4    TAG5    TAG6    TAG7                 TAG8     TAG9 TAG10  \n",
       "0   XM:i:1  XO:i:0  XG:i:0  NM:i:1           MD:Z:41C51  YT:Z:UU  None  \n",
       "1   XM:i:5  XO:i:0  XG:i:0  NM:i:5  MD:Z:6A17T41A1T8A15  YT:Z:UU  None  \n",
       "2   XM:i:0  XO:i:0  XG:i:0  NM:i:0              MD:Z:93  YT:Z:UU  None  \n",
       "3   XM:i:3  XO:i:0  XG:i:0  NM:i:3      MD:Z:37A9A20G24  YT:Z:UU  None  \n",
       "4   XM:i:3  XO:i:1  XG:i:4  NM:i:7      MD:Z:50C5G12C19  YT:Z:UU  None  "
      ]
     },
     "execution_count": 22,
     "metadata": {},
     "output_type": "execute_result"
    }
   ],
   "source": [
    "filtered_SAM = pd.read_csv(filtered_SAM_output, sep = '\\t', comment='@', engine='python', \n",
    "            names = ['QNAME','FLAG','RNAME','POS','MAPQ','CIGAR','RNEXT','PNEXT','ISIZE','SEQ','QUAL',\n",
    "                     'TAG1', 'TAG2', 'TAG3' 'TAG4', 'TAG5', 'TAG6', 'TAG7','TAG8', 'TAG9','TAG10'])\n",
    "filtered_SAM.head()"
   ]
  },
  {
   "cell_type": "code",
   "execution_count": 23,
   "metadata": {
    "collapsed": false
   },
   "outputs": [
    {
     "data": {
      "text/html": [
       "<div>\n",
       "<table border=\"1\" class=\"dataframe\">\n",
       "  <thead>\n",
       "    <tr style=\"text-align: right;\">\n",
       "      <th></th>\n",
       "      <th>QNAME</th>\n",
       "      <th>FLAG</th>\n",
       "      <th>RNAME</th>\n",
       "      <th>MAPQ</th>\n",
       "      <th>CIGAR</th>\n",
       "      <th>TAG1</th>\n",
       "      <th>TAG2</th>\n",
       "      <th>TAG3TAG4</th>\n",
       "      <th>TAG5</th>\n",
       "      <th>TAG6</th>\n",
       "      <th>TAG7</th>\n",
       "      <th>TAG8</th>\n",
       "      <th>TAG9</th>\n",
       "      <th>TAG10</th>\n",
       "    </tr>\n",
       "  </thead>\n",
       "  <tbody>\n",
       "    <tr>\n",
       "      <th>0</th>\n",
       "      <td>c6</td>\n",
       "      <td>0</td>\n",
       "      <td>66281</td>\n",
       "      <td>44</td>\n",
       "      <td>93M</td>\n",
       "      <td>AS:i:178</td>\n",
       "      <td>XN:i:0</td>\n",
       "      <td>XM:i:1</td>\n",
       "      <td>XO:i:0</td>\n",
       "      <td>XG:i:0</td>\n",
       "      <td>NM:i:1</td>\n",
       "      <td>MD:Z:41C51</td>\n",
       "      <td>YT:Z:UU</td>\n",
       "      <td>None</td>\n",
       "    </tr>\n",
       "    <tr>\n",
       "      <th>1</th>\n",
       "      <td>c5</td>\n",
       "      <td>0</td>\n",
       "      <td>16028</td>\n",
       "      <td>42</td>\n",
       "      <td>93M</td>\n",
       "      <td>AS:i:146</td>\n",
       "      <td>XN:i:0</td>\n",
       "      <td>XM:i:5</td>\n",
       "      <td>XO:i:0</td>\n",
       "      <td>XG:i:0</td>\n",
       "      <td>NM:i:5</td>\n",
       "      <td>MD:Z:6A17T41A1T8A15</td>\n",
       "      <td>YT:Z:UU</td>\n",
       "      <td>None</td>\n",
       "    </tr>\n",
       "    <tr>\n",
       "      <th>2</th>\n",
       "      <td>c14</td>\n",
       "      <td>0</td>\n",
       "      <td>7663</td>\n",
       "      <td>44</td>\n",
       "      <td>93M</td>\n",
       "      <td>AS:i:186</td>\n",
       "      <td>XN:i:0</td>\n",
       "      <td>XM:i:0</td>\n",
       "      <td>XO:i:0</td>\n",
       "      <td>XG:i:0</td>\n",
       "      <td>NM:i:0</td>\n",
       "      <td>MD:Z:93</td>\n",
       "      <td>YT:Z:UU</td>\n",
       "      <td>None</td>\n",
       "    </tr>\n",
       "    <tr>\n",
       "      <th>3</th>\n",
       "      <td>c15</td>\n",
       "      <td>0</td>\n",
       "      <td>2732</td>\n",
       "      <td>44</td>\n",
       "      <td>93M</td>\n",
       "      <td>AS:i:162</td>\n",
       "      <td>XN:i:0</td>\n",
       "      <td>XM:i:3</td>\n",
       "      <td>XO:i:0</td>\n",
       "      <td>XG:i:0</td>\n",
       "      <td>NM:i:3</td>\n",
       "      <td>MD:Z:37A9A20G24</td>\n",
       "      <td>YT:Z:UU</td>\n",
       "      <td>None</td>\n",
       "    </tr>\n",
       "    <tr>\n",
       "      <th>4</th>\n",
       "      <td>c16</td>\n",
       "      <td>0</td>\n",
       "      <td>86922</td>\n",
       "      <td>41</td>\n",
       "      <td>25M4I64M</td>\n",
       "      <td>AS:i:137</td>\n",
       "      <td>XN:i:0</td>\n",
       "      <td>XM:i:3</td>\n",
       "      <td>XO:i:1</td>\n",
       "      <td>XG:i:4</td>\n",
       "      <td>NM:i:7</td>\n",
       "      <td>MD:Z:50C5G12C19</td>\n",
       "      <td>YT:Z:UU</td>\n",
       "      <td>None</td>\n",
       "    </tr>\n",
       "  </tbody>\n",
       "</table>\n",
       "</div>"
      ],
      "text/plain": [
       "  QNAME  FLAG  RNAME  MAPQ     CIGAR      TAG1    TAG2 TAG3TAG4    TAG5  \\\n",
       "0    c6     0  66281    44       93M  AS:i:178  XN:i:0   XM:i:1  XO:i:0   \n",
       "1    c5     0  16028    42       93M  AS:i:146  XN:i:0   XM:i:5  XO:i:0   \n",
       "2   c14     0   7663    44       93M  AS:i:186  XN:i:0   XM:i:0  XO:i:0   \n",
       "3   c15     0   2732    44       93M  AS:i:162  XN:i:0   XM:i:3  XO:i:0   \n",
       "4   c16     0  86922    41  25M4I64M  AS:i:137  XN:i:0   XM:i:3  XO:i:1   \n",
       "\n",
       "     TAG6    TAG7                 TAG8     TAG9 TAG10  \n",
       "0  XG:i:0  NM:i:1           MD:Z:41C51  YT:Z:UU  None  \n",
       "1  XG:i:0  NM:i:5  MD:Z:6A17T41A1T8A15  YT:Z:UU  None  \n",
       "2  XG:i:0  NM:i:0              MD:Z:93  YT:Z:UU  None  \n",
       "3  XG:i:0  NM:i:3      MD:Z:37A9A20G24  YT:Z:UU  None  \n",
       "4  XG:i:4  NM:i:7      MD:Z:50C5G12C19  YT:Z:UU  None  "
      ]
     },
     "execution_count": 23,
     "metadata": {},
     "output_type": "execute_result"
    }
   ],
   "source": [
    "filtered_SAM.drop(['POS', 'RNEXT', 'PNEXT', 'ISIZE', 'SEQ','QUAL'], axis=1, inplace=True)\n",
    "filtered_SAM['RNAME'] = [str(xx) for xx in filtered_SAM['RNAME'] ]\n",
    "filtered_SAM.head()"
   ]
  },
  {
   "cell_type": "markdown",
   "metadata": {},
   "source": [
    "### Now merge with chum and chinook maps"
   ]
  },
  {
   "cell_type": "code",
   "execution_count": 24,
   "metadata": {
    "collapsed": false
   },
   "outputs": [
    {
     "data": {
      "text/html": [
       "<div>\n",
       "<table border=\"1\" class=\"dataframe\">\n",
       "  <thead>\n",
       "    <tr style=\"text-align: right;\">\n",
       "      <th></th>\n",
       "      <th>contig</th>\n",
       "      <th>resolved_locus</th>\n",
       "      <th>stacks_CatID</th>\n",
       "      <th>stacks_SNP</th>\n",
       "      <th>LEPname</th>\n",
       "      <th>LEP_LG</th>\n",
       "      <th>cM_OLD</th>\n",
       "      <th>paper1_LG</th>\n",
       "      <th>cM</th>\n",
       "    </tr>\n",
       "  </thead>\n",
       "  <tbody>\n",
       "    <tr>\n",
       "      <th>0</th>\n",
       "      <td>c4311</td>\n",
       "      <td>4311</td>\n",
       "      <td>28282</td>\n",
       "      <td>28282_88</td>\n",
       "      <td>4584</td>\n",
       "      <td>1</td>\n",
       "      <td>0</td>\n",
       "      <td>1</td>\n",
       "      <td>0</td>\n",
       "    </tr>\n",
       "    <tr>\n",
       "      <th>1</th>\n",
       "      <td>c4311</td>\n",
       "      <td>4311</td>\n",
       "      <td>28282</td>\n",
       "      <td>28282_91</td>\n",
       "      <td>4584</td>\n",
       "      <td>1</td>\n",
       "      <td>0</td>\n",
       "      <td>1</td>\n",
       "      <td>0</td>\n",
       "    </tr>\n",
       "    <tr>\n",
       "      <th>2</th>\n",
       "      <td>c56875</td>\n",
       "      <td>56875</td>\n",
       "      <td>39970</td>\n",
       "      <td>39970_17</td>\n",
       "      <td>7377</td>\n",
       "      <td>1</td>\n",
       "      <td>0</td>\n",
       "      <td>1</td>\n",
       "      <td>0</td>\n",
       "    </tr>\n",
       "    <tr>\n",
       "      <th>3</th>\n",
       "      <td>c56875</td>\n",
       "      <td>56875</td>\n",
       "      <td>39970</td>\n",
       "      <td>39970_33</td>\n",
       "      <td>7377</td>\n",
       "      <td>1</td>\n",
       "      <td>0</td>\n",
       "      <td>1</td>\n",
       "      <td>0</td>\n",
       "    </tr>\n",
       "    <tr>\n",
       "      <th>4</th>\n",
       "      <td>c56875</td>\n",
       "      <td>56875</td>\n",
       "      <td>39970</td>\n",
       "      <td>39970_49</td>\n",
       "      <td>7377</td>\n",
       "      <td>1</td>\n",
       "      <td>0</td>\n",
       "      <td>1</td>\n",
       "      <td>0</td>\n",
       "    </tr>\n",
       "  </tbody>\n",
       "</table>\n",
       "</div>"
      ],
      "text/plain": [
       "   contig resolved_locus  stacks_CatID stacks_SNP  LEPname  LEP_LG  cM_OLD  \\\n",
       "0   c4311           4311         28282   28282_88     4584       1       0   \n",
       "1   c4311           4311         28282   28282_91     4584       1       0   \n",
       "2  c56875          56875         39970   39970_17     7377       1       0   \n",
       "3  c56875          56875         39970   39970_33     7377       1       0   \n",
       "4  c56875          56875         39970   39970_49     7377       1       0   \n",
       "\n",
       "   paper1_LG  cM  \n",
       "0          1   0  \n",
       "1          1   0  \n",
       "2          1   0  \n",
       "3          1   0  \n",
       "4          1   0  "
      ]
     },
     "execution_count": 24,
     "metadata": {},
     "output_type": "execute_result"
    }
   ],
   "source": [
    "chum_map = pd.read_csv(os.path.join('linkage_map', 'LEPmap', 'with_paralogs', 'final', 'PS_chum_map_2015.txt'), \n",
    "                       sep = '\\t', header = 0)\n",
    "chum_map.head()"
   ]
  },
  {
   "cell_type": "code",
   "execution_count": 25,
   "metadata": {
    "collapsed": false
   },
   "outputs": [
    {
     "data": {
      "text/html": [
       "<div>\n",
       "<table border=\"1\" class=\"dataframe\">\n",
       "  <thead>\n",
       "    <tr style=\"text-align: right;\">\n",
       "      <th></th>\n",
       "      <th>Locus</th>\n",
       "      <th>Consensus Sequence</th>\n",
       "      <th>Chromosome</th>\n",
       "      <th>Position (cM)</th>\n",
       "      <th>Locus_basename</th>\n",
       "    </tr>\n",
       "  </thead>\n",
       "  <tbody>\n",
       "    <tr>\n",
       "      <th>0</th>\n",
       "      <td>44207_x1</td>\n",
       "      <td>TGCAGGTGTCTGCAAAAAAACACTCCCCTCCCTAGTTCTCCATATG...</td>\n",
       "      <td>Ots01</td>\n",
       "      <td>0.00</td>\n",
       "      <td>44207</td>\n",
       "    </tr>\n",
       "    <tr>\n",
       "      <th>1</th>\n",
       "      <td>28051_x1</td>\n",
       "      <td>TGCAGGCACCTGGACAGCCACAAGGAGTCGCTAGATTGTGATGAGC...</td>\n",
       "      <td>Ots01</td>\n",
       "      <td>0.55</td>\n",
       "      <td>28051</td>\n",
       "    </tr>\n",
       "    <tr>\n",
       "      <th>2</th>\n",
       "      <td>6689_x1</td>\n",
       "      <td>TGCAGGGAGAAACTTTGTAGTGGGGTGAAAAGAGGGAGAAGCATCG...</td>\n",
       "      <td>Ots01</td>\n",
       "      <td>0.55</td>\n",
       "      <td>6689</td>\n",
       "    </tr>\n",
       "    <tr>\n",
       "      <th>3</th>\n",
       "      <td>59778_x1</td>\n",
       "      <td>TGCAGGATATTAATGCAGGTAAGAAGAAATGGCTTTTAAATGTTTT...</td>\n",
       "      <td>Ots01</td>\n",
       "      <td>0.55</td>\n",
       "      <td>59778</td>\n",
       "    </tr>\n",
       "    <tr>\n",
       "      <th>4</th>\n",
       "      <td>38781_x1</td>\n",
       "      <td>TGCAGGAAGGGTCCTCTGGTGGACAACAGAACTCCAGGGACTGGAC...</td>\n",
       "      <td>Ots01</td>\n",
       "      <td>0.55</td>\n",
       "      <td>38781</td>\n",
       "    </tr>\n",
       "  </tbody>\n",
       "</table>\n",
       "</div>"
      ],
      "text/plain": [
       "      Locus                                 Consensus Sequence Chromosome  \\\n",
       "0  44207_x1  TGCAGGTGTCTGCAAAAAAACACTCCCCTCCCTAGTTCTCCATATG...      Ots01   \n",
       "1  28051_x1  TGCAGGCACCTGGACAGCCACAAGGAGTCGCTAGATTGTGATGAGC...      Ots01   \n",
       "2   6689_x1  TGCAGGGAGAAACTTTGTAGTGGGGTGAAAAGAGGGAGAAGCATCG...      Ots01   \n",
       "3  59778_x1  TGCAGGATATTAATGCAGGTAAGAAGAAATGGCTTTTAAATGTTTT...      Ots01   \n",
       "4  38781_x1  TGCAGGAAGGGTCCTCTGGTGGACAACAGAACTCCAGGGACTGGAC...      Ots01   \n",
       "\n",
       "   Position (cM) Locus_basename  \n",
       "0           0.00          44207  \n",
       "1           0.55          28051  \n",
       "2           0.55           6689  \n",
       "3           0.55          59778  \n",
       "4           0.55          38781  "
      ]
     },
     "execution_count": 25,
     "metadata": {},
     "output_type": "execute_result"
    }
   ],
   "source": [
    "chin_ex.head()"
   ]
  },
  {
   "cell_type": "code",
   "execution_count": 26,
   "metadata": {
    "collapsed": false
   },
   "outputs": [
    {
     "data": {
      "text/html": [
       "<div>\n",
       "<table border=\"1\" class=\"dataframe\">\n",
       "  <thead>\n",
       "    <tr style=\"text-align: right;\">\n",
       "      <th></th>\n",
       "      <th>QNAME</th>\n",
       "      <th>FLAG</th>\n",
       "      <th>RNAME</th>\n",
       "      <th>MAPQ</th>\n",
       "      <th>CIGAR</th>\n",
       "      <th>TAG1</th>\n",
       "      <th>TAG2</th>\n",
       "      <th>TAG3TAG4</th>\n",
       "      <th>TAG5</th>\n",
       "      <th>TAG6</th>\n",
       "      <th>TAG7</th>\n",
       "      <th>TAG8</th>\n",
       "      <th>TAG9</th>\n",
       "      <th>TAG10</th>\n",
       "      <th>Locus</th>\n",
       "      <th>Consensus Sequence</th>\n",
       "      <th>Chromosome</th>\n",
       "      <th>Position (cM)</th>\n",
       "      <th>Locus_basename</th>\n",
       "    </tr>\n",
       "  </thead>\n",
       "  <tbody>\n",
       "    <tr>\n",
       "      <th>0</th>\n",
       "      <td>c6</td>\n",
       "      <td>0</td>\n",
       "      <td>66281</td>\n",
       "      <td>44</td>\n",
       "      <td>93M</td>\n",
       "      <td>AS:i:178</td>\n",
       "      <td>XN:i:0</td>\n",
       "      <td>XM:i:1</td>\n",
       "      <td>XO:i:0</td>\n",
       "      <td>XG:i:0</td>\n",
       "      <td>NM:i:1</td>\n",
       "      <td>MD:Z:41C51</td>\n",
       "      <td>YT:Z:UU</td>\n",
       "      <td>None</td>\n",
       "      <td>66281_x1</td>\n",
       "      <td>TGCAGGTACTGCCTCTGCTTGGGCAGCCGCGGGGTCATCAGCGGGC...</td>\n",
       "      <td>Ots26</td>\n",
       "      <td>54.09</td>\n",
       "      <td>66281</td>\n",
       "    </tr>\n",
       "    <tr>\n",
       "      <th>1</th>\n",
       "      <td>c5</td>\n",
       "      <td>0</td>\n",
       "      <td>16028</td>\n",
       "      <td>42</td>\n",
       "      <td>93M</td>\n",
       "      <td>AS:i:146</td>\n",
       "      <td>XN:i:0</td>\n",
       "      <td>XM:i:5</td>\n",
       "      <td>XO:i:0</td>\n",
       "      <td>XG:i:0</td>\n",
       "      <td>NM:i:5</td>\n",
       "      <td>MD:Z:6A17T41A1T8A15</td>\n",
       "      <td>YT:Z:UU</td>\n",
       "      <td>None</td>\n",
       "      <td>16028_x1</td>\n",
       "      <td>TGCAGGATGTGTCAGTTCATGAAGTACTACCTGCCCCGGGACTTCA...</td>\n",
       "      <td>Ots03</td>\n",
       "      <td>33.01</td>\n",
       "      <td>16028</td>\n",
       "    </tr>\n",
       "    <tr>\n",
       "      <th>2</th>\n",
       "      <td>c14</td>\n",
       "      <td>0</td>\n",
       "      <td>7663</td>\n",
       "      <td>44</td>\n",
       "      <td>93M</td>\n",
       "      <td>AS:i:186</td>\n",
       "      <td>XN:i:0</td>\n",
       "      <td>XM:i:0</td>\n",
       "      <td>XO:i:0</td>\n",
       "      <td>XG:i:0</td>\n",
       "      <td>NM:i:0</td>\n",
       "      <td>MD:Z:93</td>\n",
       "      <td>YT:Z:UU</td>\n",
       "      <td>None</td>\n",
       "      <td>7663_x1</td>\n",
       "      <td>TGCAGGAATATGAGAGGTTGTTCCAAATACAACTGTCTTTTCTGTT...</td>\n",
       "      <td>Ots15</td>\n",
       "      <td>25.62</td>\n",
       "      <td>7663</td>\n",
       "    </tr>\n",
       "    <tr>\n",
       "      <th>3</th>\n",
       "      <td>c15</td>\n",
       "      <td>0</td>\n",
       "      <td>2732</td>\n",
       "      <td>44</td>\n",
       "      <td>93M</td>\n",
       "      <td>AS:i:162</td>\n",
       "      <td>XN:i:0</td>\n",
       "      <td>XM:i:3</td>\n",
       "      <td>XO:i:0</td>\n",
       "      <td>XG:i:0</td>\n",
       "      <td>NM:i:3</td>\n",
       "      <td>MD:Z:37A9A20G24</td>\n",
       "      <td>YT:Z:UU</td>\n",
       "      <td>None</td>\n",
       "      <td>2732_x1</td>\n",
       "      <td>TGCAGGTTGTCCACCCTGGAGATGCAGTTCCCTGCCAAGTTCAACA...</td>\n",
       "      <td>Ots04</td>\n",
       "      <td>113.34</td>\n",
       "      <td>2732</td>\n",
       "    </tr>\n",
       "    <tr>\n",
       "      <th>4</th>\n",
       "      <td>c16</td>\n",
       "      <td>0</td>\n",
       "      <td>86922</td>\n",
       "      <td>41</td>\n",
       "      <td>25M4I64M</td>\n",
       "      <td>AS:i:137</td>\n",
       "      <td>XN:i:0</td>\n",
       "      <td>XM:i:3</td>\n",
       "      <td>XO:i:1</td>\n",
       "      <td>XG:i:4</td>\n",
       "      <td>NM:i:7</td>\n",
       "      <td>MD:Z:50C5G12C19</td>\n",
       "      <td>YT:Z:UU</td>\n",
       "      <td>None</td>\n",
       "      <td>86922_x1</td>\n",
       "      <td>TGCAGGTAACCACTAAAACCATGACCACACACACACAACCAACCAA...</td>\n",
       "      <td>Ots14</td>\n",
       "      <td>86.21</td>\n",
       "      <td>86922</td>\n",
       "    </tr>\n",
       "  </tbody>\n",
       "</table>\n",
       "</div>"
      ],
      "text/plain": [
       "  QNAME  FLAG  RNAME  MAPQ     CIGAR      TAG1    TAG2 TAG3TAG4    TAG5  \\\n",
       "0    c6     0  66281    44       93M  AS:i:178  XN:i:0   XM:i:1  XO:i:0   \n",
       "1    c5     0  16028    42       93M  AS:i:146  XN:i:0   XM:i:5  XO:i:0   \n",
       "2   c14     0   7663    44       93M  AS:i:186  XN:i:0   XM:i:0  XO:i:0   \n",
       "3   c15     0   2732    44       93M  AS:i:162  XN:i:0   XM:i:3  XO:i:0   \n",
       "4   c16     0  86922    41  25M4I64M  AS:i:137  XN:i:0   XM:i:3  XO:i:1   \n",
       "\n",
       "     TAG6    TAG7                 TAG8     TAG9 TAG10     Locus  \\\n",
       "0  XG:i:0  NM:i:1           MD:Z:41C51  YT:Z:UU  None  66281_x1   \n",
       "1  XG:i:0  NM:i:5  MD:Z:6A17T41A1T8A15  YT:Z:UU  None  16028_x1   \n",
       "2  XG:i:0  NM:i:0              MD:Z:93  YT:Z:UU  None   7663_x1   \n",
       "3  XG:i:0  NM:i:3      MD:Z:37A9A20G24  YT:Z:UU  None   2732_x1   \n",
       "4  XG:i:4  NM:i:7      MD:Z:50C5G12C19  YT:Z:UU  None  86922_x1   \n",
       "\n",
       "                                  Consensus Sequence Chromosome  \\\n",
       "0  TGCAGGTACTGCCTCTGCTTGGGCAGCCGCGGGGTCATCAGCGGGC...      Ots26   \n",
       "1  TGCAGGATGTGTCAGTTCATGAAGTACTACCTGCCCCGGGACTTCA...      Ots03   \n",
       "2  TGCAGGAATATGAGAGGTTGTTCCAAATACAACTGTCTTTTCTGTT...      Ots15   \n",
       "3  TGCAGGTTGTCCACCCTGGAGATGCAGTTCCCTGCCAAGTTCAACA...      Ots04   \n",
       "4  TGCAGGTAACCACTAAAACCATGACCACACACACACAACCAACCAA...      Ots14   \n",
       "\n",
       "   Position (cM) Locus_basename  \n",
       "0          54.09          66281  \n",
       "1          33.01          16028  \n",
       "2          25.62           7663  \n",
       "3         113.34           2732  \n",
       "4          86.21          86922  "
      ]
     },
     "execution_count": 26,
     "metadata": {},
     "output_type": "execute_result"
    }
   ],
   "source": [
    "chin_lgs = pd.merge(filtered_SAM, chin_ex, left_on = 'RNAME' , right_on = 'Locus_basename')\n",
    "chin_lgs.head()"
   ]
  },
  {
   "cell_type": "code",
   "execution_count": 27,
   "metadata": {
    "collapsed": false
   },
   "outputs": [
    {
     "data": {
      "text/html": [
       "<div>\n",
       "<table border=\"1\" class=\"dataframe\">\n",
       "  <thead>\n",
       "    <tr style=\"text-align: right;\">\n",
       "      <th></th>\n",
       "      <th>contig</th>\n",
       "      <th>resolved_locus</th>\n",
       "      <th>stacks_CatID</th>\n",
       "      <th>stacks_SNP</th>\n",
       "      <th>LEPname</th>\n",
       "      <th>LEP_LG</th>\n",
       "      <th>cM_OLD</th>\n",
       "      <th>paper1_LG</th>\n",
       "      <th>cM</th>\n",
       "      <th>QNAME</th>\n",
       "      <th>...</th>\n",
       "      <th>TAG6</th>\n",
       "      <th>TAG7</th>\n",
       "      <th>TAG8</th>\n",
       "      <th>TAG9</th>\n",
       "      <th>TAG10</th>\n",
       "      <th>Locus</th>\n",
       "      <th>Consensus Sequence</th>\n",
       "      <th>Chromosome</th>\n",
       "      <th>Position (cM)</th>\n",
       "      <th>Locus_basename</th>\n",
       "    </tr>\n",
       "  </thead>\n",
       "  <tbody>\n",
       "    <tr>\n",
       "      <th>0</th>\n",
       "      <td>c44430</td>\n",
       "      <td>44430_A</td>\n",
       "      <td>29403</td>\n",
       "      <td>29403_58</td>\n",
       "      <td>4865</td>\n",
       "      <td>1</td>\n",
       "      <td>0.00</td>\n",
       "      <td>1</td>\n",
       "      <td>0.00</td>\n",
       "      <td>c44430</td>\n",
       "      <td>...</td>\n",
       "      <td>XO:i:0</td>\n",
       "      <td>XG:i:0</td>\n",
       "      <td>NM:i:3</td>\n",
       "      <td>MD:Z:16T41T21T12</td>\n",
       "      <td>YT:Z:UU</td>\n",
       "      <td>42094_x1</td>\n",
       "      <td>TGCAGGGCGCTGCGTTTGCCACACCTGGACAGTTCACATCAGGTAT...</td>\n",
       "      <td>Ots14</td>\n",
       "      <td>123.18</td>\n",
       "      <td>42094</td>\n",
       "    </tr>\n",
       "    <tr>\n",
       "      <th>1</th>\n",
       "      <td>c37517</td>\n",
       "      <td>37517</td>\n",
       "      <td>23631</td>\n",
       "      <td>23631_32</td>\n",
       "      <td>3764</td>\n",
       "      <td>1</td>\n",
       "      <td>2.95</td>\n",
       "      <td>1</td>\n",
       "      <td>2.95</td>\n",
       "      <td>c37517</td>\n",
       "      <td>...</td>\n",
       "      <td>XG:i:0</td>\n",
       "      <td>NM:i:0</td>\n",
       "      <td>MD:Z:93</td>\n",
       "      <td>YT:Z:UU</td>\n",
       "      <td>None</td>\n",
       "      <td>68945_x1</td>\n",
       "      <td>TGCAGGTATGAAAACAATATAGTTAAATACTAGTCGTGACCAGGTA...</td>\n",
       "      <td>Ots14</td>\n",
       "      <td>109.71</td>\n",
       "      <td>68945</td>\n",
       "    </tr>\n",
       "    <tr>\n",
       "      <th>2</th>\n",
       "      <td>c20050</td>\n",
       "      <td>20050</td>\n",
       "      <td>8866</td>\n",
       "      <td>8866_57</td>\n",
       "      <td>1701</td>\n",
       "      <td>1</td>\n",
       "      <td>4.84</td>\n",
       "      <td>1</td>\n",
       "      <td>4.84</td>\n",
       "      <td>c20050</td>\n",
       "      <td>...</td>\n",
       "      <td>XO:i:0</td>\n",
       "      <td>XG:i:0</td>\n",
       "      <td>NM:i:1</td>\n",
       "      <td>MD:Z:87C5</td>\n",
       "      <td>YT:Z:UU</td>\n",
       "      <td>60182_x1</td>\n",
       "      <td>TGCAGGACTTTTTGGAGTGTGGTGTCAAAAAAGCAGAGCATCTCTT...</td>\n",
       "      <td>Ots14</td>\n",
       "      <td>102.97</td>\n",
       "      <td>60182</td>\n",
       "    </tr>\n",
       "    <tr>\n",
       "      <th>4</th>\n",
       "      <td>c25287</td>\n",
       "      <td>25287</td>\n",
       "      <td>13325</td>\n",
       "      <td>13325_69</td>\n",
       "      <td>2352</td>\n",
       "      <td>1</td>\n",
       "      <td>4.84</td>\n",
       "      <td>1</td>\n",
       "      <td>4.84</td>\n",
       "      <td>c25287</td>\n",
       "      <td>...</td>\n",
       "      <td>XG:i:0</td>\n",
       "      <td>NM:i:2</td>\n",
       "      <td>MD:Z:74A9A8</td>\n",
       "      <td>YT:Z:UU</td>\n",
       "      <td>None</td>\n",
       "      <td>31266_x1</td>\n",
       "      <td>TGCAGGTTCGCAGGCATCCATCAATTAAGCAAACAGTTCAGAGGTT...</td>\n",
       "      <td>Ots14</td>\n",
       "      <td>109.71</td>\n",
       "      <td>31266</td>\n",
       "    </tr>\n",
       "    <tr>\n",
       "      <th>5</th>\n",
       "      <td>c33192</td>\n",
       "      <td>33192</td>\n",
       "      <td>20020</td>\n",
       "      <td>20020_28</td>\n",
       "      <td>3307</td>\n",
       "      <td>1</td>\n",
       "      <td>19.73</td>\n",
       "      <td>1</td>\n",
       "      <td>19.73</td>\n",
       "      <td>c33192</td>\n",
       "      <td>...</td>\n",
       "      <td>XG:i:0</td>\n",
       "      <td>NM:i:3</td>\n",
       "      <td>MD:Z:23T4G3G60</td>\n",
       "      <td>YT:Z:UU</td>\n",
       "      <td>None</td>\n",
       "      <td>34742_x1</td>\n",
       "      <td>TGCAGGTCAGTGCTAACCCCAACTAAGGGACAGAAGCTGTCATAAA...</td>\n",
       "      <td>Ots14</td>\n",
       "      <td>90.52</td>\n",
       "      <td>34742</td>\n",
       "    </tr>\n",
       "  </tbody>\n",
       "</table>\n",
       "<p>5 rows × 28 columns</p>\n",
       "</div>"
      ],
      "text/plain": [
       "   contig resolved_locus  stacks_CatID stacks_SNP  LEPname  LEP_LG  cM_OLD  \\\n",
       "0  c44430        44430_A         29403   29403_58     4865       1    0.00   \n",
       "1  c37517          37517         23631   23631_32     3764       1    2.95   \n",
       "2  c20050          20050          8866    8866_57     1701       1    4.84   \n",
       "4  c25287          25287         13325   13325_69     2352       1    4.84   \n",
       "5  c33192          33192         20020   20020_28     3307       1   19.73   \n",
       "\n",
       "   paper1_LG     cM   QNAME      ...          TAG6    TAG7            TAG8  \\\n",
       "0          1   0.00  c44430      ...        XO:i:0  XG:i:0          NM:i:3   \n",
       "1          1   2.95  c37517      ...        XG:i:0  NM:i:0         MD:Z:93   \n",
       "2          1   4.84  c20050      ...        XO:i:0  XG:i:0          NM:i:1   \n",
       "4          1   4.84  c25287      ...        XG:i:0  NM:i:2     MD:Z:74A9A8   \n",
       "5          1  19.73  c33192      ...        XG:i:0  NM:i:3  MD:Z:23T4G3G60   \n",
       "\n",
       "               TAG9    TAG10     Locus  \\\n",
       "0  MD:Z:16T41T21T12  YT:Z:UU  42094_x1   \n",
       "1           YT:Z:UU     None  68945_x1   \n",
       "2         MD:Z:87C5  YT:Z:UU  60182_x1   \n",
       "4           YT:Z:UU     None  31266_x1   \n",
       "5           YT:Z:UU     None  34742_x1   \n",
       "\n",
       "                                  Consensus Sequence Chromosome Position (cM)  \\\n",
       "0  TGCAGGGCGCTGCGTTTGCCACACCTGGACAGTTCACATCAGGTAT...      Ots14        123.18   \n",
       "1  TGCAGGTATGAAAACAATATAGTTAAATACTAGTCGTGACCAGGTA...      Ots14        109.71   \n",
       "2  TGCAGGACTTTTTGGAGTGTGGTGTCAAAAAAGCAGAGCATCTCTT...      Ots14        102.97   \n",
       "4  TGCAGGTTCGCAGGCATCCATCAATTAAGCAAACAGTTCAGAGGTT...      Ots14        109.71   \n",
       "5  TGCAGGTCAGTGCTAACCCCAACTAAGGGACAGAAGCTGTCATAAA...      Ots14         90.52   \n",
       "\n",
       "  Locus_basename  \n",
       "0          42094  \n",
       "1          68945  \n",
       "2          60182  \n",
       "4          31266  \n",
       "5          34742  \n",
       "\n",
       "[5 rows x 28 columns]"
      ]
     },
     "execution_count": 27,
     "metadata": {},
     "output_type": "execute_result"
    }
   ],
   "source": [
    "synteny = pd.merge(chum_map, chin_lgs, left_on = 'contig' , right_on = 'QNAME')\n",
    "synteny.drop_duplicates(subset=['contig'], inplace=True)\n",
    "synteny.head()"
   ]
  },
  {
   "cell_type": "code",
   "execution_count": 29,
   "metadata": {
    "collapsed": false
   },
   "outputs": [
    {
     "data": {
      "text/html": [
       "<div>\n",
       "<table border=\"1\" class=\"dataframe\">\n",
       "  <thead>\n",
       "    <tr style=\"text-align: right;\">\n",
       "      <th></th>\n",
       "      <th>contig</th>\n",
       "      <th>chum_LG</th>\n",
       "      <th>chum_cM</th>\n",
       "      <th>RNAME</th>\n",
       "      <th>Ots_LG</th>\n",
       "      <th>Ots_cM</th>\n",
       "    </tr>\n",
       "  </thead>\n",
       "  <tbody>\n",
       "    <tr>\n",
       "      <th>0</th>\n",
       "      <td>c44430</td>\n",
       "      <td>1</td>\n",
       "      <td>0.00</td>\n",
       "      <td>42094</td>\n",
       "      <td>14</td>\n",
       "      <td>123.18</td>\n",
       "    </tr>\n",
       "    <tr>\n",
       "      <th>1</th>\n",
       "      <td>c37517</td>\n",
       "      <td>1</td>\n",
       "      <td>2.95</td>\n",
       "      <td>68945</td>\n",
       "      <td>14</td>\n",
       "      <td>109.71</td>\n",
       "    </tr>\n",
       "    <tr>\n",
       "      <th>2</th>\n",
       "      <td>c20050</td>\n",
       "      <td>1</td>\n",
       "      <td>4.84</td>\n",
       "      <td>60182</td>\n",
       "      <td>14</td>\n",
       "      <td>102.97</td>\n",
       "    </tr>\n",
       "    <tr>\n",
       "      <th>4</th>\n",
       "      <td>c25287</td>\n",
       "      <td>1</td>\n",
       "      <td>4.84</td>\n",
       "      <td>31266</td>\n",
       "      <td>14</td>\n",
       "      <td>109.71</td>\n",
       "    </tr>\n",
       "    <tr>\n",
       "      <th>5</th>\n",
       "      <td>c33192</td>\n",
       "      <td>1</td>\n",
       "      <td>19.73</td>\n",
       "      <td>34742</td>\n",
       "      <td>14</td>\n",
       "      <td>90.52</td>\n",
       "    </tr>\n",
       "  </tbody>\n",
       "</table>\n",
       "</div>"
      ],
      "text/plain": [
       "   contig  chum_LG  chum_cM  RNAME  Ots_LG  Ots_cM\n",
       "0  c44430        1     0.00  42094      14  123.18\n",
       "1  c37517        1     2.95  68945      14  109.71\n",
       "2  c20050        1     4.84  60182      14  102.97\n",
       "4  c25287        1     4.84  31266      14  109.71\n",
       "5  c33192        1    19.73  34742      14   90.52"
      ]
     },
     "execution_count": 29,
     "metadata": {},
     "output_type": "execute_result"
    }
   ],
   "source": [
    "synteny_summary = synteny[['contig', 'paper1_LG', 'cM', 'RNAME', 'Chromosome', 'Position (cM)']].copy()\n",
    "synteny_summary.rename(columns = {'paper1_LG':'chum_LG', 'cM':'chum_cM', 'Chromosome':'Ots_LG', 'Position (cM)':'Ots_cM' }, inplace=True)\n",
    "synteny_summary['Ots_LG'] = [int(xx.split('s')[1]) for xx in synteny_summary['Ots_LG']]\n",
    "synteny_summary.head()"
   ]
  },
  {
   "cell_type": "code",
   "execution_count": 31,
   "metadata": {
    "collapsed": false
   },
   "outputs": [],
   "source": [
    "xx = synteny_summary.sort(columns = ['chum_LG', 'chum_cM']).copy()\n",
    "xx['chum_pos'] = [ee for ee in range(len(xx))]\n",
    "xx = xx.sort(columns = ['Ots_LG', 'Ots_cM'])\n",
    "\n",
    "\n",
    "yy = synteny_summary.sort(columns = ['Ots_LG', 'Ots_cM']).copy()\n",
    "xx['Ots_pos'] = [ee for ee in range(len(yy))]"
   ]
  },
  {
   "cell_type": "code",
   "execution_count": 32,
   "metadata": {
    "collapsed": false
   },
   "outputs": [],
   "source": [
    "xx_breaks = np.where(np.diff(xx.sort(columns = ['chum_LG', 'chum_cM'])['chum_LG'])==1)\n",
    "yy_breaks = np.where(np.diff(xx.sort(columns = ['Ots_LG', 'Ots_cM'])['Ots_LG'])==1)"
   ]
  },
  {
   "cell_type": "markdown",
   "metadata": {},
   "source": [
    "### Oxford Grid"
   ]
  },
  {
   "cell_type": "code",
   "execution_count": 36,
   "metadata": {
    "collapsed": false
   },
   "outputs": [
    {
     "data": {
      "image/png": "[encoded data removed]",
      "text/plain": [
       "<matplotlib.figure.Figure at 0x7f2eee4153d0>"
      ]
     },
     "metadata": {},
     "output_type": "display_data"
    }
   ],
   "source": [
    "sns.lmplot('chum_pos', 'Ots_pos', data = xx, fit_reg = False, hue = 'chum_LG', legend = False,\n",
    "           palette=sns.color_palette(\"Set1\", 5), size = 13, scatter_kws = {'alpha':1, 's':40})\n",
    "plt.xlim(0); plt.ylim(0)\n",
    "np.diff(xx.sort(columns = ['chum_LG', 'chum_cM'])['chum_LG'])\n",
    "plt.vlines(xx_breaks, ymin = 0, ymax = 770, alpha = .2)\n",
    "plt.hlines(yy_breaks, xmin = 0, xmax = 770, alpha = .2)\n",
    "plt.xticks([x-10 for x in xx_breaks[0]], range(1,38), horizontalalignment = 'left')\n",
    "plt.yticks([x-10 for x in yy_breaks[0]], range(1,38))\n",
    "plt.xlabel('Chum LG')\n",
    "plt.ylabel('Chinook LG')\n",
    "plt.savefig(os.path.join('.' , 'paper', 'figures', 'supplemental','synteny_chinook.png'))\n",
    "plt.show()"
   ]
  },
  {
   "cell_type": "code",
   "execution_count": 37,
   "metadata": {
    "collapsed": false
   },
   "outputs": [],
   "source": [
    "LG_vs_CHR = pd.crosstab(synteny['paper1_LG'], columns = synteny['Chromosome'])\n",
    "LG_vs_CHR.index.name = 'Chum LG'"
   ]
  },
  {
   "cell_type": "code",
   "execution_count": 38,
   "metadata": {
    "collapsed": false
   },
   "outputs": [
    {
     "data": {
      "image/png": "[encoded data removed]",
      "text/plain": [
       "<matplotlib.figure.Figure at 0x7f2eeda7ad90>"
      ]
     },
     "metadata": {},
     "output_type": "display_data"
    }
   ],
   "source": [
    "figsize(16,10)\n",
    "my_colors = sns.cubehelix_palette(n_colors = 6, light=1, start = 2.8, rot = -.1, gamma = 1.2, as_cmap=True)\n",
    "sns.heatmap(LG_vs_CHR, annot = True, linewidths = 0,square = False, cmap=my_colors, \n",
    "           cbar_kws={\"orientation\": \"vertical\"})\n",
    "plt.xlabel('chinook')\n",
    "plt.show()"
   ]
  }
 ],
 "metadata": {
  "kernelspec": {
   "display_name": "Python 2",
   "language": "python",
   "name": "python2"
  },
  "language_info": {
   "codemirror_mode": {
    "name": "ipython",
    "version": 2
   },
   "file_extension": ".py",
   "mimetype": "text/x-python",
   "name": "python",
   "nbconvert_exporter": "python",
   "pygments_lexer": "ipython2",
   "version": "2.7.10"
  }
 },
 "nbformat": 4,
 "nbformat_minor": 0
}
