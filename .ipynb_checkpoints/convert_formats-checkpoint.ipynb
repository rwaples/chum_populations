{
 "cells": [
  {
   "cell_type": "markdown",
   "metadata": {},
   "source": [
    "# Format conversion"
   ]
  },
  {
   "cell_type": "markdown",
   "metadata": {},
   "source": [
    "Conversion between usful genotypic file formats. "
   ]
  },
  {
   "cell_type": "markdown",
   "metadata": {},
   "source": [
    "Using [PGDSpider](http://www.cmpg.unibe.ch/software/PGDSpider/)\n",
    "\n",
    "Lischer, H. E. L., and Laurent Excoffier. \"PGDSpider: an automated data conversion tool for connecting population genetics and genomics programs.\" Bioinformatics 28.2 (2012): 298-299."
   ]
  },
  {
   "cell_type": "markdown",
   "metadata": {},
   "source": [
    "### Use PLINK to create a \\*.ped file"
   ]
  },
  {
   "cell_type": "code",
   "execution_count": 5,
   "metadata": {
    "collapsed": false
   },
   "outputs": [
    {
     "name": "stdout",
     "output_type": "stream",
     "text": [
      "PLINK v1.90b3q 64-bit (29 May 2015)        https://www.cog-genomics.org/plink2\n",
      "(C) 2005-2015 Shaun Purcell, Christopher Chang   GNU General Public License v3\n",
      "Logging to /home/ipseg/Desktop/waples/chum_populations/results/batch_4/pop_analysis/complete.log.\n",
      "Options in effect:\n",
      "  --allow-extra-chr\n",
      "  --allow-no-sex\n",
      "  --autosome-num 50\n",
      "  --bfile /home/ipseg/Desktop/waples/chum_populations/data/batch_4/pop_genotypes/complete\n",
      "  --keep-allele-order\n",
      "  --out /home/ipseg/Desktop/waples/chum_populations/results/batch_4/pop_analysis/complete\n",
      "  --recode\n",
      "\n",
      "32127 MB RAM detected; reserving 16063 MB for main workspace.\n",
      "13407 variants loaded from .bim file.\n",
      "174 samples (0 males, 0 females, 174 ambiguous) loaded from .fam.\n",
      "Ambiguous sex IDs written to\n",
      "/home/ipseg/Desktop/waples/chum_populations/results/batch_4/pop_analysis/complete.nosex\n",
      ".\n",
      "Using 1 thread (no multithreaded calculations invoked).\n",
      "Before main variant filters, 174 founders and 0 nonfounders present.\n",
      "Calculating allele frequencies... 0%\b\b1%\b\b2%\b\b3%\b\b4%\b\b5%\b\b6%\b\b7%\b\b8%\b\b9%\b\b10%\b\b\b11%\b\b\b12%\b\b\b13%\b\b\b14%\b\b\b15%\b\b\b16%\b\b\b17%\b\b\b18%\b\b\b19%\b\b\b20%\b\b\b21%\b\b\b22%\b\b\b23%\b\b\b24%\b\b\b25%\b\b\b26%\b\b\b27%\b\b\b28%\b\b\b29%\b\b\b30%\b\b\b31%\b\b\b32%\b\b\b33%\b\b\b34%\b\b\b35%\b\b\b36%\b\b\b37%\b\b\b38%\b\b\b39%\b\b\b40%\b\b\b41%\b\b\b42%\b\b\b43%\b\b\b44%\b\b\b45%\b\b\b46%\b\b\b47%\b\b\b48%\b\b\b49%\b\b\b50%\b\b\b51%\b\b\b52%\b\b\b53%\b\b\b54%\b\b\b55%\b\b\b56%\b\b\b57%\b\b\b58%\b\b\b59%\b\b\b60%\b\b\b61%\b\b\b62%\b\b\b63%\b\b\b64%\b\b\b65%\b\b\b66%\b\b\b67%\b\b\b68%\b\b\b69%\b\b\b70%\b\b\b71%\b\b\b72%\b\b\b73%\b\b\b74%\b\b\b75%\b\b\b76%\b\b\b77%\b\b\b78%\b\b\b79%\b\b\b80%\b\b\b81%\b\b\b82%\b\b\b83%\b\b\b84%\b\b\b85%\b\b\b86%\b\b\b87%\b\b\b88%\b\b\b89%\b\b\b90%\b\b\b91%\b\b\b92%\b\b\b93%\b\b\b94%\b\b\b95%\b\b\b96%\b\b\b97%\b\b\b98%\b\b\b99%\b\b\b\b done.\n",
      "Total genotyping rate is 0.928571.\n",
      "13407 variants and 174 samples pass filters and QC.\n",
      "Note: No phenotypes present.\n",
      "--recode to\n",
      "/home/ipseg/Desktop/waples/chum_populations/results/batch_4/pop_analysis/complete.ped\n",
      "+\n",
      "/home/ipseg/Desktop/waples/chum_populations/results/batch_4/pop_analysis/complete.map\n",
      "... 0%\b\b1%\b\b2%\b\b3%\b\b4%\b\b5%\b\b6%\b\b7%\b\b8%\b\b9%\b\b10%\b\b\b11%\b\b\b12%\b\b\b13%\b\b\b14%\b\b\b15%\b\b\b16%\b\b\b17%\b\b\b18%\b\b\b19%\b\b\b20%\b\b\b21%\b\b\b22%\b\b\b23%\b\b\b24%\b\b\b25%\b\b\b26%\b\b\b27%\b\b\b28%\b\b\b29%\b\b\b30%\b\b\b31%\b\b\b32%\b\b\b33%\b\b\b34%\b\b\b35%\b\b\b36%\b\b\b37%\b\b\b38%\b\b\b39%\b\b\b40%\b\b\b41%\b\b\b42%\b\b\b43%\b\b\b44%\b\b\b45%\b\b\b46%\b\b\b47%\b\b\b48%\b\b\b49%\b\b\b50%\b\b\b51%\b\b\b52%\b\b\b53%\b\b\b54%\b\b\b55%\b\b\b56%\b\b\b57%\b\b\b58%\b\b\b59%\b\b\b60%\b\b\b61%\b\b\b62%\b\b\b63%\b\b\b64%\b\b\b65%\b\b\b66%\b\b\b67%\b\b\b68%\b\b\b69%\b\b\b70%\b\b\b71%\b\b\b72%\b\b\b73%\b\b\b74%\b\b\b75%\b\b\b76%\b\b\b77%\b\b\b78%\b\b\b79%\b\b\b80%\b\b\b81%\b\b\b82%\b\b\b83%\b\b\b84%\b\b\b85%\b\b\b86%\b\b\b87%\b\b\b88%\b\b\b89%\b\b\b90%\b\b\b91%\b\b\b92%\b\b\b93%\b\b\b94%\b\b\b95%\b\b\b96%\b\b\b97%\b\b\b98%\b\b\b99%\b\b\bdone.\n"
     ]
    }
   ],
   "source": [
    "!plink --bfile /home/ipseg/Desktop/waples/chum_populations/data/batch_4/pop_genotypes/complete \\\n",
    "--allow-extra-chr --allow-no-sex --autosome-num 50 --keep-allele-order \\\n",
    "--recode --out /home/ipseg/Desktop/waples/chum_populations/results/batch_4/pop_analysis/complete"
   ]
  },
  {
   "cell_type": "markdown",
   "metadata": {},
   "source": [
    "### Use PGDSpider to convert to BAYESCAN format\n",
    "This requires a SPID file."
   ]
  },
  {
   "cell_type": "markdown",
   "metadata": {},
   "source": [
    "### SPID File\n",
    "### PED -> BAYESCAN "
   ]
  },
  {
   "cell_type": "markdown",
   "metadata": {},
   "source": [
    "#### This is the SPID file"
   ]
  },
  {
   "cell_type": "code",
   "execution_count": 2,
   "metadata": {
    "collapsed": false
   },
   "outputs": [
    {
     "name": "stdout",
     "output_type": "stream",
     "text": [
      "# spid-file generated: Thu Apr 09 09:29:05 PDT 2015\r\n",
      "\r\n",
      "# PED Parser questions\r\n",
      "PARSER_FORMAT=PED\r\n",
      "\r\n",
      "# Is the Phenotype absent in the input file?\r\n",
      "PED_PARSER_PHENOTYPE_QUESTION=false\r\n",
      "# Is the Family ID column absent in the input file?\r\n",
      "PED_PARSER_FAMILY_ID_QUESTION=false\r\n",
      "# Do you want to include a MAP file with loci information?\r\n",
      "PED_PARSER_INCLUDE_MAP_QUESTION=false\r\n",
      "# Is the Sex column absent in the input file?\r\n",
      "PED_PARSER_SEX_QUESTION=false\r\n",
      "# Are the Paternal ID and the Maternal ID columns absent in the input file?\r\n",
      "PED_PARSER_PATERNAL_MATERNAL_ID_QUESTION=false\r\n",
      "# Open MAP file\r\n",
      "PED_PARSER_MAP_FILE_QUESTION=\r\n",
      "# Group individuals into populations according to:\r\n",
      "PED_PARSER_POPULATION_QUESTION=FAMILY\r\n",
      "# Is the Individual ID column absent in the input file?\r\n",
      "PED_PARSER_IND_ID_QUESTION=false\r\n",
      "\r\n",
      "# GESTE / BayeScan Writer questions\r\n",
      "WRITER_FORMAT=GESTE_BAYE_SCAN\r\n",
      "\r\n",
      "# Specify which data type should be included in the GESTE / BayeScan file  (GESTE / BayeScan can only analyze one data type per file):\r\n",
      "GESTE_BAYE_SCAN_WRITER_DATA_TYPE_QUESTION=SNP\r\n"
     ]
    }
   ],
   "source": [
    "!cat /home/ipseg/Desktop/waples/chum_populations/data/PGDSpider_SPID/PED_BAYESCAN.spid"
   ]
  },
  {
   "cell_type": "markdown",
   "metadata": {},
   "source": [
    "#### Run PGDSpider"
   ]
  },
  {
   "cell_type": "code",
   "execution_count": 6,
   "metadata": {
    "collapsed": false
   },
   "outputs": [
    {
     "name": "stdout",
     "output_type": "stream",
     "text": [
      "INFO  10:55:36 - load PGDSpider configuration from: /home/ipseg/Programs/PGDSpider/PGDSpider_2.0.8.0/spider.conf.xml\n",
      "initialize convert process...\n",
      "read input file...\n",
      "read input file done.\n",
      "write output file...\n",
      "write output file done.\n"
     ]
    }
   ],
   "source": [
    "!java -Xmx1024m -Xms512m -jar '/home/ipseg/Programs/PGDSpider/PGDSpider_2.0.8.0/PGDSpider2-cli.jar' \\\n",
    "-spid /home/ipseg/Desktop/waples/chum_populations/data/PGDSpider_SPID/PED_BAYESCAN.spid  \\\n",
    "-inputfile /home/ipseg/Desktop/waples/chum_populations/results/batch_4/pop_analysis/complete.ped \\\n",
    "-inputformat PED \\\n",
    "-outputfile  /home/ipseg/Desktop/waples/chum_populations/results/batch_4/pop_analysis/bayescan/complete.bayescan \\\n",
    "-outputformat GESTE_BAYE_SCAN "
   ]
  },
  {
   "cell_type": "code",
   "execution_count": null,
   "metadata": {
    "collapsed": true
   },
   "outputs": [],
   "source": []
  }
 ],
 "metadata": {
  "kernelspec": {
   "display_name": "Python 2",
   "language": "python",
   "name": "python2"
  },
  "language_info": {
   "codemirror_mode": {
    "name": "ipython",
    "version": 2
   },
   "file_extension": ".py",
   "mimetype": "text/x-python",
   "name": "python",
   "nbconvert_exporter": "python",
   "pygments_lexer": "ipython2",
   "version": "2.7.10"
  }
 },
 "nbformat": 4,
 "nbformat_minor": 0
}
