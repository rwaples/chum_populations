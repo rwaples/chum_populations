{
 "metadata": {
  "name": "",
  "signature": "sha256:d928a9b4937b38c0a2fcb34514aa75d1a442f61d7a237c2b76dbcacd2cfa3841"
 },
 "nbformat": 3,
 "nbformat_minor": 0,
 "worksheets": []
}