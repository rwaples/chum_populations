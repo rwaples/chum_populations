{
 "cells": [
  {
   "cell_type": "markdown",
   "metadata": {},
   "source": [
    "## Assessing allelic bias in RADseq data"
   ]
  },
  {
   "cell_type": "markdown",
   "metadata": {},
   "source": [
    "Can we identify 'bad' loci by looking at allelic bias in heterozygotes?"
   ]
  },
  {
   "cell_type": "markdown",
   "metadata": {},
   "source": [
    "Within a *heterozygous* individual we can assess allelic bias at a specific locus with a binomial test.  The null hypothesis is that each allelic sequence is equally likely. The p value represents the likelihood of a bias at least as big as observed under the null. Notice this is a two-tailed test."
   ]
  },
  {
   "cell_type": "code",
   "execution_count": 2,
   "metadata": {
    "collapsed": true
   },
   "outputs": [],
   "source": [
    "import scipy.stats\n",
    "import pandas as pd\n",
    "import numpy as np\n",
    "import matplotlib.pyplot as plt\n",
    "import seaborn as sns"
   ]
  },
  {
   "cell_type": "code",
   "execution_count": 23,
   "metadata": {
    "collapsed": true
   },
   "outputs": [],
   "source": [
    "%matplotlib inline"
   ]
  },
  {
   "cell_type": "code",
   "execution_count": 19,
   "metadata": {
    "collapsed": false
   },
   "outputs": [
    {
     "name": "stdout",
     "output_type": "stream",
     "text": [
      "0.00222143377323\n"
     ]
    }
   ],
   "source": [
    "coverage_allele_a = 10\n",
    "coverage_allele_b = 30\n",
    "\n",
    "p_value = scipy.stats.binom_test((coverage_allele_a,coverage_allele_b))\n",
    "print(p_value)"
   ]
  },
  {
   "cell_type": "markdown",
   "metadata": {},
   "source": [
    "Caveat: due to PCR duplicates the reads may not be **truly** independent, hopefully this effect is not allele-specific."
   ]
  },
  {
   "cell_type": "markdown",
   "metadata": {},
   "source": [
    "### Assessing one locus across multiple individuals"
   ]
  },
  {
   "cell_type": "markdown",
   "metadata": {},
   "source": [
    "By observing allele bias at a target locus across multiple individuals we can try to see if there is a **consistent** bias.  \n",
    "\n",
    "This raises the question of how to combine data from many individuals, I see two distinct options:\n",
    "   1. weight each **allele observation** equally, essentially ignoring the indidviual that they appear in.  This implicitly assumes that any process generating bias operates somewhat cosistently across individuals.\n",
    "   2. weight each **individual** equally, this accounts for the difference in coverage across individuals, ignoring the fact that individuals with difference coverages provide more information on allelic bias.\n",
    "   \n",
    "   OR \n",
    "   3. some combination the two."
   ]
  },
  {
   "cell_type": "markdown",
   "metadata": {},
   "source": [
    "#### In case 1. we can simply add up all the observations of the 'a' alelle and all observations of the 'b' allele and run the same binomial test."
   ]
  },
  {
   "cell_type": "code",
   "execution_count": 105,
   "metadata": {
    "collapsed": false
   },
   "outputs": [
    {
     "name": "stdout",
     "output_type": "stream",
     "text": [
      "coverage_allele_a: 205\n",
      "coverage_allele_a: 216\n",
      "0.626048377669\n"
     ]
    }
   ],
   "source": [
    "coverage_allele_a_accross_individuals = (25,13,2,3,7,17,9,29,51,2,4,29,14)\n",
    "coverage_allele_a = sum(coverage_allele_a_accross_individuals)\n",
    "print('coverage_allele_a: {}'.format(coverage_allele_a))\n",
    "\n",
    "coverage_allele_b_accross_individuals = (28,23,22,1,17,14,19,5,27,12,8,21,19)\n",
    "coverage_allele_b = sum(coverage_allele_b_accross_individuals)\n",
    "print('coverage_allele_a: {}'.format(coverage_allele_b))\n",
    "\n",
    "p_value = scipy.stats.binom_test((coverage_allele_a,coverage_allele_b))\n",
    "print(p_value)"
   ]
  },
  {
   "cell_type": "markdown",
   "metadata": {},
   "source": [
    "This could be done for a lot of loci and the p_values compared across all of them."
   ]
  },
  {
   "cell_type": "markdown",
   "metadata": {},
   "source": [
    "#### In case 2. we keep each individual separate."
   ]
  },
  {
   "cell_type": "code",
   "execution_count": 106,
   "metadata": {
    "collapsed": false
   },
   "outputs": [
    {
     "data": {
      "text/plain": [
       "[0.78384630220949836,\n",
       " 0.13249816396273675,\n",
       " 3.5881996154785156e-05,\n",
       " 0.625,\n",
       " 0.063914656639099121,\n",
       " 0.72010013181716115,\n",
       " 0.087158553302288042,\n",
       " 3.8558151572942747e-05,\n",
       " 0.0087717144570601362,\n",
       " 0.012939453124999998,\n",
       " 0.38769531250000011,\n",
       " 0.32223632035754712,\n",
       " 0.4868502416647969]"
      ]
     },
     "execution_count": 106,
     "metadata": {},
     "output_type": "execute_result"
    }
   ],
   "source": [
    "ab = zip(coverage_allele_a_accross_individuals, coverage_allele_b_accross_individuals)\n",
    "p_vals = [scipy.stats.binom_test(xx) for xx in ab]\n",
    "p_vals"
   ]
  },
  {
   "cell_type": "markdown",
   "metadata": {},
   "source": [
    "combine the p values into one measure"
   ]
  },
  {
   "cell_type": "markdown",
   "metadata": {},
   "source": [
    "Fisher's method"
   ]
  },
  {
   "cell_type": "code",
   "execution_count": 107,
   "metadata": {
    "collapsed": false
   },
   "outputs": [
    {
     "data": {
      "text/plain": [
       "(81.070899768715066, 1.4321730977438808e-07)"
      ]
     },
     "execution_count": 107,
     "metadata": {},
     "output_type": "execute_result"
    }
   ],
   "source": [
    "fisher_statistic, fisher_pval = scipy.stats.combine_pvalues(p_vals, method = 'fisher')\n",
    "fisher_statistic, fisher_pval"
   ]
  },
  {
   "cell_type": "markdown",
   "metadata": {},
   "source": [
    "Stouffer's method.\n",
    "\n"
   ]
  },
  {
   "cell_type": "code",
   "execution_count": 109,
   "metadata": {
    "collapsed": false
   },
   "outputs": [
    {
     "data": {
      "text/plain": [
       "(4.3308924674047935, 7.4253098511083297e-06)"
      ]
     },
     "execution_count": 109,
     "metadata": {},
     "output_type": "execute_result"
    }
   ],
   "source": [
    "my_weights = None\n",
    "stouffer_statistic, stouffer_pval = scipy.stats.combine_pvalues(p_vals, method = 'stouffer', weights = None) # can be weighted\n",
    "stouffer_statistic, stouffer_pval"
   ]
  },
  {
   "cell_type": "markdown",
   "metadata": {},
   "source": [
    "In this method you can weight the individuals."
   ]
  },
  {
   "cell_type": "code",
   "execution_count": 114,
   "metadata": {
    "collapsed": false
   },
   "outputs": [
    {
     "data": {
      "text/plain": [
       "(4.2883981531672024, 8.9983142308648029e-06)"
      ]
     },
     "execution_count": 114,
     "metadata": {},
     "output_type": "execute_result"
    }
   ],
   "source": [
    "my_weights = [np.sqrt(sum([a,b])) for a,b in ab]\n",
    "stouffer_statistic, stouffer_pval = scipy.stats.combine_pvalues(p_vals, method = 'stouffer', weights = my_weights) # can be weighted\n",
    "stouffer_statistic, stouffer_pval"
   ]
  },
  {
   "cell_type": "markdown",
   "metadata": {},
   "source": [
    "## Logistic regression \n",
    "see http://blog.yhathq.com/posts/logistic-regression-and-python.html"
   ]
  },
  {
   "cell_type": "code",
   "execution_count": 116,
   "metadata": {
    "collapsed": true
   },
   "outputs": [],
   "source": [
    "import pandas as pd\n",
    "import statsmodels.api as sm\n",
    "import pylab as pl\n",
    "import numpy as np"
   ]
  },
  {
   "cell_type": "markdown",
   "metadata": {},
   "source": [
    "### Create file of all"
   ]
  },
  {
   "cell_type": "code",
   "execution_count": 205,
   "metadata": {
    "collapsed": false
   },
   "outputs": [],
   "source": [
    "def write_allele_bias_file(vcf_file, out_file):\n",
    "    with open(vcf_file) as INFILE:\n",
    "        with open(out_file, 'w') as OUTFILE:\n",
    "            for line in INFILE:\n",
    "                if line.startswith('##'):\n",
    "                    print 'skipped!'\n",
    "                    pass\n",
    "                elif line.startswith('#CHROM'):\n",
    "                    header = line.strip().strip('#').split('\\t')\n",
    "                    inds = header[9:]\n",
    "                    #print(inds)\n",
    "                else:\n",
    "                    tabs = line.split('\\t')\n",
    "                    contig = tabs[0]\n",
    "                    pos = tabs[1]\n",
    "                    genotypes = tabs[9:]\n",
    "                    depth_a_of_ind = dict()\n",
    "                    depth_b_of_ind = dict()\n",
    "                    for gen_idx, gen in enumerate(genotypes):\n",
    "                        if gen.split(':')[0] in ['1/0', '0/1']: # if het\n",
    "                            depth_a_of_ind[inds[gen_idx]] = int(gen.split(':')[2].split(',')[0])\n",
    "                            depth_b_of_ind[inds[gen_idx]] = int(gen.split(':')[2].split(',')[1])\n",
    "                    for ind, depth_a in depth_a_of_ind.items():\n",
    "                        for xx in range(depth_a):\n",
    "                            OUTFILE.write('{}\\t{}\\t{}\\t{}\\n'.format(contig, pos, ind, '0'))\n",
    "                    for ind, depth_b in depth_b_of_ind.items():\n",
    "                        for xx in range(depth_b):\n",
    "                            OUTFILE.write('{}\\t{}\\t{}\\t{}\\n'.format(contig, pos, ind, '1'))"
   ]
  },
  {
   "cell_type": "code",
   "execution_count": 206,
   "metadata": {
    "collapsed": false
   },
   "outputs": [
    {
     "name": "stdout",
     "output_type": "stream",
     "text": [
      "skipped!\n",
      "skipped!\n",
      "skipped!\n",
      "skipped!\n",
      "skipped!\n",
      "skipped!\n",
      "skipped!\n",
      "skipped!\n",
      "skipped!\n"
     ]
    }
   ],
   "source": [
    "write_allele_bias_file(vcf_file='/home/ipseg/Desktop/waples/temp/batch_4.vcf', out_file = '/home/ipseg/Desktop/waples/temp/batch_4.AB')"
   ]
  },
  {
   "cell_type": "code",
   "execution_count": null,
   "metadata": {
    "collapsed": true
   },
   "outputs": [],
   "source": []
  },
  {
   "cell_type": "code",
   "execution_count": 208,
   "metadata": {
    "collapsed": false
   },
   "outputs": [
    {
     "data": {
      "text/html": [
       "<div>\n",
       "<table border=\"1\" class=\"dataframe\">\n",
       "  <thead>\n",
       "    <tr style=\"text-align: right;\">\n",
       "      <th></th>\n",
       "      <th>0</th>\n",
       "      <th>1</th>\n",
       "      <th>2</th>\n",
       "      <th>3</th>\n",
       "    </tr>\n",
       "  </thead>\n",
       "  <tbody>\n",
       "    <tr>\n",
       "      <th>0</th>\n",
       "      <td>c1000</td>\n",
       "      <td>75</td>\n",
       "      <td>CMSTILL10_0055</td>\n",
       "      <td>0</td>\n",
       "    </tr>\n",
       "    <tr>\n",
       "      <th>1</th>\n",
       "      <td>c1000</td>\n",
       "      <td>75</td>\n",
       "      <td>CMSTILL10_0055</td>\n",
       "      <td>0</td>\n",
       "    </tr>\n",
       "    <tr>\n",
       "      <th>2</th>\n",
       "      <td>c1000</td>\n",
       "      <td>75</td>\n",
       "      <td>CMSTILL10_0055</td>\n",
       "      <td>0</td>\n",
       "    </tr>\n",
       "    <tr>\n",
       "      <th>3</th>\n",
       "      <td>c1000</td>\n",
       "      <td>75</td>\n",
       "      <td>CMSTILL10_0055</td>\n",
       "      <td>0</td>\n",
       "    </tr>\n",
       "    <tr>\n",
       "      <th>4</th>\n",
       "      <td>c1000</td>\n",
       "      <td>75</td>\n",
       "      <td>CMSTILL10_0055</td>\n",
       "      <td>0</td>\n",
       "    </tr>\n",
       "  </tbody>\n",
       "</table>\n",
       "</div>"
      ],
      "text/plain": [
       "       0   1               2  3\n",
       "0  c1000  75  CMSTILL10_0055  0\n",
       "1  c1000  75  CMSTILL10_0055  0\n",
       "2  c1000  75  CMSTILL10_0055  0\n",
       "3  c1000  75  CMSTILL10_0055  0\n",
       "4  c1000  75  CMSTILL10_0055  0"
      ]
     },
     "execution_count": 208,
     "metadata": {},
     "output_type": "execute_result"
    }
   ],
   "source": [
    "df = pd.read_csv('/home/ipseg/Desktop/waples/temp/batch_4.AB', sep = '\\t', header = None)"
   ]
  },
  {
   "cell_type": "code",
   "execution_count": 211,
   "metadata": {
    "collapsed": false
   },
   "outputs": [
    {
     "name": "stdout",
     "output_type": "stream",
     "text": [
      "120116103\n"
     ]
    },
    {
     "data": {
      "text/html": [
       "<div>\n",
       "<table border=\"1\" class=\"dataframe\">\n",
       "  <thead>\n",
       "    <tr style=\"text-align: right;\">\n",
       "      <th></th>\n",
       "      <th>contig</th>\n",
       "      <th>pos</th>\n",
       "      <th>ind</th>\n",
       "      <th>allele</th>\n",
       "    </tr>\n",
       "  </thead>\n",
       "  <tbody>\n",
       "    <tr>\n",
       "      <th>0</th>\n",
       "      <td>c1000</td>\n",
       "      <td>75</td>\n",
       "      <td>CMSTILL10_0055</td>\n",
       "      <td>0</td>\n",
       "    </tr>\n",
       "    <tr>\n",
       "      <th>1</th>\n",
       "      <td>c1000</td>\n",
       "      <td>75</td>\n",
       "      <td>CMSTILL10_0055</td>\n",
       "      <td>0</td>\n",
       "    </tr>\n",
       "    <tr>\n",
       "      <th>2</th>\n",
       "      <td>c1000</td>\n",
       "      <td>75</td>\n",
       "      <td>CMSTILL10_0055</td>\n",
       "      <td>0</td>\n",
       "    </tr>\n",
       "    <tr>\n",
       "      <th>3</th>\n",
       "      <td>c1000</td>\n",
       "      <td>75</td>\n",
       "      <td>CMSTILL10_0055</td>\n",
       "      <td>0</td>\n",
       "    </tr>\n",
       "    <tr>\n",
       "      <th>4</th>\n",
       "      <td>c1000</td>\n",
       "      <td>75</td>\n",
       "      <td>CMSTILL10_0055</td>\n",
       "      <td>0</td>\n",
       "    </tr>\n",
       "  </tbody>\n",
       "</table>\n",
       "</div>"
      ],
      "text/plain": [
       "  contig  pos             ind  allele\n",
       "0  c1000   75  CMSTILL10_0055       0\n",
       "1  c1000   75  CMSTILL10_0055       0\n",
       "2  c1000   75  CMSTILL10_0055       0\n",
       "3  c1000   75  CMSTILL10_0055       0\n",
       "4  c1000   75  CMSTILL10_0055       0"
      ]
     },
     "execution_count": 211,
     "metadata": {},
     "output_type": "execute_result"
    }
   ],
   "source": [
    "df.columns = ['contig', 'pos', 'ind', 'allele']\n",
    "print len(df)\n",
    "df.head()"
   ]
  },
  {
   "cell_type": "code",
   "execution_count": 214,
   "metadata": {
    "collapsed": false
   },
   "outputs": [],
   "source": [
    "df_sub = df[1:5000000]"
   ]
  },
  {
   "cell_type": "code",
   "execution_count": 217,
   "metadata": {
    "collapsed": true
   },
   "outputs": [],
   "source": [
    "df_sub = df_sub[1:1000000]"
   ]
  },
  {
   "cell_type": "code",
   "execution_count": 218,
   "metadata": {
    "collapsed": false
   },
   "outputs": [
    {
     "ename": "NameError",
     "evalue": "name 'df' is not defined",
     "output_type": "error",
     "traceback": [
      "\u001b[1;31m---------------------------------------------------------------------------\u001b[0m",
      "\u001b[1;31mNameError\u001b[0m                                 Traceback (most recent call last)",
      "\u001b[1;32m<ipython-input-218-ea3cf69ec397>\u001b[0m in \u001b[0;36m<module>\u001b[1;34m()\u001b[0m\n\u001b[1;32m----> 1\u001b[1;33m \u001b[1;32mdel\u001b[0m \u001b[0mdf\u001b[0m\u001b[1;33m\u001b[0m\u001b[0m\n\u001b[0m",
      "\u001b[1;31mNameError\u001b[0m: name 'df' is not defined"
     ]
    }
   ],
   "source": [
    "del df"
   ]
  },
  {
   "cell_type": "code",
   "execution_count": 224,
   "metadata": {
    "collapsed": false
   },
   "outputs": [
    {
     "data": {
      "text/html": [
       "<div>\n",
       "<table border=\"1\" class=\"dataframe\">\n",
       "  <thead>\n",
       "    <tr style=\"text-align: right;\">\n",
       "      <th></th>\n",
       "      <th>c1000</th>\n",
       "      <th>c10000</th>\n",
       "      <th>c10001</th>\n",
       "      <th>c10003</th>\n",
       "      <th>c10012</th>\n",
       "      <th>c10019</th>\n",
       "      <th>c1002</th>\n",
       "      <th>c10020</th>\n",
       "      <th>c10022</th>\n",
       "      <th>c10027</th>\n",
       "      <th>...</th>\n",
       "      <th>c10442</th>\n",
       "      <th>c10451</th>\n",
       "      <th>c10454</th>\n",
       "      <th>c10455</th>\n",
       "      <th>c10458</th>\n",
       "      <th>c10459</th>\n",
       "      <th>c1046</th>\n",
       "      <th>c10463</th>\n",
       "      <th>c10467</th>\n",
       "      <th>intercept</th>\n",
       "    </tr>\n",
       "  </thead>\n",
       "  <tbody>\n",
       "    <tr>\n",
       "      <th>2</th>\n",
       "      <td>1</td>\n",
       "      <td>0</td>\n",
       "      <td>0</td>\n",
       "      <td>0</td>\n",
       "      <td>0</td>\n",
       "      <td>0</td>\n",
       "      <td>0</td>\n",
       "      <td>0</td>\n",
       "      <td>0</td>\n",
       "      <td>0</td>\n",
       "      <td>...</td>\n",
       "      <td>0</td>\n",
       "      <td>0</td>\n",
       "      <td>0</td>\n",
       "      <td>0</td>\n",
       "      <td>0</td>\n",
       "      <td>0</td>\n",
       "      <td>0</td>\n",
       "      <td>0</td>\n",
       "      <td>0</td>\n",
       "      <td>1</td>\n",
       "    </tr>\n",
       "    <tr>\n",
       "      <th>3</th>\n",
       "      <td>1</td>\n",
       "      <td>0</td>\n",
       "      <td>0</td>\n",
       "      <td>0</td>\n",
       "      <td>0</td>\n",
       "      <td>0</td>\n",
       "      <td>0</td>\n",
       "      <td>0</td>\n",
       "      <td>0</td>\n",
       "      <td>0</td>\n",
       "      <td>...</td>\n",
       "      <td>0</td>\n",
       "      <td>0</td>\n",
       "      <td>0</td>\n",
       "      <td>0</td>\n",
       "      <td>0</td>\n",
       "      <td>0</td>\n",
       "      <td>0</td>\n",
       "      <td>0</td>\n",
       "      <td>0</td>\n",
       "      <td>1</td>\n",
       "    </tr>\n",
       "    <tr>\n",
       "      <th>4</th>\n",
       "      <td>1</td>\n",
       "      <td>0</td>\n",
       "      <td>0</td>\n",
       "      <td>0</td>\n",
       "      <td>0</td>\n",
       "      <td>0</td>\n",
       "      <td>0</td>\n",
       "      <td>0</td>\n",
       "      <td>0</td>\n",
       "      <td>0</td>\n",
       "      <td>...</td>\n",
       "      <td>0</td>\n",
       "      <td>0</td>\n",
       "      <td>0</td>\n",
       "      <td>0</td>\n",
       "      <td>0</td>\n",
       "      <td>0</td>\n",
       "      <td>0</td>\n",
       "      <td>0</td>\n",
       "      <td>0</td>\n",
       "      <td>1</td>\n",
       "    </tr>\n",
       "    <tr>\n",
       "      <th>5</th>\n",
       "      <td>1</td>\n",
       "      <td>0</td>\n",
       "      <td>0</td>\n",
       "      <td>0</td>\n",
       "      <td>0</td>\n",
       "      <td>0</td>\n",
       "      <td>0</td>\n",
       "      <td>0</td>\n",
       "      <td>0</td>\n",
       "      <td>0</td>\n",
       "      <td>...</td>\n",
       "      <td>0</td>\n",
       "      <td>0</td>\n",
       "      <td>0</td>\n",
       "      <td>0</td>\n",
       "      <td>0</td>\n",
       "      <td>0</td>\n",
       "      <td>0</td>\n",
       "      <td>0</td>\n",
       "      <td>0</td>\n",
       "      <td>1</td>\n",
       "    </tr>\n",
       "    <tr>\n",
       "      <th>6</th>\n",
       "      <td>1</td>\n",
       "      <td>0</td>\n",
       "      <td>0</td>\n",
       "      <td>0</td>\n",
       "      <td>0</td>\n",
       "      <td>0</td>\n",
       "      <td>0</td>\n",
       "      <td>0</td>\n",
       "      <td>0</td>\n",
       "      <td>0</td>\n",
       "      <td>...</td>\n",
       "      <td>0</td>\n",
       "      <td>0</td>\n",
       "      <td>0</td>\n",
       "      <td>0</td>\n",
       "      <td>0</td>\n",
       "      <td>0</td>\n",
       "      <td>0</td>\n",
       "      <td>0</td>\n",
       "      <td>0</td>\n",
       "      <td>1</td>\n",
       "    </tr>\n",
       "  </tbody>\n",
       "</table>\n",
       "<p>5 rows × 128 columns</p>\n",
       "</div>"
      ],
      "text/plain": [
       "   c1000  c10000  c10001  c10003  c10012  c10019  c1002  c10020  c10022  \\\n",
       "2      1       0       0       0       0       0      0       0       0   \n",
       "3      1       0       0       0       0       0      0       0       0   \n",
       "4      1       0       0       0       0       0      0       0       0   \n",
       "5      1       0       0       0       0       0      0       0       0   \n",
       "6      1       0       0       0       0       0      0       0       0   \n",
       "\n",
       "   c10027    ...      c10442  c10451  c10454  c10455  c10458  c10459  c1046  \\\n",
       "2       0    ...           0       0       0       0       0       0      0   \n",
       "3       0    ...           0       0       0       0       0       0      0   \n",
       "4       0    ...           0       0       0       0       0       0      0   \n",
       "5       0    ...           0       0       0       0       0       0      0   \n",
       "6       0    ...           0       0       0       0       0       0      0   \n",
       "\n",
       "   c10463  c10467  intercept  \n",
       "2       0       0          1  \n",
       "3       0       0          1  \n",
       "4       0       0          1  \n",
       "5       0       0          1  \n",
       "6       0       0          1  \n",
       "\n",
       "[5 rows x 128 columns]"
      ]
     },
     "execution_count": 224,
     "metadata": {},
     "output_type": "execute_result"
    }
   ],
   "source": [
    "dum_df = pd.get_dummies(df_sub['contig'])\n",
    "dum_df['intercept'] = 1.0\n",
    "dum_df.head()"
   ]
  },
  {
   "cell_type": "code",
   "execution_count": null,
   "metadata": {
    "collapsed": true
   },
   "outputs": [],
   "source": []
  },
  {
   "cell_type": "code",
   "execution_count": 225,
   "metadata": {
    "collapsed": false
   },
   "outputs": [
    {
     "data": {
      "text/plain": [
       "Index([u'c1000', u'c10000', u'c10001', u'c10003', u'c10012', u'c10019',\n",
       "       u'c1002', u'c10020', u'c10022', u'c10027', \n",
       "       ...\n",
       "       u'c10442', u'c10451', u'c10454', u'c10455', u'c10458', u'c10459',\n",
       "       u'c1046', u'c10463', u'c10467', u'intercept'],\n",
       "      dtype='object', length=128)"
      ]
     },
     "execution_count": 225,
     "metadata": {},
     "output_type": "execute_result"
    }
   ],
   "source": [
    "train_cols = dum_df.columns\n",
    "train_cols"
   ]
  },
  {
   "cell_type": "code",
   "execution_count": 226,
   "metadata": {
    "collapsed": false
   },
   "outputs": [],
   "source": [
    "logit = sm.Logit(df_sub['allele'], dum_df[train_cols])"
   ]
  },
  {
   "cell_type": "code",
   "execution_count": 228,
   "metadata": {
    "collapsed": false
   },
   "outputs": [
    {
     "ename": "TypeError",
     "evalue": "information() takes exactly 2 arguments (1 given)",
     "output_type": "error",
     "traceback": [
      "\u001b[1;31m---------------------------------------------------------------------------\u001b[0m",
      "\u001b[1;31mTypeError\u001b[0m                                 Traceback (most recent call last)",
      "\u001b[1;32m<ipython-input-228-25db7c3d914b>\u001b[0m in \u001b[0;36m<module>\u001b[1;34m()\u001b[0m\n\u001b[1;32m----> 1\u001b[1;33m \u001b[0mlogit\u001b[0m\u001b[1;33m.\u001b[0m\u001b[0minformation\u001b[0m\u001b[1;33m(\u001b[0m\u001b[1;33m)\u001b[0m\u001b[1;33m\u001b[0m\u001b[0m\n\u001b[0m",
      "\u001b[1;31mTypeError\u001b[0m: information() takes exactly 2 arguments (1 given)"
     ]
    }
   ],
   "source": [
    "logit.information()"
   ]
  },
  {
   "cell_type": "code",
   "execution_count": 222,
   "metadata": {
    "collapsed": false
   },
   "outputs": [
    {
     "name": "stdout",
     "output_type": "stream",
     "text": [
      "Optimization terminated successfully.\n",
      "         Current function value: 0.687926\n",
      "         Iterations 5\n"
     ]
    }
   ],
   "source": [
    "result = logit.fit()"
   ]
  },
  {
   "cell_type": "code",
   "execution_count": 227,
   "metadata": {
    "collapsed": false,
    "scrolled": true
   },
   "outputs": [
    {
     "name": "stdout",
     "output_type": "stream",
     "text": [
      "                           Logit Regression Results                           \n",
      "==============================================================================\n",
      "Dep. Variable:                 allele   No. Observations:               999999\n",
      "Model:                          Logit   Df Residuals:                   999873\n",
      "Method:                           MLE   Df Model:                          125\n",
      "Date:                Wed, 17 Jun 2015   Pseudo R-squ.:                0.007442\n",
      "Time:                        10:17:10   Log-Likelihood:            -6.8792e+05\n",
      "converged:                       True   LL-Null:                   -6.9308e+05\n",
      "                                        LLR p-value:                     0.000\n",
      "==============================================================================\n",
      "                 coef    std err          z      P>|z|      [95.0% Conf. Int.]\n",
      "------------------------------------------------------------------------------\n",
      "c1000         -0.0252      0.016     -1.595      0.111        -0.056     0.006\n",
      "c10000        -0.0541      0.014     -3.836      0.000        -0.082    -0.026\n",
      "c10001         0.0726      0.035      2.103      0.035         0.005     0.140\n",
      "c10003         0.6729      0.049     13.678      0.000         0.576     0.769\n",
      "c10012        -0.0109      0.043     -0.255      0.799        -0.094     0.073\n",
      "c10019        -0.0176      0.008     -2.211      0.027        -0.033    -0.002\n",
      "c1002         -0.1057      0.020     -5.262      0.000        -0.145    -0.066\n",
      "c10020         0.0059      0.048      0.121      0.904        -0.089     0.101\n",
      "c10022              0      0.028          0      1.000        -0.054     0.054\n",
      "c10027         0.1713      0.020      8.700      0.000         0.133     0.210\n",
      "c10032        -0.0223      0.041     -0.548      0.584        -0.102     0.057\n",
      "c10033        -0.0487      0.038     -1.287      0.198        -0.123     0.025\n",
      "c10036         0.0128      0.046      0.277      0.782        -0.078     0.103\n",
      "c10039        -0.1062      0.045     -2.348      0.019        -0.195    -0.018\n",
      "c1004         -0.0630      0.028     -2.280      0.023        -0.117    -0.009\n",
      "c10043              0      0.025          0      1.000        -0.048     0.048\n",
      "c10050         0.0602      0.010      6.043      0.000         0.041     0.080\n",
      "c10052         0.6526      0.034     18.955      0.000         0.585     0.720\n",
      "c10061         0.1138      0.040      2.869      0.004         0.036     0.192\n",
      "c10062         0.0559      0.050      1.108      0.268        -0.043     0.155\n",
      "c10064        -0.0062      0.009     -0.711      0.477        -0.023     0.011\n",
      "c10068        -0.0019      0.014     -0.133      0.894        -0.029     0.026\n",
      "c10072        -0.0596      0.040     -1.504      0.133        -0.137     0.018\n",
      "c10080        -0.2927      0.084     -3.502      0.000        -0.456    -0.129\n",
      "c10081        -0.0337      0.047     -0.723      0.470        -0.125     0.058\n",
      "c10082        -0.2949      0.062     -4.731      0.000        -0.417    -0.173\n",
      "c10083         0.0941      0.038      2.500      0.012         0.020     0.168\n",
      "c10084        -1.0815      0.046    -23.440      0.000        -1.172    -0.991\n",
      "c10094        -0.2112      0.050     -4.221      0.000        -0.309    -0.113\n",
      "c10096        -0.0287      0.010     -2.799      0.005        -0.049    -0.009\n",
      "c10098        -0.0389      0.037     -1.062      0.288        -0.111     0.033\n",
      "c10099        -0.0298      0.016     -1.881      0.060        -0.061     0.001\n",
      "c1010          0.0193      0.037      0.520      0.603        -0.053     0.092\n",
      "c10102        -0.0138      0.039     -0.352      0.724        -0.091     0.063\n",
      "c10106         0.0151      0.055      0.274      0.784        -0.093     0.123\n",
      "c10108         0.0046      0.068      0.068      0.946        -0.128     0.137\n",
      "c1011         -0.2971      0.032     -9.418      0.000        -0.359    -0.235\n",
      "c10111         0.0482      0.014      3.359      0.001         0.020     0.076\n",
      "c10114         0.0583      0.029      2.033      0.042         0.002     0.114\n",
      "c10116        -0.1321      0.012    -10.598      0.000        -0.157    -0.108\n",
      "c1012         -0.1074      0.021     -5.156      0.000        -0.148    -0.067\n",
      "c10120        -0.0279      0.019     -1.442      0.149        -0.066     0.010\n",
      "c10121        -0.2320      0.017    -13.259      0.000        -0.266    -0.198\n",
      "c10136         0.1374      0.044      3.140      0.002         0.052     0.223\n",
      "c10139              0      0.041          0      1.000        -0.081     0.081\n",
      "c10140         0.0517      0.035      1.491      0.136        -0.016     0.120\n",
      "c10152        -0.0333      0.061     -0.547      0.584        -0.152     0.086\n",
      "c10155        -0.1266      0.012    -10.769      0.000        -0.150    -0.104\n",
      "c10158         0.8864      0.026     34.424      0.000         0.836     0.937\n",
      "c1016               0      0.029          0      1.000        -0.057     0.057\n",
      "c10163        -0.0418      0.016     -2.649      0.008        -0.073    -0.011\n",
      "c10170         0.2084      0.017     12.079      0.000         0.175     0.242\n",
      "c10173        -0.1401      0.087     -1.607      0.108        -0.311     0.031\n",
      "c10179         0.1485      0.042      3.568      0.000         0.067     0.230\n",
      "c1018          0.0194      0.040      0.483      0.629        -0.059     0.098\n",
      "c10194         0.2167      0.121      1.796      0.073        -0.020     0.453\n",
      "c1020         -0.0207      0.038     -0.539      0.590        -0.096     0.055\n",
      "c10203         0.0183      0.037      0.487      0.626        -0.055     0.092\n",
      "c10206        -0.1298      0.042     -3.084      0.002        -0.212    -0.047\n",
      "c1021               0      0.054          0      1.000        -0.106     0.106\n",
      "c10214        -0.0115      0.042     -0.273      0.785        -0.094     0.071\n",
      "c10217         0.4302      0.039     11.066      0.000         0.354     0.506\n",
      "c10221         0.0152      0.050      0.302      0.762        -0.084     0.114\n",
      "c10222        -1.0660      0.027    -38.877      0.000        -1.120    -1.012\n",
      "c10224        -0.0896      0.022     -4.007      0.000        -0.133    -0.046\n",
      "c10230              0      0.045          0      1.000        -0.089     0.089\n",
      "c10235         0.4401      0.027     16.419      0.000         0.388     0.493\n",
      "c1024         -0.5685      0.036    -15.668      0.000        -0.640    -0.497\n",
      "c10252         0.0020      0.044      0.044      0.965        -0.085     0.089\n",
      "c10255         0.0618      0.013      4.910      0.000         0.037     0.086\n",
      "c10257         0.3016      0.029     10.342      0.000         0.244     0.359\n",
      "c10260              0      0.067          0      1.000        -0.131     0.131\n",
      "c10261         0.0909      0.043      2.130      0.033         0.007     0.175\n",
      "c10262        -0.0218      0.008     -2.755      0.006        -0.037    -0.006\n",
      "c10264        -0.0228      0.049     -0.465      0.642        -0.119     0.073\n",
      "c10267        -0.0357      0.040     -0.886      0.376        -0.115     0.043\n",
      "c10268        -0.0819      0.068     -1.197      0.231        -0.216     0.052\n",
      "c10271         0.0381      0.059      0.648      0.517        -0.077     0.154\n",
      "c10279         0.0489      0.068      0.716      0.474        -0.085     0.183\n",
      "c10280         0.7085      0.019     38.113      0.000         0.672     0.745\n",
      "c10281        -0.0050      0.038     -0.132      0.895        -0.079     0.069\n",
      "c10284        -0.0215      0.073     -0.293      0.769        -0.165     0.122\n",
      "c10291        -0.0174      0.021     -0.823      0.411        -0.059     0.024\n",
      "c10301        -0.0643      0.030     -2.113      0.035        -0.124    -0.005\n",
      "c10305         0.0519      0.010      5.169      0.000         0.032     0.072\n",
      "c10308         0.0053      0.046      0.115      0.908        -0.085     0.096\n",
      "c10309        -0.0176      0.017     -1.014      0.311        -0.052     0.016\n",
      "c10314         0.0308      0.045      0.680      0.497        -0.058     0.120\n",
      "c10320         0.1652      0.045      3.649      0.000         0.076     0.254\n",
      "c10323              0      0.027          0      1.000        -0.053     0.053\n",
      "c10325        -0.0090      0.045     -0.202      0.840        -0.097     0.079\n",
      "c10327         0.0180      0.057      0.315      0.753        -0.094     0.130\n",
      "c10334        -0.1251      0.059     -2.104      0.035        -0.242    -0.009\n",
      "c1034         -0.7946      0.025    -32.416      0.000        -0.843    -0.747\n",
      "c10343         0.0520      0.046      1.140      0.254        -0.037     0.141\n",
      "c10346         0.0161      0.039      0.412      0.681        -0.061     0.093\n",
      "c10356         0.0107      0.049      0.220      0.826        -0.085     0.107\n",
      "c10359         0.1385      0.039      3.515      0.000         0.061     0.216\n",
      "c10366        -0.0331      0.038     -0.881      0.378        -0.107     0.040\n",
      "c10375        -0.0556      0.011     -5.073      0.000        -0.077    -0.034\n",
      "c10380         0.1223      0.013      9.500      0.000         0.097     0.148\n",
      "c10381        -0.7705      0.026    -29.463      0.000        -0.822    -0.719\n",
      "c10386        -0.0260      0.042     -0.614      0.539        -0.109     0.057\n",
      "c10387        -0.0268      0.067     -0.401      0.688        -0.158     0.104\n",
      "c10391        -0.2121      0.060     -3.554      0.000        -0.329    -0.095\n",
      "c10393        -0.1238      0.013     -9.282      0.000        -0.150    -0.098\n",
      "c10400        -0.0043      0.010     -0.438      0.661        -0.024     0.015\n",
      "c10404         0.1213      0.042      2.921      0.003         0.040     0.203\n",
      "c1041          0.0046      0.067      0.067      0.946        -0.128     0.137\n",
      "c10414        -0.0386      0.029     -1.347      0.178        -0.095     0.018\n",
      "c10416         0.0118      0.032      0.368      0.713        -0.051     0.075\n",
      "c10418         0.1001      0.037      2.682      0.007         0.027     0.173\n",
      "c10428        -0.0361      0.069     -0.520      0.603        -0.172     0.100\n",
      "c10432         0.0703      0.062      1.140      0.254        -0.051     0.191\n",
      "c10435              0      0.016          0      1.000        -0.031     0.031\n",
      "c10436        -0.3262      0.023    -14.131      0.000        -0.371    -0.281\n",
      "c10437         0.2147      0.057      3.736      0.000         0.102     0.327\n",
      "c1044         -0.0281      0.024     -1.186      0.236        -0.075     0.018\n",
      "c10442        -0.0236      0.023     -1.025      0.306        -0.069     0.022\n",
      "c10451              0      0.031          0      1.000        -0.061     0.061\n",
      "c10454         0.4523      0.051      8.797      0.000         0.352     0.553\n",
      "c10455         0.0623      0.043      1.434      0.152        -0.023     0.148\n",
      "c10458         0.2653      0.049      5.456      0.000         0.170     0.361\n",
      "c10459         0.0709      0.057      1.234      0.217        -0.042     0.184\n",
      "c1046         -0.5216      0.050    -10.510      0.000        -0.619    -0.424\n",
      "c10463         0.2097      0.052      4.004      0.000         0.107     0.312\n",
      "==============================================================================\n"
     ]
    }
   ],
   "source": [
    "print result.summary()"
   ]
  },
  {
   "cell_type": "code",
   "execution_count": null,
   "metadata": {
    "collapsed": true
   },
   "outputs": [],
   "source": []
  },
  {
   "cell_type": "code",
   "execution_count": 240,
   "metadata": {
    "collapsed": false
   },
   "outputs": [],
   "source": [
    "def write_allele_bias_file2(vcf_file, out_file):\n",
    "    with open(vcf_file) as INFILE:\n",
    "        with open(out_file, 'w') as OUTFILE:\n",
    "            for line in INFILE:\n",
    "                if line.startswith('##'):\n",
    "                    print 'skipped!'\n",
    "                    pass\n",
    "                elif line.startswith('#CHROM'):\n",
    "                    header = line.strip().strip('#').split('\\t')\n",
    "                    inds = header[9:]\n",
    "                    #print(inds)\n",
    "                else:\n",
    "                    tabs = line.split('\\t')\n",
    "                    contig = tabs[0]\n",
    "                    pos = tabs[1]\n",
    "                    genotypes = tabs[9:]\n",
    "                    depth_a_of_ind = dict()\n",
    "                    depth_b_of_ind = dict()\n",
    "                    for gen_idx, gen in enumerate(genotypes):\n",
    "                        if gen.split(':')[0] in ['1/0', '0/1']: # if het\n",
    "                            depth_a_of_ind[inds[gen_idx]] = int(gen.split(':')[2].split(',')[0])\n",
    "                            depth_b_of_ind[inds[gen_idx]] = int(gen.split(':')[2].split(',')[1])\n",
    "                    sum_a = sum(depth_a_of_ind.values())\n",
    "                    sum_b = sum(depth_b_of_ind.values())\n",
    "                    OUTFILE.write('{}\\t{}\\t{}\\t{}\\t{}\\n'.format(contig, pos, sum_a, sum_b, np.float(sum_a)/(sum_a+sum_b)))"
   ]
  },
  {
   "cell_type": "code",
   "execution_count": 241,
   "metadata": {
    "collapsed": false
   },
   "outputs": [
    {
     "name": "stdout",
     "output_type": "stream",
     "text": [
      "skipped!\n",
      "skipped!\n",
      "skipped!\n",
      "skipped!\n",
      "skipped!\n",
      "skipped!\n",
      "skipped!\n",
      "skipped!\n",
      "skipped!\n"
     ]
    }
   ],
   "source": [
    "write_allele_bias_file2(vcf_file='/home/ipseg/Desktop/waples/temp/batch_4.vcf', out_file = '/home/ipseg/Desktop/waples/temp/batch_4.depths')"
   ]
  },
  {
   "cell_type": "code",
   "execution_count": 13,
   "metadata": {
    "collapsed": false
   },
   "outputs": [
    {
     "data": {
      "text/html": [
       "<div>\n",
       "<table border=\"1\" class=\"dataframe\">\n",
       "  <thead>\n",
       "    <tr style=\"text-align: right;\">\n",
       "      <th></th>\n",
       "      <th>contgis</th>\n",
       "      <th>pos</th>\n",
       "      <th>depth_a</th>\n",
       "      <th>depth_b</th>\n",
       "      <th>ratio</th>\n",
       "      <th>total_depth</th>\n",
       "    </tr>\n",
       "  </thead>\n",
       "  <tbody>\n",
       "    <tr>\n",
       "      <th>0</th>\n",
       "      <td>c1000</td>\n",
       "      <td>75</td>\n",
       "      <td>4191</td>\n",
       "      <td>5493</td>\n",
       "      <td>0.432776</td>\n",
       "      <td>9684</td>\n",
       "    </tr>\n",
       "    <tr>\n",
       "      <th>1</th>\n",
       "      <td>c1000</td>\n",
       "      <td>93</td>\n",
       "      <td>3928</td>\n",
       "      <td>2422</td>\n",
       "      <td>0.618583</td>\n",
       "      <td>6350</td>\n",
       "    </tr>\n",
       "    <tr>\n",
       "      <th>2</th>\n",
       "      <td>c10000</td>\n",
       "      <td>14</td>\n",
       "      <td>4346</td>\n",
       "      <td>5659</td>\n",
       "      <td>0.434383</td>\n",
       "      <td>10005</td>\n",
       "    </tr>\n",
       "    <tr>\n",
       "      <th>3</th>\n",
       "      <td>c10000</td>\n",
       "      <td>18</td>\n",
       "      <td>5979</td>\n",
       "      <td>4122</td>\n",
       "      <td>0.591922</td>\n",
       "      <td>10101</td>\n",
       "    </tr>\n",
       "    <tr>\n",
       "      <th>4</th>\n",
       "      <td>c10001</td>\n",
       "      <td>81</td>\n",
       "      <td>1069</td>\n",
       "      <td>1053</td>\n",
       "      <td>0.503770</td>\n",
       "      <td>2122</td>\n",
       "    </tr>\n",
       "  </tbody>\n",
       "</table>\n",
       "</div>"
      ],
      "text/plain": [
       "  contgis  pos  depth_a  depth_b     ratio  total_depth\n",
       "0   c1000   75     4191     5493  0.432776         9684\n",
       "1   c1000   93     3928     2422  0.618583         6350\n",
       "2  c10000   14     4346     5659  0.434383        10005\n",
       "3  c10000   18     5979     4122  0.591922        10101\n",
       "4  c10001   81     1069     1053  0.503770         2122"
      ]
     },
     "execution_count": 13,
     "metadata": {},
     "output_type": "execute_result"
    }
   ],
   "source": [
    "depths = pd.read_csv('/home/ipseg/Desktop/waples/temp/batch_4.depths', sep = '\\t', header = None)\n",
    "depths.columns = ['contgis', 'pos', 'depth_a' , 'depth_b', 'ratio']\n",
    "depths['total_depth'] = depths['depth_a'] + depths['depth_b']\n",
    "depths.head()"
   ]
  },
  {
   "cell_type": "code",
   "execution_count": 15,
   "metadata": {
    "collapsed": false
   },
   "outputs": [
    {
     "data": {
      "text/html": [
       "<div>\n",
       "<table border=\"1\" class=\"dataframe\">\n",
       "  <thead>\n",
       "    <tr style=\"text-align: right;\">\n",
       "      <th></th>\n",
       "      <th>contgis</th>\n",
       "      <th>pos</th>\n",
       "      <th>depth_a</th>\n",
       "      <th>depth_b</th>\n",
       "      <th>ratio</th>\n",
       "      <th>total_depth</th>\n",
       "      <th>std</th>\n",
       "    </tr>\n",
       "  </thead>\n",
       "  <tbody>\n",
       "    <tr>\n",
       "      <th>0</th>\n",
       "      <td>c1000</td>\n",
       "      <td>75</td>\n",
       "      <td>4191</td>\n",
       "      <td>5493</td>\n",
       "      <td>0.432776</td>\n",
       "      <td>9684</td>\n",
       "      <td>49.203658</td>\n",
       "    </tr>\n",
       "    <tr>\n",
       "      <th>1</th>\n",
       "      <td>c1000</td>\n",
       "      <td>93</td>\n",
       "      <td>3928</td>\n",
       "      <td>2422</td>\n",
       "      <td>0.618583</td>\n",
       "      <td>6350</td>\n",
       "      <td>39.843444</td>\n",
       "    </tr>\n",
       "    <tr>\n",
       "      <th>2</th>\n",
       "      <td>c10000</td>\n",
       "      <td>14</td>\n",
       "      <td>4346</td>\n",
       "      <td>5659</td>\n",
       "      <td>0.434383</td>\n",
       "      <td>10005</td>\n",
       "      <td>50.012498</td>\n",
       "    </tr>\n",
       "    <tr>\n",
       "      <th>3</th>\n",
       "      <td>c10000</td>\n",
       "      <td>18</td>\n",
       "      <td>5979</td>\n",
       "      <td>4122</td>\n",
       "      <td>0.591922</td>\n",
       "      <td>10101</td>\n",
       "      <td>50.251866</td>\n",
       "    </tr>\n",
       "    <tr>\n",
       "      <th>4</th>\n",
       "      <td>c10001</td>\n",
       "      <td>81</td>\n",
       "      <td>1069</td>\n",
       "      <td>1053</td>\n",
       "      <td>0.503770</td>\n",
       "      <td>2122</td>\n",
       "      <td>23.032586</td>\n",
       "    </tr>\n",
       "  </tbody>\n",
       "</table>\n",
       "</div>"
      ],
      "text/plain": [
       "  contgis  pos  depth_a  depth_b     ratio  total_depth        std\n",
       "0   c1000   75     4191     5493  0.432776         9684  49.203658\n",
       "1   c1000   93     3928     2422  0.618583         6350  39.843444\n",
       "2  c10000   14     4346     5659  0.434383        10005  50.012498\n",
       "3  c10000   18     5979     4122  0.591922        10101  50.251866\n",
       "4  c10001   81     1069     1053  0.503770         2122  23.032586"
      ]
     },
     "execution_count": 15,
     "metadata": {},
     "output_type": "execute_result"
    }
   ],
   "source": [
    "depths['std'] = scipy.stats.binom(n = depths['total_depth'], p = .5).std()\n",
    "depths.head()"
   ]
  },
  {
   "cell_type": "code",
   "execution_count": 18,
   "metadata": {
    "collapsed": false
   },
   "outputs": [
    {
     "data": {
      "text/html": [
       "<div>\n",
       "<table border=\"1\" class=\"dataframe\">\n",
       "  <thead>\n",
       "    <tr style=\"text-align: right;\">\n",
       "      <th></th>\n",
       "      <th>contgis</th>\n",
       "      <th>pos</th>\n",
       "      <th>depth_a</th>\n",
       "      <th>depth_b</th>\n",
       "      <th>ratio</th>\n",
       "      <th>total_depth</th>\n",
       "      <th>std</th>\n",
       "      <th>z</th>\n",
       "    </tr>\n",
       "  </thead>\n",
       "  <tbody>\n",
       "    <tr>\n",
       "      <th>0</th>\n",
       "      <td>c1000</td>\n",
       "      <td>75</td>\n",
       "      <td>4191</td>\n",
       "      <td>5493</td>\n",
       "      <td>0.432776</td>\n",
       "      <td>9684</td>\n",
       "      <td>49.203658</td>\n",
       "      <td>-13.230724</td>\n",
       "    </tr>\n",
       "    <tr>\n",
       "      <th>1</th>\n",
       "      <td>c1000</td>\n",
       "      <td>93</td>\n",
       "      <td>3928</td>\n",
       "      <td>2422</td>\n",
       "      <td>0.618583</td>\n",
       "      <td>6350</td>\n",
       "      <td>39.843444</td>\n",
       "      <td>18.898969</td>\n",
       "    </tr>\n",
       "    <tr>\n",
       "      <th>2</th>\n",
       "      <td>c10000</td>\n",
       "      <td>14</td>\n",
       "      <td>4346</td>\n",
       "      <td>5659</td>\n",
       "      <td>0.434383</td>\n",
       "      <td>10005</td>\n",
       "      <td>50.012498</td>\n",
       "      <td>-13.126719</td>\n",
       "    </tr>\n",
       "    <tr>\n",
       "      <th>3</th>\n",
       "      <td>c10000</td>\n",
       "      <td>18</td>\n",
       "      <td>5979</td>\n",
       "      <td>4122</td>\n",
       "      <td>0.591922</td>\n",
       "      <td>10101</td>\n",
       "      <td>50.251866</td>\n",
       "      <td>18.476926</td>\n",
       "    </tr>\n",
       "    <tr>\n",
       "      <th>4</th>\n",
       "      <td>c10001</td>\n",
       "      <td>81</td>\n",
       "      <td>1069</td>\n",
       "      <td>1053</td>\n",
       "      <td>0.503770</td>\n",
       "      <td>2122</td>\n",
       "      <td>23.032586</td>\n",
       "      <td>0.347334</td>\n",
       "    </tr>\n",
       "  </tbody>\n",
       "</table>\n",
       "</div>"
      ],
      "text/plain": [
       "  contgis  pos  depth_a  depth_b     ratio  total_depth        std          z\n",
       "0   c1000   75     4191     5493  0.432776         9684  49.203658 -13.230724\n",
       "1   c1000   93     3928     2422  0.618583         6350  39.843444  18.898969\n",
       "2  c10000   14     4346     5659  0.434383        10005  50.012498 -13.126719\n",
       "3  c10000   18     5979     4122  0.591922        10101  50.251866  18.476926\n",
       "4  c10001   81     1069     1053  0.503770         2122  23.032586   0.347334"
      ]
     },
     "execution_count": 18,
     "metadata": {},
     "output_type": "execute_result"
    }
   ],
   "source": [
    "depths['z'] = -(depths['total_depth']/2. - depths['depth_a'])/ depths['std']\n",
    "depths.head()"
   ]
  },
  {
   "cell_type": "markdown",
   "metadata": {},
   "source": [
    "## Remove the one high-coverage locus"
   ]
  },
  {
   "cell_type": "code",
   "execution_count": 85,
   "metadata": {
    "collapsed": true
   },
   "outputs": [],
   "source": [
    "## TODO: Merge/compare with filtered data"
   ]
  },
  {
   "cell_type": "code",
   "execution_count": 27,
   "metadata": {
    "collapsed": true
   },
   "outputs": [],
   "source": [
    "depths = depths[depths['total_depth'] < 10000]"
   ]
  },
  {
   "cell_type": "code",
   "execution_count": 28,
   "metadata": {
    "collapsed": false
   },
   "outputs": [
    {
     "data": {
      "image/png": "[encoded data removed]",
      "text/plain": [
       "<matplotlib.figure.Figure at 0x7fc30d59f650>"
      ]
     },
     "metadata": {},
     "output_type": "display_data"
    }
   ],
   "source": [
    "plt.hist(depths['z'], bins = 100)\n",
    "plt.show()"
   ]
  },
  {
   "cell_type": "code",
   "execution_count": 83,
   "metadata": {
    "collapsed": false
   },
   "outputs": [
    {
     "data": {
      "image/png": "[encoded data removed]",
      "text/plain": [
       "<matplotlib.figure.Figure at 0x7fc30c61ced0>"
      ]
     },
     "metadata": {},
     "output_type": "display_data"
    }
   ],
   "source": [
    "plt.scatter(depths['total_depth'], np.abs(depths['z']), alpha = .2)\n",
    "plt.show()"
   ]
  },
  {
   "cell_type": "code",
   "execution_count": 86,
   "metadata": {
    "collapsed": false
   },
   "outputs": [
    {
     "data": {
      "image/png": "[encoded data removed]",
      "text/plain": [
       "<matplotlib.figure.Figure at 0x7fc30c54d110>"
      ]
     },
     "metadata": {},
     "output_type": "display_data"
    }
   ],
   "source": [
    "plt.scatter(depths['ratio'], np.abs(depths['z']), alpha = .2)\n",
    "plt.show()"
   ]
  },
  {
   "cell_type": "code",
   "execution_count": 34,
   "metadata": {
    "collapsed": false
   },
   "outputs": [
    {
     "data": {
      "image/png": "[encoded data removed]",
      "text/plain": [
       "<matplotlib.figure.Figure at 0x7fc30d16e850>"
      ]
     },
     "metadata": {},
     "output_type": "display_data"
    }
   ],
   "source": [
    "plt.scatter(depths['pos'], np.abs(depths['z']), alpha = .2)\n",
    "plt.show()"
   ]
  },
  {
   "cell_type": "code",
   "execution_count": 38,
   "metadata": {
    "collapsed": false
   },
   "outputs": [
    {
     "data": {
      "text/html": [
       "<div>\n",
       "<table border=\"1\" class=\"dataframe\">\n",
       "  <thead>\n",
       "    <tr style=\"text-align: right;\">\n",
       "      <th></th>\n",
       "      <th>contgis</th>\n",
       "      <th>pos</th>\n",
       "      <th>depth_a</th>\n",
       "      <th>depth_b</th>\n",
       "      <th>ratio</th>\n",
       "      <th>total_depth</th>\n",
       "      <th>std</th>\n",
       "      <th>z</th>\n",
       "      <th>p_val</th>\n",
       "    </tr>\n",
       "  </thead>\n",
       "  <tbody>\n",
       "    <tr>\n",
       "      <th>0</th>\n",
       "      <td>c1000</td>\n",
       "      <td>75</td>\n",
       "      <td>4191</td>\n",
       "      <td>5493</td>\n",
       "      <td>0.432776</td>\n",
       "      <td>9684</td>\n",
       "      <td>49.203658</td>\n",
       "      <td>-13.230724</td>\n",
       "      <td>0.000000</td>\n",
       "    </tr>\n",
       "    <tr>\n",
       "      <th>1</th>\n",
       "      <td>c1000</td>\n",
       "      <td>93</td>\n",
       "      <td>3928</td>\n",
       "      <td>2422</td>\n",
       "      <td>0.618583</td>\n",
       "      <td>6350</td>\n",
       "      <td>39.843444</td>\n",
       "      <td>18.898969</td>\n",
       "      <td>0.000000</td>\n",
       "    </tr>\n",
       "    <tr>\n",
       "      <th>4</th>\n",
       "      <td>c10001</td>\n",
       "      <td>81</td>\n",
       "      <td>1069</td>\n",
       "      <td>1053</td>\n",
       "      <td>0.503770</td>\n",
       "      <td>2122</td>\n",
       "      <td>23.032586</td>\n",
       "      <td>0.347334</td>\n",
       "      <td>0.364170</td>\n",
       "    </tr>\n",
       "    <tr>\n",
       "      <th>5</th>\n",
       "      <td>c10001</td>\n",
       "      <td>92</td>\n",
       "      <td>552</td>\n",
       "      <td>690</td>\n",
       "      <td>0.444444</td>\n",
       "      <td>1242</td>\n",
       "      <td>17.621010</td>\n",
       "      <td>-3.915780</td>\n",
       "      <td>0.000045</td>\n",
       "    </tr>\n",
       "    <tr>\n",
       "      <th>6</th>\n",
       "      <td>c10003</td>\n",
       "      <td>79</td>\n",
       "      <td>624</td>\n",
       "      <td>1223</td>\n",
       "      <td>0.337845</td>\n",
       "      <td>1847</td>\n",
       "      <td>21.488369</td>\n",
       "      <td>-13.937773</td>\n",
       "      <td>0.000000</td>\n",
       "    </tr>\n",
       "  </tbody>\n",
       "</table>\n",
       "</div>"
      ],
      "text/plain": [
       "  contgis  pos  depth_a  depth_b     ratio  total_depth        std          z  \\\n",
       "0   c1000   75     4191     5493  0.432776         9684  49.203658 -13.230724   \n",
       "1   c1000   93     3928     2422  0.618583         6350  39.843444  18.898969   \n",
       "4  c10001   81     1069     1053  0.503770         2122  23.032586   0.347334   \n",
       "5  c10001   92      552      690  0.444444         1242  17.621010  -3.915780   \n",
       "6  c10003   79      624     1223  0.337845         1847  21.488369 -13.937773   \n",
       "\n",
       "      p_val  \n",
       "0  0.000000  \n",
       "1  0.000000  \n",
       "4  0.364170  \n",
       "5  0.000045  \n",
       "6  0.000000  "
      ]
     },
     "execution_count": 38,
     "metadata": {},
     "output_type": "execute_result"
    }
   ],
   "source": [
    "depths['p_val'] = 1 - scipy.special.ndtr(np.abs(depths['z']))\n",
    "depths.head()"
   ]
  },
  {
   "cell_type": "code",
   "execution_count": null,
   "metadata": {
    "collapsed": true
   },
   "outputs": [],
   "source": [
    "ob = -np.log10(sorted(depths['p_val']))\n",
    "ex = -np.log10(np.linspace(0,1.0,len(depths)))"
   ]
  },
  {
   "cell_type": "code",
   "execution_count": 73,
   "metadata": {
    "collapsed": false
   },
   "outputs": [
    {
     "data": {
      "image/png": "[encoded data removed]",
      "text/plain": [
       "<matplotlib.figure.Figure at 0x7fc30c881e50>"
      ]
     },
     "metadata": {},
     "output_type": "display_data"
    }
   ],
   "source": [
    "scipy.stats.probplot(depths['z'], dist=\"norm\", plot=plt)\n",
    "plt.show()"
   ]
  },
  {
   "cell_type": "code",
   "execution_count": 82,
   "metadata": {
    "collapsed": false
   },
   "outputs": [
    {
     "data": {
      "image/png": "[encoded data removed]",
      "text/plain": [
       "<matplotlib.figure.Figure at 0x7fc30c673210>"
      ]
     },
     "metadata": {},
     "output_type": "display_data"
    }
   ],
   "source": [
    "qq = statsmodels.graphics.gofplots.qqplot(depths['z'], line = 's')"
   ]
  },
  {
   "cell_type": "code",
   "execution_count": 12,
   "metadata": {
    "collapsed": false
   },
   "outputs": [
    {
     "data": {
      "text/plain": [
       "15.811388300841896"
      ]
     },
     "execution_count": 12,
     "metadata": {},
     "output_type": "execute_result"
    }
   ],
   "source": [
    "rv = scipy.stats.binom(n = 1000, p = .5)\n",
    "rv.interval(.50)\n",
    "rv.std()"
   ]
  },
  {
   "cell_type": "code",
   "execution_count": 250,
   "metadata": {
    "collapsed": false
   },
   "outputs": [],
   "source": [
    "plt.hist(scipy.stats.mstats.zscore(depths['ratio']))\n",
    "plt.show()"
   ]
  },
  {
   "cell_type": "code",
   "execution_count": null,
   "metadata": {
    "collapsed": true
   },
   "outputs": [],
   "source": [
    "plt.hist(depths['ratio'], bins = 100)\n",
    "plt.show()"
   ]
  },
  {
   "cell_type": "code",
   "execution_count": null,
   "metadata": {
    "collapsed": true
   },
   "outputs": [],
   "source": []
  },
  {
   "cell_type": "markdown",
   "metadata": {},
   "source": [
    "# END WORK"
   ]
  },
  {
   "cell_type": "code",
   "execution_count": null,
   "metadata": {
    "collapsed": true
   },
   "outputs": [],
   "source": []
  },
  {
   "cell_type": "code",
   "execution_count": 159,
   "metadata": {
    "collapsed": false
   },
   "outputs": [],
   "source": [
    "import vcf\n",
    "def write_allele_bias_file(vcf_file, out_file):\n",
    "    vcf_reader = vcf.Reader(open(vcf_file, 'r'))\n",
    "    record = vcf_reader.next()\n",
    "    print record\n",
    "        #record.get_hets()\n",
    "    with open(out_file, 'w') as OUTFILE:\n",
    "        pass\n",
    "            "
   ]
  },
  {
   "cell_type": "code",
   "execution_count": 160,
   "metadata": {
    "collapsed": false
   },
   "outputs": [
    {
     "ename": "ValueError",
     "evalue": "invalid literal for float(): 4,1",
     "output_type": "error",
     "traceback": [
      "\u001b[1;31m---------------------------------------------------------------------------\u001b[0m",
      "\u001b[1;31mValueError\u001b[0m                                Traceback (most recent call last)",
      "\u001b[1;32m<ipython-input-160-6ba6f016adcf>\u001b[0m in \u001b[0;36m<module>\u001b[1;34m()\u001b[0m\n\u001b[1;32m----> 1\u001b[1;33m \u001b[0mwrite_allele_bias_file\u001b[0m\u001b[1;33m(\u001b[0m\u001b[0mvcf_file\u001b[0m\u001b[1;33m=\u001b[0m\u001b[1;34m'/home/ipseg/Desktop/waples/temp/batch_4.vcf'\u001b[0m\u001b[1;33m,\u001b[0m \u001b[0mout_file\u001b[0m \u001b[1;33m=\u001b[0m \u001b[1;34m'/home/ipseg/Desktop/waples/temp/batch_4.AB'\u001b[0m \u001b[1;33m)\u001b[0m\u001b[1;33m\u001b[0m\u001b[0m\n\u001b[0m",
      "\u001b[1;32m<ipython-input-159-2ceef230540c>\u001b[0m in \u001b[0;36mwrite_allele_bias_file\u001b[1;34m(vcf_file, out_file)\u001b[0m\n\u001b[0;32m      2\u001b[0m \u001b[1;32mdef\u001b[0m \u001b[0mwrite_allele_bias_file\u001b[0m\u001b[1;33m(\u001b[0m\u001b[0mvcf_file\u001b[0m\u001b[1;33m,\u001b[0m \u001b[0mout_file\u001b[0m\u001b[1;33m)\u001b[0m\u001b[1;33m:\u001b[0m\u001b[1;33m\u001b[0m\u001b[0m\n\u001b[0;32m      3\u001b[0m     \u001b[0mvcf_reader\u001b[0m \u001b[1;33m=\u001b[0m \u001b[0mvcf\u001b[0m\u001b[1;33m.\u001b[0m\u001b[0mReader\u001b[0m\u001b[1;33m(\u001b[0m\u001b[0mopen\u001b[0m\u001b[1;33m(\u001b[0m\u001b[0mvcf_file\u001b[0m\u001b[1;33m,\u001b[0m \u001b[1;34m'r'\u001b[0m\u001b[1;33m)\u001b[0m\u001b[1;33m)\u001b[0m\u001b[1;33m\u001b[0m\u001b[0m\n\u001b[1;32m----> 4\u001b[1;33m     \u001b[0mrecord\u001b[0m \u001b[1;33m=\u001b[0m \u001b[0mvcf_reader\u001b[0m\u001b[1;33m.\u001b[0m\u001b[0mnext\u001b[0m\u001b[1;33m(\u001b[0m\u001b[1;33m)\u001b[0m\u001b[1;33m\u001b[0m\u001b[0m\n\u001b[0m\u001b[0;32m      5\u001b[0m     \u001b[1;32mprint\u001b[0m \u001b[0mrecord\u001b[0m\u001b[1;33m\u001b[0m\u001b[0m\n\u001b[0;32m      6\u001b[0m         \u001b[1;31m#record.get_hets()\u001b[0m\u001b[1;33m\u001b[0m\u001b[1;33m\u001b[0m\u001b[0m\n",
      "\u001b[1;32m/home/ipseg/anaconda/lib/python2.7/site-packages/vcf/parser.pyc\u001b[0m in \u001b[0;36mnext\u001b[1;34m(self)\u001b[0m\n\u001b[0;32m    565\u001b[0m \u001b[1;33m\u001b[0m\u001b[0m\n\u001b[0;32m    566\u001b[0m         \u001b[1;32mif\u001b[0m \u001b[0mfmt\u001b[0m \u001b[1;32mis\u001b[0m \u001b[1;32mnot\u001b[0m \u001b[0mNone\u001b[0m\u001b[1;33m:\u001b[0m\u001b[1;33m\u001b[0m\u001b[0m\n\u001b[1;32m--> 567\u001b[1;33m             \u001b[0msamples\u001b[0m \u001b[1;33m=\u001b[0m \u001b[0mself\u001b[0m\u001b[1;33m.\u001b[0m\u001b[0m_parse_samples\u001b[0m\u001b[1;33m(\u001b[0m\u001b[0mrow\u001b[0m\u001b[1;33m[\u001b[0m\u001b[1;36m9\u001b[0m\u001b[1;33m:\u001b[0m\u001b[1;33m]\u001b[0m\u001b[1;33m,\u001b[0m \u001b[0mfmt\u001b[0m\u001b[1;33m,\u001b[0m \u001b[0mrecord\u001b[0m\u001b[1;33m)\u001b[0m\u001b[1;33m\u001b[0m\u001b[0m\n\u001b[0m\u001b[0;32m    568\u001b[0m             \u001b[0mrecord\u001b[0m\u001b[1;33m.\u001b[0m\u001b[0msamples\u001b[0m \u001b[1;33m=\u001b[0m \u001b[0msamples\u001b[0m\u001b[1;33m\u001b[0m\u001b[0m\n\u001b[0;32m    569\u001b[0m \u001b[1;33m\u001b[0m\u001b[0m\n",
      "\u001b[1;32m/home/ipseg/anaconda/lib/python2.7/site-packages/vcf/parser.pyc\u001b[0m in \u001b[0;36m_parse_samples\u001b[1;34m(self, samples, samp_fmt, site)\u001b[0m\n\u001b[0;32m    436\u001b[0m         \u001b[1;32mif\u001b[0m \u001b[0mcparse\u001b[0m\u001b[1;33m:\u001b[0m\u001b[1;33m\u001b[0m\u001b[0m\n\u001b[0;32m    437\u001b[0m             return cparse.parse_samples(\n\u001b[1;32m--> 438\u001b[1;33m                 self.samples, samples, samp_fmt, samp_fmt._types, samp_fmt._nums, site)\n\u001b[0m\u001b[0;32m    439\u001b[0m \u001b[1;33m\u001b[0m\u001b[0m\n\u001b[0;32m    440\u001b[0m         \u001b[0msamp_data\u001b[0m \u001b[1;33m=\u001b[0m \u001b[1;33m[\u001b[0m\u001b[1;33m]\u001b[0m\u001b[1;33m\u001b[0m\u001b[0m\n",
      "\u001b[1;32m/home/ipseg/anaconda/lib/python2.7/site-packages/vcf/cparse.pyx\u001b[0m in \u001b[0;36mvcf.cparse.parse_samples (vcf/cparse.c:1456)\u001b[1;34m()\u001b[0m\n\u001b[0;32m     52\u001b[0m                         \u001b[0msampdat\u001b[0m\u001b[1;33m[\u001b[0m\u001b[0mj\u001b[0m\u001b[1;33m]\u001b[0m \u001b[1;33m=\u001b[0m \u001b[0mint\u001b[0m\u001b[1;33m(\u001b[0m\u001b[0mvals\u001b[0m\u001b[1;33m)\u001b[0m\u001b[1;33m\u001b[0m\u001b[0m\n\u001b[0;32m     53\u001b[0m                     \u001b[1;32mexcept\u001b[0m \u001b[0mValueError\u001b[0m\u001b[1;33m:\u001b[0m\u001b[1;33m\u001b[0m\u001b[0m\n\u001b[1;32m---> 54\u001b[1;33m                         \u001b[0msampdat\u001b[0m\u001b[1;33m[\u001b[0m\u001b[0mj\u001b[0m\u001b[1;33m]\u001b[0m \u001b[1;33m=\u001b[0m \u001b[0mfloat\u001b[0m\u001b[1;33m(\u001b[0m\u001b[0mvals\u001b[0m\u001b[1;33m)\u001b[0m\u001b[1;33m\u001b[0m\u001b[0m\n\u001b[0m\u001b[0;32m     55\u001b[0m                 \u001b[1;32melif\u001b[0m \u001b[0mentry_type\u001b[0m \u001b[1;33m==\u001b[0m \u001b[0mFLOAT\u001b[0m \u001b[1;32mor\u001b[0m \u001b[0mentry_type\u001b[0m \u001b[1;33m==\u001b[0m \u001b[0mNUMERIC\u001b[0m\u001b[1;33m:\u001b[0m\u001b[1;33m\u001b[0m\u001b[0m\n\u001b[0;32m     56\u001b[0m                     \u001b[0msampdat\u001b[0m\u001b[1;33m[\u001b[0m\u001b[0mj\u001b[0m\u001b[1;33m]\u001b[0m \u001b[1;33m=\u001b[0m \u001b[0mfloat\u001b[0m\u001b[1;33m(\u001b[0m\u001b[0mvals\u001b[0m\u001b[1;33m)\u001b[0m\u001b[1;33m\u001b[0m\u001b[0m\n",
      "\u001b[1;31mValueError\u001b[0m: invalid literal for float(): 4,1"
     ]
    }
   ],
   "source": [
    "write_allele_bias_file(vcf_file='/home/ipseg/Desktop/waples/temp/batch_4.vcf', out_file = '/home/ipseg/Desktop/waples/temp/batch_4.AB' )"
   ]
  },
  {
   "cell_type": "code",
   "execution_count": 135,
   "metadata": {
    "collapsed": false
   },
   "outputs": [
    {
     "data": {
      "text/html": [
       "<div>\n",
       "<table border=\"1\" class=\"dataframe\">\n",
       "  <thead>\n",
       "    <tr style=\"text-align: right;\">\n",
       "      <th></th>\n",
       "      <th>locus</th>\n",
       "      <th>ind</th>\n",
       "      <th>allele</th>\n",
       "    </tr>\n",
       "  </thead>\n",
       "  <tbody>\n",
       "    <tr>\n",
       "      <th>0</th>\n",
       "      <td>l1</td>\n",
       "      <td>i1</td>\n",
       "      <td>0</td>\n",
       "    </tr>\n",
       "    <tr>\n",
       "      <th>1</th>\n",
       "      <td>l1</td>\n",
       "      <td>i1</td>\n",
       "      <td>0</td>\n",
       "    </tr>\n",
       "    <tr>\n",
       "      <th>2</th>\n",
       "      <td>l1</td>\n",
       "      <td>i1</td>\n",
       "      <td>0</td>\n",
       "    </tr>\n",
       "    <tr>\n",
       "      <th>3</th>\n",
       "      <td>l1</td>\n",
       "      <td>i1</td>\n",
       "      <td>0</td>\n",
       "    </tr>\n",
       "    <tr>\n",
       "      <th>4</th>\n",
       "      <td>l1</td>\n",
       "      <td>i1</td>\n",
       "      <td>1</td>\n",
       "    </tr>\n",
       "  </tbody>\n",
       "</table>\n",
       "</div>"
      ],
      "text/plain": [
       "  locus ind  allele\n",
       "0    l1  i1       0\n",
       "1    l1  i1       0\n",
       "2    l1  i1       0\n",
       "3    l1  i1       0\n",
       "4    l1  i1       1"
      ]
     },
     "execution_count": 135,
     "metadata": {},
     "output_type": "execute_result"
    }
   ],
   "source": [
    "df = pd.read_csv(\"/home/ipseg/Desktop/waples/temp/allele_bias.txt\", sep = '\\t')\n",
    "df.head()"
   ]
  },
  {
   "cell_type": "code",
   "execution_count": 138,
   "metadata": {
    "collapsed": false
   },
   "outputs": [
    {
     "data": {
      "text/html": [
       "<div>\n",
       "<table border=\"1\" class=\"dataframe\">\n",
       "  <thead>\n",
       "    <tr style=\"text-align: right;\">\n",
       "      <th></th>\n",
       "      <th>allele</th>\n",
       "      <th>locus_l1</th>\n",
       "      <th>locus_l2</th>\n",
       "      <th>ind_i1</th>\n",
       "      <th>ind_i2</th>\n",
       "      <th>ind_i3</th>\n",
       "      <th>ind_i4</th>\n",
       "      <th>ind_i5</th>\n",
       "    </tr>\n",
       "  </thead>\n",
       "  <tbody>\n",
       "    <tr>\n",
       "      <th>0</th>\n",
       "      <td>0</td>\n",
       "      <td>1</td>\n",
       "      <td>0</td>\n",
       "      <td>1</td>\n",
       "      <td>0</td>\n",
       "      <td>0</td>\n",
       "      <td>0</td>\n",
       "      <td>0</td>\n",
       "    </tr>\n",
       "    <tr>\n",
       "      <th>1</th>\n",
       "      <td>0</td>\n",
       "      <td>1</td>\n",
       "      <td>0</td>\n",
       "      <td>1</td>\n",
       "      <td>0</td>\n",
       "      <td>0</td>\n",
       "      <td>0</td>\n",
       "      <td>0</td>\n",
       "    </tr>\n",
       "    <tr>\n",
       "      <th>2</th>\n",
       "      <td>0</td>\n",
       "      <td>1</td>\n",
       "      <td>0</td>\n",
       "      <td>1</td>\n",
       "      <td>0</td>\n",
       "      <td>0</td>\n",
       "      <td>0</td>\n",
       "      <td>0</td>\n",
       "    </tr>\n",
       "    <tr>\n",
       "      <th>3</th>\n",
       "      <td>0</td>\n",
       "      <td>1</td>\n",
       "      <td>0</td>\n",
       "      <td>1</td>\n",
       "      <td>0</td>\n",
       "      <td>0</td>\n",
       "      <td>0</td>\n",
       "      <td>0</td>\n",
       "    </tr>\n",
       "    <tr>\n",
       "      <th>4</th>\n",
       "      <td>1</td>\n",
       "      <td>1</td>\n",
       "      <td>0</td>\n",
       "      <td>1</td>\n",
       "      <td>0</td>\n",
       "      <td>0</td>\n",
       "      <td>0</td>\n",
       "      <td>0</td>\n",
       "    </tr>\n",
       "  </tbody>\n",
       "</table>\n",
       "</div>"
      ],
      "text/plain": [
       "   allele  locus_l1  locus_l2  ind_i1  ind_i2  ind_i3  ind_i4  ind_i5\n",
       "0       0         1         0       1       0       0       0       0\n",
       "1       0         1         0       1       0       0       0       0\n",
       "2       0         1         0       1       0       0       0       0\n",
       "3       0         1         0       1       0       0       0       0\n",
       "4       1         1         0       1       0       0       0       0"
      ]
     },
     "execution_count": 138,
     "metadata": {},
     "output_type": "execute_result"
    }
   ],
   "source": [
    "dum_df = pd.get_dummies(df)\n",
    "dum_df.head()"
   ]
  },
  {
   "cell_type": "code",
   "execution_count": 145,
   "metadata": {
    "collapsed": false
   },
   "outputs": [
    {
     "data": {
      "text/plain": [
       "Index([u'locus_l1', u'locus_l2'], dtype='object')"
      ]
     },
     "execution_count": 145,
     "metadata": {},
     "output_type": "execute_result"
    }
   ],
   "source": [
    "train_cols = dum_df.columns[1:3]\n",
    "train_cols"
   ]
  },
  {
   "cell_type": "code",
   "execution_count": 146,
   "metadata": {
    "collapsed": false
   },
   "outputs": [],
   "source": [
    "logit = sm.Logit(dum_df['allele'], dum_df[train_cols])"
   ]
  },
  {
   "cell_type": "code",
   "execution_count": 147,
   "metadata": {
    "collapsed": false
   },
   "outputs": [
    {
     "name": "stdout",
     "output_type": "stream",
     "text": [
      "Optimization terminated successfully.\n",
      "         Current function value: 0.676627\n",
      "         Iterations 4\n"
     ]
    }
   ],
   "source": [
    "# fit the model\n",
    "result = logit.fit()"
   ]
  },
  {
   "cell_type": "code",
   "execution_count": 148,
   "metadata": {
    "collapsed": false
   },
   "outputs": [
    {
     "name": "stdout",
     "output_type": "stream",
     "text": [
      "                           Logit Regression Results                           \n",
      "==============================================================================\n",
      "Dep. Variable:                 allele   No. Observations:                  102\n",
      "Model:                          Logit   Df Residuals:                      100\n",
      "Method:                           MLE   Df Model:                            1\n",
      "Date:                Tue, 16 Jun 2015   Pseudo R-squ.:                 0.01397\n",
      "Time:                        16:23:21   Log-Likelihood:                -69.016\n",
      "converged:                       True   LL-Null:                       -69.993\n",
      "                                        LLR p-value:                    0.1620\n",
      "==============================================================================\n",
      "                 coef    std err          z      P>|z|      [95.0% Conf. Int.]\n",
      "------------------------------------------------------------------------------\n",
      "locus_l1      -0.5213      0.290     -1.800      0.072        -1.089     0.046\n",
      "locus_l2       0.0392      0.280      0.140      0.889        -0.510     0.588\n",
      "==============================================================================\n"
     ]
    }
   ],
   "source": [
    "print result.summary()"
   ]
  },
  {
   "cell_type": "code",
   "execution_count": 149,
   "metadata": {
    "collapsed": false
   },
   "outputs": [
    {
     "data": {
      "text/html": [
       "<div>\n",
       "<table border=\"1\" class=\"dataframe\">\n",
       "  <thead>\n",
       "    <tr style=\"text-align: right;\">\n",
       "      <th></th>\n",
       "      <th>0</th>\n",
       "      <th>1</th>\n",
       "    </tr>\n",
       "  </thead>\n",
       "  <tbody>\n",
       "    <tr>\n",
       "      <th>locus_l1</th>\n",
       "      <td>-1.088948</td>\n",
       "      <td>0.046354</td>\n",
       "    </tr>\n",
       "    <tr>\n",
       "      <th>locus_l2</th>\n",
       "      <td>-0.509785</td>\n",
       "      <td>0.588226</td>\n",
       "    </tr>\n",
       "  </tbody>\n",
       "</table>\n",
       "</div>"
      ],
      "text/plain": [
       "                 0         1\n",
       "locus_l1 -1.088948  0.046354\n",
       "locus_l2 -0.509785  0.588226"
      ]
     },
     "execution_count": 149,
     "metadata": {},
     "output_type": "execute_result"
    }
   ],
   "source": [
    "result.conf_int()"
   ]
  },
  {
   "cell_type": "code",
   "execution_count": 150,
   "metadata": {
    "collapsed": false
   },
   "outputs": [
    {
     "data": {
      "text/plain": [
       "locus_l1   -0.521297\n",
       "locus_l2    0.039221\n",
       "dtype: float64"
      ]
     },
     "execution_count": 150,
     "metadata": {},
     "output_type": "execute_result"
    }
   ],
   "source": [
    "result.params"
   ]
  },
  {
   "cell_type": "code",
   "execution_count": 120,
   "metadata": {
    "collapsed": false
   },
   "outputs": [
    {
     "data": {
      "text/html": [
       "<div>\n",
       "<table border=\"1\" class=\"dataframe\">\n",
       "  <thead>\n",
       "    <tr style=\"text-align: right;\">\n",
       "      <th></th>\n",
       "      <th>admit</th>\n",
       "      <th>gre</th>\n",
       "      <th>gpa</th>\n",
       "      <th>prestige</th>\n",
       "    </tr>\n",
       "  </thead>\n",
       "  <tbody>\n",
       "    <tr>\n",
       "      <th>0</th>\n",
       "      <td>0</td>\n",
       "      <td>380</td>\n",
       "      <td>3.61</td>\n",
       "      <td>3</td>\n",
       "    </tr>\n",
       "    <tr>\n",
       "      <th>1</th>\n",
       "      <td>1</td>\n",
       "      <td>660</td>\n",
       "      <td>3.67</td>\n",
       "      <td>3</td>\n",
       "    </tr>\n",
       "    <tr>\n",
       "      <th>2</th>\n",
       "      <td>1</td>\n",
       "      <td>800</td>\n",
       "      <td>4.00</td>\n",
       "      <td>1</td>\n",
       "    </tr>\n",
       "    <tr>\n",
       "      <th>3</th>\n",
       "      <td>1</td>\n",
       "      <td>640</td>\n",
       "      <td>3.19</td>\n",
       "      <td>4</td>\n",
       "    </tr>\n",
       "    <tr>\n",
       "      <th>4</th>\n",
       "      <td>0</td>\n",
       "      <td>520</td>\n",
       "      <td>2.93</td>\n",
       "      <td>4</td>\n",
       "    </tr>\n",
       "  </tbody>\n",
       "</table>\n",
       "</div>"
      ],
      "text/plain": [
       "   admit  gre   gpa  prestige\n",
       "0      0  380  3.61         3\n",
       "1      1  660  3.67         3\n",
       "2      1  800  4.00         1\n",
       "3      1  640  3.19         4\n",
       "4      0  520  2.93         4"
      ]
     },
     "execution_count": 120,
     "metadata": {},
     "output_type": "execute_result"
    }
   ],
   "source": [
    "df = pd.read_csv(\"http://www.ats.ucla.edu/stat/data/binary.csv\")\n",
    "df.columns = [\"admit\", \"gre\", \"gpa\", \"prestige\"]\n",
    "df.head()"
   ]
  },
  {
   "cell_type": "code",
   "execution_count": 121,
   "metadata": {
    "collapsed": false
   },
   "outputs": [
    {
     "data": {
      "text/html": [
       "<div>\n",
       "<table border=\"1\" class=\"dataframe\">\n",
       "  <thead>\n",
       "    <tr style=\"text-align: right;\">\n",
       "      <th></th>\n",
       "      <th>prestige_1</th>\n",
       "      <th>prestige_2</th>\n",
       "      <th>prestige_3</th>\n",
       "      <th>prestige_4</th>\n",
       "    </tr>\n",
       "  </thead>\n",
       "  <tbody>\n",
       "    <tr>\n",
       "      <th>0</th>\n",
       "      <td>0</td>\n",
       "      <td>0</td>\n",
       "      <td>1</td>\n",
       "      <td>0</td>\n",
       "    </tr>\n",
       "    <tr>\n",
       "      <th>1</th>\n",
       "      <td>0</td>\n",
       "      <td>0</td>\n",
       "      <td>1</td>\n",
       "      <td>0</td>\n",
       "    </tr>\n",
       "    <tr>\n",
       "      <th>2</th>\n",
       "      <td>1</td>\n",
       "      <td>0</td>\n",
       "      <td>0</td>\n",
       "      <td>0</td>\n",
       "    </tr>\n",
       "    <tr>\n",
       "      <th>3</th>\n",
       "      <td>0</td>\n",
       "      <td>0</td>\n",
       "      <td>0</td>\n",
       "      <td>1</td>\n",
       "    </tr>\n",
       "    <tr>\n",
       "      <th>4</th>\n",
       "      <td>0</td>\n",
       "      <td>0</td>\n",
       "      <td>0</td>\n",
       "      <td>1</td>\n",
       "    </tr>\n",
       "  </tbody>\n",
       "</table>\n",
       "</div>"
      ],
      "text/plain": [
       "   prestige_1  prestige_2  prestige_3  prestige_4\n",
       "0           0           0           1           0\n",
       "1           0           0           1           0\n",
       "2           1           0           0           0\n",
       "3           0           0           0           1\n",
       "4           0           0           0           1"
      ]
     },
     "execution_count": 121,
     "metadata": {},
     "output_type": "execute_result"
    }
   ],
   "source": [
    "dummy_ranks = pd.get_dummies(df['prestige'], prefix='prestige')\n",
    "dummy_ranks.head()"
   ]
  },
  {
   "cell_type": "code",
   "execution_count": 123,
   "metadata": {
    "collapsed": false
   },
   "outputs": [
    {
     "data": {
      "text/html": [
       "<div>\n",
       "<table border=\"1\" class=\"dataframe\">\n",
       "  <thead>\n",
       "    <tr style=\"text-align: right;\">\n",
       "      <th></th>\n",
       "      <th>admit</th>\n",
       "      <th>gre</th>\n",
       "      <th>gpa</th>\n",
       "      <th>prestige_2</th>\n",
       "      <th>prestige_3</th>\n",
       "      <th>prestige_4</th>\n",
       "      <th>intercept</th>\n",
       "    </tr>\n",
       "  </thead>\n",
       "  <tbody>\n",
       "    <tr>\n",
       "      <th>0</th>\n",
       "      <td>0</td>\n",
       "      <td>380</td>\n",
       "      <td>3.61</td>\n",
       "      <td>0</td>\n",
       "      <td>1</td>\n",
       "      <td>0</td>\n",
       "      <td>1</td>\n",
       "    </tr>\n",
       "    <tr>\n",
       "      <th>1</th>\n",
       "      <td>1</td>\n",
       "      <td>660</td>\n",
       "      <td>3.67</td>\n",
       "      <td>0</td>\n",
       "      <td>1</td>\n",
       "      <td>0</td>\n",
       "      <td>1</td>\n",
       "    </tr>\n",
       "    <tr>\n",
       "      <th>2</th>\n",
       "      <td>1</td>\n",
       "      <td>800</td>\n",
       "      <td>4.00</td>\n",
       "      <td>0</td>\n",
       "      <td>0</td>\n",
       "      <td>0</td>\n",
       "      <td>1</td>\n",
       "    </tr>\n",
       "    <tr>\n",
       "      <th>3</th>\n",
       "      <td>1</td>\n",
       "      <td>640</td>\n",
       "      <td>3.19</td>\n",
       "      <td>0</td>\n",
       "      <td>0</td>\n",
       "      <td>1</td>\n",
       "      <td>1</td>\n",
       "    </tr>\n",
       "    <tr>\n",
       "      <th>4</th>\n",
       "      <td>0</td>\n",
       "      <td>520</td>\n",
       "      <td>2.93</td>\n",
       "      <td>0</td>\n",
       "      <td>0</td>\n",
       "      <td>1</td>\n",
       "      <td>1</td>\n",
       "    </tr>\n",
       "  </tbody>\n",
       "</table>\n",
       "</div>"
      ],
      "text/plain": [
       "   admit  gre   gpa  prestige_2  prestige_3  prestige_4  intercept\n",
       "0      0  380  3.61           0           1           0          1\n",
       "1      1  660  3.67           0           1           0          1\n",
       "2      1  800  4.00           0           0           0          1\n",
       "3      1  640  3.19           0           0           1          1\n",
       "4      0  520  2.93           0           0           1          1"
      ]
     },
     "execution_count": 123,
     "metadata": {},
     "output_type": "execute_result"
    }
   ],
   "source": [
    "cols_to_keep = ['admit', 'gre', 'gpa']\n",
    "data = df[cols_to_keep].join(dummy_ranks.ix[:, 'prestige_2':])\n",
    "data['intercept'] = 1.0\n",
    "data.head()"
   ]
  },
  {
   "cell_type": "code",
   "execution_count": 124,
   "metadata": {
    "collapsed": false
   },
   "outputs": [
    {
     "name": "stdout",
     "output_type": "stream",
     "text": [
      "Optimization terminated successfully.\n",
      "         Current function value: 0.573147\n",
      "         Iterations 6\n"
     ]
    }
   ],
   "source": [
    "train_cols = data.columns[1:]\n",
    " \n",
    "logit = sm.Logit(data['admit'], data[train_cols])\n",
    " \n",
    "# fit the model\n",
    "result = logit.fit()"
   ]
  },
  {
   "cell_type": "code",
   "execution_count": 125,
   "metadata": {
    "collapsed": false
   },
   "outputs": [
    {
     "name": "stdout",
     "output_type": "stream",
     "text": [
      "                           Logit Regression Results                           \n",
      "==============================================================================\n",
      "Dep. Variable:                  admit   No. Observations:                  400\n",
      "Model:                          Logit   Df Residuals:                      394\n",
      "Method:                           MLE   Df Model:                            5\n",
      "Date:                Tue, 16 Jun 2015   Pseudo R-squ.:                 0.08292\n",
      "Time:                        16:06:29   Log-Likelihood:                -229.26\n",
      "converged:                       True   LL-Null:                       -249.99\n",
      "                                        LLR p-value:                 7.578e-08\n",
      "==============================================================================\n",
      "                 coef    std err          z      P>|z|      [95.0% Conf. Int.]\n",
      "------------------------------------------------------------------------------\n",
      "gre            0.0023      0.001      2.070      0.038         0.000     0.004\n",
      "gpa            0.8040      0.332      2.423      0.015         0.154     1.454\n",
      "prestige_2    -0.6754      0.316     -2.134      0.033        -1.296    -0.055\n",
      "prestige_3    -1.3402      0.345     -3.881      0.000        -2.017    -0.663\n",
      "prestige_4    -1.5515      0.418     -3.713      0.000        -2.370    -0.733\n",
      "intercept     -3.9900      1.140     -3.500      0.000        -6.224    -1.756\n",
      "==============================================================================\n"
     ]
    }
   ],
   "source": [
    "print result.summary()"
   ]
  },
  {
   "cell_type": "code",
   "execution_count": null,
   "metadata": {
    "collapsed": true
   },
   "outputs": [],
   "source": []
  },
  {
   "cell_type": "code",
   "execution_count": null,
   "metadata": {
    "collapsed": true
   },
   "outputs": [],
   "source": []
  },
  {
   "cell_type": "code",
   "execution_count": 113,
   "metadata": {
    "collapsed": false
   },
   "outputs": [
    {
     "data": {
      "text/plain": [
       "[0.78384630220949836,\n",
       " 0.13249816396273675,\n",
       " 3.5881996154785156e-05,\n",
       " 0.625,\n",
       " 0.063914656639099121,\n",
       " 0.72010013181716115,\n",
       " 0.087158553302288042,\n",
       " 3.8558151572942747e-05,\n",
       " 0.0087717144570601362,\n",
       " 0.012939453124999998,\n",
       " 0.38769531250000011,\n",
       " 0.32223632035754712,\n",
       " 0.4868502416647969]"
      ]
     },
     "execution_count": 113,
     "metadata": {},
     "output_type": "execute_result"
    }
   ],
   "source": [
    "[scipy.stats.binom.cdf(a, a+b, 0.5) for a,b in ab]\n",
    "[scipy.stats.binom_test(xx) for xx in ab]"
   ]
  },
  {
   "cell_type": "code",
   "execution_count": null,
   "metadata": {
    "collapsed": true
   },
   "outputs": [],
   "source": [
    "getting at a "
   ]
  },
  {
   "cell_type": "code",
   "execution_count": 52,
   "metadata": {
    "collapsed": false
   },
   "outputs": [
    {
     "data": {
      "text/plain": [
       "[0.21217811107635506,\n",
       " 0.066249081981368377,\n",
       " 1.7940998077392578e-05,\n",
       " 1.0,\n",
       " 0.031957328319549561,\n",
       " 0.76343517005443584,\n",
       " 0.043579276651144021,\n",
       " 0.99999691755510867,\n",
       " 0.99783255955824635,\n",
       " 0.0064697265624999991,\n",
       " 0.63671874999999989,\n",
       " 0.89868062446772967,\n",
       " 0.24342512083239845]"
      ]
     },
     "execution_count": 52,
     "metadata": {},
     "output_type": "execute_result"
    }
   ],
   "source": [
    "[scipy.stats.binom.cdf(a, a+b, 0.5) for a,b in ab]"
   ]
  },
  {
   "cell_type": "code",
   "execution_count": 47,
   "metadata": {
    "collapsed": false
   },
   "outputs": [
    {
     "data": {
      "text/plain": [
       "array([ 0.25,  0.5 ,  0.25])"
      ]
     },
     "execution_count": 47,
     "metadata": {},
     "output_type": "execute_result"
    }
   ],
   "source": [
    "scipy.stats.binom.pmf([0,1,2], 2, 0.5)"
   ]
  },
  {
   "cell_type": "code",
   "execution_count": 42,
   "metadata": {
    "collapsed": false
   },
   "outputs": [
    {
     "ename": "TypeError",
     "evalue": "isf() got an unexpected keyword argument 'x'",
     "output_type": "error",
     "traceback": [
      "\u001b[1;31m---------------------------------------------------------------------------\u001b[0m",
      "\u001b[1;31mTypeError\u001b[0m                                 Traceback (most recent call last)",
      "\u001b[1;32m<ipython-input-42-8ae8a3774840>\u001b[0m in \u001b[0;36m<module>\u001b[1;34m()\u001b[0m\n\u001b[0;32m      1\u001b[0m \u001b[1;32mimport\u001b[0m \u001b[0mnumpy\u001b[0m \u001b[1;32mas\u001b[0m \u001b[0mnp\u001b[0m\u001b[1;33m\u001b[0m\u001b[0m\n\u001b[1;32m----> 2\u001b[1;33m \u001b[0mscipy\u001b[0m\u001b[1;33m.\u001b[0m\u001b[0mstats\u001b[0m\u001b[1;33m.\u001b[0m\u001b[0mbinom\u001b[0m\u001b[1;33m(\u001b[0m\u001b[0mn\u001b[0m \u001b[1;33m=\u001b[0m \u001b[1;36m10\u001b[0m\u001b[1;33m,\u001b[0m \u001b[0mp\u001b[0m \u001b[1;33m=\u001b[0m \u001b[1;36m.50\u001b[0m\u001b[1;33m)\u001b[0m\u001b[1;33m.\u001b[0m\u001b[0misf\u001b[0m\u001b[1;33m(\u001b[0m\u001b[0mx\u001b[0m\u001b[1;33m=\u001b[0m\u001b[0mnp\u001b[0m\u001b[1;33m.\u001b[0m\u001b[0marange\u001b[0m\u001b[1;33m(\u001b[0m\u001b[1;36m0\u001b[0m\u001b[1;33m,\u001b[0m\u001b[1;36m1\u001b[0m\u001b[1;33m,\u001b[0m \u001b[1;36m.01\u001b[0m\u001b[1;33m)\u001b[0m\u001b[1;33m)\u001b[0m\u001b[1;33m\u001b[0m\u001b[0m\n\u001b[0m\u001b[0;32m      3\u001b[0m \u001b[1;33m\u001b[0m\u001b[0m\n",
      "\u001b[1;31mTypeError\u001b[0m: isf() got an unexpected keyword argument 'x'"
     ]
    }
   ],
   "source": [
    "import numpy as np\n",
    "\n",
    "scipy.stats.binom(n = 10, p = .50).isf(x=np.arange(0,1, .01))\n",
    "\n"
   ]
  },
  {
   "cell_type": "code",
   "execution_count": null,
   "metadata": {
    "collapsed": true
   },
   "outputs": [],
   "source": []
  },
  {
   "cell_type": "code",
   "execution_count": null,
   "metadata": {
    "collapsed": true
   },
   "outputs": [],
   "source": []
  },
  {
   "cell_type": "code",
   "execution_count": null,
   "metadata": {
    "collapsed": true
   },
   "outputs": [],
   "source": [
    "def Stouffer_test(p, w=None):\n",
    "    if w:\n",
    "        pass\n",
    "    else:\n",
    "        w <- [1.0/len(p)] * len(p)\n",
    "    print(w)\n",
    "        \n",
    "    if len(w) != len(p)\n",
    "      break \"Length of p and w must equal!\"\n",
    "  \n",
    "    Zi <- qnorm(1-p) \n",
    "    Z  <- sum(w*Zi)/sqrt(sum(w^2))\n",
    "    p.val <- 1-pnorm(Z)\n",
    "    return(c(Z = Z, p.value = p.val))\n",
    "}"
   ]
  },
  {
   "cell_type": "code",
   "execution_count": 5,
   "metadata": {
    "collapsed": false
   },
   "outputs": [
    {
     "ename": "NameError",
     "evalue": "name 'seq' is not defined",
     "output_type": "error",
     "traceback": [
      "\u001b[1;31m---------------------------------------------------------------------------\u001b[0m",
      "\u001b[1;31mNameError\u001b[0m                                 Traceback (most recent call last)",
      "\u001b[1;32m<ipython-input-5-e0d2ce17b276>\u001b[0m in \u001b[0;36m<module>\u001b[1;34m()\u001b[0m\n\u001b[1;32m----> 1\u001b[1;33m \u001b[0mseq\u001b[0m\u001b[1;33m(\u001b[0m\u001b[1;36m1\u001b[0m\u001b[1;33m,\u001b[0m\u001b[1;36m10\u001b[0m\u001b[1;33m)\u001b[0m\u001b[1;33m\u001b[0m\u001b[0m\n\u001b[0m",
      "\u001b[1;31mNameError\u001b[0m: name 'seq' is not defined"
     ]
    }
   ],
   "source": [
    "#### In case 2 we can simply add up all the observation of the 'A' alelle and all observations of the 'B' allele and run a binomial test."
   ]
  }
 ],
 "metadata": {
  "kernelspec": {
   "display_name": "Python 2",
   "language": "python",
   "name": "python2"
  },
  "language_info": {
   "codemirror_mode": {
    "name": "ipython",
    "version": 2
   },
   "file_extension": ".py",
   "mimetype": "text/x-python",
   "name": "python",
   "nbconvert_exporter": "python",
   "pygments_lexer": "ipython2",
   "version": "2.7.10"
  }
 },
 "nbformat": 4,
 "nbformat_minor": 0
}
