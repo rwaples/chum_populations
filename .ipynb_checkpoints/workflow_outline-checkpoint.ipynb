{
 "metadata": {
  "name": "",
  "signature": "sha256:b54189c4e0d66411f39d0ccbe925afd1ee6fec226500ff37af8b76e429feecc5"
 },
 "nbformat": 3,
 "nbformat_minor": 0,
 "worksheets": [
  {
   "cells": [
    {
     "cell_type": "markdown",
     "metadata": {},
     "source": [
      "Chum Populations Workflow\n",
      "========================="
     ]
    },
    {
     "cell_type": "markdown",
     "metadata": {},
     "source": [
      "Outline\n",
      "-------\n",
      "* genotype family data\n",
      "* construct linkage map\n",
      "* generate reference 'genome'\n",
      "* align RADseq reads to reference\n",
      "* genotype population data\n",
      "* filter population data\n",
      "* analyze population data"
     ]
    },
    {
     "cell_type": "markdown",
     "metadata": {},
     "source": [
      "Starting with:\n",
      "--------------\n",
      "* families\n",
      "    * pedigree\n",
      "    * RADseq data\n",
      "* populations\n",
      "    * collection metadata\n",
      "    * RADseq data\n",
      "\n",
      "    "
     ]
    },
    {
     "cell_type": "markdown",
     "metadata": {},
     "source": []
    },
    {
     "cell_type": "raw",
     "metadata": {},
     "source": []
    }
   ],
   "metadata": {}
  }
 ]
}