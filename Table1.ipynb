{
 "cells": [
  {
   "cell_type": "code",
   "execution_count": 3,
   "metadata": {
    "collapsed": true
   },
   "outputs": [],
   "source": [
    "import glob \n",
    "import os\n",
    "import numpy as np\n",
    "import pandas as pd\n",
    "from IPython.core.pylabtools import figsize\n",
    "import matplotlib.pyplot as plt\n",
    "import seaborn as sns"
   ]
  },
  {
   "cell_type": "code",
   "execution_count": 2,
   "metadata": {
    "collapsed": true
   },
   "outputs": [],
   "source": [
    "%matplotlib inline\n",
    "figsize(12, 6)"
   ]
  },
  {
   "cell_type": "markdown",
   "metadata": {},
   "source": [
    "## Summarize coverage files"
   ]
  },
  {
   "cell_type": "code",
   "execution_count": 5,
   "metadata": {
    "collapsed": false
   },
   "outputs": [],
   "source": [
    "cov_files = glob.glob(os.path.join('data','batch_4','coverage', '*.bam.cov'))"
   ]
  },
  {
   "cell_type": "code",
   "execution_count": 19,
   "metadata": {
    "collapsed": false
   },
   "outputs": [
    {
     "data": {
      "text/plain": [
       "'CMSTILL10_0036'"
      ]
     },
     "execution_count": 19,
     "metadata": {},
     "output_type": "execute_result"
    }
   ],
   "source": [
    "os.path.splitext(os.path.splitext( os.path.basename(cov_files[2]))[0])[0]"
   ]
  },
  {
   "cell_type": "code",
   "execution_count": 10,
   "metadata": {
    "collapsed": true
   },
   "outputs": [],
   "source": [
    "def parse_cov_file(filename):\n",
    "    \"\"\"Returns the coverage over all loci\"\"\"\n",
    "    cov = pd.read_csv(filename, sep = '\\t', header = None)\n",
    "    return(cov.iloc[:, 3].sum())"
   ]
  },
  {
   "cell_type": "code",
   "execution_count": 20,
   "metadata": {
    "collapsed": true
   },
   "outputs": [],
   "source": [
    "def parse_name(filename):\n",
    "    return(os.path.splitext(os.path.splitext( os.path.basename(filename))[0])[0])"
   ]
  },
  {
   "cell_type": "code",
   "execution_count": 30,
   "metadata": {
    "collapsed": false
   },
   "outputs": [
    {
     "data": {
      "text/html": [
       "<div>\n",
       "<table border=\"1\" class=\"dataframe\">\n",
       "  <thead>\n",
       "    <tr style=\"text-align: right;\">\n",
       "      <th></th>\n",
       "      <th>IID</th>\n",
       "      <th>cov</th>\n",
       "    </tr>\n",
       "  </thead>\n",
       "  <tbody>\n",
       "    <tr>\n",
       "      <th>0</th>\n",
       "      <td>CMSHERW94S_0009</td>\n",
       "      <td>2831500</td>\n",
       "    </tr>\n",
       "    <tr>\n",
       "      <th>1</th>\n",
       "      <td>CMUW10_0007</td>\n",
       "      <td>440163</td>\n",
       "    </tr>\n",
       "    <tr>\n",
       "      <th>2</th>\n",
       "      <td>CMSTILL10_0036</td>\n",
       "      <td>257778</td>\n",
       "    </tr>\n",
       "    <tr>\n",
       "      <th>3</th>\n",
       "      <td>CMKALA03_0049</td>\n",
       "      <td>864623</td>\n",
       "    </tr>\n",
       "    <tr>\n",
       "      <th>4</th>\n",
       "      <td>CMKALA03_0008</td>\n",
       "      <td>3210738</td>\n",
       "    </tr>\n",
       "  </tbody>\n",
       "</table>\n",
       "</div>"
      ],
      "text/plain": [
       "               IID      cov\n",
       "0  CMSHERW94S_0009  2831500\n",
       "1      CMUW10_0007   440163\n",
       "2   CMSTILL10_0036   257778\n",
       "3    CMKALA03_0049   864623\n",
       "4    CMKALA03_0008  3210738"
      ]
     },
     "execution_count": 30,
     "metadata": {},
     "output_type": "execute_result"
    }
   ],
   "source": [
    "cov_df = pd.DataFrame({'IID':[parse_name(xx) for xx in cov_files], 'cov':[parse_cov_file(xx) for xx in cov_files]})\n",
    "cov_df = cov_df[['IID', 'cov']]\n",
    "cov_df.head()"
   ]
  },
  {
   "cell_type": "code",
   "execution_count": 25,
   "metadata": {
    "collapsed": true
   },
   "outputs": [],
   "source": [
    "cov_df.to_csv(os.path.join('paper', 'tables', 'coverage.txt'), index = False, sep = '\\t')"
   ]
  },
  {
   "cell_type": "code",
   "execution_count": 31,
   "metadata": {
    "collapsed": false
   },
   "outputs": [
    {
     "data": {
      "text/html": [
       "<div>\n",
       "<table border=\"1\" class=\"dataframe\">\n",
       "  <thead>\n",
       "    <tr style=\"text-align: right;\">\n",
       "      <th></th>\n",
       "      <th>FID</th>\n",
       "      <th>CLUSTER</th>\n",
       "      <th>POPNAME</th>\n",
       "      <th>YEAR</th>\n",
       "      <th>TIMING</th>\n",
       "      <th>REGION</th>\n",
       "      <th>IID</th>\n",
       "      <th>F_MISS</th>\n",
       "      <th>O_het</th>\n",
       "      <th>F</th>\n",
       "    </tr>\n",
       "  </thead>\n",
       "  <tbody>\n",
       "    <tr>\n",
       "      <th>0</th>\n",
       "      <td>1</td>\n",
       "      <td>1</td>\n",
       "      <td>Hamma Hamma</td>\n",
       "      <td>2010</td>\n",
       "      <td>Summer</td>\n",
       "      <td>Hood Canal</td>\n",
       "      <td>CMHAMM10_0002</td>\n",
       "      <td>0.1057</td>\n",
       "      <td>0.289566</td>\n",
       "      <td>0.13230</td>\n",
       "    </tr>\n",
       "    <tr>\n",
       "      <th>1</th>\n",
       "      <td>1</td>\n",
       "      <td>1</td>\n",
       "      <td>Hamma Hamma</td>\n",
       "      <td>2010</td>\n",
       "      <td>Summer</td>\n",
       "      <td>Hood Canal</td>\n",
       "      <td>CMHAMM10_0005</td>\n",
       "      <td>0.2353</td>\n",
       "      <td>0.270723</td>\n",
       "      <td>0.18920</td>\n",
       "    </tr>\n",
       "    <tr>\n",
       "      <th>2</th>\n",
       "      <td>1</td>\n",
       "      <td>1</td>\n",
       "      <td>Hamma Hamma</td>\n",
       "      <td>2010</td>\n",
       "      <td>Summer</td>\n",
       "      <td>Hood Canal</td>\n",
       "      <td>CMHAMM10_0008</td>\n",
       "      <td>0.1362</td>\n",
       "      <td>0.304202</td>\n",
       "      <td>0.08892</td>\n",
       "    </tr>\n",
       "    <tr>\n",
       "      <th>3</th>\n",
       "      <td>1</td>\n",
       "      <td>1</td>\n",
       "      <td>Hamma Hamma</td>\n",
       "      <td>2010</td>\n",
       "      <td>Summer</td>\n",
       "      <td>Hood Canal</td>\n",
       "      <td>CMHAMM10_0011</td>\n",
       "      <td>0.2086</td>\n",
       "      <td>0.277489</td>\n",
       "      <td>0.16790</td>\n",
       "    </tr>\n",
       "    <tr>\n",
       "      <th>4</th>\n",
       "      <td>1</td>\n",
       "      <td>1</td>\n",
       "      <td>Hamma Hamma</td>\n",
       "      <td>2010</td>\n",
       "      <td>Summer</td>\n",
       "      <td>Hood Canal</td>\n",
       "      <td>CMHAMM10_0012</td>\n",
       "      <td>0.1541</td>\n",
       "      <td>0.298913</td>\n",
       "      <td>0.10550</td>\n",
       "    </tr>\n",
       "  </tbody>\n",
       "</table>\n",
       "</div>"
      ],
      "text/plain": [
       "   FID  CLUSTER      POPNAME  YEAR  TIMING      REGION            IID  F_MISS  \\\n",
       "0    1        1  Hamma Hamma  2010  Summer  Hood Canal  CMHAMM10_0002  0.1057   \n",
       "1    1        1  Hamma Hamma  2010  Summer  Hood Canal  CMHAMM10_0005  0.2353   \n",
       "2    1        1  Hamma Hamma  2010  Summer  Hood Canal  CMHAMM10_0008  0.1362   \n",
       "3    1        1  Hamma Hamma  2010  Summer  Hood Canal  CMHAMM10_0011  0.2086   \n",
       "4    1        1  Hamma Hamma  2010  Summer  Hood Canal  CMHAMM10_0012  0.1541   \n",
       "\n",
       "      O_het        F  \n",
       "0  0.289566  0.13230  \n",
       "1  0.270723  0.18920  \n",
       "2  0.304202  0.08892  \n",
       "3  0.277489  0.16790  \n",
       "4  0.298913  0.10550  "
      ]
     },
     "execution_count": 31,
     "metadata": {},
     "output_type": "execute_result"
    }
   ],
   "source": [
    "hetmiss = pd.read_csv(os.path.join('paper','tables','hetmiss.txt'), sep = '\\t')\n",
    "hetmiss.head()"
   ]
  },
  {
   "cell_type": "code",
   "execution_count": 34,
   "metadata": {
    "collapsed": false
   },
   "outputs": [
    {
     "data": {
      "text/html": [
       "<div>\n",
       "<table border=\"1\" class=\"dataframe\">\n",
       "  <thead>\n",
       "    <tr style=\"text-align: right;\">\n",
       "      <th></th>\n",
       "      <th>IID</th>\n",
       "      <th>cov</th>\n",
       "      <th>FID</th>\n",
       "      <th>CLUSTER</th>\n",
       "      <th>POPNAME</th>\n",
       "      <th>YEAR</th>\n",
       "      <th>TIMING</th>\n",
       "      <th>REGION</th>\n",
       "      <th>F_MISS</th>\n",
       "      <th>O_het</th>\n",
       "      <th>F</th>\n",
       "    </tr>\n",
       "  </thead>\n",
       "  <tbody>\n",
       "    <tr>\n",
       "      <th>0</th>\n",
       "      <td>CMSHERW94S_0009</td>\n",
       "      <td>2831500</td>\n",
       "      <td>5</td>\n",
       "      <td>5</td>\n",
       "      <td>Sherwood River Summer</td>\n",
       "      <td>1994</td>\n",
       "      <td>Summer</td>\n",
       "      <td>South Puget Sound</td>\n",
       "      <td>0.02670</td>\n",
       "      <td>0.333692</td>\n",
       "      <td>0.004884</td>\n",
       "    </tr>\n",
       "    <tr>\n",
       "      <th>1</th>\n",
       "      <td>CMUW10_0007</td>\n",
       "      <td>440163</td>\n",
       "      <td>10</td>\n",
       "      <td>10</td>\n",
       "      <td>Hoodsport Hatchery</td>\n",
       "      <td>2010</td>\n",
       "      <td>Fall</td>\n",
       "      <td>Hood Canal</td>\n",
       "      <td>0.16740</td>\n",
       "      <td>0.297075</td>\n",
       "      <td>0.105400</td>\n",
       "    </tr>\n",
       "    <tr>\n",
       "      <th>2</th>\n",
       "      <td>CMKALA03_0049</td>\n",
       "      <td>864623</td>\n",
       "      <td>2</td>\n",
       "      <td>2</td>\n",
       "      <td>Nisqually Kalama Creek</td>\n",
       "      <td>2003</td>\n",
       "      <td>Winter</td>\n",
       "      <td>South Puget Sound</td>\n",
       "      <td>0.12260</td>\n",
       "      <td>0.243313</td>\n",
       "      <td>0.270700</td>\n",
       "    </tr>\n",
       "    <tr>\n",
       "      <th>3</th>\n",
       "      <td>CMKALA03_0008</td>\n",
       "      <td>3210738</td>\n",
       "      <td>2</td>\n",
       "      <td>2</td>\n",
       "      <td>Nisqually Kalama Creek</td>\n",
       "      <td>2003</td>\n",
       "      <td>Winter</td>\n",
       "      <td>South Puget Sound</td>\n",
       "      <td>0.03081</td>\n",
       "      <td>0.336440</td>\n",
       "      <td>-0.003084</td>\n",
       "    </tr>\n",
       "    <tr>\n",
       "      <th>4</th>\n",
       "      <td>CMSHERW94S_0087</td>\n",
       "      <td>2313801</td>\n",
       "      <td>5</td>\n",
       "      <td>5</td>\n",
       "      <td>Sherwood River Summer</td>\n",
       "      <td>1994</td>\n",
       "      <td>Summer</td>\n",
       "      <td>South Puget Sound</td>\n",
       "      <td>0.07597</td>\n",
       "      <td>0.327660</td>\n",
       "      <td>0.023360</td>\n",
       "    </tr>\n",
       "  </tbody>\n",
       "</table>\n",
       "</div>"
      ],
      "text/plain": [
       "               IID      cov  FID  CLUSTER                 POPNAME  YEAR  \\\n",
       "0  CMSHERW94S_0009  2831500    5        5   Sherwood River Summer  1994   \n",
       "1      CMUW10_0007   440163   10       10      Hoodsport Hatchery  2010   \n",
       "2    CMKALA03_0049   864623    2        2  Nisqually Kalama Creek  2003   \n",
       "3    CMKALA03_0008  3210738    2        2  Nisqually Kalama Creek  2003   \n",
       "4  CMSHERW94S_0087  2313801    5        5   Sherwood River Summer  1994   \n",
       "\n",
       "   TIMING             REGION   F_MISS     O_het         F  \n",
       "0  Summer  South Puget Sound  0.02670  0.333692  0.004884  \n",
       "1    Fall         Hood Canal  0.16740  0.297075  0.105400  \n",
       "2  Winter  South Puget Sound  0.12260  0.243313  0.270700  \n",
       "3  Winter  South Puget Sound  0.03081  0.336440 -0.003084  \n",
       "4  Summer  South Puget Sound  0.07597  0.327660  0.023360  "
      ]
     },
     "execution_count": 34,
     "metadata": {},
     "output_type": "execute_result"
    }
   ],
   "source": [
    "table_1_raw = pd.merge(cov_df, hetmiss)\n",
    "table_1_raw.head()"
   ]
  },
  {
   "cell_type": "markdown",
   "metadata": {},
   "source": [
    "### Calcualte percent called gentypes\n",
    "1 - F_MISS"
   ]
  },
  {
   "cell_type": "code",
   "execution_count": null,
   "metadata": {
    "collapsed": true
   },
   "outputs": [],
   "source": [
    "table_1_raw['Genotyping rate'] = 1- table_1_raw['F_MISS']"
   ]
  },
  {
   "cell_type": "code",
   "execution_count": 90,
   "metadata": {
    "collapsed": true
   },
   "outputs": [],
   "source": [
    "table_1_raw = table_1_raw.rename(columns={'cov':'Aligned sequences'})"
   ]
  },
  {
   "cell_type": "code",
   "execution_count": 91,
   "metadata": {
    "collapsed": false
   },
   "outputs": [
    {
     "data": {
      "text/html": [
       "<div>\n",
       "<table border=\"1\" class=\"dataframe\">\n",
       "  <thead>\n",
       "    <tr style=\"text-align: right;\">\n",
       "      <th></th>\n",
       "      <th>Aligned sequences</th>\n",
       "      <th>Genotyping rate</th>\n",
       "    </tr>\n",
       "    <tr>\n",
       "      <th>POPNAME</th>\n",
       "      <th></th>\n",
       "      <th></th>\n",
       "    </tr>\n",
       "  </thead>\n",
       "  <tbody>\n",
       "    <tr>\n",
       "      <th>Hamma Hamma</th>\n",
       "      <td>1419541</td>\n",
       "      <td>0.868075</td>\n",
       "    </tr>\n",
       "    <tr>\n",
       "      <th>Hoodsport Hatchery</th>\n",
       "      <td>509422</td>\n",
       "      <td>0.848213</td>\n",
       "    </tr>\n",
       "    <tr>\n",
       "      <th>Lilliwaup Creek</th>\n",
       "      <td>2760125</td>\n",
       "      <td>0.983305</td>\n",
       "    </tr>\n",
       "    <tr>\n",
       "      <th>Nisqually Kalama Creek</th>\n",
       "      <td>2270022</td>\n",
       "      <td>0.962620</td>\n",
       "    </tr>\n",
       "    <tr>\n",
       "      <th>Sherwood River Fall</th>\n",
       "      <td>3235188</td>\n",
       "      <td>0.957814</td>\n",
       "    </tr>\n",
       "    <tr>\n",
       "      <th>Sherwood River Summer</th>\n",
       "      <td>2504974</td>\n",
       "      <td>0.910072</td>\n",
       "    </tr>\n",
       "    <tr>\n",
       "      <th>Skookum Creek</th>\n",
       "      <td>1644932</td>\n",
       "      <td>0.954064</td>\n",
       "    </tr>\n",
       "    <tr>\n",
       "      <th>Snohomish River</th>\n",
       "      <td>1135085</td>\n",
       "      <td>0.942091</td>\n",
       "    </tr>\n",
       "    <tr>\n",
       "      <th>Squakum Creek</th>\n",
       "      <td>999084</td>\n",
       "      <td>0.863790</td>\n",
       "    </tr>\n",
       "    <tr>\n",
       "      <th>Stillaguamish River</th>\n",
       "      <td>710538</td>\n",
       "      <td>0.907182</td>\n",
       "    </tr>\n",
       "  </tbody>\n",
       "</table>\n",
       "</div>"
      ],
      "text/plain": [
       "                        Aligned sequences  Genotyping rate\n",
       "POPNAME                                                   \n",
       "Hamma Hamma                       1419541         0.868075\n",
       "Hoodsport Hatchery                 509422         0.848213\n",
       "Lilliwaup Creek                   2760125         0.983305\n",
       "Nisqually Kalama Creek            2270022         0.962620\n",
       "Sherwood River Fall               3235188         0.957814\n",
       "Sherwood River Summer             2504974         0.910072\n",
       "Skookum Creek                     1644932         0.954064\n",
       "Snohomish River                   1135085         0.942091\n",
       "Squakum Creek                      999084         0.863790\n",
       "Stillaguamish River                710538         0.907182"
      ]
     },
     "execution_count": 91,
     "metadata": {},
     "output_type": "execute_result"
    }
   ],
   "source": [
    "table1_grouped = table_1_raw.groupby('POPNAME')\n",
    "table1_grouped.aggregate(np.average)[['Aligned sequences', 'Genotyping rate']]\n"
   ]
  },
  {
   "cell_type": "code",
   "execution_count": 106,
   "metadata": {
    "collapsed": false
   },
   "outputs": [
    {
     "ename": "TypeError",
     "evalue": "'DataFrameGroupBy' object does not support item assignment",
     "output_type": "error",
     "traceback": [
      "\u001b[1;31m---------------------------------------------------------------------------\u001b[0m",
      "\u001b[1;31mTypeError\u001b[0m                                 Traceback (most recent call last)",
      "\u001b[1;32m<ipython-input-106-7883febea5a2>\u001b[0m in \u001b[0;36m<module>\u001b[1;34m()\u001b[0m\n\u001b[1;32m----> 1\u001b[1;33m \u001b[0mtable1_grouped\u001b[0m\u001b[1;33m[\u001b[0m\u001b[1;34m'n'\u001b[0m\u001b[1;33m]\u001b[0m \u001b[1;33m=\u001b[0m \u001b[0mtable1_grouped\u001b[0m\u001b[1;33m.\u001b[0m\u001b[0mcount\u001b[0m\u001b[1;33m(\u001b[0m\u001b[1;33m)\u001b[0m\u001b[1;33m[\u001b[0m\u001b[1;34m'FID'\u001b[0m\u001b[1;33m]\u001b[0m\u001b[1;33m\u001b[0m\u001b[0m\n\u001b[0m",
      "\u001b[1;31mTypeError\u001b[0m: 'DataFrameGroupBy' object does not support item assignment"
     ]
    }
   ],
   "source": [
    "table1_grouped['n'] = table1_grouped.count()['FID']"
   ]
  },
  {
   "cell_type": "code",
   "execution_count": 116,
   "metadata": {
    "collapsed": false
   },
   "outputs": [],
   "source": [
    "table1 = table1_grouped[['Aligned sequences', 'Genotyping rate']].agg([np.mean,np.std])\n",
    "table1.loc[:, ('Aligned sequences', 'std')] = [np.int(xx) for xx in table1['Aligned sequences']['std']]\n",
    "table1.insert(0, 'n', table1_grouped.count()['FID'])"
   ]
  },
  {
   "cell_type": "code",
   "execution_count": 117,
   "metadata": {
    "collapsed": false
   },
   "outputs": [
    {
     "name": "stdout",
     "output_type": "stream",
     "text": [
      "\\begin{tabular}{lrrrrr}\n",
      "\\toprule\n",
      "{} &   n & Aligned sequences &           & Genotyping rate &            \\\\\n",
      "{} &     &              mean &       std &            mean &        std \\\\\n",
      "\\midrule\n",
      "Hamma Hamma            &  20 &         1,419,541 & 1,427,760 &            0.87 &       0.08 \\\\\n",
      "Hoodsport Hatchery     &   8 &           509,422 &   148,391 &            0.85 &       0.08 \\\\\n",
      "Lilliwaup Creek        &  20 &         2,760,125 &   999,141 &            0.98 &       0.01 \\\\\n",
      "Nisqually Kalama Creek &  17 &         2,270,022 & 1,432,866 &            0.96 &       0.03 \\\\\n",
      "Sherwood River Fall    &  32 &         3,235,188 &   966,091 &            0.96 &       0.04 \\\\\n",
      "Sherwood River Summer  &  31 &         2,504,974 & 1,183,089 &            0.91 &       0.07 \\\\\n",
      "Skookum Creek          &  11 &         1,644,932 &   637,844 &            0.95 &       0.09 \\\\\n",
      "Snohomish River        &  14 &         1,135,085 &   495,888 &            0.94 &       0.07 \\\\\n",
      "Squakum Creek          &   8 &           999,084 &   650,927 &            0.86 &       0.08 \\\\\n",
      "Stillaguamish River    &  13 &           710,538 &   269,873 &            0.91 &       0.06 \\\\\n",
      "\\bottomrule\n",
      "\\end{tabular}\n",
      "\n"
     ]
    }
   ],
   "source": [
    "#formatters = {('cov', 'std'):  lambda x: '%10.2f' % x}\n",
    "formatters = {('Aligned sequences', 'std'):  lambda x: \"{:,}\".format(x),\n",
    "              ('Aligned sequences', 'mean'):  lambda x: \"{:,}\".format(x),\n",
    "              ('Genotyping rate', 'mean'):lambda x: '%10.2f' % x,\n",
    "              ('Genotyping rate', 'std'):lambda x: '%10.2f' % x\n",
    "             }\n",
    "\n",
    "\n",
    "print table1.to_latex(formatters=formatters, index_names = False)"
   ]
  },
  {
   "cell_type": "markdown",
   "metadata": {},
   "source": [
    "## replace a header row with:\n",
    "{} & {} & \\multicolumn{2}{c}{Genotyping rate} & \\multicolumn{2}{c}{Aligned sequences}\\\\\n",
    "Collection &  n   &            mean &        std &              mean &       std \\\\"
   ]
  },
  {
   "cell_type": "markdown",
   "metadata": {},
   "source": [
    "\\caption{\\label{tab:table-name}Sample sizes. sequencing and genotyping rates}\n"
   ]
  },
  {
   "cell_type": "code",
   "execution_count": null,
   "metadata": {
    "collapsed": true
   },
   "outputs": [],
   "source": []
  }
 ],
 "metadata": {
  "kernelspec": {
   "display_name": "Python 2",
   "language": "python",
   "name": "python2"
  },
  "language_info": {
   "codemirror_mode": {
    "name": "ipython",
    "version": 2
   },
   "file_extension": ".py",
   "mimetype": "text/x-python",
   "name": "python",
   "nbconvert_exporter": "python",
   "pygments_lexer": "ipython2",
   "version": "2.7.10"
  }
 },
 "nbformat": 4,
 "nbformat_minor": 0
}
