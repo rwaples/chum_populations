{
 "cells": [
  {
   "cell_type": "code",
   "execution_count": 1,
   "metadata": {
    "collapsed": true
   },
   "outputs": [],
   "source": [
    "import ete2\n",
    "from ete2 import Tree\n",
    "import pandas as pd"
   ]
  },
  {
   "cell_type": "code",
   "execution_count": 2,
   "metadata": {
    "collapsed": false
   },
   "outputs": [],
   "source": [
    "newick_file_fst ='/home/ipseg/Desktop/waples/chum_populations/results/batch_4/pop_analysis/poptree2/Fst.nwk'\n",
    "newick_file_da ='/home/ipseg/Desktop/waples/chum_populations/results/batch_4/pop_analysis/poptree2/DA.nwk'\n",
    "\n",
    "with open(newick_file_fst) as INFILE:\n",
    "    newick_str_fst = str(INFILE.read().strip())\n",
    "\n",
    "with open(newick_file_da) as INFILE:\n",
    "    newick_str_da = str(INFILE.read().strip())\n",
    "    "
   ]
  },
  {
   "cell_type": "code",
   "execution_count": 6,
   "metadata": {
    "collapsed": false
   },
   "outputs": [
    {
     "data": {
      "text/plain": [
       "'(pop1:0.04374500,(((pop3:0.00120300,pop10:0.00829500)1.0000:0.00638600,((pop7:-0.00068900,pop9:0.00412100)0.7050:0.00063900,pop8:0.01062000)1.0000:0.00926000)0.9780:0.00150500,pop2:0.01641300)0.9710:0.00191600,((pop4:-0.00020500,pop5:0.00316500)1.0000:0.00294100,pop6:0.00666700)1.0000:0.00428800);'"
      ]
     },
     "execution_count": 6,
     "metadata": {},
     "output_type": "execute_result"
    }
   ],
   "source": [
    "newick_str_fst"
   ]
  },
  {
   "cell_type": "code",
   "execution_count": 7,
   "metadata": {
    "collapsed": false
   },
   "outputs": [
    {
     "data": {
      "text/plain": [
       "'(pop7:0.00550500,(pop8:0.01523800,pop9:0.00758400)0.7080:0.00025800,(((pop1:0.01628500,((pop4:0.00220000,pop5:0.00318500)1.0000:0.00107600,pop6:0.00945900)1.0000:0.00115700)0.9230:0.00057300,pop2:0.00916200)0.8920:0.00034200,(pop3:0.00411800,pop10:0.01600300)1.0000:0.00165700)1.0000:0.00277700);'"
      ]
     },
     "execution_count": 7,
     "metadata": {},
     "output_type": "execute_result"
    }
   ],
   "source": [
    "newick_str_da"
   ]
  },
  {
   "cell_type": "code",
   "execution_count": 8,
   "metadata": {
    "collapsed": false
   },
   "outputs": [],
   "source": [
    "popinfo = pd.read_csv('/home/ipseg/Desktop/waples/chum_populations/data/POPINFO.txt', sep = '\\t')\n",
    "rename_dict= dict(zip(['pop'+str(xx)+':' for xx in popinfo['CLUSTER']], [xx+':' for xx in popinfo['POPNAME']]))"
   ]
  },
  {
   "cell_type": "code",
   "execution_count": 9,
   "metadata": {
    "collapsed": false
   },
   "outputs": [
    {
     "data": {
      "text/plain": [
       "[('pop2:', 'Nisqually Kalama Creek:'),\n",
       " ('pop8:', 'Squakum Creek:'),\n",
       " ('pop3:', 'Lilliwaup Creek:'),\n",
       " ('pop9:', 'Stillaguamish River:'),\n",
       " ('pop4:', 'Sherwood River Fall:'),\n",
       " ('pop5:', 'Sherwood River Summer:'),\n",
       " ('pop10:', 'Hoodsport Hatchery:'),\n",
       " ('pop6:', 'Skookum Creek:'),\n",
       " ('pop7:', 'Snohomish River:'),\n",
       " ('pop1:', 'Hamma Hamma River:')]"
      ]
     },
     "execution_count": 9,
     "metadata": {},
     "output_type": "execute_result"
    }
   ],
   "source": [
    "rename_dict.items()"
   ]
  },
  {
   "cell_type": "code",
   "execution_count": 10,
   "metadata": {
    "collapsed": false
   },
   "outputs": [],
   "source": [
    "newick_str_fst = reduce(lambda x, y: x.replace(y, rename_dict[y]), rename_dict, newick_str_fst)\n",
    "newick_str_da = reduce(lambda x, y: x.replace(y, rename_dict[y]), rename_dict, newick_str_da)"
   ]
  },
  {
   "cell_type": "code",
   "execution_count": 11,
   "metadata": {
    "collapsed": false
   },
   "outputs": [],
   "source": [
    "\n",
    "pt=Tree(newick_str_fst)\n",
    "\n",
    "ts = ete2.TreeStyle()\n",
    "ts.show_leaf_name = True\n",
    "ts.force_topology = False\n",
    "ts.show_branch_support = True\n",
    "#ts.optimal_scale_level = 'full'\n",
    "ts.branch_vertical_margin = 4\n",
    "ts.show_scale = True\n",
    "ts.scale =  5000\n",
    "\n",
    "#pt.img_style[\"size\"] = 30\n",
    "\n",
    "ns0 = ete2.NodeStyle()\n",
    "ns0[\"size\"] = 0\n",
    "\n",
    "for n in pt.traverse():\n",
    "    n.set_style(ns0)\n",
    "    \n",
    "pt.set_style(ns0)\n",
    "for l in pt.iter_leaves():\n",
    "        l.img_style = ns0\n",
    "pt.children[0].img_style = ns0\n",
    "pt.children[1].img_style = ns0\n"
   ]
  },
  {
   "cell_type": "code",
   "execution_count": 12,
   "metadata": {
    "collapsed": false
   },
   "outputs": [],
   "source": [
    "render = pt.render('/home/ipseg/Desktop/waples/chum_populations/results/batch_4/pop_analysis/poptree2/tree.fst.png', \n",
    "                   tree_style=ts, units = 'px', h = 450)"
   ]
  },
  {
   "cell_type": "code",
   "execution_count": 14,
   "metadata": {
    "collapsed": true
   },
   "outputs": [],
   "source": [
    "\n",
    "pt=Tree(newick_str_da)\n",
    "\n",
    "ts = ete2.TreeStyle()\n",
    "ts.show_leaf_name = True\n",
    "ts.force_topology = False\n",
    "ts.show_branch_support = True\n",
    "#ts.optimal_scale_level = 'full'\n",
    "ts.branch_vertical_margin = 4\n",
    "ts.show_scale = True\n",
    "ts.scale =  5000\n",
    "\n",
    "#pt.img_style[\"size\"] = 30\n",
    "\n",
    "ns0 = ete2.NodeStyle()\n",
    "ns0[\"size\"] = 0\n",
    "\n",
    "for n in pt.traverse():\n",
    "    n.set_style(ns0)\n",
    "    \n",
    "pt.set_style(ns0)\n",
    "for l in pt.iter_leaves():\n",
    "        l.img_style = ns0\n",
    "pt.children[0].img_style = ns0\n",
    "pt.children[1].img_style = ns0\n"
   ]
  },
  {
   "cell_type": "code",
   "execution_count": 15,
   "metadata": {
    "collapsed": true
   },
   "outputs": [],
   "source": [
    "render = pt.render('/home/ipseg/Desktop/waples/chum_populations/results/batch_4/pop_analysis/poptree2/tree.da.png', \n",
    "                   tree_style=ts, units = 'px', h = 450)"
   ]
  },
  {
   "cell_type": "code",
   "execution_count": null,
   "metadata": {
    "collapsed": true
   },
   "outputs": [],
   "source": []
  }
 ],
 "metadata": {
  "kernelspec": {
   "display_name": "Python 2",
   "language": "python",
   "name": "python2"
  },
  "language_info": {
   "codemirror_mode": {
    "name": "ipython",
    "version": 2
   },
   "file_extension": ".py",
   "mimetype": "text/x-python",
   "name": "python",
   "nbconvert_exporter": "python",
   "pygments_lexer": "ipython2",
   "version": "2.7.10"
  }
 },
 "nbformat": 4,
 "nbformat_minor": 0
}
