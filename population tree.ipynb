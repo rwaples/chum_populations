{
 "cells": [
  {
   "cell_type": "code",
   "execution_count": 8,
   "metadata": {
    "collapsed": true
   },
   "outputs": [],
   "source": [
    "import ete2\n",
    "from ete2 import Tree\n",
    "import pandas as pd"
   ]
  },
  {
   "cell_type": "code",
   "execution_count": 9,
   "metadata": {
    "collapsed": false
   },
   "outputs": [],
   "source": [
    "newick_file='/home/ipseg/Desktop/waples/chum_populations/results/batch_4/pop_analysis/poptree2/for_poptree2.nwk'\n",
    "\n",
    "with open(newick_file) as INFILE:\n",
    "    newick_str = str(INFILE.read().strip())\n",
    "    "
   ]
  },
  {
   "cell_type": "code",
   "execution_count": 10,
   "metadata": {
    "collapsed": false
   },
   "outputs": [
    {
     "data": {
      "text/plain": [
       "'(pop1:0.04374500,(((pop3:0.00120300,pop10:0.00829500)1.0000:0.00638600,((pop7:-0.00068900,pop9:0.00412100)0.7180:0.00063900,pop8:0.01062000)1.0000:0.00926000)0.9720:0.00150500,pop2:0.01641300)0.9640:0.00191600,((pop4:-0.00020500,pop5:0.00316500)1.0000:0.00294100,pop6:0.00666700)1.0000:0.00428800);'"
      ]
     },
     "execution_count": 10,
     "metadata": {},
     "output_type": "execute_result"
    }
   ],
   "source": [
    "newick_str"
   ]
  },
  {
   "cell_type": "code",
   "execution_count": 11,
   "metadata": {
    "collapsed": false
   },
   "outputs": [],
   "source": [
    "popinfo = pd.read_csv('/home/ipseg/Desktop/waples/chum_populations/data/POPINFO.txt', sep = '\\t')\n",
    "rename_dict= dict(zip(['pop'+str(xx)+':' for xx in popinfo['CLUSTER']], [xx+':' for xx in popinfo['POPNAME']]))"
   ]
  },
  {
   "cell_type": "code",
   "execution_count": 12,
   "metadata": {
    "collapsed": false
   },
   "outputs": [
    {
     "data": {
      "text/plain": [
       "[('pop2:', 'Nisqually Kalama Creek:'),\n",
       " ('pop8:', 'Squakum Creek:'),\n",
       " ('pop3:', 'Lilliwaup Creek:'),\n",
       " ('pop9:', 'Stillaguamish River:'),\n",
       " ('pop4:', 'Sherwood River Fall:'),\n",
       " ('pop5:', 'Sherwood River Summer:'),\n",
       " ('pop10:', 'Hoodsport Hatchery:'),\n",
       " ('pop6:', 'Skookum Creek:'),\n",
       " ('pop7:', 'Snohomish River:'),\n",
       " ('pop1:', 'Hamma Hamma River:')]"
      ]
     },
     "execution_count": 12,
     "metadata": {},
     "output_type": "execute_result"
    }
   ],
   "source": [
    "rename_dict.items()"
   ]
  },
  {
   "cell_type": "code",
   "execution_count": 13,
   "metadata": {
    "collapsed": false
   },
   "outputs": [],
   "source": [
    "renamed_str = reduce(lambda x, y: x.replace(y, rename_dict[y]), rename_dict, newick_str)"
   ]
  },
  {
   "cell_type": "code",
   "execution_count": 14,
   "metadata": {
    "collapsed": false
   },
   "outputs": [
    {
     "data": {
      "text/plain": [
       "'(Hamma Hamma River:0.04374500,(((Lilliwaup Creek:0.00120300,Hoodsport Hatchery:0.00829500)1.0000:0.00638600,((Snohomish River:-0.00068900,Stillaguamish River:0.00412100)0.7180:0.00063900,Squakum Creek:0.01062000)1.0000:0.00926000)0.9720:0.00150500,Nisqually Kalama Creek:0.01641300)0.9640:0.00191600,((Sherwood River Fall:-0.00020500,Sherwood River Summer:0.00316500)1.0000:0.00294100,Skookum Creek:0.00666700)1.0000:0.00428800);'"
      ]
     },
     "execution_count": 14,
     "metadata": {},
     "output_type": "execute_result"
    }
   ],
   "source": [
    "renamed_str"
   ]
  },
  {
   "cell_type": "code",
   "execution_count": 15,
   "metadata": {
    "collapsed": false
   },
   "outputs": [],
   "source": [
    "pt=Tree(renamed_str)"
   ]
  },
  {
   "cell_type": "code",
   "execution_count": null,
   "metadata": {
    "collapsed": true
   },
   "outputs": [],
   "source": []
  },
  {
   "cell_type": "code",
   "execution_count": 16,
   "metadata": {
    "collapsed": false
   },
   "outputs": [],
   "source": [
    "ts = ete2.TreeStyle()\n",
    "ts.show_leaf_name = True\n",
    "ts.force_topology = False\n",
    "ts.show_branch_support = True\n",
    "#ts.optimal_scale_level = 'full'\n",
    "ts.branch_vertical_margin = 4\n",
    "ts.show_scale = True\n",
    "ts.scale =  5000\n",
    "\n",
    "#pt.img_style[\"size\"] = 30\n",
    "\n",
    "ns0 = ete2.NodeStyle()\n",
    "ns0[\"size\"] = 0\n",
    "\n",
    "for n in pt.traverse():\n",
    "    n.set_style(ns0)\n",
    "    \n",
    "pt.set_style(ns0)\n",
    "for l in pt.iter_leaves():\n",
    "        l.img_style = ns0\n",
    "pt.children[0].img_style = ns0\n",
    "pt.children[1].img_style = ns0\n"
   ]
  },
  {
   "cell_type": "code",
   "execution_count": 17,
   "metadata": {
    "collapsed": false
   },
   "outputs": [],
   "source": [
    "render = pt.render('/home/ipseg/Desktop/waples/chum_populations/results/batch_4/pop_analysis/poptree2/tree2.png', \n",
    "                   tree_style=ts, units = 'px', h = 450)"
   ]
  },
  {
   "cell_type": "code",
   "execution_count": null,
   "metadata": {
    "collapsed": true
   },
   "outputs": [],
   "source": []
  }
 ],
 "metadata": {
  "kernelspec": {
   "display_name": "Python 2",
   "language": "python",
   "name": "python2"
  },
  "language_info": {
   "codemirror_mode": {
    "name": "ipython",
    "version": 2
   },
   "file_extension": ".py",
   "mimetype": "text/x-python",
   "name": "python",
   "nbconvert_exporter": "python",
   "pygments_lexer": "ipython2",
   "version": "2.7.10"
  }
 },
 "nbformat": 4,
 "nbformat_minor": 0
}
