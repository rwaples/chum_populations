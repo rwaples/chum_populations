{
 "metadata": {
  "name": "",
  "signature": "sha256:9be64ab175f25c00720487cd4631bbed89efabeb524b8f7be6850971827d41b0"
 },
 "nbformat": 3,
 "nbformat_minor": 0,
 "worksheets": [
  {
   "cells": [
    {
     "cell_type": "markdown",
     "metadata": {},
     "source": [
      "# assign genotypes to population data"
     ]
    },
    {
     "cell_type": "markdown",
     "metadata": {},
     "source": [
      "### Bring:\n",
      "* BAM file for each sample\n",
      "\n",
      "### Take away:\n",
      "* raw genotypes   \n",
      "\n",
      "### Programs used:\n",
      "* `Stacks`\n",
      "    * `pstacks`\n",
      "    * `cstacks`\n",
      "    * `sstacks`\n",
      "    * `populations`\n",
      "* `samtools`\n",
      "\n",
      "### Steps\n",
      "1. demultiplex, trim, and filter RADseq data\n",
      "2. align reads to reference\n",
      "3. filter aligned reads\n",
      "4. examine coverage"
     ]
    },
    {
     "cell_type": "markdown",
     "metadata": {},
     "source": [
      "### make sure that Stacks is compiled to use samtools\n",
      "\n",
      "Assume you have installed:\n",
      "    * google sparsehash\n",
      "    * samtools\n",
      "\n",
      "Example commands:\n",
      "\n",
      "    `sudo apt-get install samtools`\n",
      "\n",
      "    `sudo apt-get install libbam-dev`\n",
      "\n",
      "    `./configure --enable-sparsehash --enable-bam --with-bam-include-path=/usr/include/samtools`\n",
      "\n",
      "    `make`\n",
      "\n",
      "    `sudo make install`\n"
     ]
    },
    {
     "cell_type": "markdown",
     "metadata": {},
     "source": [
      "## run `pstacks`"
     ]
    },
    {
     "cell_type": "code",
     "collapsed": false,
     "input": [
      "import os\n",
      "import os.path\n",
      "import glob\n",
      "\n",
      "bam_dir = \"/media/Shared/Data/chum/populations/aln/curated/bwa/post_filter\"\n",
      "pstacks_cmd = \"pstacks -f {} -o /media/Shared/Data/chum/populations/pstacks/batch_3 -i {}\\\n",
      "    --model_type bounded --bound_high 0.05 --alpha 0.05 -m 1 -p 6 -t bam\"\n",
      "ind_bams = glob.glob(os.path.join(bam_dir, \"*.bam\"))\n",
      "\n",
      "to_run_pstacks = []\n",
      "# turn this into a bash call\n",
      "for count, xx in enumerate(ind_bams):\n",
      "    ind_id = count + 1\n",
      "    ind_filename = os.path.join(bam_dir, \"{}\".format(xx))\n",
      "    #print(pstacks_cmd.format(ind_filename, ind_id))\n",
      "    to_run_pstacks.append(pstacks_cmd.format(ind_filename, ind_id))\n",
      "\n",
      "# run these commands\n",
      "# to_run_pstacks"
     ],
     "language": "python",
     "metadata": {},
     "outputs": [],
     "prompt_number": 3
    }
   ],
   "metadata": {}
  }
 ]
}