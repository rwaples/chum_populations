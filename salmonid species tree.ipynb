{
 "cells": [
  {
   "cell_type": "code",
   "execution_count": 2,
   "metadata": {
    "collapsed": true
   },
   "outputs": [],
   "source": [
    "import ete2"
   ]
  },
  {
   "cell_type": "code",
   "execution_count": 13,
   "metadata": {
    "collapsed": false
   },
   "outputs": [],
   "source": [
    "from ete2 import Tree\n",
    "t = Tree() # Creates an empty tree\n",
    "\n",
    "esox1 = t.add_child(name=\"Esox\\n(pike)\", dist = 4) # Adds a second child to the current tree\n",
    "                           # root and returns it\n",
    "#esox2 = esox1.add_child(name=\"Esox\\n(pike)\", dist = 1) # Adds a second child to the current tree\n",
    "    \n",
    "salmonid = t.add_child(name=\"salmonid\", dist = 1) # Adds a new child to the current tree root\n",
    "                           # and returns it\n",
    "    \n",
    "salmon = salmonid.add_child(name=\"salmon\", dist = 1.5) # Adds a new child to one of the branches\n",
    "rest = salmonid.add_child(name=\"rest\") # Adds a new child to one of the branches\n",
    "Thymallinae = rest.add_child(name=\"Thymallinae\\n(graylings)\") # Adds a new child to one of the branches\n",
    "Coregoninae = rest.add_child(name=\"Coregoninae\\n(whitefish & ciscoes)\") # Adds a new child to one of the branches\n",
    "Salmo = salmon.add_child(name=\"Salmo Salar\\n(Atlantic salmon)\") # Adds a new child to one of the branches\n",
    "Oncorhynchus = salmon.add_child(name=\"Oncorhynchus keta\\n (chum salmon)\") # Adds a new child to one of the branches\n",
    "\n",
    "#t.set_outgroup( t&\"Esox (pike)\" )\n",
    "\n",
    "# format style\n",
    "ts = ete2.TreeStyle()\n",
    "ts.show_leaf_name = True\n",
    "#ts.force_topology = True\n",
    "ts.optimal_scale_level = 'full'\n",
    "ts.branch_vertical_margin = 4\n",
    "ts.show_scale = False\n",
    "ts.scale = 25\n",
    "\n",
    "salmonid.img_style[\"size\"] = 30\n",
    "\n",
    "ns0 = ete2.NodeStyle()\n",
    "ns0[\"size\"] = 0\n",
    "\n",
    "\n",
    "ns1 = ete2.NodeStyle()\n",
    "ns1[\"size\"] = 20\n",
    "ns1[\"vt_line_color\"] = \"#fd3c06\"\n",
    "#ns1[\"hz_line_color\"] = \"#ff0000\"\n",
    "ns1[\"vt_line_width\"] = 2\n",
    "#ns1[\"hz_line_width\"] = 2\n",
    "ns1[\"fgcolor\"] = '#fd3c06'\n",
    "\n",
    "ns2 = ete2.NodeStyle()\n",
    "ns2[\"size\"] = 0\n",
    "ns2[\"vt_line_color\"] = \"#fd3c06\"\n",
    "ns2[\"hz_line_color\"] = \"#fd3c06\"\n",
    "ns2[\"hz_line_width\"] = 2\n",
    "ns2[\"vt_line_width\"] = 2\n",
    "\n",
    "for n in t.traverse():\n",
    "    n.set_style(ns0)\n",
    "    \n",
    "salmonid.set_style(ns1)\n",
    "for l in salmonid.iter_leaves():\n",
    "        l.img_style = ns2\n",
    "salmonid.children[0].img_style = ns2\n",
    "salmonid.children[1].img_style = ns2\n",
    "   \n",
    "render = t.render('tree.png', tree_style=ts, units = 'px', h = 450)"
   ]
  },
  {
   "cell_type": "code",
   "execution_count": null,
   "metadata": {
    "collapsed": true
   },
   "outputs": [],
   "source": []
  }
 ],
 "metadata": {
  "kernelspec": {
   "display_name": "Python 2",
   "language": "python",
   "name": "python2"
  },
  "language_info": {
   "codemirror_mode": {
    "name": "ipython",
    "version": 2
   },
   "file_extension": ".py",
   "mimetype": "text/x-python",
   "name": "python",
   "nbconvert_exporter": "python",
   "pygments_lexer": "ipython2",
   "version": "2.7.10"
  }
 },
 "nbformat": 4,
 "nbformat_minor": 0
}
