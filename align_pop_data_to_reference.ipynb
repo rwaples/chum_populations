{
 "metadata": {
  "name": "",
  "signature": "sha256:5bd14a4abea87fe97b1c702065a7016a14b597448e579ab28c82fa2e5ebf3947"
 },
 "nbformat": 3,
 "nbformat_minor": 0,
 "worksheets": [
  {
   "cells": [
    {
     "cell_type": "markdown",
     "metadata": {},
     "source": [
      "Align RADseq data from populations to reference\n",
      "==============================================="
     ]
    },
    {
     "cell_type": "markdown",
     "metadata": {},
     "source": [
      "### Bring:\n",
      "* FASTA refence\n",
      "* raw RADseq data\n",
      "\n",
      "### Take away:\n",
      "* one bam file of aligned ADseq reads for each individual\n",
      "\n",
      "### Programs used:\n",
      "* BWA\n",
      "* process_radtags (Stacks)\n",
      "* samtools\n",
      "* optional\n",
      "    * bedtools\n",
      "    \n",
      "### Steps\n",
      "1. demultiplex, trim, and filter RADseq data\n",
      "2. align reads to reference\n",
      "3. filter aligned reads\n",
      "4. examine coverage"
     ]
    },
    {
     "cell_type": "code",
     "collapsed": false,
     "input": [
      "## Step 0\n",
      "## get Radseq data"
     ],
     "language": "python",
     "metadata": {},
     "outputs": []
    },
    {
     "cell_type": "markdown",
     "metadata": {},
     "source": [
      "## Step 1\n",
      "## Demultiplex, trim, and filter RADseq data\n"
     ]
    },
    {
     "cell_type": "code",
     "collapsed": false,
     "input": [
      "# use process radtags to demultiplex, trim, and quality filter RADseq data\n"
     ],
     "language": "python",
     "metadata": {},
     "outputs": [],
     "prompt_number": 2
    },
    {
     "cell_type": "code",
     "collapsed": false,
     "input": [
      "# do any re-naming necessary after demultiplexing"
     ],
     "language": "python",
     "metadata": {},
     "outputs": [],
     "prompt_number": 3
    },
    {
     "cell_type": "markdown",
     "metadata": {},
     "source": [
      "## Step 2\n",
      "## Align to reference"
     ]
    },
    {
     "cell_type": "code",
     "collapsed": false,
     "input": [
      "import os\n",
      "import os.path\n",
      "import glob\n",
      "\n",
      "bam_dir = \"/media/Shared/Data/chum/populations/aln/curated/bwa/post_filter\"\n",
      "pstacks_cmd = \"pstacks -f {} -o /media/Shared/Data/chum/populations/pstacks/batch_3 -i {}\\\n",
      "    --model_type bounded --bound_high 0.05 --alpha 0.05 -m 1 -p 6 -t bam\"\n",
      "ind_bams = glob.glob(os.path.join(bam_dir, \"*.bam\"))\n",
      "\n",
      "to_run_pstacks = []\n",
      "# turn this into a bash call\n",
      "for count, xx in enumerate(ind_bams):\n",
      "    ind_id = count + 1\n",
      "    ind_filename = os.path.join(bam_dir, \"{}\".format(xx))\n",
      "    #print(pstacks_cmd.format(ind_filename, ind_id))\n",
      "    to_run_pstacks.append(pstacks_cmd.format(ind_filename, ind_id))\n",
      "\n",
      "# run these commands\n",
      "# to_run_pstacks\n"
     ],
     "language": "python",
     "metadata": {},
     "outputs": [],
     "prompt_number": 9
    },
    {
     "cell_type": "code",
     "collapsed": false,
     "input": [
      "## Step 2\n",
      "## Align to reference"
     ],
     "language": "python",
     "metadata": {},
     "outputs": [],
     "prompt_number": 10
    },
    {
     "cell_type": "code",
     "collapsed": false,
     "input": [
      "%%bash\n",
      "\n",
      "pwd"
     ],
     "language": "python",
     "metadata": {},
     "outputs": [
      {
       "output_type": "stream",
       "stream": "stdout",
       "text": [
        "/home/ipseg/.canopy/ipython_notebooks\n"
       ]
      }
     ],
     "prompt_number": 11
    },
    {
     "cell_type": "markdown",
     "metadata": {},
     "source": [
      " "
     ]
    }
   ],
   "metadata": {}
  }
 ]
}