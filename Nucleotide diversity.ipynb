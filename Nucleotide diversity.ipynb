{
 "cells": [
  {
   "cell_type": "code",
   "execution_count": 1,
   "metadata": {
    "collapsed": true
   },
   "outputs": [],
   "source": [
    "import numpy as np\n",
    "import pandas as pd\n",
    "import scipy.spatial.distance\n",
    "import seaborn as sns\n",
    "import os.path\n",
    "import matplotlib.pyplot as plt\n",
    "%matplotlib inline\n",
    "sns.set_style(\"white\")\n",
    "from IPython.core.pylabtools import figsize"
   ]
  },
  {
   "cell_type": "markdown",
   "metadata": {},
   "source": [
    "## Load haplotypes"
   ]
  },
  {
   "cell_type": "code",
   "execution_count": 2,
   "metadata": {
    "collapsed": false
   },
   "outputs": [
    {
     "data": {
      "text/html": [
       "<div>\n",
       "<table border=\"1\" class=\"dataframe\">\n",
       "  <thead>\n",
       "    <tr style=\"text-align: right;\">\n",
       "      <th></th>\n",
       "      <th>Catalog ID</th>\n",
       "      <th>Cnt</th>\n",
       "      <th>CMHAMM10_0002</th>\n",
       "      <th>CMHAMM10_0005</th>\n",
       "      <th>CMHAMM10_0008</th>\n",
       "      <th>CMHAMM10_0011</th>\n",
       "      <th>CMHAMM10_0012</th>\n",
       "      <th>CMHAMM10_0014</th>\n",
       "      <th>CMHAMM10_0015</th>\n",
       "      <th>CMHAMM10_0016</th>\n",
       "      <th>...</th>\n",
       "      <th>CMUW10_0003</th>\n",
       "      <th>CMUW10_0004</th>\n",
       "      <th>CMUW10_0007</th>\n",
       "      <th>CMUW10_0008</th>\n",
       "      <th>CMUW10_0009</th>\n",
       "      <th>CMUW10_0010</th>\n",
       "      <th>CMUW10_0011</th>\n",
       "      <th>CMUW10_0012</th>\n",
       "      <th>CMUW10_0015</th>\n",
       "      <th>CMUW10_0016</th>\n",
       "    </tr>\n",
       "  </thead>\n",
       "  <tbody>\n",
       "    <tr>\n",
       "      <th>0</th>\n",
       "      <td>1</td>\n",
       "      <td>194</td>\n",
       "      <td>GG/TA</td>\n",
       "      <td>GG/TA</td>\n",
       "      <td>GG/TA</td>\n",
       "      <td>GG/TA</td>\n",
       "      <td>GG/TA</td>\n",
       "      <td>GG/TA</td>\n",
       "      <td>GG/TA</td>\n",
       "      <td>GG/TA</td>\n",
       "      <td>...</td>\n",
       "      <td>GG/TA</td>\n",
       "      <td>TA</td>\n",
       "      <td>GG/TA</td>\n",
       "      <td>GG/TA</td>\n",
       "      <td>TA</td>\n",
       "      <td>TA</td>\n",
       "      <td>TA</td>\n",
       "      <td>GG/TA</td>\n",
       "      <td>GG/TA</td>\n",
       "      <td>GG/TA</td>\n",
       "    </tr>\n",
       "    <tr>\n",
       "      <th>1</th>\n",
       "      <td>2</td>\n",
       "      <td>185</td>\n",
       "      <td>A/G</td>\n",
       "      <td>G</td>\n",
       "      <td>G</td>\n",
       "      <td>G</td>\n",
       "      <td>G</td>\n",
       "      <td>-</td>\n",
       "      <td>-</td>\n",
       "      <td>A/G</td>\n",
       "      <td>...</td>\n",
       "      <td>A/G</td>\n",
       "      <td>G</td>\n",
       "      <td>G</td>\n",
       "      <td>A/G</td>\n",
       "      <td>G</td>\n",
       "      <td>G</td>\n",
       "      <td>G</td>\n",
       "      <td>A/G</td>\n",
       "      <td>G</td>\n",
       "      <td>G</td>\n",
       "    </tr>\n",
       "    <tr>\n",
       "      <th>2</th>\n",
       "      <td>4</td>\n",
       "      <td>186</td>\n",
       "      <td>consensus</td>\n",
       "      <td>consensus</td>\n",
       "      <td>consensus</td>\n",
       "      <td>consensus</td>\n",
       "      <td>consensus</td>\n",
       "      <td>-</td>\n",
       "      <td>consensus</td>\n",
       "      <td>-</td>\n",
       "      <td>...</td>\n",
       "      <td>consensus</td>\n",
       "      <td>consensus</td>\n",
       "      <td>consensus</td>\n",
       "      <td>consensus</td>\n",
       "      <td>consensus</td>\n",
       "      <td>consensus</td>\n",
       "      <td>consensus</td>\n",
       "      <td>consensus</td>\n",
       "      <td>consensus</td>\n",
       "      <td>consensus</td>\n",
       "    </tr>\n",
       "    <tr>\n",
       "      <th>3</th>\n",
       "      <td>7</td>\n",
       "      <td>195</td>\n",
       "      <td>GA/GG/TA/TG</td>\n",
       "      <td>GA/GG/TA/TG</td>\n",
       "      <td>GA/GG/TA/TG</td>\n",
       "      <td>GA/GG/TA/TG</td>\n",
       "      <td>GA/TA</td>\n",
       "      <td>GA/TA</td>\n",
       "      <td>GA/GG/TA</td>\n",
       "      <td>GA/GG/TA/TG</td>\n",
       "      <td>...</td>\n",
       "      <td>GG/TA</td>\n",
       "      <td>GA/TA</td>\n",
       "      <td>GA/TA</td>\n",
       "      <td>GA/TA</td>\n",
       "      <td>GA/TA</td>\n",
       "      <td>GA/GG/TA</td>\n",
       "      <td>GG/TA</td>\n",
       "      <td>GA/TA</td>\n",
       "      <td>GA/GG/TA/TG</td>\n",
       "      <td>GA/TA</td>\n",
       "    </tr>\n",
       "    <tr>\n",
       "      <th>4</th>\n",
       "      <td>9</td>\n",
       "      <td>190</td>\n",
       "      <td>A/C</td>\n",
       "      <td>C</td>\n",
       "      <td>A/C</td>\n",
       "      <td>C</td>\n",
       "      <td>A/C</td>\n",
       "      <td>C</td>\n",
       "      <td>A</td>\n",
       "      <td>C</td>\n",
       "      <td>...</td>\n",
       "      <td>C</td>\n",
       "      <td>A</td>\n",
       "      <td>A</td>\n",
       "      <td>A/C</td>\n",
       "      <td>A</td>\n",
       "      <td>A</td>\n",
       "      <td>C</td>\n",
       "      <td>A/C</td>\n",
       "      <td>A</td>\n",
       "      <td>-</td>\n",
       "    </tr>\n",
       "  </tbody>\n",
       "</table>\n",
       "<p>5 rows × 202 columns</p>\n",
       "</div>"
      ],
      "text/plain": [
       "   Catalog ID  Cnt CMHAMM10_0002 CMHAMM10_0005 CMHAMM10_0008 CMHAMM10_0011  \\\n",
       "0           1  194         GG/TA         GG/TA         GG/TA         GG/TA   \n",
       "1           2  185           A/G             G             G             G   \n",
       "2           4  186     consensus     consensus     consensus     consensus   \n",
       "3           7  195   GA/GG/TA/TG   GA/GG/TA/TG   GA/GG/TA/TG   GA/GG/TA/TG   \n",
       "4           9  190           A/C             C           A/C             C   \n",
       "\n",
       "  CMHAMM10_0012 CMHAMM10_0014 CMHAMM10_0015 CMHAMM10_0016     ...      \\\n",
       "0         GG/TA         GG/TA         GG/TA         GG/TA     ...       \n",
       "1             G             -             -           A/G     ...       \n",
       "2     consensus             -     consensus             -     ...       \n",
       "3         GA/TA         GA/TA      GA/GG/TA   GA/GG/TA/TG     ...       \n",
       "4           A/C             C             A             C     ...       \n",
       "\n",
       "  CMUW10_0003 CMUW10_0004 CMUW10_0007 CMUW10_0008 CMUW10_0009 CMUW10_0010  \\\n",
       "0       GG/TA          TA       GG/TA       GG/TA          TA          TA   \n",
       "1         A/G           G           G         A/G           G           G   \n",
       "2   consensus   consensus   consensus   consensus   consensus   consensus   \n",
       "3       GG/TA       GA/TA       GA/TA       GA/TA       GA/TA    GA/GG/TA   \n",
       "4           C           A           A         A/C           A           A   \n",
       "\n",
       "  CMUW10_0011 CMUW10_0012  CMUW10_0015 CMUW10_0016  \n",
       "0          TA       GG/TA        GG/TA       GG/TA  \n",
       "1           G         A/G            G           G  \n",
       "2   consensus   consensus    consensus   consensus  \n",
       "3       GG/TA       GA/TA  GA/GG/TA/TG       GA/TA  \n",
       "4           C         A/C            A           -  \n",
       "\n",
       "[5 rows x 202 columns]"
      ]
     },
     "execution_count": 2,
     "metadata": {},
     "output_type": "execute_result"
    }
   ],
   "source": [
    "haplotypes = pd.read_csv('/media/Shared/Data/chum/populations/pstacks/batch_4/batch_4.haplotypes.tsv', sep = '\\t')\n",
    "haplotypes.head()"
   ]
  },
  {
   "cell_type": "code",
   "execution_count": 3,
   "metadata": {
    "collapsed": false
   },
   "outputs": [
    {
     "data": {
      "text/html": [
       "<div>\n",
       "<table border=\"1\" class=\"dataframe\">\n",
       "  <thead>\n",
       "    <tr style=\"text-align: right;\">\n",
       "      <th></th>\n",
       "      <th>CMHAMM10_0002</th>\n",
       "      <th>CMHAMM10_0005</th>\n",
       "      <th>CMHAMM10_0008</th>\n",
       "      <th>CMHAMM10_0011</th>\n",
       "      <th>CMHAMM10_0012</th>\n",
       "      <th>CMHAMM10_0014</th>\n",
       "      <th>CMHAMM10_0015</th>\n",
       "      <th>CMHAMM10_0016</th>\n",
       "      <th>CMHAMM10_0017</th>\n",
       "      <th>CMHAMM10_0018</th>\n",
       "      <th>...</th>\n",
       "      <th>CMUW10_0003</th>\n",
       "      <th>CMUW10_0004</th>\n",
       "      <th>CMUW10_0007</th>\n",
       "      <th>CMUW10_0008</th>\n",
       "      <th>CMUW10_0009</th>\n",
       "      <th>CMUW10_0010</th>\n",
       "      <th>CMUW10_0011</th>\n",
       "      <th>CMUW10_0012</th>\n",
       "      <th>CMUW10_0015</th>\n",
       "      <th>CMUW10_0016</th>\n",
       "    </tr>\n",
       "    <tr>\n",
       "      <th>Catalog ID</th>\n",
       "      <th></th>\n",
       "      <th></th>\n",
       "      <th></th>\n",
       "      <th></th>\n",
       "      <th></th>\n",
       "      <th></th>\n",
       "      <th></th>\n",
       "      <th></th>\n",
       "      <th></th>\n",
       "      <th></th>\n",
       "      <th></th>\n",
       "      <th></th>\n",
       "      <th></th>\n",
       "      <th></th>\n",
       "      <th></th>\n",
       "      <th></th>\n",
       "      <th></th>\n",
       "      <th></th>\n",
       "      <th></th>\n",
       "      <th></th>\n",
       "      <th></th>\n",
       "    </tr>\n",
       "  </thead>\n",
       "  <tbody>\n",
       "    <tr>\n",
       "      <th>1</th>\n",
       "      <td>GG/TA</td>\n",
       "      <td>GG/TA</td>\n",
       "      <td>GG/TA</td>\n",
       "      <td>GG/TA</td>\n",
       "      <td>GG/TA</td>\n",
       "      <td>GG/TA</td>\n",
       "      <td>GG/TA</td>\n",
       "      <td>GG/TA</td>\n",
       "      <td>GG/TA</td>\n",
       "      <td>GG/TA</td>\n",
       "      <td>...</td>\n",
       "      <td>GG/TA</td>\n",
       "      <td>TA</td>\n",
       "      <td>GG/TA</td>\n",
       "      <td>GG/TA</td>\n",
       "      <td>TA</td>\n",
       "      <td>TA</td>\n",
       "      <td>TA</td>\n",
       "      <td>GG/TA</td>\n",
       "      <td>GG/TA</td>\n",
       "      <td>GG/TA</td>\n",
       "    </tr>\n",
       "    <tr>\n",
       "      <th>2</th>\n",
       "      <td>A/G</td>\n",
       "      <td>G</td>\n",
       "      <td>G</td>\n",
       "      <td>G</td>\n",
       "      <td>G</td>\n",
       "      <td>-</td>\n",
       "      <td>-</td>\n",
       "      <td>A/G</td>\n",
       "      <td>G</td>\n",
       "      <td>G</td>\n",
       "      <td>...</td>\n",
       "      <td>A/G</td>\n",
       "      <td>G</td>\n",
       "      <td>G</td>\n",
       "      <td>A/G</td>\n",
       "      <td>G</td>\n",
       "      <td>G</td>\n",
       "      <td>G</td>\n",
       "      <td>A/G</td>\n",
       "      <td>G</td>\n",
       "      <td>G</td>\n",
       "    </tr>\n",
       "    <tr>\n",
       "      <th>4</th>\n",
       "      <td>consensus</td>\n",
       "      <td>consensus</td>\n",
       "      <td>consensus</td>\n",
       "      <td>consensus</td>\n",
       "      <td>consensus</td>\n",
       "      <td>-</td>\n",
       "      <td>consensus</td>\n",
       "      <td>-</td>\n",
       "      <td>consensus</td>\n",
       "      <td>consensus</td>\n",
       "      <td>...</td>\n",
       "      <td>consensus</td>\n",
       "      <td>consensus</td>\n",
       "      <td>consensus</td>\n",
       "      <td>consensus</td>\n",
       "      <td>consensus</td>\n",
       "      <td>consensus</td>\n",
       "      <td>consensus</td>\n",
       "      <td>consensus</td>\n",
       "      <td>consensus</td>\n",
       "      <td>consensus</td>\n",
       "    </tr>\n",
       "    <tr>\n",
       "      <th>7</th>\n",
       "      <td>GA/GG/TA/TG</td>\n",
       "      <td>GA/GG/TA/TG</td>\n",
       "      <td>GA/GG/TA/TG</td>\n",
       "      <td>GA/GG/TA/TG</td>\n",
       "      <td>GA/TA</td>\n",
       "      <td>GA/TA</td>\n",
       "      <td>GA/GG/TA</td>\n",
       "      <td>GA/GG/TA/TG</td>\n",
       "      <td>GA/TA</td>\n",
       "      <td>GA/TA</td>\n",
       "      <td>...</td>\n",
       "      <td>GG/TA</td>\n",
       "      <td>GA/TA</td>\n",
       "      <td>GA/TA</td>\n",
       "      <td>GA/TA</td>\n",
       "      <td>GA/TA</td>\n",
       "      <td>GA/GG/TA</td>\n",
       "      <td>GG/TA</td>\n",
       "      <td>GA/TA</td>\n",
       "      <td>GA/GG/TA/TG</td>\n",
       "      <td>GA/TA</td>\n",
       "    </tr>\n",
       "    <tr>\n",
       "      <th>9</th>\n",
       "      <td>A/C</td>\n",
       "      <td>C</td>\n",
       "      <td>A/C</td>\n",
       "      <td>C</td>\n",
       "      <td>A/C</td>\n",
       "      <td>C</td>\n",
       "      <td>A</td>\n",
       "      <td>C</td>\n",
       "      <td>C</td>\n",
       "      <td>C</td>\n",
       "      <td>...</td>\n",
       "      <td>C</td>\n",
       "      <td>A</td>\n",
       "      <td>A</td>\n",
       "      <td>A/C</td>\n",
       "      <td>A</td>\n",
       "      <td>A</td>\n",
       "      <td>C</td>\n",
       "      <td>A/C</td>\n",
       "      <td>A</td>\n",
       "      <td>-</td>\n",
       "    </tr>\n",
       "  </tbody>\n",
       "</table>\n",
       "<p>5 rows × 200 columns</p>\n",
       "</div>"
      ],
      "text/plain": [
       "           CMHAMM10_0002 CMHAMM10_0005 CMHAMM10_0008 CMHAMM10_0011  \\\n",
       "Catalog ID                                                           \n",
       "1                  GG/TA         GG/TA         GG/TA         GG/TA   \n",
       "2                    A/G             G             G             G   \n",
       "4              consensus     consensus     consensus     consensus   \n",
       "7            GA/GG/TA/TG   GA/GG/TA/TG   GA/GG/TA/TG   GA/GG/TA/TG   \n",
       "9                    A/C             C           A/C             C   \n",
       "\n",
       "           CMHAMM10_0012 CMHAMM10_0014 CMHAMM10_0015 CMHAMM10_0016  \\\n",
       "Catalog ID                                                           \n",
       "1                  GG/TA         GG/TA         GG/TA         GG/TA   \n",
       "2                      G             -             -           A/G   \n",
       "4              consensus             -     consensus             -   \n",
       "7                  GA/TA         GA/TA      GA/GG/TA   GA/GG/TA/TG   \n",
       "9                    A/C             C             A             C   \n",
       "\n",
       "           CMHAMM10_0017 CMHAMM10_0018     ...     CMUW10_0003 CMUW10_0004  \\\n",
       "Catalog ID                                 ...                               \n",
       "1                  GG/TA         GG/TA     ...           GG/TA          TA   \n",
       "2                      G             G     ...             A/G           G   \n",
       "4              consensus     consensus     ...       consensus   consensus   \n",
       "7                  GA/TA         GA/TA     ...           GG/TA       GA/TA   \n",
       "9                      C             C     ...               C           A   \n",
       "\n",
       "           CMUW10_0007 CMUW10_0008 CMUW10_0009 CMUW10_0010 CMUW10_0011  \\\n",
       "Catalog ID                                                               \n",
       "1                GG/TA       GG/TA          TA          TA          TA   \n",
       "2                    G         A/G           G           G           G   \n",
       "4            consensus   consensus   consensus   consensus   consensus   \n",
       "7                GA/TA       GA/TA       GA/TA    GA/GG/TA       GG/TA   \n",
       "9                    A         A/C           A           A           C   \n",
       "\n",
       "           CMUW10_0012  CMUW10_0015 CMUW10_0016  \n",
       "Catalog ID                                       \n",
       "1                GG/TA        GG/TA       GG/TA  \n",
       "2                  A/G            G           G  \n",
       "4            consensus    consensus   consensus  \n",
       "7                GA/TA  GA/GG/TA/TG       GA/TA  \n",
       "9                  A/C            A           -  \n",
       "\n",
       "[5 rows x 200 columns]"
      ]
     },
     "execution_count": 3,
     "metadata": {},
     "output_type": "execute_result"
    }
   ],
   "source": [
    "haplotypes = haplotypes.set_index('Catalog ID')\n",
    "haplotypes = haplotypes.drop('Cnt', axis =1 )\n",
    "haplotypes.head()"
   ]
  },
  {
   "cell_type": "code",
   "execution_count": 4,
   "metadata": {
    "collapsed": false
   },
   "outputs": [
    {
     "data": {
      "text/html": [
       "<div>\n",
       "<table border=\"1\" class=\"dataframe\">\n",
       "  <thead>\n",
       "    <tr style=\"text-align: right;\">\n",
       "      <th></th>\n",
       "      <th>CMHAMM10_0002</th>\n",
       "      <th>CMHAMM10_0005</th>\n",
       "      <th>CMHAMM10_0008</th>\n",
       "      <th>CMHAMM10_0011</th>\n",
       "      <th>CMHAMM10_0012</th>\n",
       "      <th>CMHAMM10_0014</th>\n",
       "      <th>CMHAMM10_0015</th>\n",
       "      <th>CMHAMM10_0016</th>\n",
       "      <th>CMHAMM10_0017</th>\n",
       "      <th>CMHAMM10_0018</th>\n",
       "      <th>...</th>\n",
       "      <th>CMUW10_0003</th>\n",
       "      <th>CMUW10_0004</th>\n",
       "      <th>CMUW10_0007</th>\n",
       "      <th>CMUW10_0008</th>\n",
       "      <th>CMUW10_0009</th>\n",
       "      <th>CMUW10_0010</th>\n",
       "      <th>CMUW10_0011</th>\n",
       "      <th>CMUW10_0012</th>\n",
       "      <th>CMUW10_0015</th>\n",
       "      <th>CMUW10_0016</th>\n",
       "    </tr>\n",
       "    <tr>\n",
       "      <th>Catalog ID</th>\n",
       "      <th></th>\n",
       "      <th></th>\n",
       "      <th></th>\n",
       "      <th></th>\n",
       "      <th></th>\n",
       "      <th></th>\n",
       "      <th></th>\n",
       "      <th></th>\n",
       "      <th></th>\n",
       "      <th></th>\n",
       "      <th></th>\n",
       "      <th></th>\n",
       "      <th></th>\n",
       "      <th></th>\n",
       "      <th></th>\n",
       "      <th></th>\n",
       "      <th></th>\n",
       "      <th></th>\n",
       "      <th></th>\n",
       "      <th></th>\n",
       "      <th></th>\n",
       "    </tr>\n",
       "  </thead>\n",
       "  <tbody>\n",
       "    <tr>\n",
       "      <th>1</th>\n",
       "      <td>GG/TA</td>\n",
       "      <td>GG/TA</td>\n",
       "      <td>GG/TA</td>\n",
       "      <td>GG/TA</td>\n",
       "      <td>GG/TA</td>\n",
       "      <td>GG/TA</td>\n",
       "      <td>GG/TA</td>\n",
       "      <td>GG/TA</td>\n",
       "      <td>GG/TA</td>\n",
       "      <td>GG/TA</td>\n",
       "      <td>...</td>\n",
       "      <td>GG/TA</td>\n",
       "      <td>TA</td>\n",
       "      <td>GG/TA</td>\n",
       "      <td>GG/TA</td>\n",
       "      <td>TA</td>\n",
       "      <td>TA</td>\n",
       "      <td>TA</td>\n",
       "      <td>GG/TA</td>\n",
       "      <td>GG/TA</td>\n",
       "      <td>GG/TA</td>\n",
       "    </tr>\n",
       "    <tr>\n",
       "      <th>2</th>\n",
       "      <td>A/G</td>\n",
       "      <td>G</td>\n",
       "      <td>G</td>\n",
       "      <td>G</td>\n",
       "      <td>G</td>\n",
       "      <td>NaN</td>\n",
       "      <td>NaN</td>\n",
       "      <td>A/G</td>\n",
       "      <td>G</td>\n",
       "      <td>G</td>\n",
       "      <td>...</td>\n",
       "      <td>A/G</td>\n",
       "      <td>G</td>\n",
       "      <td>G</td>\n",
       "      <td>A/G</td>\n",
       "      <td>G</td>\n",
       "      <td>G</td>\n",
       "      <td>G</td>\n",
       "      <td>A/G</td>\n",
       "      <td>G</td>\n",
       "      <td>G</td>\n",
       "    </tr>\n",
       "    <tr>\n",
       "      <th>4</th>\n",
       "      <td>A</td>\n",
       "      <td>A</td>\n",
       "      <td>A</td>\n",
       "      <td>A</td>\n",
       "      <td>A</td>\n",
       "      <td>NaN</td>\n",
       "      <td>A</td>\n",
       "      <td>NaN</td>\n",
       "      <td>A</td>\n",
       "      <td>A</td>\n",
       "      <td>...</td>\n",
       "      <td>A</td>\n",
       "      <td>A</td>\n",
       "      <td>A</td>\n",
       "      <td>A</td>\n",
       "      <td>A</td>\n",
       "      <td>A</td>\n",
       "      <td>A</td>\n",
       "      <td>A</td>\n",
       "      <td>A</td>\n",
       "      <td>A</td>\n",
       "    </tr>\n",
       "    <tr>\n",
       "      <th>7</th>\n",
       "      <td>GA/GG/TA/TG</td>\n",
       "      <td>GA/GG/TA/TG</td>\n",
       "      <td>GA/GG/TA/TG</td>\n",
       "      <td>GA/GG/TA/TG</td>\n",
       "      <td>GA/TA</td>\n",
       "      <td>GA/TA</td>\n",
       "      <td>GA/GG/TA</td>\n",
       "      <td>GA/GG/TA/TG</td>\n",
       "      <td>GA/TA</td>\n",
       "      <td>GA/TA</td>\n",
       "      <td>...</td>\n",
       "      <td>GG/TA</td>\n",
       "      <td>GA/TA</td>\n",
       "      <td>GA/TA</td>\n",
       "      <td>GA/TA</td>\n",
       "      <td>GA/TA</td>\n",
       "      <td>GA/GG/TA</td>\n",
       "      <td>GG/TA</td>\n",
       "      <td>GA/TA</td>\n",
       "      <td>GA/GG/TA/TG</td>\n",
       "      <td>GA/TA</td>\n",
       "    </tr>\n",
       "    <tr>\n",
       "      <th>9</th>\n",
       "      <td>A/C</td>\n",
       "      <td>C</td>\n",
       "      <td>A/C</td>\n",
       "      <td>C</td>\n",
       "      <td>A/C</td>\n",
       "      <td>C</td>\n",
       "      <td>A</td>\n",
       "      <td>C</td>\n",
       "      <td>C</td>\n",
       "      <td>C</td>\n",
       "      <td>...</td>\n",
       "      <td>C</td>\n",
       "      <td>A</td>\n",
       "      <td>A</td>\n",
       "      <td>A/C</td>\n",
       "      <td>A</td>\n",
       "      <td>A</td>\n",
       "      <td>C</td>\n",
       "      <td>A/C</td>\n",
       "      <td>A</td>\n",
       "      <td>NaN</td>\n",
       "    </tr>\n",
       "  </tbody>\n",
       "</table>\n",
       "<p>5 rows × 200 columns</p>\n",
       "</div>"
      ],
      "text/plain": [
       "           CMHAMM10_0002 CMHAMM10_0005 CMHAMM10_0008 CMHAMM10_0011  \\\n",
       "Catalog ID                                                           \n",
       "1                  GG/TA         GG/TA         GG/TA         GG/TA   \n",
       "2                    A/G             G             G             G   \n",
       "4                      A             A             A             A   \n",
       "7            GA/GG/TA/TG   GA/GG/TA/TG   GA/GG/TA/TG   GA/GG/TA/TG   \n",
       "9                    A/C             C           A/C             C   \n",
       "\n",
       "           CMHAMM10_0012 CMHAMM10_0014 CMHAMM10_0015 CMHAMM10_0016  \\\n",
       "Catalog ID                                                           \n",
       "1                  GG/TA         GG/TA         GG/TA         GG/TA   \n",
       "2                      G           NaN           NaN           A/G   \n",
       "4                      A           NaN             A           NaN   \n",
       "7                  GA/TA         GA/TA      GA/GG/TA   GA/GG/TA/TG   \n",
       "9                    A/C             C             A             C   \n",
       "\n",
       "           CMHAMM10_0017 CMHAMM10_0018     ...     CMUW10_0003 CMUW10_0004  \\\n",
       "Catalog ID                                 ...                               \n",
       "1                  GG/TA         GG/TA     ...           GG/TA          TA   \n",
       "2                      G             G     ...             A/G           G   \n",
       "4                      A             A     ...               A           A   \n",
       "7                  GA/TA         GA/TA     ...           GG/TA       GA/TA   \n",
       "9                      C             C     ...               C           A   \n",
       "\n",
       "           CMUW10_0007 CMUW10_0008 CMUW10_0009 CMUW10_0010 CMUW10_0011  \\\n",
       "Catalog ID                                                               \n",
       "1                GG/TA       GG/TA          TA          TA          TA   \n",
       "2                    G         A/G           G           G           G   \n",
       "4                    A           A           A           A           A   \n",
       "7                GA/TA       GA/TA       GA/TA    GA/GG/TA       GG/TA   \n",
       "9                    A         A/C           A           A           C   \n",
       "\n",
       "           CMUW10_0012  CMUW10_0015 CMUW10_0016  \n",
       "Catalog ID                                       \n",
       "1                GG/TA        GG/TA       GG/TA  \n",
       "2                  A/G            G           G  \n",
       "4                    A            A           A  \n",
       "7                GA/TA  GA/GG/TA/TG       GA/TA  \n",
       "9                  A/C            A         NaN  \n",
       "\n",
       "[5 rows x 200 columns]"
      ]
     },
     "execution_count": 4,
     "metadata": {},
     "output_type": "execute_result"
    }
   ],
   "source": [
    "haplotypes = haplotypes.replace({'consensus':'A', '-':np.NaN})\n",
    "haplotypes = haplotypes.dropna(how = 'all')\n",
    "haplotypes.head()"
   ]
  },
  {
   "cell_type": "code",
   "execution_count": 5,
   "metadata": {
    "collapsed": false
   },
   "outputs": [
    {
     "data": {
      "text/plain": [
       "(29131, 200)"
      ]
     },
     "execution_count": 5,
     "metadata": {},
     "output_type": "execute_result"
    }
   ],
   "source": [
    "haplotypes.shape"
   ]
  },
  {
   "cell_type": "markdown",
   "metadata": {},
   "source": [
    "## from each sample, generate two sequences per locus\n",
    "    - 1,2,3,4 are variable nuceotides (substituted in below)\n",
    "\n",
    "    - 9's are invariate positions\n",
    "\n",
    "    - 0's are missing data"
   ]
  },
  {
   "cell_type": "code",
   "execution_count": 6,
   "metadata": {
    "collapsed": false
   },
   "outputs": [],
   "source": [
    "chromosomes = []\n",
    "for catid, haps in haplotypes.iterrows():\n",
    "    chrs = []\n",
    "    for hap_call in haps:\n",
    "        # get chr1       \n",
    "        try:\n",
    "            hap1 = hap_call.split('/')[0]\n",
    "            var_sites = len(hap1)\n",
    "            chrs.append(hap1 + '9'*(94-var_sites))\n",
    "        except AttributeError:\n",
    "            chrs.append('0'*94)\n",
    "        # get chr2\n",
    "        try:\n",
    "            hap2 = hap_call.split('/')[1]\n",
    "            chrs.append(hap2 + '9'*(94-var_sites))\n",
    "        except AttributeError:\n",
    "            chrs.append('0'*94)\n",
    "        except IndexError: # homozygous\n",
    "            hap2 = hap_call.split('/')[0]\n",
    "            chrs.append(hap2 + '9'*(94-var_sites))\n",
    "    chromosomes.append(chrs)"
   ]
  },
  {
   "cell_type": "code",
   "execution_count": 7,
   "metadata": {
    "collapsed": false
   },
   "outputs": [
    {
     "data": {
      "text/plain": [
       "(29131, 400)"
      ]
     },
     "execution_count": 7,
     "metadata": {},
     "output_type": "execute_result"
    }
   ],
   "source": [
    "pd.DataFrame(chromosomes).shape"
   ]
  },
  {
   "cell_type": "code",
   "execution_count": 8,
   "metadata": {
    "collapsed": false
   },
   "outputs": [
    {
     "data": {
      "text/plain": [
       "(400, 29131)"
      ]
     },
     "execution_count": 8,
     "metadata": {},
     "output_type": "execute_result"
    }
   ],
   "source": [
    "hap_df = pd.DataFrame(chromosomes).T\n",
    "hap_df.shape"
   ]
  },
  {
   "cell_type": "markdown",
   "metadata": {},
   "source": [
    "# Calculate pi\n",
    "as the jaccard similary of sequences:\n",
    "\n",
    "\"Jaccard distance between the points. Given two vectors, u and v, the Jaccard distance is the proportion of those elements u[i] and v[i] that disagree where at least one of them is non-zero.\"\n",
    "\n",
    "[http://docs.scipy.org/doc/scipy-0.16.0/reference/generated/scipy.spatial.distance.pdist.html]"
   ]
  },
  {
   "cell_type": "markdown",
   "metadata": {},
   "source": [
    "#### Per locus I produce a distance matrix of pairwise nucleotide difference between chromosomes, somw within population and some between.\n",
    "\n",
    "#### Different subsets of this distance matrix show within and between population comparisons."
   ]
  },
  {
   "cell_type": "markdown",
   "metadata": {},
   "source": [
    "## Still need one more dimension - break up each locus into sites"
   ]
  },
  {
   "cell_type": "code",
   "execution_count": 10,
   "metadata": {
    "collapsed": false
   },
   "outputs": [],
   "source": [
    "Pi_of_locus = dict()\n",
    "for locus in hap_df.columns:\n",
    "    myseqs = []\n",
    "    for x in hap_df[locus].values.tolist():\n",
    "        try:\n",
    "            myseqs.append(list(x))\n",
    "        except TypeError:\n",
    "            myseqs.append([np.NaN]*94)\n",
    "    myseqs = pd.DataFrame(myseqs)\n",
    "    myseqs = myseqs.replace({'A':1, 'C':2, 'G':3, 'T':4})\n",
    "    pdist_mat = scipy.spatial.distance.squareform(scipy.spatial.distance.pdist(myseqs, 'jaccard'))\n",
    "    ## found values of 1 to be from comparing missing values to anything non-missing - remove\n",
    "    pdist_mat = pd.DataFrame(pdist_mat).replace({1:np.NaN})\n",
    "    ## remove chomosomes with mostly missing values \n",
    "    pdist_mat = pdist_mat.dropna(thresh = 50, axis = 0)\n",
    "    pdist_mat = pdist_mat.dropna(thresh = 50, axis = 1)\n",
    "    # mean calulated without zeros as self-compairisons    \n",
    "    Pi_of_locus[locus] = np.nanmean(scipy.spatial.distance.squareform(pdist_mat))"
   ]
  },
  {
   "cell_type": "code",
   "execution_count": 11,
   "metadata": {
    "collapsed": false
   },
   "outputs": [
    {
     "data": {
      "text/plain": [
       "<matplotlib.axes._subplots.AxesSubplot at 0x7ffb36ca2b90>"
      ]
     },
     "execution_count": 11,
     "metadata": {},
     "output_type": "execute_result"
    },
    {
     "data": {
      "image/png": "[encoded data removed]",
      "text/plain": [
       "<matplotlib.figure.Figure at 0x7ffb771ab410>"
      ]
     },
     "metadata": {},
     "output_type": "display_data"
    }
   ],
   "source": [
    "sns.distplot(Pi_of_locus.values())"
   ]
  },
  {
   "cell_type": "code",
   "execution_count": null,
   "metadata": {
    "collapsed": true
   },
   "outputs": [],
   "source": [
    "assert False"
   ]
  },
  {
   "cell_type": "code",
   "execution_count": null,
   "metadata": {
    "collapsed": true
   },
   "outputs": [],
   "source": []
  },
  {
   "cell_type": "code",
   "execution_count": null,
   "metadata": {
    "collapsed": true
   },
   "outputs": [],
   "source": []
  },
  {
   "cell_type": "code",
   "execution_count": null,
   "metadata": {
    "collapsed": false
   },
   "outputs": [],
   "source": [
    "myseqs = []\n",
    "for x in hap_df[1].values.tolist():\n",
    "    try:\n",
    "        myseqs.append(list(x))\n",
    "    except TypeError:\n",
    "        myseqs.append([np.NaN]*94)"
   ]
  },
  {
   "cell_type": "code",
   "execution_count": null,
   "metadata": {
    "collapsed": false
   },
   "outputs": [],
   "source": [
    "myseqs = pd.DataFrame(myseqs)\n",
    "myseqs = myseqs.replace({'A':1, 'C':2, 'G':3, 'T':4})\n",
    "myseqs.head()"
   ]
  },
  {
   "cell_type": "code",
   "execution_count": null,
   "metadata": {
    "collapsed": true
   },
   "outputs": [],
   "source": [
    "## jaccard distance will all missing values for one array is 1"
   ]
  },
  {
   "cell_type": "code",
   "execution_count": null,
   "metadata": {
    "collapsed": false
   },
   "outputs": [],
   "source": [
    "scipy.spatial.distance.jaccard(myseqs.ix[22].values, myseqs.ix[20].values)"
   ]
  },
  {
   "cell_type": "code",
   "execution_count": null,
   "metadata": {
    "collapsed": false
   },
   "outputs": [],
   "source": [
    "myseqs.ix[22].values, myseqs.ix[21].values"
   ]
  },
  {
   "cell_type": "code",
   "execution_count": null,
   "metadata": {
    "collapsed": false
   },
   "outputs": [],
   "source": [
    "pdist_mat = scipy.spatial.distance.squareform(scipy.spatial.distance.pdist(myseqs, 'jaccard'))\n",
    "pdist_mat = pd.DataFrame(pdist_mat).replace({1:np.NaN})\n",
    "pdist_mat = pdist_mat.dropna(thresh = 50, axis = 0)\n",
    "pdist_mat = pdist_mat.dropna(thresh = 50, axis = 1)\n",
    "pdist_mat.head()"
   ]
  },
  {
   "cell_type": "code",
   "execution_count": null,
   "metadata": {
    "collapsed": false
   },
   "outputs": [],
   "source": [
    "print 'mean', np.nanmean(scipy.spatial.distance.squareform(pdist_mat)) # mean calulated without zeros as self-compairisons"
   ]
  },
  {
   "cell_type": "code",
   "execution_count": null,
   "metadata": {
    "collapsed": false
   },
   "outputs": [],
   "source": [
    "scipy.spatial.distance.squareform(pdist_mat)"
   ]
  },
  {
   "cell_type": "code",
   "execution_count": null,
   "metadata": {
    "collapsed": false
   },
   "outputs": [],
   "source": [
    "figsize(12,12)\n",
    "sns.clustermap(pdist_mat, square=True, linewidths=0)"
   ]
  },
  {
   "cell_type": "code",
   "execution_count": null,
   "metadata": {
    "collapsed": true
   },
   "outputs": [],
   "source": []
  },
  {
   "cell_type": "code",
   "execution_count": null,
   "metadata": {
    "collapsed": true
   },
   "outputs": [],
   "source": []
  },
  {
   "cell_type": "code",
   "execution_count": null,
   "metadata": {
    "collapsed": true
   },
   "outputs": [],
   "source": []
  },
  {
   "cell_type": "code",
   "execution_count": null,
   "metadata": {
    "collapsed": false
   },
   "outputs": [],
   "source": [
    "[x for x in 'GGXXXXXXXXXXXXXXXXX']\n",
    "[x for x in np.NaN]"
   ]
  },
  {
   "cell_type": "code",
   "execution_count": null,
   "metadata": {
    "collapsed": false
   },
   "outputs": [],
   "source": [
    "## Generate random sequences\n",
    "NUCLEOTIDES = '11111111111111111111111111111111111111111111111111111234'\n",
    "NUCLEOTIDES = np.array([x for x in NUCLEOTIDES])\n",
    "SEQ_LEN = 100\n",
    "NUM_SEQ = 10\n",
    "\n",
    "randseqs = np.random.choice(NUCLEOTIDES, size = (NUM_SEQ, SEQ_LEN), replace = True)\n",
    "pd.DataFrame(randseqs)"
   ]
  },
  {
   "cell_type": "markdown",
   "metadata": {},
   "source": [
    "normalized Hamming distance"
   ]
  },
  {
   "cell_type": "code",
   "execution_count": null,
   "metadata": {
    "collapsed": false
   },
   "outputs": [],
   "source": [
    "print 'mean', scipy.spatial.distance.pdist(randseqs, 'hamming').mean() # mean calulated without zeros as self-compairisons\n",
    "scipy.spatial.distance.squareform(scipy.spatial.distance.pdist(randseqs, 'hamming')).shape"
   ]
  }
 ],
 "metadata": {
  "kernelspec": {
   "display_name": "Python 2",
   "language": "python",
   "name": "python2"
  },
  "language_info": {
   "codemirror_mode": {
    "name": "ipython",
    "version": 2
   },
   "file_extension": ".py",
   "mimetype": "text/x-python",
   "name": "python",
   "nbconvert_exporter": "python",
   "pygments_lexer": "ipython2",
   "version": "2.7.10"
  }
 },
 "nbformat": 4,
 "nbformat_minor": 0
}
