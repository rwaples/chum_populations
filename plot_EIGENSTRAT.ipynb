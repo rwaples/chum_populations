{
 "cells": [
  {
   "cell_type": "markdown",
   "metadata": {},
   "source": [
    "# EIGENSTRAT / SMARTPCA"
   ]
  },
  {
   "cell_type": "markdown",
   "metadata": {},
   "source": [
    "Goal: To examine patterns of population structure in duplicated loci."
   ]
  },
  {
   "cell_type": "markdown",
   "metadata": {},
   "source": [
    "### Take away:\n",
    "* PCAs of genetic data:\n",
    "    - full data coded as codominant genotypes (normal bi-allelic SNPs)\n",
    "    - full data coded as dominant alleles\n",
    "    - paralogs coded as dominant alleles\n",
    "\n",
    "### Programs used:\n",
    "* [EIGENSOFT](http://www.hsph.harvard.edu/alkes-price/software/) (specifically SMARTPCA)\n",
    " - Patterson N, Price AL, Reich D (2006) Population Structure and Eigenanalysis. PLoS Genet 2(12): e190. doi: 10.1371/journal.pgen.0020190"
   ]
  },
  {
   "cell_type": "markdown",
   "metadata": {},
   "source": [
    "#### Python imports"
   ]
  },
  {
   "cell_type": "code",
   "execution_count": 1,
   "metadata": {
    "collapsed": true
   },
   "outputs": [],
   "source": [
    "import os.path\n",
    "import collections\n",
    "import numpy as np\n",
    "import pandas as pd\n",
    "import random\n",
    "from IPython.core.pylabtools import figsize\n",
    "import matplotlib.pyplot as plt\n",
    "import seaborn as sns"
   ]
  },
  {
   "cell_type": "markdown",
   "metadata": {},
   "source": [
    "#### Load EIGENSTRAT results \n",
    "eigenvectors"
   ]
  },
  {
   "cell_type": "code",
   "execution_count": 2,
   "metadata": {
    "collapsed": false
   },
   "outputs": [],
   "source": [
    "def load_evecs(evec_file):\n",
    "    evecs = pd.read_csv(evec_file, sep = ' ', skipinitialspace = True)\n",
    "    evecs.columns = ['ind', 'PC1', 'PC2', 'PC3', 'PC4', 'PC5', 'PC6', 'PC7', 'PC8', 'PC9', 'PC10', 'junk']\n",
    "    evecs = evecs[['ind', 'PC1', 'PC2', 'PC3', 'PC4', 'PC5', 'PC6', 'PC7', 'PC8', 'PC9', 'PC10']]\n",
    "    evecs['POP'] = [int(xx.split(':')[0]) for xx in evecs['ind']]\n",
    "    return(evecs)"
   ]
  },
  {
   "cell_type": "code",
   "execution_count": 3,
   "metadata": {
    "collapsed": false
   },
   "outputs": [],
   "source": [
    "complete_codom_evecs = load_evecs(os.path.join('results','batch_4','EIGENSOFT','complete.codom.evec'))\n",
    "complete_dom_evecs = load_evecs(os.path.join('results','batch_4','EIGENSOFT','complete.dom.evec'))\n",
    "on_map_codom_evecs = load_evecs(os.path.join('results','batch_4','EIGENSOFT','on_map.codom.evec'))\n",
    "on_map_dom_evecs = load_evecs(os.path.join('results','batch_4','EIGENSOFT','on_map.dom.evec'))\n",
    "paralogs_dom_evecs = load_evecs(os.path.join('results','batch_4','EIGENSOFT','paralogs.dom.evec'))\n",
    "\n",
    "complete_codom_subsample_evecs = load_evecs(os.path.join('results','batch_4','EIGENSOFT','complete.codom.subsample.evec'))\n",
    "complete_dom_subsample_evecs = load_evecs(os.path.join('results','batch_4','EIGENSOFT','complete.dom.subsample.evec'))\n",
    "on_map_codom_subsample_evecs = load_evecs(os.path.join('results','batch_4','EIGENSOFT','on_map.codom.subsample.evec'))\n",
    "on_map_dom_subsample_evecs = load_evecs(os.path.join('results','batch_4','EIGENSOFT','on_map.dom.subsample.evec'))"
   ]
  },
  {
   "cell_type": "code",
   "execution_count": 4,
   "metadata": {
    "collapsed": true
   },
   "outputs": [],
   "source": [
    "def load_evals(eval_file):\n",
    "    evals = pd.read_csv(eval_file, sep = ' ', skipinitialspace = True, header = None)\n",
    "    evals['percent_explained'] = 100*evals[0]/np.sum(evals[0])\n",
    "    return(evals)"
   ]
  },
  {
   "cell_type": "code",
   "execution_count": 5,
   "metadata": {
    "collapsed": false
   },
   "outputs": [],
   "source": [
    "complete_dom_evals = load_evals(os.path.join('results','batch_4','EIGENSOFT','complete.dom.eval'))\n",
    "paralogs_dom_evals = load_evals(os.path.join('results','batch_4','EIGENSOFT','paralogs.dom.eval'))\n",
    "complete_dom_subsample_evals = load_evals(os.path.join('results','batch_4','EIGENSOFT','complete.dom.subsample.eval'))"
   ]
  },
  {
   "cell_type": "markdown",
   "metadata": {},
   "source": [
    "### Plot EIGENSOFT results"
   ]
  },
  {
   "cell_type": "markdown",
   "metadata": {},
   "source": [
    "### rotate PC1 "
   ]
  },
  {
   "cell_type": "code",
   "execution_count": 11,
   "metadata": {
    "collapsed": true
   },
   "outputs": [],
   "source": [
    "#complete_dom_subsample_evecs['PC1'] = -complete_dom_subsample_evecs['PC1']\n",
    "paralogs_dom_evecs['PC2'] = -paralogs_dom_evecs['PC2']\n"
   ]
  },
  {
   "cell_type": "markdown",
   "metadata": {},
   "source": [
    "## Fonts"
   ]
  },
  {
   "cell_type": "code",
   "execution_count": 17,
   "metadata": {
    "collapsed": false
   },
   "outputs": [],
   "source": [
    "import matplotlib as mpl\n",
    "font_paths = mpl.font_manager.findSystemFonts()\n",
    "font_objects = mpl.font_manager.createFontList(font_paths)\n",
    "font_names = [f.name for f in font_objects]\n",
    "#print font_names\n",
    "for xx in font_names:\n",
    "    if xx.startswith('Rob'):\n",
    "        pass\n",
    "        #print xx"
   ]
  },
  {
   "cell_type": "markdown",
   "metadata": {},
   "source": [
    "#### Plot formatting"
   ]
  },
  {
   "cell_type": "code",
   "execution_count": 18,
   "metadata": {
    "collapsed": true
   },
   "outputs": [],
   "source": [
    "sns.set(font=\"Roboto Slab\")\n",
    "sns.set(font_scale=2)\n",
    "#sns.set_context(\"poster\")\n",
    "sns.set_style(\"white\")\n",
    "%matplotlib inline"
   ]
  },
  {
   "cell_type": "markdown",
   "metadata": {},
   "source": [
    "#### Manually color populations "
   ]
  },
  {
   "cell_type": "code",
   "execution_count": 9,
   "metadata": {
    "collapsed": true
   },
   "outputs": [],
   "source": [
    "pop_colors = ['purply pink', 'golden', 'leaf green', 'blood', 'vomit', 'primary blue', \n",
    "              'bright sky blue', 'dark cyan', 'grey', 'red']"
   ]
  },
  {
   "cell_type": "markdown",
   "metadata": {},
   "source": [
    "## Plot"
   ]
  },
  {
   "cell_type": "code",
   "execution_count": 12,
   "metadata": {
    "collapsed": false,
    "scrolled": true
   },
   "outputs": [
    {
     "data": {
      "image/png": "[encoded data removed]",
      "text/plain": [
       "<matplotlib.figure.Figure at 0x7f2186c17110>"
      ]
     },
     "metadata": {},
     "output_type": "display_data"
    },
    {
     "data": {
      "image/png": "[encoded data removed]",
      "text/plain": [
       "<matplotlib.figure.Figure at 0x7f218cea9550>"
      ]
     },
     "metadata": {},
     "output_type": "display_data"
    },
    {
     "data": {
      "image/png": "[encoded data removed]",
      "text/plain": [
       "<matplotlib.figure.Figure at 0x7f2186c2a750>"
      ]
     },
     "metadata": {},
     "output_type": "display_data"
    }
   ],
   "source": [
    "sns.lmplot(data = complete_dom_evecs, x='PC1', y='PC2', hue = 'POP', palette=sns.xkcd_palette(pop_colors),\n",
    "           fit_reg=False, size = 7, aspect = 1.1,\n",
    "           scatter_kws={\"s\": 150., 'alpha': .8, 'edgecolor':\"black\", 'linewidths':.5}, legend = False)\n",
    "plt.xlabel('PC1: {0:.3g}%'.format(complete_dom_evals['percent_explained'][0]))\n",
    "plt.ylabel('PC2: {0:.3g}%'.format(complete_dom_evals['percent_explained'][1]))\n",
    "plt.xticks([-.2, -.1, 0, .1, .2 ])\n",
    "plt.yticks([-.1, 0, .1, .2 ])\n",
    "plt.text(-.16, .24, s = 'b', family = 'sans-serif', fontsize=60, fontweight = 'bold')\n",
    "plt.tight_layout()\n",
    "plt.savefig('/home/ipseg/Desktop/waples/chum_populations/paper/figures/PCA_b.png')\n",
    "\n",
    "\n",
    "sns.lmplot(data = paralogs_dom_evecs, x='PC1', y='PC2', hue = 'POP', palette=sns.xkcd_palette(pop_colors),\n",
    "           fit_reg=False, size = 7, aspect = 1.1, \n",
    "           scatter_kws={\"s\": 150., 'alpha': .8, 'edgecolor':\"black\", 'linewidths':.5}, legend = False)\n",
    "plt.xlabel('PC1: {0:.3g}%'.format(paralogs_dom_evals['percent_explained'][0]))\n",
    "plt.ylabel('PC2: {0:.3g}%'.format(paralogs_dom_evals['percent_explained'][1]))\n",
    "plt.xticks([-.2, -.1, 0, .1, .2 ])\n",
    "plt.yticks([-.1, 0, .1, .2 ])\n",
    "plt.text(-.16, .24, s = 'a', family = 'sans-serif', fontsize=60, fontweight = 'bold')\n",
    "plt.tight_layout()\n",
    "plt.savefig('/home/ipseg/Desktop/waples/chum_populations/paper/figures/PCA_a.png')\n",
    "\n",
    "\n",
    "sns.lmplot(data = complete_dom_subsample_evecs, x='PC1', y='PC2', hue = 'POP', palette=sns.xkcd_palette(pop_colors),\n",
    "           fit_reg=False, size = 7, aspect = 1.1, \n",
    "           scatter_kws={\"s\": 150., 'alpha': .8, 'edgecolor':\"black\", 'linewidths':.5}, legend = False)\n",
    "plt.xlabel('PC1: {0:.3g}%'.format(complete_dom_subsample_evals['percent_explained'][0]))\n",
    "plt.ylabel('PC2: {0:.3g}%'.format(complete_dom_subsample_evals['percent_explained'][1]))\n",
    "plt.xticks([-.2, -.1, 0, .1, .2 ])\n",
    "plt.yticks([-.1, 0, .1, .2 ])\n",
    "plt.text(-.16, .20, s = 'c', family = 'sans-serif', fontsize=60, fontweight = 'bold')\n",
    "plt.tight_layout()\n",
    "plt.savefig('/home/ipseg/Desktop/waples/chum_populations/paper/figures/PCA_c.png')\n",
    "\n",
    "plt.show()"
   ]
  },
  {
   "cell_type": "code",
   "execution_count": null,
   "metadata": {
    "collapsed": true
   },
   "outputs": [],
   "source": []
  },
  {
   "cell_type": "code",
   "execution_count": null,
   "metadata": {
    "collapsed": true
   },
   "outputs": [],
   "source": []
  },
  {
   "cell_type": "code",
   "execution_count": null,
   "metadata": {
    "collapsed": true
   },
   "outputs": [],
   "source": []
  },
  {
   "cell_type": "code",
   "execution_count": null,
   "metadata": {
    "collapsed": true
   },
   "outputs": [],
   "source": []
  },
  {
   "cell_type": "code",
   "execution_count": 11,
   "metadata": {
    "collapsed": false
   },
   "outputs": [
    {
     "ename": "AssertionError",
     "evalue": "",
     "output_type": "error",
     "traceback": [
      "\u001b[1;31m---------------------------------------------------------------------------\u001b[0m",
      "\u001b[1;31mAssertionError\u001b[0m                            Traceback (most recent call last)",
      "\u001b[1;32m<ipython-input-11-6e6df518a476>\u001b[0m in \u001b[0;36m<module>\u001b[1;34m()\u001b[0m\n\u001b[1;32m----> 1\u001b[1;33m \u001b[1;32massert\u001b[0m \u001b[0mFalse\u001b[0m\u001b[1;33m\u001b[0m\u001b[0m\n\u001b[0m",
      "\u001b[1;31mAssertionError\u001b[0m: "
     ]
    }
   ],
   "source": [
    "assert False"
   ]
  },
  {
   "cell_type": "code",
   "execution_count": null,
   "metadata": {
    "collapsed": true
   },
   "outputs": [],
   "source": []
  },
  {
   "cell_type": "code",
   "execution_count": null,
   "metadata": {
    "collapsed": true
   },
   "outputs": [],
   "source": []
  },
  {
   "cell_type": "markdown",
   "metadata": {},
   "source": [
    "## For paper"
   ]
  },
  {
   "cell_type": "code",
   "execution_count": null,
   "metadata": {
    "collapsed": false
   },
   "outputs": [],
   "source": [
    "def plot_evecs(data, ax1 = 'PC1', ax2 = 'PC2', title = 'untitled', figname = 'fig0.png', pop_colors = pop_colors):\n",
    "    sns.lmplot(data = data, x=ax1, y=ax2, hue = 'POP', palette=sns.xkcd_palette(pop_colors),\n",
    "           fit_reg=False, size = 7, scatter_kws={\"s\": 150., 'alpha': .6} )\n",
    "    plt.title(title)\n",
    "    sns.despine()    \n",
    "    plt.savefig('/home/ipseg/Desktop/waples/chum_populations/paper/figures/{}'.format(figname))\n",
    "    plt.show()"
   ]
  },
  {
   "cell_type": "code",
   "execution_count": null,
   "metadata": {
    "collapsed": false,
    "scrolled": false
   },
   "outputs": [],
   "source": [
    "plot_evecs(complete_codom_evecs, title ='PCA - complete - codom', figname= 'PCA_complete_codom.png')\n",
    "plot_evecs(complete_dom_evecs, title ='PCA - complete - dom', figname='PCA_complete_dom.png')\n",
    "\n",
    "plot_evecs(on_map_codom_evecs, title ='PCA - on_map - codom', figname='PCA_on_map_codom.png')\n",
    "plot_evecs(on_map_dom_evecs, title ='PCA - on_map - dom', figname='PCA_on_map_dom.png')\n",
    "\n",
    "plot_evecs(paralogs_dom_evecs, title ='PCA - paralogs', figname='PCA_paralogs.png')\n",
    "\n",
    "plot_evecs(complete_codom_subsample_evecs, title ='PCA - complete - codom - subsample', figname='PCA_complete_codom_subsample.png')\n",
    "plot_evecs(complete_dom_subsample_evecs, title ='PCA - complete - dom - subsample', figname='PCA_complete_dom_subsample.png')\n",
    "\n",
    "plot_evecs(on_map_codom_subsample_evecs, title ='PCA - on_map - codom - subsample', figname='PCA_on_map_codom_subsample.png')\n",
    "plot_evecs(on_map_dom_subsample_evecs, title ='PCA - on_map - dom - subsample', figname='PCA_on_map_dom_subsample.png')"
   ]
  },
  {
   "cell_type": "markdown",
   "metadata": {
    "collapsed": true
   },
   "source": [
    "### Scree plot of eigenvalues"
   ]
  },
  {
   "cell_type": "code",
   "execution_count": null,
   "metadata": {
    "collapsed": true
   },
   "outputs": [],
   "source": [
    "def load_evals(eval_file):\n",
    "    evals = pd.read_csv(eval_file, sep = ' ', skipinitialspace = True, header = None)\n",
    "    evals['percent_explained'] = 100*evals[0]/np.sum(evals[0])\n",
    "    return(evals)"
   ]
  },
  {
   "cell_type": "code",
   "execution_count": null,
   "metadata": {
    "collapsed": false
   },
   "outputs": [],
   "source": [
    "complete_codom_evals = load_evals(os.path.join('results','batch_4','EIGENSOFT','complete.codom.eval'))\n",
    "complete_dom_evals = load_evals(os.path.join('results','batch_4','EIGENSOFT','complete.dom.eval'))\n",
    "\n",
    "on_map_codom_evals = load_evals(os.path.join('results','batch_4','EIGENSOFT','on_map.codom.eval'))\n",
    "on_map_dom_evals = load_evals(os.path.join('results','batch_4','EIGENSOFT','on_map.dom.eval'))\n",
    "\n",
    "paralogs_dom_evals = load_evals(os.path.join('results','batch_4','EIGENSOFT','paralogs.dom.eval'))\n",
    "\n",
    "complete_codom_subsample_evals = load_evals(os.path.join('results','batch_4','EIGENSOFT','complete.codom.subsample.eval'))\n",
    "complete_dom_subsample_evals = load_evals(os.path.join('results','batch_4','EIGENSOFT','complete.dom.subsample.eval'))\n",
    "on_map_codom_subsample_evals = load_evals(os.path.join('results','batch_4','EIGENSOFT','on_map.codom.subsample.eval'))\n",
    "on_map_dom_subsample_evals = load_evals(os.path.join('results','batch_4','EIGENSOFT','on_map.dom.subsample.eval'))"
   ]
  },
  {
   "cell_type": "code",
   "execution_count": null,
   "metadata": {
    "collapsed": false
   },
   "outputs": [],
   "source": [
    "figsize(8,8)\n",
    "   \n",
    "plt.plot(complete_codom_evals['percent_explained'], label = 'complete_codom_evals', c = sns.xkcd_palette(pop_colors)[0])\n",
    "plt.plot(complete_dom_evals['percent_explained'], label = 'complete_dom_evals', c = sns.xkcd_palette(pop_colors)[1])\n",
    "plt.plot(on_map_codom_evals['percent_explained'], label = 'on_map_codom_evals', c = sns.xkcd_palette(pop_colors)[2])\n",
    "plt.plot(on_map_dom_evals['percent_explained'], label = 'on_map_dom_evals', c = sns.xkcd_palette(pop_colors)[3])\n",
    "plt.plot(paralogs_dom_evals['percent_explained'], label = 'paralogs_dom_evals', c = sns.xkcd_palette(pop_colors)[4])\n",
    "\n",
    "plt.plot(complete_codom_subsample_evals['percent_explained'], label = 'complete_codom_subsample_evals', c = sns.xkcd_palette(pop_colors)[5])\n",
    "plt.plot(complete_dom_subsample_evals['percent_explained'], label = 'complete_dom_subsample_evals', c = sns.xkcd_palette(pop_colors)[6])\n",
    "plt.plot(on_map_codom_subsample_evals['percent_explained'], label = 'on_map_codom_subsample_evals', c = sns.xkcd_palette(pop_colors)[7])\n",
    "plt.plot(on_map_dom_subsample_evals['percent_explained'], label = 'on_map_dom_subsample_evals', c = sns.xkcd_palette(pop_colors)[8])\n",
    "\n",
    "plt.xlim(-.5,7)\n",
    "plt.xticks(range(0,8), range(1,9))\n",
    "plt.legend(bbox_to_anchor=(1.05, 1), loc=2, borderaxespad=0.)\n",
    "plt.xlabel('PC axis')\n",
    "plt.ylabel('Percent explained')\n",
    "sns.despine()\n",
    "plt.savefig('/home/ipseg/Desktop/waples/chum_populations/paper/figures/supplemental/PCA_eigenvalues.png')"
   ]
  },
  {
   "cell_type": "code",
   "execution_count": null,
   "metadata": {
    "collapsed": true
   },
   "outputs": [],
   "source": []
  },
  {
   "cell_type": "code",
   "execution_count": null,
   "metadata": {
    "collapsed": true
   },
   "outputs": [],
   "source": []
  },
  {
   "cell_type": "code",
   "execution_count": null,
   "metadata": {
    "collapsed": true
   },
   "outputs": [],
   "source": []
  },
  {
   "cell_type": "code",
   "execution_count": null,
   "metadata": {
    "collapsed": true
   },
   "outputs": [],
   "source": []
  },
  {
   "cell_type": "code",
   "execution_count": null,
   "metadata": {
    "collapsed": true
   },
   "outputs": [],
   "source": []
  },
  {
   "cell_type": "markdown",
   "metadata": {},
   "source": [
    "### Plot snp weights"
   ]
  },
  {
   "cell_type": "code",
   "execution_count": null,
   "metadata": {
    "collapsed": true
   },
   "outputs": [],
   "source": [
    "def load_snpweights(snpweights_file):\n",
    "    snpweights = pd.read_csv(snpweights_file, sep = ' ', skipinitialspace = True, header = None)\n",
    "    snpweights.columns = ['locus', 'LG', 'pos'] +  ['wPC{}'.format(x) for x in range(1,11)]\n",
    "    return(snpweights)"
   ]
  },
  {
   "cell_type": "code",
   "execution_count": null,
   "metadata": {
    "collapsed": true
   },
   "outputs": [],
   "source": [
    "complete_codom_snpweights = load_snpweights(os.path.join('results','batch_4','EIGENSOFT','complete.codom.snpweights'))\n",
    "complete_dom_snpweights = load_snpweights(os.path.join('results','batch_4','EIGENSOFT','complete.dom.snpweights'))\n",
    "\n",
    "on_map_codom_snpweights = load_snpweights(os.path.join('results','batch_4','EIGENSOFT','on_map.codom.snpweights'))\n",
    "on_map_dom_snpweights = load_snpweights(os.path.join('results','batch_4','EIGENSOFT','on_map.dom.snpweights'))\n",
    "\n",
    "paralogs_dom_snpweights = load_snpweights(os.path.join('results','batch_4','EIGENSOFT','paralogs.dom.snpweights'))\n",
    "\n",
    "complete_codom_subsample_snpweights = load_snpweights(os.path.join('results','batch_4','EIGENSOFT','complete.codom.subsample.snpweights'))\n",
    "complete_dom_subsample_snpweights = load_snpweights(os.path.join('results','batch_4','EIGENSOFT','complete.dom.subsample.snpweights'))\n",
    "on_map_codom_subsample_snpweights = load_snpweights(os.path.join('results','batch_4','EIGENSOFT','on_map.codom.subsample.snpweights'))\n",
    "on_map_dom_subsample_snpweights = load_snpweights(os.path.join('results','batch_4','EIGENSOFT','on_map.dom.subsample.snpweights'))"
   ]
  },
  {
   "cell_type": "code",
   "execution_count": null,
   "metadata": {
    "collapsed": false
   },
   "outputs": [],
   "source": [
    "sns.pairplot(complete_codom_snpweights, \n",
    "             vars = ['wPC{}'.format(x) for x in range(1,7)], \n",
    "             plot_kws={'alpha':.7, 's':30, 'linewidth':0 }, diag_kind=\"hist\", markers = 'o')\n",
    "plt.show()"
   ]
  },
  {
   "cell_type": "code",
   "execution_count": null,
   "metadata": {
    "collapsed": false
   },
   "outputs": [],
   "source": [
    "sns.pairplot(complete_dom_snpweights, \n",
    "             vars = ['wPC{}'.format(x) for x in range(1,7)], \n",
    "             plot_kws={'alpha':.7, 's':30, 'linewidth':0 }, diag_kind=\"hist\", markers = 'o')\n",
    "plt.show()"
   ]
  },
  {
   "cell_type": "code",
   "execution_count": null,
   "metadata": {
    "collapsed": false
   },
   "outputs": [],
   "source": [
    "sns.pairplot(paralogs_dom_snpweights, \n",
    "             vars = ['wPC{}'.format(x) for x in range(1,7)], \n",
    "             plot_kws={'alpha':.7, 's':30, 'linewidth':0 }, diag_kind=\"hist\", markers = 'o')\n",
    "plt.show()"
   ]
  },
  {
   "cell_type": "code",
   "execution_count": null,
   "metadata": {
    "collapsed": false
   },
   "outputs": [],
   "source": [
    "sns.pairplot(on_map_codom_snpweights, \n",
    "             vars = ['wPC{}'.format(x) for x in range(1,7)], \n",
    "             plot_kws={'alpha':.5, 's':30, 'linewidth':0 }, diag_kind=\"hist\", markers = 'o')\n",
    "plt.show()"
   ]
  },
  {
   "cell_type": "code",
   "execution_count": null,
   "metadata": {
    "collapsed": false
   },
   "outputs": [],
   "source": [
    "from skbio.stats.spatial import procrustes\n",
    "help(procrustes)"
   ]
  },
  {
   "cell_type": "markdown",
   "metadata": {},
   "source": [
    "\"disparity\" is equivalent to the \"sum of squared differences between X and Yrot\" as reported by the vegan R pacakge.  Use R for a more developed method including residuals, and permutation-based significance testing."
   ]
  },
  {
   "cell_type": "code",
   "execution_count": null,
   "metadata": {
    "collapsed": false
   },
   "outputs": [],
   "source": [
    "mtx1, mtx2, disparity = procrustes(complete_dom_evecs.iloc[:,1:7], complete_codom_evecs.iloc[:,1:7])\n",
    "disparity"
   ]
  },
  {
   "cell_type": "code",
   "execution_count": null,
   "metadata": {
    "collapsed": false
   },
   "outputs": [],
   "source": [
    "mtx1, mtx2, disparity = procrustes(complete_dom_subsample_evecs.iloc[:,1:11], paralogs_dom_evecs.iloc[:,1:11])\n",
    "disparity"
   ]
  },
  {
   "cell_type": "markdown",
   "metadata": {},
   "source": [
    "### Formally test for population structure\n",
    "using the twstats program from EIGENSTRAT.\n",
    "\n",
    "This program compares the distribution of output eigenvalues to those generated by the Tracy-Widom distribution, see Patterson (2006)."
   ]
  },
  {
   "cell_type": "markdown",
   "metadata": {},
   "source": [
    "#### run twstats"
   ]
  },
  {
   "cell_type": "code",
   "execution_count": null,
   "metadata": {
    "collapsed": true
   },
   "outputs": [],
   "source": []
  },
  {
   "cell_type": "code",
   "execution_count": 6,
   "metadata": {
    "collapsed": true
   },
   "outputs": [],
   "source": [
    "! /home/ipseg/Programs/EIGENSOFT/EIG6.0.1/bin/twstats \\\n",
    "-t /home/ipseg/Programs/EIGENSOFT/EIG6.0.1/POPGEN/twtable \\\n",
    "-i /home/ipseg/Desktop/waples/chum_populations/results/batch_4/EIGENSOFT/paralogs.dom.eval \\\n",
    "-o /home/ipseg/Desktop/waples/chum_populations/results/batch_4/EIGENSOFT/paralogs.dom.tw"
   ]
  },
  {
   "cell_type": "code",
   "execution_count": 7,
   "metadata": {
    "collapsed": false
   },
   "outputs": [],
   "source": [
    "! /home/ipseg/Programs/EIGENSOFT/EIG6.0.1/bin/twstats \\\n",
    "-t /home/ipseg/Programs/EIGENSOFT/EIG6.0.1/POPGEN/twtable \\\n",
    "-i /home/ipseg/Desktop/waples/chum_populations/results/batch_4/EIGENSOFT/on_map.codom.eval \\\n",
    "-o /home/ipseg/Desktop/waples/chum_populations/results/batch_4/EIGENSOFT/on_map.codom.tw"
   ]
  },
  {
   "cell_type": "code",
   "execution_count": 8,
   "metadata": {
    "collapsed": false
   },
   "outputs": [],
   "source": [
    "!/home/ipseg/Programs/EIGENSOFT/EIG6.0.1/bin/twstats \\\n",
    "-t /home/ipseg/Programs/EIGENSOFT/EIG6.0.1/POPGEN/twtable \\\n",
    "-i /home/ipseg/Desktop/waples/chum_populations/results/batch_4/EIGENSOFT/complete.dom.eval \\\n",
    "-o /home/ipseg/Desktop/waples/chum_populations/results/batch_4/EIGENSOFT/complete.dom.tw"
   ]
  },
  {
   "cell_type": "code",
   "execution_count": 16,
   "metadata": {
    "collapsed": true
   },
   "outputs": [],
   "source": [
    "!/home/ipseg/Programs/EIGENSOFT/EIG6.0.1/bin/twstats \\\n",
    "-t /home/ipseg/Programs/EIGENSOFT/EIG6.0.1/POPGEN/twtable \\\n",
    "-i /home/ipseg/Desktop/waples/chum_populations/results/batch_4/EIGENSOFT/on_map.codom.subsample.eval \\\n",
    "-o /home/ipseg/Desktop/waples/chum_populations/results/batch_4/EIGENSOFT/on_map.codom.subsample.tw"
   ]
  },
  {
   "cell_type": "code",
   "execution_count": null,
   "metadata": {
    "collapsed": true
   },
   "outputs": [],
   "source": [
    "! /home/ipseg/Programs/EIGENSOFT/EIG6.0.1/bin/twstats \\\n",
    "-t /home/ipseg/Programs/EIGENSOFT/EIG6.0.1/POPGEN/twtable \\\n",
    "-i /home/ipseg/Desktop/waples/chum_populations/results/batch_4/EIGENSOFT/paralogs.dom.eval \\\n",
    "-o /home/ipseg/Desktop/waples/chum_populations/results/batch_4/EIGENSOFT/paralogs.dom.tw"
   ]
  },
  {
   "cell_type": "markdown",
   "metadata": {},
   "source": [
    "#### Plot Tracy-Widom stats"
   ]
  },
  {
   "cell_type": "code",
   "execution_count": 11,
   "metadata": {
    "collapsed": true
   },
   "outputs": [],
   "source": [
    "tw_onmap_codom = pd.read_csv(\n",
    "    '/home/ipseg/Desktop/waples/chum_populations/results/batch_4/EIGENSOFT/on_map.codom.tw',\n",
    "           sep = ' ', skipinitialspace = True)"
   ]
  },
  {
   "cell_type": "code",
   "execution_count": 12,
   "metadata": {
    "collapsed": true
   },
   "outputs": [],
   "source": [
    "tw_onmap_dom = pd.read_csv(\n",
    "    '/home/ipseg/Desktop/waples/chum_populations/results/batch_4/EIGENSOFT/on_map.dom.tw',\n",
    "           sep = ' ', skipinitialspace = True)"
   ]
  },
  {
   "cell_type": "code",
   "execution_count": 13,
   "metadata": {
    "collapsed": true
   },
   "outputs": [],
   "source": [
    "tw_paralogs_dom = pd.read_csv(\n",
    "    '/home/ipseg/Desktop/waples/chum_populations/results/batch_4/EIGENSOFT/paralogs.dom.tw',\n",
    "           sep = ' ', skipinitialspace = True)"
   ]
  },
  {
   "cell_type": "code",
   "execution_count": 14,
   "metadata": {
    "collapsed": true
   },
   "outputs": [],
   "source": [
    "tw_complete_dom = pd.read_csv(\n",
    "    '/home/ipseg/Desktop/waples/chum_populations/results/batch_4/EIGENSOFT/complete.dom.tw',\n",
    "           sep = ' ', skipinitialspace = True)"
   ]
  },
  {
   "cell_type": "code",
   "execution_count": 15,
   "metadata": {
    "collapsed": true
   },
   "outputs": [],
   "source": [
    "tw_subsample_codom = pd.read_csv(\n",
    "    '/home/ipseg/Desktop/waples/chum_populations/results/batch_4/EIGENSOFT/on_map.codom.subsample.tw',\n",
    "           sep = ' ', skipinitialspace = True)"
   ]
  },
  {
   "cell_type": "code",
   "execution_count": 17,
   "metadata": {
    "collapsed": false
   },
   "outputs": [
    {
     "data": {
      "text/html": [
       "<div>\n",
       "<table border=\"1\" class=\"dataframe\">\n",
       "  <thead>\n",
       "    <tr style=\"text-align: right;\">\n",
       "      <th></th>\n",
       "      <th>#N</th>\n",
       "      <th>eigenvalue</th>\n",
       "      <th>difference</th>\n",
       "      <th>twstat</th>\n",
       "      <th>p-value</th>\n",
       "      <th>effect.</th>\n",
       "      <th>n</th>\n",
       "    </tr>\n",
       "  </thead>\n",
       "  <tbody>\n",
       "    <tr>\n",
       "      <th>0</th>\n",
       "      <td>1</td>\n",
       "      <td>2.819728</td>\n",
       "      <td>NaN</td>\n",
       "      <td>58.892</td>\n",
       "      <td>7.155550e-133</td>\n",
       "      <td>1402.534</td>\n",
       "      <td>NaN</td>\n",
       "    </tr>\n",
       "    <tr>\n",
       "      <th>1</th>\n",
       "      <td>2</td>\n",
       "      <td>2.527649</td>\n",
       "      <td>-0.292079</td>\n",
       "      <td>51.406</td>\n",
       "      <td>1.022560e-108</td>\n",
       "      <td>1604.912</td>\n",
       "      <td>NaN</td>\n",
       "    </tr>\n",
       "    <tr>\n",
       "      <th>2</th>\n",
       "      <td>3</td>\n",
       "      <td>2.030819</td>\n",
       "      <td>-0.496830</td>\n",
       "      <td>24.982</td>\n",
       "      <td>4.447890e-38</td>\n",
       "      <td>1791.222</td>\n",
       "      <td>NaN</td>\n",
       "    </tr>\n",
       "    <tr>\n",
       "      <th>3</th>\n",
       "      <td>4</td>\n",
       "      <td>1.841122</td>\n",
       "      <td>-0.189697</td>\n",
       "      <td>14.272</td>\n",
       "      <td>1.776790e-17</td>\n",
       "      <td>1879.609</td>\n",
       "      <td>NaN</td>\n",
       "    </tr>\n",
       "    <tr>\n",
       "      <th>4</th>\n",
       "      <td>5</td>\n",
       "      <td>1.722421</td>\n",
       "      <td>-0.118701</td>\n",
       "      <td>7.334</td>\n",
       "      <td>5.373120e-08</td>\n",
       "      <td>1937.363</td>\n",
       "      <td>NaN</td>\n",
       "    </tr>\n",
       "  </tbody>\n",
       "</table>\n",
       "</div>"
      ],
      "text/plain": [
       "   #N  eigenvalue  difference  twstat        p-value   effect.   n\n",
       "0   1    2.819728         NaN  58.892  7.155550e-133  1402.534 NaN\n",
       "1   2    2.527649   -0.292079  51.406  1.022560e-108  1604.912 NaN\n",
       "2   3    2.030819   -0.496830  24.982   4.447890e-38  1791.222 NaN\n",
       "3   4    1.841122   -0.189697  14.272   1.776790e-17  1879.609 NaN\n",
       "4   5    1.722421   -0.118701   7.334   5.373120e-08  1937.363 NaN"
      ]
     },
     "execution_count": 17,
     "metadata": {},
     "output_type": "execute_result"
    }
   ],
   "source": [
    "tw_paralogs_dom.head()"
   ]
  },
  {
   "cell_type": "code",
   "execution_count": 22,
   "metadata": {
    "collapsed": false
   },
   "outputs": [
    {
     "data": {
      "image/png": "[encoded data removed]",
      "text/plain": [
       "<matplotlib.figure.Figure at 0x7f6b35dd1bd0>"
      ]
     },
     "metadata": {},
     "output_type": "display_data"
    }
   ],
   "source": [
    "figsize(8,4)\n",
    "#plt.plot(-np.log10(tw_onmap_codom['p-value']), label = 'all_codom')\n",
    "#plt.plot(-np.log10(tw_onmap_dom['p-value']), label = 'all_dom')\n",
    "#plt.plot(-np.log10(tw_paralogs_dom['p-value']), label = 'paralogs')\n",
    "#plt.xlim(-1,10)\n",
    "#plt.bar(1, np.sum(tw_onmap_codom['p-value'] < .01), label = 'all_codom', color = 'green', align='center', width=0.3)\n",
    "plt.bar(1, np.sum(tw_paralogs_dom['p-value'] < .01), label = 'paralogs', color = 'black', align='center', width=0.3)\n",
    "plt.bar(2, np.sum(tw_complete_dom['p-value'] < .01), label = 'all_dom', color = 'black', align='center', width=0.3)\n",
    "plt.bar(3, np.sum(tw_subsample_codom['p-value'] < .01), label = 'subsample', color = 'black', align='center', width=0.3)\n",
    "#plt.gcf().tight_layout()\n",
    "#plt.legend()\n",
    "plt.gcf().subplots_adjust(bottom=0.15)\n",
    "plt.xticks([1,2,3],['a (paralogs)', 'b (all)', 'c (all_subsample)'], rotation= 50)\n",
    "sns.despine()\n",
    "plt.savefig('/home/ipseg/Desktop/waples/chum_populations/paper/figures/supplemental/TW_stats.png', bbox_inches='tight')\n",
    "plt.show()"
   ]
  },
  {
   "cell_type": "code",
   "execution_count": null,
   "metadata": {
    "collapsed": false
   },
   "outputs": [],
   "source": [
    "figsize(10, 10)\n",
    "sns.lmplot('PC2', 'PC3', data= eigenvec_on_map_dom, hue = 'POP', palette=sns.xkcd_palette(pop_colors),\n",
    "           fit_reg=False, size = 8, scatter_kws={\"s\": 200., 'alpha': .6} )\n",
    "plt.title('mapped loci - dominance coding from haplotypes file')\n",
    "plt.show()\n",
    "\n",
    "sns.lmplot('PC2', 'PC3', data= eigenvec_on_map_codom, hue = 'POP', palette=sns.xkcd_palette(pop_colors),\n",
    "           fit_reg=False, size = 8, scatter_kws={\"s\": 200., 'alpha': .6} )\n",
    "plt.title('mapped loci - codiminant genotypes')\n",
    "plt.show()\n",
    "\n",
    "sns.lmplot('PC2', 'PC3', data= eigenvec_paralogs, hue = 'POP', palette=sns.xkcd_palette(pop_colors),\n",
    "           fit_reg=False, size = 8, scatter_kws={\"s\": 200., 'alpha': .6} )\n",
    "plt.title('paralogs - dominance coding')\n",
    "plt.show()"
   ]
  },
  {
   "cell_type": "code",
   "execution_count": null,
   "metadata": {
    "collapsed": false
   },
   "outputs": [],
   "source": [
    "sns.lmplot('PC2', 'PC4', data= eigenvec_paralogs, hue = 'POP', palette=sns.xkcd_palette(pop_colors),\n",
    "           fit_reg=False, size = 8, scatter_kws={\"s\": 200., 'alpha': .6} )\n",
    "plt.title('paralogs - dominance coding')\n",
    "plt.show()"
   ]
  },
  {
   "cell_type": "markdown",
   "metadata": {
    "collapsed": true
   },
   "source": [
    "### TODO \n",
    "   * look at evalues - include on plots\n",
    "   * down sample to same number of loci\n",
    "   * population names"
   ]
  },
  {
   "cell_type": "markdown",
   "metadata": {
    "collapsed": true
   },
   "source": [
    "## Examine the inferred relationship matrix"
   ]
  },
  {
   "cell_type": "code",
   "execution_count": null,
   "metadata": {
    "collapsed": false,
    "scrolled": false
   },
   "outputs": [],
   "source": [
    "paralogs_rel = pd.read_csv('/home/ipseg/Desktop/waples/chum_populations/results/batch_4/EIGENSOFT/paralogs.dom.rel', header = None, sep = ' ')\n",
    "paralogs_rel.columns = ['ind1', 'ind2', 'numloci', 'cov']\n",
    "paralogs_rel.head()"
   ]
  },
  {
   "cell_type": "code",
   "execution_count": null,
   "metadata": {
    "collapsed": true
   },
   "outputs": [],
   "source": [
    "import scipy.spatial.distance\n",
    "from sklearn.cross_decomposition import CCA"
   ]
  },
  {
   "cell_type": "code",
   "execution_count": null,
   "metadata": {
    "collapsed": true
   },
   "outputs": [],
   "source": [
    "def plot_rel_matrix(rel_file):\n",
    "    rel = pd.read_csv(rel_file, header = None, sep = ' ')\n",
    "    rel.columns = ['ind1', 'ind2', 'numloci', 'cov']\n",
    "    rel_mat = np.zeros(shape = (max(rel['ind1']), max(rel['ind1'])))\n",
    "    for idx, row in rel.iterrows():\n",
    "        rel_mat[rel['ind1']-1, rel['ind2']-1] = rel['cov']\n",
    "        rel_mat[rel['ind2']-1, rel['ind1']-1] = rel['cov']\n",
    "    np.fill_diagonal(rel_mat, 0)\n",
    "    #rel_sq = scipy.spatial.distance.squareform(rel['cov'])\n",
    "    sns.heatmap(rel_mat, linewidth = 0, square = True, xticklabels = False, yticklabels = False, robust = True)\n",
    "    plt.show()\n",
    "    #return(rel_mat)\n",
    "\n",
    "def get_rel_mat(rel_file):\n",
    "    rel = pd.read_csv(rel_file, header = None, sep = ' ')\n",
    "    rel.columns = ['ind1', 'ind2', 'numloci', 'cov']\n",
    "    rel_mat = np.zeros(shape = (max(rel['ind1']), max(rel['ind1'])))\n",
    "    for idx, row in rel.iterrows():\n",
    "        rel_mat[rel['ind1']-1, rel['ind2']-1] = rel['cov']\n",
    "        rel_mat[rel['ind2']-1, rel['ind1']-1] = rel['cov']\n",
    "    np.fill_diagonal(rel_mat, 1)\n",
    "    return(rel_mat)\n",
    "\n",
    "\n",
    "    "
   ]
  },
  {
   "cell_type": "code",
   "execution_count": null,
   "metadata": {
    "collapsed": true
   },
   "outputs": [],
   "source": [
    "rel_mat1 = get_rel_mat('/home/ipseg/Desktop/waples/chum_populations/results/batch_4/EIGENSOFT/on_map.codom.rel')\n",
    "rel_mat2 = get_rel_mat('/home/ipseg/Desktop/waples/chum_populations/results/batch_4/EIGENSOFT/on_map.dom.rel')\n",
    "rel_mat3 = get_rel_mat('/home/ipseg/Desktop/waples/chum_populations/results/batch_4/EIGENSOFT/paralogs.dom.rel')\n",
    "rel_mat4 = get_rel_mat('/home/ipseg/Desktop/waples/chum_populations/results/batch_4/EIGENSOFT/on_map.codom.subsample.rel')"
   ]
  },
  {
   "cell_type": "code",
   "execution_count": null,
   "metadata": {
    "collapsed": false
   },
   "outputs": [],
   "source": [
    "cd /home/ipseg/Desktop/waples/chum_populations\n"
   ]
  },
  {
   "cell_type": "code",
   "execution_count": null,
   "metadata": {
    "collapsed": false
   },
   "outputs": [],
   "source": [
    "np.savetxt(fname = os.path.join('results', 'batch_4', 'EIGENSOFT', 'on_map.codom.relmatrix'), X = rel_mat1, fmt = '%10.7f')\n",
    "np.savetxt(fname = os.path.join('results', 'batch_4', 'EIGENSOFT', 'on_map.dom.relmatrix'), X = rel_mat2, fmt = '%10.7f')\n",
    "np.savetxt(fname = os.path.join('results', 'batch_4', 'EIGENSOFT', 'paralogs.dom.relmatrix'), X = rel_mat3, fmt = '%10.7f')\n",
    "np.savetxt(fname = os.path.join('results', 'batch_4', 'EIGENSOFT', 'on_map.codom.subsample.relmatrix'), X = rel_mat4, fmt = '%10.7f')"
   ]
  },
  {
   "cell_type": "code",
   "execution_count": null,
   "metadata": {
    "collapsed": true
   },
   "outputs": [],
   "source": []
  },
  {
   "cell_type": "code",
   "execution_count": null,
   "metadata": {
    "collapsed": false
   },
   "outputs": [],
   "source": [
    "print rel_mat1.shape\n",
    "print rel_mat2.shape\n",
    "print rel_mat3.shape\n",
    "print rel_mat4.shape"
   ]
  },
  {
   "cell_type": "code",
   "execution_count": null,
   "metadata": {
    "collapsed": false
   },
   "outputs": [],
   "source": [
    "#rel_mat1 = rel_mat1[0:171,0:171]\n",
    "#rel_mat2 = rel_mat2[0:171,0:171]\n",
    "#rel_mat3 = rel_mat3[0:171,0:171]\n",
    "#rel_mat4 = rel_mat4[0:171,0:171]"
   ]
  },
  {
   "cell_type": "code",
   "execution_count": null,
   "metadata": {
    "collapsed": false
   },
   "outputs": [],
   "source": [
    "sns.heatmap(np.corrcoef(rel_mat1, rel_mat2), linewidths=0, square = True, xticklabels = False, yticklabels = False, robust = True)"
   ]
  },
  {
   "cell_type": "code",
   "execution_count": null,
   "metadata": {
    "collapsed": false
   },
   "outputs": [],
   "source": [
    "cca = CCA(scale = True, n_components=2)\n",
    "my_fit = cca.fit(X = rel_mat1, Y= rel_mat2)\n",
    "t_rel_mat1, t_rel_mat2 = my_fit.transform(X = rel_mat1, Y= rel_mat2)"
   ]
  },
  {
   "cell_type": "code",
   "execution_count": null,
   "metadata": {
    "collapsed": true
   },
   "outputs": [],
   "source": []
  },
  {
   "cell_type": "code",
   "execution_count": null,
   "metadata": {
    "collapsed": false
   },
   "outputs": [],
   "source": [
    "plt.plot(t_rel_mat1[:, 0], t_rel_mat2[:, 0], \"ob\")\n",
    "plt.show()\n",
    "np.corrcoef(t_rel_mat1[:, 0], t_rel_mat2[:, 0])[0, 1]"
   ]
  },
  {
   "cell_type": "code",
   "execution_count": null,
   "metadata": {
    "collapsed": false
   },
   "outputs": [],
   "source": [
    "cca = CCA(scale = True, n_components=2)\n",
    "my_fit_b  = cca.fit(rel_mat3, rel_mat4)\n",
    "t_rel_mat3, t_rel_mat4 = my_fit_b.transform(rel_mat3, rel_mat4)"
   ]
  },
  {
   "cell_type": "code",
   "execution_count": null,
   "metadata": {
    "collapsed": false
   },
   "outputs": [],
   "source": [
    "plt.plot(t_rel_mat3[:, 0], t_rel_mat4[:, 0], \"ob\")\n",
    "plt.show()\n",
    "np.corrcoef(t_rel_mat3[:, 0], t_rel_mat4[:, 0])[0, 1]"
   ]
  },
  {
   "cell_type": "code",
   "execution_count": null,
   "metadata": {
    "collapsed": false,
    "scrolled": false
   },
   "outputs": [],
   "source": [
    "figsize(6,6)\n",
    "plot_rel_matrix('/home/ipseg/Desktop/waples/chum_populations/results/batch_4/EIGENSOFT/on_map.codom.rel')\n",
    "plot_rel_matrix('/home/ipseg/Desktop/waples/chum_populations/results/batch_4/EIGENSOFT/on_map.dom.rel')\n",
    "plot_rel_matrix('/home/ipseg/Desktop/waples/chum_populations/results/batch_4/EIGENSOFT/paralogs.dom.rel')\n",
    "plot_rel_matrix('/home/ipseg/Desktop/waples/chum_populations/results/batch_4/EIGENSOFT/on_map.codom.subsample.rel')"
   ]
  },
  {
   "cell_type": "code",
   "execution_count": null,
   "metadata": {
    "collapsed": false
   },
   "outputs": [],
   "source": [
    "from IPython.display import Image\n",
    "Image(filename=os.path.join('paper','figures','CCA.png') )"
   ]
  }
 ],
 "metadata": {
  "kernelspec": {
   "display_name": "Python 2",
   "language": "python",
   "name": "python2"
  },
  "language_info": {
   "codemirror_mode": {
    "name": "ipython",
    "version": 2
   },
   "file_extension": ".py",
   "mimetype": "text/x-python",
   "name": "python",
   "nbconvert_exporter": "python",
   "pygments_lexer": "ipython2",
   "version": "2.7.10"
  }
 },
 "nbformat": 4,
 "nbformat_minor": 0
}
