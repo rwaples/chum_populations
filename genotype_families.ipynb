{
 "metadata": {
  "name": "",
  "signature": "sha256:a61a697cffe6068b5538e5436200c63cd0a4740f379bb8de82b525ec1f52087c"
 },
 "nbformat": 3,
 "nbformat_minor": 0,
 "worksheets": [
  {
   "cells": [
    {
     "cell_type": "code",
     "collapsed": false,
     "input": [],
     "language": "python",
     "metadata": {},
     "outputs": []
    }
   ],
   "metadata": {}
  }
 ]
}