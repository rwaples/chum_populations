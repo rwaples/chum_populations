{
 "cells": [
  {
   "cell_type": "code",
   "execution_count": 40,
   "metadata": {
    "collapsed": false
   },
   "outputs": [],
   "source": [
    "import pysam\n",
    "import numpy as np\n",
    "import scipy.stats\n",
    "import pandas as pd\n",
    "import seaborn as sns\n",
    "import os.path\n",
    "import matplotlib.pyplot as plt\n",
    "sns.set(font_scale=2)\n",
    "sns.set_style(\"white\")\n",
    "%matplotlib inline\n",
    "from IPython.core.pylabtools import figsize\n"
   ]
  },
  {
   "cell_type": "markdown",
   "metadata": {},
   "source": [
    "#### Load excel file"
   ]
  },
  {
   "cell_type": "code",
   "execution_count": 3,
   "metadata": {
    "collapsed": false
   },
   "outputs": [
    {
     "data": {
      "text/html": [
       "<div>\n",
       "<table border=\"1\" class=\"dataframe\">\n",
       "  <thead>\n",
       "    <tr style=\"text-align: right;\">\n",
       "      <th></th>\n",
       "      <th>seq</th>\n",
       "    </tr>\n",
       "    <tr>\n",
       "      <th>seqID</th>\n",
       "      <th></th>\n",
       "    </tr>\n",
       "  </thead>\n",
       "  <tbody>\n",
       "    <tr>\n",
       "      <th>Oke_RAD10940</th>\n",
       "      <td>TGCAGGTTAAGAAGCTGGATGTGGTGGTTCTGGGCTGGCATGGTTA...</td>\n",
       "    </tr>\n",
       "    <tr>\n",
       "      <th>Oke_RAD10719</th>\n",
       "      <td>TGCAGGTCAACTGAGGTAAACAGCCACCTYGATGAATAGAGCGAGA...</td>\n",
       "    </tr>\n",
       "    <tr>\n",
       "      <th>Oke_RAD10676</th>\n",
       "      <td>TGCAGGAAAATTCACAATTACAATAGAGCTTGTGTAGTTCAGGAAA...</td>\n",
       "    </tr>\n",
       "    <tr>\n",
       "      <th>Oke_RAD10605</th>\n",
       "      <td>TGCAGGCACCTGGTCCGCCACAATGAGTCACTAGAGTGCAATGAGC...</td>\n",
       "    </tr>\n",
       "    <tr>\n",
       "      <th>Oke_RAD10227</th>\n",
       "      <td>TGCAGGAAGGGTACCACGAGGGGGGAGAATRTCTTAATTATAATGC...</td>\n",
       "    </tr>\n",
       "  </tbody>\n",
       "</table>\n",
       "</div>"
      ],
      "text/plain": [
       "                                                            seq\n",
       "seqID                                                          \n",
       "Oke_RAD10940  TGCAGGTTAAGAAGCTGGATGTGGTGGTTCTGGGCTGGCATGGTTA...\n",
       "Oke_RAD10719  TGCAGGTCAACTGAGGTAAACAGCCACCTYGATGAATAGAGCGAGA...\n",
       "Oke_RAD10676  TGCAGGAAAATTCACAATTACAATAGAGCTTGTGTAGTTCAGGAAA...\n",
       "Oke_RAD10605  TGCAGGCACCTGGTCCGCCACAATGAGTCACTAGAGTGCAATGAGC...\n",
       "Oke_RAD10227  TGCAGGAAGGGTACCACGAGGGGGGAGAATRTCTTAATTATAATGC..."
      ]
     },
     "execution_count": 3,
     "metadata": {},
     "output_type": "execute_result"
    }
   ],
   "source": [
    "chum_taqman_excelfile = os.path.join('data', 'TaqMan', 'chumRAD_TaqMan.xlsx')\n",
    "chum_taqman = pd.read_excel(chum_taqman_excelfile, header = None)\n",
    "chum_taqman.columns = ['seqID', 'seq']\n",
    "chum_taqman = chum_taqman.set_index('seqID')\n",
    "chum_taqman.head()"
   ]
  },
  {
   "cell_type": "code",
   "execution_count": 33,
   "metadata": {
    "collapsed": false
   },
   "outputs": [
    {
     "data": {
      "text/plain": [
       "129"
      ]
     },
     "execution_count": 33,
     "metadata": {},
     "output_type": "execute_result"
    }
   ],
   "source": [
    "len(chum_taqman)"
   ]
  },
  {
   "cell_type": "markdown",
   "metadata": {},
   "source": [
    "#### Histogram of sequence lengths"
   ]
  },
  {
   "cell_type": "code",
   "execution_count": 10,
   "metadata": {
    "collapsed": false
   },
   "outputs": [
    {
     "data": {
      "image/png": "[encoded data removed]",
      "text/plain": [
       "<matplotlib.figure.Figure at 0x7f62e8b88d50>"
      ]
     },
     "metadata": {},
     "output_type": "display_data"
    }
   ],
   "source": [
    "plt.hist([len(x) for x in chum_taqman['seq']], bins = 10)\n",
    "plt.show()"
   ]
  },
  {
   "cell_type": "markdown",
   "metadata": {},
   "source": [
    "#### Write fasta file"
   ]
  },
  {
   "cell_type": "code",
   "execution_count": 11,
   "metadata": {
    "collapsed": false
   },
   "outputs": [],
   "source": [
    "chum_taqman_fastafile = os.path.join('data', 'TaqMan', 'chumRAD_TaqMan.fasta')\n",
    "with open(chum_taqman_fastafile, 'w') as OUTFILE:\n",
    "    for entry in chum_taqman.itertuples():\n",
    "        OUTFILE.write('>{}\\n{}\\n'.format(*entry))"
   ]
  },
  {
   "cell_type": "markdown",
   "metadata": {},
   "source": [
    "#### Build bowtie index"
   ]
  },
  {
   "cell_type": "code",
   "execution_count": 29,
   "metadata": {
    "collapsed": false
   },
   "outputs": [
    {
     "name": "stdout",
     "output_type": "stream",
     "text": [
      "Settings:\n",
      "  Output files: \"data/TaqMan/chumTaqMan.*.bt2\"\n",
      "  Line rate: 6 (line is 64 bytes)\n",
      "  Lines per side: 1 (side is 64 bytes)\n",
      "  Offset rate: 4 (one in 16)\n",
      "  FTable chars: 10\n",
      "  Strings: unpacked\n",
      "  Max bucket size: default\n",
      "  Max bucket size, sqrt multiplier: default\n",
      "  Max bucket size, len divisor: 4\n",
      "  Difference-cover sample period: 1024\n",
      "  Endianness: little\n",
      "  Actual local endianness: little\n",
      "  Sanity checking: disabled\n",
      "  Assertions: disabled\n",
      "  Random seed: 0\n",
      "  Sizeofs: void*:8, int:4, long:8, size_t:8\n",
      "Input files DNA, FASTA:\n",
      "  data/TaqMan/chumRAD_TaqMan.fasta\n",
      "Building a SMALL index\n",
      "Reading reference sizes\n",
      "  Time reading reference sizes: 00:00:00\n",
      "Calculating joined length\n",
      "Writing header\n",
      "Reserving space for joined string\n",
      "Joining reference sequences\n",
      "  Time to join reference sequences: 00:00:00\n",
      "bmax according to bmaxDivN setting: 9711\n",
      "Using parameters --bmax 7284 --dcv 1024\n",
      "  Doing ahead-of-time memory usage test\n",
      "  Passed!  Constructing with these parameters: --bmax 7284 --dcv 1024\n",
      "Constructing suffix-array element generator\n",
      "Building DifferenceCoverSample\n",
      "  Building sPrime\n",
      "  Building sPrimeOrder\n",
      "  V-Sorting samples\n",
      "  V-Sorting samples time: 00:00:00\n",
      "  Allocating rank array\n",
      "  Ranking v-sort output\n",
      "  Ranking v-sort output time: 00:00:00\n",
      "  Invoking Larsson-Sadakane on ranks\n",
      "  Invoking Larsson-Sadakane on ranks time: 00:00:00\n",
      "  Sanity-checking and returning\n",
      "Building samples\n",
      "Reserving space for 12 sample suffixes\n",
      "Generating random suffixes\n",
      "QSorting 12 sample offsets, eliminating duplicates\n",
      "QSorting sample offsets, eliminating duplicates time: 00:00:00\n",
      "Multikey QSorting 12 samples\n",
      "  (Using difference cover)\n",
      "  Multikey QSorting samples time: 00:00:00\n",
      "Calculating bucket sizes\n",
      "  Binary sorting into buckets\n",
      "  10%\n",
      "  20%\n",
      "  30%\n",
      "  40%\n",
      "  50%\n",
      "  60%\n",
      "  70%\n",
      "  80%\n",
      "  90%\n",
      "  100%\n",
      "  Binary sorting into buckets time: 00:00:00\n",
      "Splitting and merging\n",
      "  Splitting and merging time: 00:00:00\n",
      "Split 1, merged 7; iterating...\n",
      "  Binary sorting into buckets\n",
      "  10%\n",
      "  20%\n",
      "  30%\n",
      "  40%\n",
      "  50%\n",
      "  60%\n",
      "  70%\n",
      "  80%\n",
      "  90%\n",
      "  100%\n",
      "  Binary sorting into buckets time: 00:00:00\n",
      "Splitting and merging\n",
      "  Splitting and merging time: 00:00:00\n",
      "Avg bucket size: 5548.71 (target: 7283)\n",
      "Converting suffix-array elements to index image\n",
      "Allocating ftab, absorbFtab\n",
      "Entering Ebwt loop\n",
      "Getting block 1 of 7\n",
      "  Reserving size (7284) for bucket\n",
      "  Calculating Z arrays\n",
      "  Calculating Z arrays time: 00:00:00\n",
      "  Entering block accumulator loop:\n",
      "  10%\n",
      "  20%\n",
      "  30%\n",
      "  40%\n",
      "  50%\n",
      "  60%\n",
      "  70%\n",
      "  80%\n",
      "  90%\n",
      "  100%\n",
      "  Block accumulator loop time: 00:00:00\n",
      "  Sorting block of length 4915\n",
      "  (Using difference cover)\n",
      "  Sorting block time: 00:00:00\n",
      "Returning block of 4916\n",
      "Getting block 2 of 7\n",
      "  Reserving size (7284) for bucket\n",
      "  Calculating Z arrays\n",
      "  Calculating Z arrays time: 00:00:00\n",
      "  Entering block accumulator loop:\n",
      "  10%\n",
      "  20%\n",
      "  30%\n",
      "  40%\n",
      "  50%\n",
      "  60%\n",
      "  70%\n",
      "  80%\n",
      "  90%\n",
      "  100%\n",
      "  Block accumulator loop time: 00:00:00\n",
      "  Sorting block of length 6405\n",
      "  (Using difference cover)\n",
      "  Sorting block time: 00:00:00\n",
      "Returning block of 6406\n",
      "Getting block 3 of 7\n",
      "  Reserving size (7284) for bucket\n",
      "  Calculating Z arrays\n",
      "  Calculating Z arrays time: 00:00:00\n",
      "  Entering block accumulator loop:\n",
      "  10%\n",
      "  20%\n",
      "  30%\n",
      "  40%\n",
      "  50%\n",
      "  60%\n",
      "  70%\n",
      "  80%\n",
      "  90%\n",
      "  100%\n",
      "  Block accumulator loop time: 00:00:00\n",
      "  Sorting block of length 5979\n",
      "  (Using difference cover)\n",
      "  Sorting block time: 00:00:00\n",
      "Returning block of 5980\n",
      "Getting block 4 of 7\n",
      "  Reserving size (7284) for bucket\n",
      "  Calculating Z arrays\n",
      "  Calculating Z arrays time: 00:00:00\n",
      "  Entering block accumulator loop:\n",
      "  10%\n",
      "  20%\n",
      "  30%\n",
      "  40%\n",
      "  50%\n",
      "  60%\n",
      "  70%\n",
      "  80%\n",
      "  90%\n",
      "  100%\n",
      "  Block accumulator loop time: 00:00:00\n",
      "  Sorting block of length 4666\n",
      "  (Using difference cover)\n",
      "  Sorting block time: 00:00:00\n",
      "Returning block of 4667\n",
      "Getting block 5 of 7\n",
      "  Reserving size (7284) for bucket\n",
      "  Calculating Z arrays\n",
      "  Calculating Z arrays time: 00:00:00\n",
      "  Entering block accumulator loop:\n",
      "  10%\n",
      "  20%\n",
      "  30%\n",
      "  40%\n",
      "  50%\n",
      "  60%\n",
      "  70%\n",
      "  80%\n",
      "  90%\n",
      "  100%\n",
      "  Block accumulator loop time: 00:00:00\n",
      "  Sorting block of length 7159\n",
      "  (Using difference cover)\n",
      "  Sorting block time: 00:00:00\n",
      "Returning block of 7160\n",
      "Getting block 6 of 7\n",
      "  Reserving size (7284) for bucket\n",
      "  Calculating Z arrays\n",
      "  Calculating Z arrays time: 00:00:00\n",
      "  Entering block accumulator loop:\n",
      "  10%\n",
      "  20%\n",
      "  30%\n",
      "  40%\n",
      "  50%\n",
      "  60%\n",
      "  70%\n",
      "  80%\n",
      "  90%\n",
      "  100%\n",
      "  Block accumulator loop time: 00:00:00\n",
      "  Sorting block of length 4793\n",
      "  (Using difference cover)\n",
      "  Sorting block time: 00:00:00\n",
      "Returning block of 4794\n",
      "Getting block 7 of 7\n",
      "  Reserving size (7284) for bucket\n",
      "  Calculating Z arrays\n",
      "  Calculating Z arrays time: 00:00:00\n",
      "  Entering block accumulator loop:\n",
      "  10%\n",
      "  20%\n",
      "  30%\n",
      "  40%\n",
      "  50%\n",
      "  60%\n",
      "  70%\n",
      "  80%\n",
      "  90%\n",
      "  100%\n",
      "  Block accumulator loop time: 00:00:00\n",
      "  Sorting block of length 4924\n",
      "  (Using difference cover)\n",
      "  Sorting block time: 00:00:00\n",
      "Returning block of 4925\n",
      "Exited Ebwt loop\n",
      "fchr[A]: 0\n",
      "fchr[C]: 10886\n",
      "fchr[G]: 19332\n",
      "fchr[T]: 28322\n",
      "fchr[$]: 38847\n",
      "Exiting Ebwt::buildToDisk()\n",
      "Returning from initFromVector\n",
      "Wrote 4213213 bytes to primary EBWT file: data/TaqMan/chumTaqMan.1.bt2\n",
      "Wrote 9716 bytes to secondary EBWT file: data/TaqMan/chumTaqMan.2.bt2\n",
      "Re-opening _in1 and _in2 as input streams\n",
      "Returning from Ebwt constructor\n",
      "Headers:\n",
      "    len: 38847\n",
      "    bwtLen: 38848\n",
      "    sz: 9712\n",
      "    bwtSz: 9712\n",
      "    lineRate: 6\n",
      "    offRate: 4\n",
      "    offMask: 0xfffffff0\n",
      "    ftabChars: 10\n",
      "    eftabLen: 20\n",
      "    eftabSz: 80\n",
      "    ftabLen: 1048577\n",
      "    ftabSz: 4194308\n",
      "    offsLen: 2428\n",
      "    offsSz: 9712\n",
      "    lineSz: 64\n",
      "    sideSz: 64\n",
      "    sideBwtSz: 48\n",
      "    sideBwtLen: 192\n",
      "    numSides: 203\n",
      "    numLines: 203\n",
      "    ebwtTotLen: 12992\n",
      "    ebwtTotSz: 12992\n",
      "    color: 0\n",
      "    reverse: 0\n",
      "Total time for call to driver() for forward index: 00:00:00\n",
      "Reading reference sizes\n",
      "  Time reading reference sizes: 00:00:00\n",
      "Calculating joined length\n",
      "Writing header\n",
      "Reserving space for joined string\n",
      "Joining reference sequences\n",
      "  Time to join reference sequences: 00:00:00\n",
      "  Time to reverse reference sequence: 00:00:00\n",
      "bmax according to bmaxDivN setting: 9711\n",
      "Using parameters --bmax 7284 --dcv 1024\n",
      "  Doing ahead-of-time memory usage test\n",
      "  Passed!  Constructing with these parameters: --bmax 7284 --dcv 1024\n",
      "Constructing suffix-array element generator\n",
      "Building DifferenceCoverSample\n",
      "  Building sPrime\n",
      "  Building sPrimeOrder\n",
      "  V-Sorting samples\n",
      "  V-Sorting samples time: 00:00:00\n",
      "  Allocating rank array\n",
      "  Ranking v-sort output\n",
      "  Ranking v-sort output time: 00:00:00\n",
      "  Invoking Larsson-Sadakane on ranks\n",
      "  Invoking Larsson-Sadakane on ranks time: 00:00:00\n",
      "  Sanity-checking and returning\n",
      "Building samples\n",
      "Reserving space for 12 sample suffixes\n",
      "Generating random suffixes\n",
      "QSorting 12 sample offsets, eliminating duplicates\n",
      "QSorting sample offsets, eliminating duplicates time: 00:00:00\n",
      "Multikey QSorting 12 samples\n",
      "  (Using difference cover)\n",
      "  Multikey QSorting samples time: 00:00:00\n",
      "Calculating bucket sizes\n",
      "  Binary sorting into buckets\n",
      "  10%\n",
      "  20%\n",
      "  30%\n",
      "  40%\n",
      "  50%\n",
      "  60%\n",
      "  70%\n",
      "  80%\n",
      "  90%\n",
      "  100%\n",
      "  Binary sorting into buckets time: 00:00:00\n",
      "Splitting and merging\n",
      "  Splitting and merging time: 00:00:00\n",
      "Split 2, merged 6; iterating...\n",
      "  Binary sorting into buckets\n",
      "  10%\n",
      "  20%\n",
      "  30%\n",
      "  40%\n",
      "  50%\n",
      "  60%\n",
      "  70%\n",
      "  80%\n",
      "  90%\n",
      "  100%\n",
      "  Binary sorting into buckets time: 00:00:00\n",
      "Splitting and merging\n",
      "  Splitting and merging time: 00:00:00\n",
      "Split 1, merged 2; iterating...\n",
      "  Binary sorting into buckets\n",
      "  10%\n",
      "  20%\n",
      "  30%\n",
      "  40%\n",
      "  50%\n",
      "  60%\n",
      "  70%\n",
      "  80%\n",
      "  90%\n",
      "  100%\n",
      "  Binary sorting into buckets time: 00:00:00\n",
      "Splitting and merging\n",
      "  Splitting and merging time: 00:00:00\n",
      "Split 1, merged 1; iterating...\n",
      "  Binary sorting into buckets\n",
      "  10%\n",
      "  20%\n",
      "  30%\n",
      "  40%\n",
      "  50%\n",
      "  60%\n",
      "  70%\n",
      "  80%\n",
      "  90%\n",
      "  100%\n",
      "  Binary sorting into buckets time: 00:00:00\n",
      "Splitting and merging\n",
      "  Splitting and merging time: 00:00:00\n",
      "Avg bucket size: 4855 (target: 7283)\n",
      "Converting suffix-array elements to index image\n",
      "Allocating ftab, absorbFtab\n",
      "Entering Ebwt loop\n",
      "Getting block 1 of 8\n",
      "  Reserving size (7284) for bucket\n",
      "  Calculating Z arrays\n",
      "  Calculating Z arrays time: 00:00:00\n",
      "  Entering block accumulator loop:\n",
      "  10%\n",
      "  20%\n",
      "  30%\n",
      "  40%\n",
      "  50%\n",
      "  60%\n",
      "  70%\n",
      "  80%\n",
      "  90%\n",
      "  100%\n",
      "  Block accumulator loop time: 00:00:00\n",
      "  Sorting block of length 5878\n",
      "  (Using difference cover)\n",
      "  Sorting block time: 00:00:00\n",
      "Returning block of 5879\n",
      "Getting block 2 of 8\n",
      "  Reserving size (7284) for bucket\n",
      "  Calculating Z arrays\n",
      "  Calculating Z arrays time: 00:00:00\n",
      "  Entering block accumulator loop:\n",
      "  10%\n",
      "  20%\n",
      "  30%\n",
      "  40%\n",
      "  50%\n",
      "  60%\n",
      "  70%\n",
      "  80%\n",
      "  90%\n",
      "  100%\n",
      "  Block accumulator loop time: 00:00:00\n",
      "  Sorting block of length 5195\n",
      "  (Using difference cover)\n",
      "  Sorting block time: 00:00:00\n",
      "Returning block of 5196\n",
      "Getting block 3 of 8\n",
      "  Reserving size (7284) for bucket\n",
      "  Calculating Z arrays\n",
      "  Calculating Z arrays time: 00:00:00\n",
      "  Entering block accumulator loop:\n",
      "  10%\n",
      "  20%\n",
      "  30%\n",
      "  40%\n",
      "  50%\n",
      "  60%\n",
      "  70%\n",
      "  80%\n",
      "  90%\n",
      "  100%\n",
      "  Block accumulator loop time: 00:00:00\n",
      "  Sorting block of length 4162\n",
      "  (Using difference cover)\n",
      "  Sorting block time: 00:00:00\n",
      "Returning block of 4163\n",
      "Getting block 4 of 8\n",
      "  Reserving size (7284) for bucket\n",
      "  Calculating Z arrays\n",
      "  Calculating Z arrays time: 00:00:00\n",
      "  Entering block accumulator loop:\n",
      "  10%\n",
      "  20%\n",
      "  30%\n",
      "  40%\n",
      "  50%\n",
      "  60%\n",
      "  70%\n",
      "  80%\n",
      "  90%\n",
      "  100%\n",
      "  Block accumulator loop time: 00:00:00\n",
      "  Sorting block of length 3856\n",
      "  (Using difference cover)\n",
      "  Sorting block time: 00:00:00\n",
      "Returning block of 3857\n",
      "Getting block 5 of 8\n",
      "  Reserving size (7284) for bucket\n",
      "  Calculating Z arrays\n",
      "  Calculating Z arrays time: 00:00:00\n",
      "  Entering block accumulator loop:\n",
      "  10%\n",
      "  20%\n",
      "  30%\n",
      "  40%\n",
      "  50%\n",
      "  60%\n",
      "  70%\n",
      "  80%\n",
      "  90%\n",
      "  100%\n",
      "  Block accumulator loop time: 00:00:00\n",
      "  Sorting block of length 5050\n",
      "  (Using difference cover)\n",
      "  Sorting block time: 00:00:00\n",
      "Returning block of 5051\n",
      "Getting block 6 of 8\n",
      "  Reserving size (7284) for bucket\n",
      "  Calculating Z arrays\n",
      "  Calculating Z arrays time: 00:00:00\n",
      "  Entering block accumulator loop:\n",
      "  10%\n",
      "  20%\n",
      "  30%\n",
      "  40%\n",
      "  50%\n",
      "  60%\n",
      "  70%\n",
      "  80%\n",
      "  90%\n",
      "  100%\n",
      "  Block accumulator loop time: 00:00:00\n",
      "  Sorting block of length 4739\n",
      "  (Using difference cover)\n",
      "  Sorting block time: 00:00:00\n",
      "Returning block of 4740\n",
      "Getting block 7 of 8\n",
      "  Reserving size (7284) for bucket\n",
      "  Calculating Z arrays\n",
      "  Calculating Z arrays time: 00:00:00\n",
      "  Entering block accumulator loop:\n",
      "  10%\n",
      "  20%\n",
      "  30%\n",
      "  40%\n",
      "  50%\n",
      "  60%\n",
      "  70%\n",
      "  80%\n",
      "  90%\n",
      "  100%\n",
      "  Block accumulator loop time: 00:00:00\n",
      "  Sorting block of length 5662\n",
      "  (Using difference cover)\n",
      "  Sorting block time: 00:00:00\n",
      "Returning block of 5663\n",
      "Getting block 8 of 8\n",
      "  Reserving size (7284) for bucket\n",
      "  Calculating Z arrays\n",
      "  Calculating Z arrays time: 00:00:00\n",
      "  Entering block accumulator loop:\n",
      "  10%\n",
      "  20%\n",
      "  30%\n",
      "  40%\n",
      "  50%\n",
      "  60%\n",
      "  70%\n",
      "  80%\n",
      "  90%\n",
      "  100%\n",
      "  Block accumulator loop time: 00:00:00\n",
      "  Sorting block of length 4298\n",
      "  (Using difference cover)\n",
      "  Sorting block time: 00:00:00\n",
      "Returning block of 4299\n",
      "Exited Ebwt loop\n",
      "fchr[A]: 0\n",
      "fchr[C]: 10886\n",
      "fchr[G]: 19332\n",
      "fchr[T]: 28322\n",
      "fchr[$]: 38847\n",
      "Exiting Ebwt::buildToDisk()\n",
      "Returning from initFromVector\n",
      "Wrote 4213213 bytes to primary EBWT file: data/TaqMan/chumTaqMan.rev.1.bt2\n",
      "Wrote 9716 bytes to secondary EBWT file: data/TaqMan/chumTaqMan.rev.2.bt2\n",
      "Re-opening _in1 and _in2 as input streams\n",
      "Returning from Ebwt constructor\n",
      "Headers:\n",
      "    len: 38847\n",
      "    bwtLen: 38848\n",
      "    sz: 9712\n",
      "    bwtSz: 9712\n",
      "    lineRate: 6\n",
      "    offRate: 4\n",
      "    offMask: 0xfffffff0\n",
      "    ftabChars: 10\n",
      "    eftabLen: 20\n",
      "    eftabSz: 80\n",
      "    ftabLen: 1048577\n",
      "    ftabSz: 4194308\n",
      "    offsLen: 2428\n",
      "    offsSz: 9712\n",
      "    lineSz: 64\n",
      "    sideSz: 64\n",
      "    sideBwtSz: 48\n",
      "    sideBwtLen: 192\n",
      "    numSides: 203\n",
      "    numLines: 203\n",
      "    ebwtTotLen: 12992\n",
      "    ebwtTotSz: 12992\n",
      "    color: 0\n",
      "    reverse: 1\n",
      "Total time for backward call to driver() for mirror index: 00:00:01\n"
     ]
    }
   ],
   "source": [
    "bowtie_index = os.path.join('data','TaqMan','chumTaqMan')\n",
    "!{'bowtie2-build {} {}'.format(chum_taqman_fastafile, bowtie_index)}"
   ]
  },
  {
   "cell_type": "markdown",
   "metadata": {},
   "source": [
    "#### Align curated chum reference "
   ]
  },
  {
   "cell_type": "code",
   "execution_count": 31,
   "metadata": {
    "collapsed": true
   },
   "outputs": [],
   "source": [
    "chum_ref = '/media/Shared/Data/chum/populations/ref/paper_1/chum_paper_1_ref.CURATED.fasta'"
   ]
  },
  {
   "cell_type": "code",
   "execution_count": 20,
   "metadata": {
    "collapsed": true
   },
   "outputs": [],
   "source": [
    "SAM_output = os.path.join('data', 'TaqMan', 'chumRAD_TaqMan.sam')"
   ]
  },
  {
   "cell_type": "code",
   "execution_count": 32,
   "metadata": {
    "collapsed": false
   },
   "outputs": [
    {
     "name": "stdout",
     "output_type": "stream",
     "text": [
      "88282 reads; of these:\r\n",
      "  88282 (100.00%) were unpaired; of these:\r\n",
      "    86083 (97.51%) aligned 0 times\r\n",
      "    1859 (2.11%) aligned exactly 1 time\r\n",
      "    340 (0.39%) aligned >1 times\r\n",
      "2.49% overall alignment rate\r\n"
     ]
    }
   ],
   "source": [
    "!bowtie2 -f --local --very-sensitive -p 4 -x {bowtie_index} -U {chum_ref} -S {SAM_output}"
   ]
  },
  {
   "cell_type": "markdown",
   "metadata": {},
   "source": [
    "## Examine SAM file"
   ]
  },
  {
   "cell_type": "code",
   "execution_count": 35,
   "metadata": {
    "collapsed": true
   },
   "outputs": [],
   "source": [
    "# this function uses pysam to iterate over alignments in the SAM file\n",
    "def get_aligns():\n",
    "    return(pysam.AlignmentFile(SAM_output, \"r\").fetch())"
   ]
  },
  {
   "cell_type": "markdown",
   "metadata": {},
   "source": [
    "## Mapping quality (MAPQ)"
   ]
  },
  {
   "cell_type": "code",
   "execution_count": 36,
   "metadata": {
    "collapsed": true
   },
   "outputs": [],
   "source": [
    "mpqs = [read.mapping_quality for read in get_aligns()]"
   ]
  },
  {
   "cell_type": "code",
   "execution_count": 53,
   "metadata": {
    "collapsed": false
   },
   "outputs": [
    {
     "data": {
      "image/png": "[encoded data removed]",
      "text/plain": [
       "<matplotlib.figure.Figure at 0x7f62e8c21050>"
      ]
     },
     "metadata": {},
     "output_type": "display_data"
    },
    {
     "data": {
      "image/png": "[encoded data removed]",
      "text/plain": [
       "<matplotlib.figure.Figure at 0x7f62e64a6490>"
      ]
     },
     "metadata": {},
     "output_type": "display_data"
    }
   ],
   "source": [
    "figsize(6, 4)\n",
    "plt.hist(mpqs, bins = 20)\n",
    "plt.xlabel('Mapping quality')\n",
    "plt.ylabel('count')\n",
    "plt.title('')\n",
    "plt.show()\n",
    "\n",
    "plt.hist(mpqs, bins = 20)\n",
    "plt.xlabel('Mapping quality')\n",
    "plt.ylabel('count')\n",
    "plt.title('')\n",
    "plt.xlim(2)\n",
    "plt.ylim(0, 1800)\n",
    "plt.show()"
   ]
  },
  {
   "cell_type": "code",
   "execution_count": 54,
   "metadata": {
    "collapsed": false
   },
   "outputs": [
    {
     "data": {
      "image/png": "[encoded data removed]",
      "text/plain": [
       "<matplotlib.figure.Figure at 0x7f62e642be50>"
      ]
     },
     "metadata": {},
     "output_type": "display_data"
    }
   ],
   "source": [
    "#### Strand bias\n",
    "flags  = [read.flag for read in get_aligns()]\n",
    "plt.hist(flags, bins = 16)\n",
    "plt.xlabel('alignment flag')\n",
    "plt.show()"
   ]
  },
  {
   "cell_type": "markdown",
   "metadata": {},
   "source": [
    "#### Alignment length"
   ]
  },
  {
   "cell_type": "code",
   "execution_count": 46,
   "metadata": {
    "collapsed": false
   },
   "outputs": [
    {
     "data": {
      "image/png": "[encoded data removed]",
      "text/plain": [
       "<matplotlib.figure.Figure at 0x7f62ed286390>"
      ]
     },
     "metadata": {},
     "output_type": "display_data"
    }
   ],
   "source": [
    "figsize(8, 5)\n",
    "qal =  [read.query_alignment_length for read in get_aligns()]\n",
    "plt.hist(qal)\n",
    "plt.xlabel('Aligned length')\n",
    "plt.show()"
   ]
  },
  {
   "cell_type": "markdown",
   "metadata": {},
   "source": [
    "#### Edit distacnce"
   ]
  },
  {
   "cell_type": "code",
   "execution_count": 48,
   "metadata": {
    "collapsed": true
   },
   "outputs": [],
   "source": [
    "edit_distances = list()\n",
    "mq = list()\n",
    "for read in get_aligns():\n",
    "    try:\n",
    "        edit_distances.append(np.int(read.get_tag('XM')))\n",
    "        mq.append(np.int(read.mapping_quality))\n",
    "    except KeyError:\n",
    "        pass"
   ]
  },
  {
   "cell_type": "code",
   "execution_count": 49,
   "metadata": {
    "collapsed": false
   },
   "outputs": [
    {
     "data": {
      "image/png": "[encoded data removed]",
      "text/plain": [
       "<matplotlib.figure.Figure at 0x7f62ee541290>"
      ]
     },
     "metadata": {},
     "output_type": "display_data"
    }
   ],
   "source": [
    "plt.hist(edit_distances)\n",
    "plt.xlabel('edit distance')\n",
    "plt.show()"
   ]
  },
  {
   "cell_type": "markdown",
   "metadata": {},
   "source": [
    "## Filter SAM file"
   ]
  },
  {
   "cell_type": "markdown",
   "metadata": {},
   "source": [
    "#### Lets keep only the alignments with:\n",
    "(query_alignment_length >= 90) AND (mapping_quality >= 30)"
   ]
  },
  {
   "cell_type": "code",
   "execution_count": 196,
   "metadata": {
    "collapsed": true
   },
   "outputs": [],
   "source": [
    "filtered_SAM_output = os.path.join('data', 'TaqMan', 'chumRAD_TaqMan.filtered.sam')"
   ]
  },
  {
   "cell_type": "code",
   "execution_count": 197,
   "metadata": {
    "collapsed": false
   },
   "outputs": [],
   "source": [
    "with pysam.AlignmentFile(SAM_output, \"r\") as INFILE:\n",
    "    with pysam.AlignmentFile(filtered_SAM_output, \"wh\", template=INFILE) as OUTFILE:\n",
    "        for aln in INFILE:\n",
    "            if (aln.query_alignment_length >= 90) and (aln.mapping_quality >= 30):\n",
    "                OUTFILE.write(aln)"
   ]
  },
  {
   "cell_type": "code",
   "execution_count": 198,
   "metadata": {
    "collapsed": false
   },
   "outputs": [
    {
     "data": {
      "text/plain": [
       "103"
      ]
     },
     "execution_count": 198,
     "metadata": {},
     "output_type": "execute_result"
    }
   ],
   "source": [
    "def get_filtered_aligns():\n",
    "    return(pysam.AlignmentFile(filtered_SAM_output, \"r\").fetch())\n",
    "len([read.qname for read in get_filtered_aligns()])"
   ]
  },
  {
   "cell_type": "code",
   "execution_count": 199,
   "metadata": {
    "collapsed": false
   },
   "outputs": [],
   "source": [
    "by_mapq = pd.DataFrame([(read.qname, pysam.AlignmentFile(filtered_SAM_output, \"r\").references[read.rname]) for read in get_filtered_aligns()])\n",
    "by_mapq.columns = ['ref', 'TaqManID']"
   ]
  },
  {
   "cell_type": "code",
   "execution_count": 208,
   "metadata": {
    "collapsed": false
   },
   "outputs": [
    {
     "data": {
      "text/plain": [
       "103"
      ]
     },
     "execution_count": 208,
     "metadata": {},
     "output_type": "execute_result"
    }
   ],
   "source": [
    "len(set(by_mapq['ref']))"
   ]
  },
  {
   "cell_type": "code",
   "execution_count": 209,
   "metadata": {
    "collapsed": false
   },
   "outputs": [
    {
     "data": {
      "text/plain": [
       "103"
      ]
     },
     "execution_count": 209,
     "metadata": {},
     "output_type": "execute_result"
    }
   ],
   "source": [
    "len(set(by_mapq['TaqManID']))"
   ]
  },
  {
   "cell_type": "code",
   "execution_count": 207,
   "metadata": {
    "collapsed": false
   },
   "outputs": [],
   "source": [
    "by_mapq.to_csv(os.path.join('data','TaqMan', 'matches_by_mapq.txt'), index = False, sep = '\\t')"
   ]
  },
  {
   "cell_type": "markdown",
   "metadata": {},
   "source": [
    "## By edit distance"
   ]
  },
  {
   "cell_type": "code",
   "execution_count": 200,
   "metadata": {
    "collapsed": false
   },
   "outputs": [],
   "source": [
    "with pysam.AlignmentFile(SAM_output, \"r\") as INFILE:\n",
    "    with pysam.AlignmentFile(filtered_SAM_output, \"wh\", template=INFILE) as OUTFILE:\n",
    "        for aln in INFILE:\n",
    "            try:\n",
    "                edit_distance = (np.int(aln.get_tag('XM')))\n",
    "            except KeyError:\n",
    "                edit_distance = 10\n",
    "            \n",
    "            if (aln.query_alignment_length >= 90) and edit_distance <= 4:\n",
    "                OUTFILE.write(aln)"
   ]
  },
  {
   "cell_type": "code",
   "execution_count": 201,
   "metadata": {
    "collapsed": false
   },
   "outputs": [
    {
     "data": {
      "text/plain": [
       "102"
      ]
     },
     "execution_count": 201,
     "metadata": {},
     "output_type": "execute_result"
    }
   ],
   "source": [
    "def get_filtered_aligns():\n",
    "    return(pysam.AlignmentFile(filtered_SAM_output, \"r\").fetch())\n",
    "len([read.qname for read in get_filtered_aligns()])"
   ]
  },
  {
   "cell_type": "code",
   "execution_count": 202,
   "metadata": {
    "collapsed": false
   },
   "outputs": [],
   "source": [
    "by_edit_distance = pd.DataFrame([(read.qname, pysam.AlignmentFile(filtered_SAM_output, \"r\").references[read.rname]) for read in get_filtered_aligns()])\n",
    "by_edit_distance.columns = ['ref', 'TaqManID']"
   ]
  },
  {
   "cell_type": "code",
   "execution_count": 204,
   "metadata": {
    "collapsed": false
   },
   "outputs": [
    {
     "data": {
      "text/html": [
       "<div>\n",
       "<table border=\"1\" class=\"dataframe\">\n",
       "  <thead>\n",
       "    <tr style=\"text-align: right;\">\n",
       "      <th></th>\n",
       "      <th>ref</th>\n",
       "      <th>TaqManID_x</th>\n",
       "      <th>TaqManID_y</th>\n",
       "    </tr>\n",
       "  </thead>\n",
       "  <tbody>\n",
       "    <tr>\n",
       "      <th>0</th>\n",
       "      <td>c628</td>\n",
       "      <td>Oke_RAD17085</td>\n",
       "      <td>Oke_RAD17085</td>\n",
       "    </tr>\n",
       "    <tr>\n",
       "      <th>1</th>\n",
       "      <td>c799</td>\n",
       "      <td>Oke_RAD4286</td>\n",
       "      <td>Oke_RAD4286</td>\n",
       "    </tr>\n",
       "    <tr>\n",
       "      <th>2</th>\n",
       "      <td>c1041</td>\n",
       "      <td>Oke_RAD8698</td>\n",
       "      <td>Oke_RAD8698</td>\n",
       "    </tr>\n",
       "    <tr>\n",
       "      <th>3</th>\n",
       "      <td>c1272</td>\n",
       "      <td>Oke_RAD3143</td>\n",
       "      <td>Oke_RAD3143</td>\n",
       "    </tr>\n",
       "    <tr>\n",
       "      <th>4</th>\n",
       "      <td>c1932</td>\n",
       "      <td>Oke_RAD22123</td>\n",
       "      <td>Oke_RAD22123</td>\n",
       "    </tr>\n",
       "    <tr>\n",
       "      <th>5</th>\n",
       "      <td>c3864</td>\n",
       "      <td>Oke_RAD12294</td>\n",
       "      <td>Oke_RAD12294</td>\n",
       "    </tr>\n",
       "    <tr>\n",
       "      <th>6</th>\n",
       "      <td>c4281</td>\n",
       "      <td>Oke_RAD2772</td>\n",
       "      <td>Oke_RAD2772</td>\n",
       "    </tr>\n",
       "    <tr>\n",
       "      <th>7</th>\n",
       "      <td>c5025</td>\n",
       "      <td>Oke_RAD8018</td>\n",
       "      <td>Oke_RAD8018</td>\n",
       "    </tr>\n",
       "    <tr>\n",
       "      <th>8</th>\n",
       "      <td>c5230</td>\n",
       "      <td>Oke_RAD2827</td>\n",
       "      <td>Oke_RAD2827</td>\n",
       "    </tr>\n",
       "    <tr>\n",
       "      <th>9</th>\n",
       "      <td>c6010</td>\n",
       "      <td>Oke_RAD20162</td>\n",
       "      <td>Oke_RAD20162</td>\n",
       "    </tr>\n",
       "    <tr>\n",
       "      <th>10</th>\n",
       "      <td>c6889</td>\n",
       "      <td>Oke_RAD11999</td>\n",
       "      <td>Oke_RAD11999</td>\n",
       "    </tr>\n",
       "    <tr>\n",
       "      <th>11</th>\n",
       "      <td>c8050</td>\n",
       "      <td>Oke_RAD4787</td>\n",
       "      <td>Oke_RAD4787</td>\n",
       "    </tr>\n",
       "    <tr>\n",
       "      <th>12</th>\n",
       "      <td>c9471</td>\n",
       "      <td>Oke_RAD2633</td>\n",
       "      <td>Oke_RAD2633</td>\n",
       "    </tr>\n",
       "    <tr>\n",
       "      <th>13</th>\n",
       "      <td>c9849</td>\n",
       "      <td>Oke_RAD12415</td>\n",
       "      <td>Oke_RAD12415</td>\n",
       "    </tr>\n",
       "    <tr>\n",
       "      <th>14</th>\n",
       "      <td>c10184</td>\n",
       "      <td>Oke_RAD10459</td>\n",
       "      <td>Oke_RAD10459</td>\n",
       "    </tr>\n",
       "    <tr>\n",
       "      <th>15</th>\n",
       "      <td>c12042</td>\n",
       "      <td>Oke_RAD39</td>\n",
       "      <td>Oke_RAD39</td>\n",
       "    </tr>\n",
       "    <tr>\n",
       "      <th>16</th>\n",
       "      <td>c12189</td>\n",
       "      <td>Oke_RAD369</td>\n",
       "      <td>Oke_RAD369</td>\n",
       "    </tr>\n",
       "    <tr>\n",
       "      <th>17</th>\n",
       "      <td>c13132</td>\n",
       "      <td>Oke_RAD8372</td>\n",
       "      <td>Oke_RAD8372</td>\n",
       "    </tr>\n",
       "    <tr>\n",
       "      <th>18</th>\n",
       "      <td>c13761</td>\n",
       "      <td>Oke_RAD8326</td>\n",
       "      <td>Oke_RAD8326</td>\n",
       "    </tr>\n",
       "    <tr>\n",
       "      <th>19</th>\n",
       "      <td>c13860</td>\n",
       "      <td>Oke_RAD4875</td>\n",
       "      <td>Oke_RAD4875</td>\n",
       "    </tr>\n",
       "    <tr>\n",
       "      <th>20</th>\n",
       "      <td>c14300</td>\n",
       "      <td>Oke_RAD5248</td>\n",
       "      <td>Oke_RAD5248</td>\n",
       "    </tr>\n",
       "    <tr>\n",
       "      <th>21</th>\n",
       "      <td>c15244</td>\n",
       "      <td>Oke_RAD2522</td>\n",
       "      <td>Oke_RAD2522</td>\n",
       "    </tr>\n",
       "    <tr>\n",
       "      <th>22</th>\n",
       "      <td>c15956</td>\n",
       "      <td>Oke_RAD11379</td>\n",
       "      <td>Oke_RAD11379</td>\n",
       "    </tr>\n",
       "    <tr>\n",
       "      <th>23</th>\n",
       "      <td>c16014</td>\n",
       "      <td>Oke_RAD11918</td>\n",
       "      <td>Oke_RAD11918</td>\n",
       "    </tr>\n",
       "    <tr>\n",
       "      <th>24</th>\n",
       "      <td>c16416</td>\n",
       "      <td>Oke_RAD3948</td>\n",
       "      <td>Oke_RAD3948</td>\n",
       "    </tr>\n",
       "    <tr>\n",
       "      <th>25</th>\n",
       "      <td>c16598</td>\n",
       "      <td>Oke_RAD3223</td>\n",
       "      <td>Oke_RAD3223</td>\n",
       "    </tr>\n",
       "    <tr>\n",
       "      <th>26</th>\n",
       "      <td>c17773</td>\n",
       "      <td>Oke_RAD4426</td>\n",
       "      <td>Oke_RAD4426</td>\n",
       "    </tr>\n",
       "    <tr>\n",
       "      <th>27</th>\n",
       "      <td>c18101</td>\n",
       "      <td>Oke_RAD905</td>\n",
       "      <td>Oke_RAD905</td>\n",
       "    </tr>\n",
       "    <tr>\n",
       "      <th>28</th>\n",
       "      <td>c19857</td>\n",
       "      <td>Oke_RAD27721</td>\n",
       "      <td>Oke_RAD27721</td>\n",
       "    </tr>\n",
       "    <tr>\n",
       "      <th>29</th>\n",
       "      <td>c21552</td>\n",
       "      <td>Oke_RAD11928</td>\n",
       "      <td>NaN</td>\n",
       "    </tr>\n",
       "    <tr>\n",
       "      <th>...</th>\n",
       "      <td>...</td>\n",
       "      <td>...</td>\n",
       "      <td>...</td>\n",
       "    </tr>\n",
       "    <tr>\n",
       "      <th>73</th>\n",
       "      <td>c59224</td>\n",
       "      <td>Oke_RAD7178</td>\n",
       "      <td>Oke_RAD7178</td>\n",
       "    </tr>\n",
       "    <tr>\n",
       "      <th>74</th>\n",
       "      <td>c59348</td>\n",
       "      <td>Oke_RAD5340</td>\n",
       "      <td>Oke_RAD5340</td>\n",
       "    </tr>\n",
       "    <tr>\n",
       "      <th>75</th>\n",
       "      <td>c60767</td>\n",
       "      <td>Oke_RAD17332</td>\n",
       "      <td>Oke_RAD17332</td>\n",
       "    </tr>\n",
       "    <tr>\n",
       "      <th>76</th>\n",
       "      <td>c61888</td>\n",
       "      <td>Oke_RAD6703</td>\n",
       "      <td>Oke_RAD6703</td>\n",
       "    </tr>\n",
       "    <tr>\n",
       "      <th>77</th>\n",
       "      <td>c62433</td>\n",
       "      <td>Oke_RAD3995</td>\n",
       "      <td>Oke_RAD3995</td>\n",
       "    </tr>\n",
       "    <tr>\n",
       "      <th>78</th>\n",
       "      <td>c64355</td>\n",
       "      <td>Oke_RAD7883</td>\n",
       "      <td>Oke_RAD7883</td>\n",
       "    </tr>\n",
       "    <tr>\n",
       "      <th>79</th>\n",
       "      <td>c65258</td>\n",
       "      <td>Oke_RAD7512</td>\n",
       "      <td>Oke_RAD7512</td>\n",
       "    </tr>\n",
       "    <tr>\n",
       "      <th>80</th>\n",
       "      <td>c65973</td>\n",
       "      <td>Oke_RAD14962</td>\n",
       "      <td>Oke_RAD14962</td>\n",
       "    </tr>\n",
       "    <tr>\n",
       "      <th>81</th>\n",
       "      <td>c66140</td>\n",
       "      <td>Oke_RAD11690</td>\n",
       "      <td>Oke_RAD11690</td>\n",
       "    </tr>\n",
       "    <tr>\n",
       "      <th>82</th>\n",
       "      <td>c66476</td>\n",
       "      <td>Oke_RAD7638</td>\n",
       "      <td>Oke_RAD7638</td>\n",
       "    </tr>\n",
       "    <tr>\n",
       "      <th>83</th>\n",
       "      <td>c67160</td>\n",
       "      <td>Oke_RAD27694</td>\n",
       "      <td>Oke_RAD27694</td>\n",
       "    </tr>\n",
       "    <tr>\n",
       "      <th>84</th>\n",
       "      <td>c68223</td>\n",
       "      <td>Oke_RAD3131</td>\n",
       "      <td>Oke_RAD3131</td>\n",
       "    </tr>\n",
       "    <tr>\n",
       "      <th>85</th>\n",
       "      <td>c68344</td>\n",
       "      <td>Oke_RAD10591</td>\n",
       "      <td>Oke_RAD10591</td>\n",
       "    </tr>\n",
       "    <tr>\n",
       "      <th>86</th>\n",
       "      <td>c68640</td>\n",
       "      <td>Oke_RAD12550</td>\n",
       "      <td>Oke_RAD12550</td>\n",
       "    </tr>\n",
       "    <tr>\n",
       "      <th>87</th>\n",
       "      <td>c69181</td>\n",
       "      <td>Oke_RAD8930</td>\n",
       "      <td>Oke_RAD8930</td>\n",
       "    </tr>\n",
       "    <tr>\n",
       "      <th>88</th>\n",
       "      <td>c69324</td>\n",
       "      <td>Oke_RAD28497</td>\n",
       "      <td>Oke_RAD28497</td>\n",
       "    </tr>\n",
       "    <tr>\n",
       "      <th>89</th>\n",
       "      <td>c71136</td>\n",
       "      <td>Oke_RAD715</td>\n",
       "      <td>Oke_RAD715</td>\n",
       "    </tr>\n",
       "    <tr>\n",
       "      <th>90</th>\n",
       "      <td>c71358</td>\n",
       "      <td>Oke_RAD3715</td>\n",
       "      <td>Oke_RAD3715</td>\n",
       "    </tr>\n",
       "    <tr>\n",
       "      <th>91</th>\n",
       "      <td>c71465</td>\n",
       "      <td>Oke_RAD16718</td>\n",
       "      <td>Oke_RAD16718</td>\n",
       "    </tr>\n",
       "    <tr>\n",
       "      <th>92</th>\n",
       "      <td>c71470</td>\n",
       "      <td>Oke_RAD4746</td>\n",
       "      <td>Oke_RAD4746</td>\n",
       "    </tr>\n",
       "    <tr>\n",
       "      <th>93</th>\n",
       "      <td>c72349</td>\n",
       "      <td>Oke_RAD16763</td>\n",
       "      <td>Oke_RAD16763</td>\n",
       "    </tr>\n",
       "    <tr>\n",
       "      <th>94</th>\n",
       "      <td>c73512</td>\n",
       "      <td>Oke_RAD10345</td>\n",
       "      <td>Oke_RAD10345</td>\n",
       "    </tr>\n",
       "    <tr>\n",
       "      <th>95</th>\n",
       "      <td>c74643</td>\n",
       "      <td>Oke_RAD3055</td>\n",
       "      <td>Oke_RAD3055</td>\n",
       "    </tr>\n",
       "    <tr>\n",
       "      <th>96</th>\n",
       "      <td>c75002</td>\n",
       "      <td>Oke_RAD4538</td>\n",
       "      <td>Oke_RAD4538</td>\n",
       "    </tr>\n",
       "    <tr>\n",
       "      <th>97</th>\n",
       "      <td>c75339</td>\n",
       "      <td>Oke_RAD2523</td>\n",
       "      <td>Oke_RAD2523</td>\n",
       "    </tr>\n",
       "    <tr>\n",
       "      <th>98</th>\n",
       "      <td>c76227</td>\n",
       "      <td>Oke_RAD14852</td>\n",
       "      <td>Oke_RAD14852</td>\n",
       "    </tr>\n",
       "    <tr>\n",
       "      <th>99</th>\n",
       "      <td>c76324</td>\n",
       "      <td>Oke_RAD859</td>\n",
       "      <td>Oke_RAD859</td>\n",
       "    </tr>\n",
       "    <tr>\n",
       "      <th>100</th>\n",
       "      <td>c77644</td>\n",
       "      <td>Oke_RAD11183</td>\n",
       "      <td>Oke_RAD11183</td>\n",
       "    </tr>\n",
       "    <tr>\n",
       "      <th>101</th>\n",
       "      <td>c78426</td>\n",
       "      <td>Oke_RAD11444</td>\n",
       "      <td>Oke_RAD11444</td>\n",
       "    </tr>\n",
       "    <tr>\n",
       "      <th>102</th>\n",
       "      <td>c79348</td>\n",
       "      <td>Oke_RAD1635</td>\n",
       "      <td>Oke_RAD1635</td>\n",
       "    </tr>\n",
       "  </tbody>\n",
       "</table>\n",
       "<p>103 rows × 3 columns</p>\n",
       "</div>"
      ],
      "text/plain": [
       "        ref    TaqManID_x    TaqManID_y\n",
       "0      c628  Oke_RAD17085  Oke_RAD17085\n",
       "1      c799   Oke_RAD4286   Oke_RAD4286\n",
       "2     c1041   Oke_RAD8698   Oke_RAD8698\n",
       "3     c1272   Oke_RAD3143   Oke_RAD3143\n",
       "4     c1932  Oke_RAD22123  Oke_RAD22123\n",
       "5     c3864  Oke_RAD12294  Oke_RAD12294\n",
       "6     c4281   Oke_RAD2772   Oke_RAD2772\n",
       "7     c5025   Oke_RAD8018   Oke_RAD8018\n",
       "8     c5230   Oke_RAD2827   Oke_RAD2827\n",
       "9     c6010  Oke_RAD20162  Oke_RAD20162\n",
       "10    c6889  Oke_RAD11999  Oke_RAD11999\n",
       "11    c8050   Oke_RAD4787   Oke_RAD4787\n",
       "12    c9471   Oke_RAD2633   Oke_RAD2633\n",
       "13    c9849  Oke_RAD12415  Oke_RAD12415\n",
       "14   c10184  Oke_RAD10459  Oke_RAD10459\n",
       "15   c12042     Oke_RAD39     Oke_RAD39\n",
       "16   c12189    Oke_RAD369    Oke_RAD369\n",
       "17   c13132   Oke_RAD8372   Oke_RAD8372\n",
       "18   c13761   Oke_RAD8326   Oke_RAD8326\n",
       "19   c13860   Oke_RAD4875   Oke_RAD4875\n",
       "20   c14300   Oke_RAD5248   Oke_RAD5248\n",
       "21   c15244   Oke_RAD2522   Oke_RAD2522\n",
       "22   c15956  Oke_RAD11379  Oke_RAD11379\n",
       "23   c16014  Oke_RAD11918  Oke_RAD11918\n",
       "24   c16416   Oke_RAD3948   Oke_RAD3948\n",
       "25   c16598   Oke_RAD3223   Oke_RAD3223\n",
       "26   c17773   Oke_RAD4426   Oke_RAD4426\n",
       "27   c18101    Oke_RAD905    Oke_RAD905\n",
       "28   c19857  Oke_RAD27721  Oke_RAD27721\n",
       "29   c21552  Oke_RAD11928           NaN\n",
       "..      ...           ...           ...\n",
       "73   c59224   Oke_RAD7178   Oke_RAD7178\n",
       "74   c59348   Oke_RAD5340   Oke_RAD5340\n",
       "75   c60767  Oke_RAD17332  Oke_RAD17332\n",
       "76   c61888   Oke_RAD6703   Oke_RAD6703\n",
       "77   c62433   Oke_RAD3995   Oke_RAD3995\n",
       "78   c64355   Oke_RAD7883   Oke_RAD7883\n",
       "79   c65258   Oke_RAD7512   Oke_RAD7512\n",
       "80   c65973  Oke_RAD14962  Oke_RAD14962\n",
       "81   c66140  Oke_RAD11690  Oke_RAD11690\n",
       "82   c66476   Oke_RAD7638   Oke_RAD7638\n",
       "83   c67160  Oke_RAD27694  Oke_RAD27694\n",
       "84   c68223   Oke_RAD3131   Oke_RAD3131\n",
       "85   c68344  Oke_RAD10591  Oke_RAD10591\n",
       "86   c68640  Oke_RAD12550  Oke_RAD12550\n",
       "87   c69181   Oke_RAD8930   Oke_RAD8930\n",
       "88   c69324  Oke_RAD28497  Oke_RAD28497\n",
       "89   c71136    Oke_RAD715    Oke_RAD715\n",
       "90   c71358   Oke_RAD3715   Oke_RAD3715\n",
       "91   c71465  Oke_RAD16718  Oke_RAD16718\n",
       "92   c71470   Oke_RAD4746   Oke_RAD4746\n",
       "93   c72349  Oke_RAD16763  Oke_RAD16763\n",
       "94   c73512  Oke_RAD10345  Oke_RAD10345\n",
       "95   c74643   Oke_RAD3055   Oke_RAD3055\n",
       "96   c75002   Oke_RAD4538   Oke_RAD4538\n",
       "97   c75339   Oke_RAD2523   Oke_RAD2523\n",
       "98   c76227  Oke_RAD14852  Oke_RAD14852\n",
       "99   c76324    Oke_RAD859    Oke_RAD859\n",
       "100  c77644  Oke_RAD11183  Oke_RAD11183\n",
       "101  c78426  Oke_RAD11444  Oke_RAD11444\n",
       "102  c79348   Oke_RAD1635   Oke_RAD1635\n",
       "\n",
       "[103 rows x 3 columns]"
      ]
     },
     "execution_count": 204,
     "metadata": {},
     "output_type": "execute_result"
    }
   ],
   "source": [
    "pd.merge(by_mapq, by_edit_distance, left_on='ref', right_on='ref', how= 'outer').tail(170)"
   ]
  },
  {
   "cell_type": "code",
   "execution_count": null,
   "metadata": {
    "collapsed": true
   },
   "outputs": [],
   "source": []
  }
 ],
 "metadata": {
  "kernelspec": {
   "display_name": "Python 2",
   "language": "python",
   "name": "python2"
  },
  "language_info": {
   "codemirror_mode": {
    "name": "ipython",
    "version": 2
   },
   "file_extension": ".py",
   "mimetype": "text/x-python",
   "name": "python",
   "nbconvert_exporter": "python",
   "pygments_lexer": "ipython2",
   "version": "2.7.10"
  }
 },
 "nbformat": 4,
 "nbformat_minor": 0
}
