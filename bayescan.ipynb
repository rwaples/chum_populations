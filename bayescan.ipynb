{
 "cells": [
  {
   "cell_type": "markdown",
   "metadata": {},
   "source": [
    "### Use PGDSpider to convert to BAYESCAN format\n",
    "Notice this requires a SPID file."
   ]
  },
  {
   "cell_type": "markdown",
   "metadata": {},
   "source": [
    "### Use PLINK to create a \\*.ped file(s)"
   ]
  },
  {
   "cell_type": "markdown",
   "metadata": {},
   "source": [
    "#### All 10 populations, all non-paralogous loci"
   ]
  },
  {
   "cell_type": "code",
   "execution_count": 5,
   "metadata": {
    "collapsed": false
   },
   "outputs": [
    {
     "name": "stdout",
     "output_type": "stream",
     "text": [
      "PLINK v1.90b3j 64-bit (2 Apr 2015)         https://www.cog-genomics.org/plink2\n",
      "(C) 2005-2015 Shaun Purcell, Christopher Chang   GNU General Public License v3\n",
      "Logging to /home/ipseg/Desktop/waples/chum_populations/results/batch_4/pop_analysis/non_paralogs.log.\n",
      "32127 MB RAM detected; reserving 16063 MB for main workspace.\n",
      "12539 variants loaded from .bim file.\n",
      "174 samples (0 males, 0 females, 174 ambiguous) loaded from .fam.\n",
      "Ambiguous sex IDs written to\n",
      "/home/ipseg/Desktop/waples/chum_populations/results/batch_4/pop_analysis/non_paralogs.nosex\n",
      ".\n",
      "Using 1 thread (no multithreaded calculations invoked).\n",
      "Before main variant filters, 174 founders and 0 nonfounders present.\n",
      "Calculating allele frequencies... 0%\b\b1%\b\b2%\b\b3%\b\b4%\b\b5%\b\b6%\b\b7%\b\b8%\b\b9%\b\b10%\b\b\b11%\b\b\b12%\b\b\b13%\b\b\b14%\b\b\b15%\b\b\b16%\b\b\b17%\b\b\b18%\b\b\b19%\b\b\b20%\b\b\b21%\b\b\b22%\b\b\b23%\b\b\b24%\b\b\b25%\b\b\b26%\b\b\b27%\b\b\b28%\b\b\b29%\b\b\b30%\b\b\b31%\b\b\b32%\b\b\b33%\b\b\b34%\b\b\b35%\b\b\b36%\b\b\b37%\b\b\b38%\b\b\b39%\b\b\b40%\b\b\b41%\b\b\b42%\b\b\b43%\b\b\b44%\b\b\b45%\b\b\b46%\b\b\b47%\b\b\b48%\b\b\b49%\b\b\b50%\b\b\b51%\b\b\b52%\b\b\b53%\b\b\b54%\b\b\b55%\b\b\b56%\b\b\b57%\b\b\b58%\b\b\b59%\b\b\b60%\b\b\b61%\b\b\b62%\b\b\b63%\b\b\b64%\b\b\b65%\b\b\b66%\b\b\b67%\b\b\b68%\b\b\b69%\b\b\b70%\b\b\b71%\b\b\b72%\b\b\b73%\b\b\b74%\b\b\b75%\b\b\b76%\b\b\b77%\b\b\b78%\b\b\b79%\b\b\b80%\b\b\b81%\b\b\b82%\b\b\b83%\b\b\b84%\b\b\b85%\b\b\b86%\b\b\b87%\b\b\b88%\b\b\b89%\b\b\b90%\b\b\b91%\b\b\b92%\b\b\b93%\b\b\b94%\b\b\b95%\b\b\b96%\b\b\b97%\b\b\b98%\b\b\b99%\b\b\b\b done.\n",
      "Total genotyping rate is 0.927873.\n",
      "12539 variants and 174 samples pass filters and QC.\n",
      "Note: No phenotypes present.\n",
      "--recode to\n",
      "/home/ipseg/Desktop/waples/chum_populations/results/batch_4/pop_analysis/non_paralogs.ped\n",
      "+\n",
      "/home/ipseg/Desktop/waples/chum_populations/results/batch_4/pop_analysis/non_paralogs.map\n",
      "... 0%\b\b1%\b\b2%\b\b3%\b\b4%\b\b5%\b\b6%\b\b7%\b\b8%\b\b9%\b\b10%\b\b\b11%\b\b\b12%\b\b\b13%\b\b\b14%\b\b\b15%\b\b\b16%\b\b\b17%\b\b\b18%\b\b\b19%\b\b\b20%\b\b\b21%\b\b\b22%\b\b\b23%\b\b\b24%\b\b\b25%\b\b\b26%\b\b\b27%\b\b\b28%\b\b\b29%\b\b\b30%\b\b\b31%\b\b\b32%\b\b\b33%\b\b\b34%\b\b\b35%\b\b\b36%\b\b\b37%\b\b\b38%\b\b\b39%\b\b\b40%\b\b\b41%\b\b\b42%\b\b\b43%\b\b\b44%\b\b\b45%\b\b\b46%\b\b\b47%\b\b\b48%\b\b\b49%\b\b\b50%\b\b\b51%\b\b\b52%\b\b\b53%\b\b\b54%\b\b\b55%\b\b\b56%\b\b\b57%\b\b\b58%\b\b\b59%\b\b\b60%\b\b\b61%\b\b\b62%\b\b\b63%\b\b\b64%\b\b\b65%\b\b\b66%\b\b\b67%\b\b\b68%\b\b\b69%\b\b\b70%\b\b\b71%\b\b\b72%\b\b\b73%\b\b\b74%\b\b\b75%\b\b\b76%\b\b\b77%\b\b\b78%\b\b\b79%\b\b\b80%\b\b\b81%\b\b\b82%\b\b\b83%\b\b\b84%\b\b\b85%\b\b\b86%\b\b\b87%\b\b\b88%\b\b\b89%\b\b\b90%\b\b\b91%\b\b\b92%\b\b\b93%\b\b\b94%\b\b\b95%\b\b\b96%\b\b\b97%\b\b\b98%\b\b\b99%\b\b\bdone.\n"
     ]
    }
   ],
   "source": [
    "!plink --bfile /home/ipseg/Desktop/waples/chum_populations/data/batch_4/pop_genotypes/non_paralogs \\\n",
    "--allow-extra-chr --allow-no-sex --autosome-num 50 \\\n",
    "--recode --out /home/ipseg/Desktop/waples/chum_populations/results/batch_4/pop_analysis/bayescan/non_paralogs"
   ]
  },
  {
   "cell_type": "markdown",
   "metadata": {},
   "source": [
    "### Bayescan runs:\n",
    "\n",
    "#### All populations\n",
    "    1) All pops\n",
    "    2) All minus Hoodsport\n",
    "\n",
    "#### Life-history axis\n",
    "    3) Hood Canal - Summer vs Fall (Hamma Hamma, Lilliwaup)\n",
    "    4) South Puget Sound - Summer vs Fall vs Winter (Sherwood Summer, Sherwood Fall, Skookum, Nisqually Kalama)\n",
    "    5) Sherwood - Summer vs Fall (Sherwood Summer, Sherwood Fall)\n",
    "\n",
    "#### Controls\n",
    "    6) Fall vs Fall - North Puget Sound (Snohomish, Stillaguamish)\n",
    "    7) Fall vs Fall - South Puget Sound (Sherwood Fall, Skookum)"
   ]
  },
  {
   "cell_type": "code",
   "execution_count": 6,
   "metadata": {
    "collapsed": false
   },
   "outputs": [
    {
     "data": {
      "text/html": [
       "<div style=\"max-height:1000px;max-width:1500px;overflow:auto;\">\n",
       "<table border=\"1\" class=\"dataframe\">\n",
       "  <thead>\n",
       "    <tr style=\"text-align: right;\">\n",
       "      <th></th>\n",
       "      <th>cluster</th>\n",
       "      <th>ind_ID</th>\n",
       "      <th>pop</th>\n",
       "    </tr>\n",
       "  </thead>\n",
       "  <tbody>\n",
       "    <tr>\n",
       "      <th>0</th>\n",
       "      <td>1</td>\n",
       "      <td>CMHAMM10_0002</td>\n",
       "      <td>CMHAMM10</td>\n",
       "    </tr>\n",
       "    <tr>\n",
       "      <th>20</th>\n",
       "      <td>2</td>\n",
       "      <td>CMKALA03_0004</td>\n",
       "      <td>CMKALA03</td>\n",
       "    </tr>\n",
       "    <tr>\n",
       "      <th>37</th>\n",
       "      <td>3</td>\n",
       "      <td>CMLILLIW11_0011</td>\n",
       "      <td>CMLILLIW11</td>\n",
       "    </tr>\n",
       "    <tr>\n",
       "      <th>57</th>\n",
       "      <td>4</td>\n",
       "      <td>CMSHERW94F_0010</td>\n",
       "      <td>CMSHERW94F</td>\n",
       "    </tr>\n",
       "    <tr>\n",
       "      <th>89</th>\n",
       "      <td>5</td>\n",
       "      <td>CMSHERW94S_0001</td>\n",
       "      <td>CMSHERW94S</td>\n",
       "    </tr>\n",
       "    <tr>\n",
       "      <th>120</th>\n",
       "      <td>6</td>\n",
       "      <td>CMSKOO10_0002</td>\n",
       "      <td>CMSKOO10</td>\n",
       "    </tr>\n",
       "    <tr>\n",
       "      <th>131</th>\n",
       "      <td>7</td>\n",
       "      <td>CMSNOH10_0026</td>\n",
       "      <td>CMSNOH10</td>\n",
       "    </tr>\n",
       "    <tr>\n",
       "      <th>145</th>\n",
       "      <td>8</td>\n",
       "      <td>CMSQUA10_0001</td>\n",
       "      <td>CMSQUA10</td>\n",
       "    </tr>\n",
       "    <tr>\n",
       "      <th>153</th>\n",
       "      <td>9</td>\n",
       "      <td>CMSTILL10_0006</td>\n",
       "      <td>CMSTILL10</td>\n",
       "    </tr>\n",
       "    <tr>\n",
       "      <th>166</th>\n",
       "      <td>10</td>\n",
       "      <td>CMUW10_0001</td>\n",
       "      <td>CMUW10</td>\n",
       "    </tr>\n",
       "  </tbody>\n",
       "</table>\n",
       "</div>"
      ],
      "text/plain": [
       "     cluster           ind_ID         pop\n",
       "0          1    CMHAMM10_0002    CMHAMM10\n",
       "20         2    CMKALA03_0004    CMKALA03\n",
       "37         3  CMLILLIW11_0011  CMLILLIW11\n",
       "57         4  CMSHERW94F_0010  CMSHERW94F\n",
       "89         5  CMSHERW94S_0001  CMSHERW94S\n",
       "120        6    CMSKOO10_0002    CMSKOO10\n",
       "131        7    CMSNOH10_0026    CMSNOH10\n",
       "145        8    CMSQUA10_0001    CMSQUA10\n",
       "153        9   CMSTILL10_0006   CMSTILL10\n",
       "166       10      CMUW10_0001      CMUW10"
      ]
     },
     "execution_count": 6,
     "metadata": {},
     "output_type": "execute_result"
    }
   ],
   "source": [
    "import pandas as pd\n",
    "inds = pd.read_csv('/home/ipseg/Desktop/waples/chum_populations/data/batch_4/pop_genotypes/non_paralogs.nosex', \n",
    "            sep='\\t', header = None)\n",
    "inds.columns =(['cluster', 'ind_ID'])\n",
    "inds['pop'] = [xx.split('_')[0] for xx in inds['ind_ID']]\n",
    "inds.drop_duplicates(subset = ['cluster'], inplace = True)\n",
    "inds.head(12)"
   ]
  },
  {
   "cell_type": "code",
   "execution_count": 10,
   "metadata": {
    "collapsed": false
   },
   "outputs": [],
   "source": [
    "bayescan_groups = dict()\n",
    "\n",
    "bayescan_groups['1'] = ['1','2','3','4','5','6','7','8','9','10']\n",
    "bayescan_groups['2'] = ['1','2','3','4','5','6','7','8','9']\n",
    "bayescan_groups['3'] = ['1', '3']\n",
    "bayescan_groups['4'] = ['5', '4', '6', '2']\n",
    "bayescan_groups['5'] = ['4', '5']\n",
    "bayescan_groups['6'] = ['7', '9']\n",
    "bayescan_groups['7'] = ['4', '6']\n",
    "\n",
    "#bayescan_groups = [bayescan_group_1,  bayescan_group_2, bayescan_group_3, bayescan_group_4, \n",
    "#                   bayescan_group_5, bayescan_group_6, bayescan_group_7]"
   ]
  },
  {
   "cell_type": "code",
   "execution_count": 12,
   "metadata": {
    "collapsed": false
   },
   "outputs": [
    {
     "name": "stdout",
     "output_type": "stream",
     "text": [
      "PLINK v1.90b3j 64-bit (2 Apr 2015)         https://www.cog-genomics.org/plink2\n",
      "(C) 2005-2015 Shaun Purcell, Christopher Chang   GNU General Public License v3\n",
      "Logging to /home/ipseg/Desktop/waples/chum_populations/results/batch_4/pop_analysis/bayescan/BS_group_1.log.\n",
      "32127 MB RAM detected; reserving 16063 MB for main workspace.\n",
      "12539 variants loaded from .bim file.\n",
      "174 samples (0 males, 0 females, 174 ambiguous) loaded from .fam.\n",
      "Ambiguous sex IDs written to\n",
      "/home/ipseg/Desktop/waples/chum_populations/results/batch_4/pop_analysis/bayescan/BS_group_1.nosex\n",
      ".\n",
      "--family: 10 clusters defined.\n",
      "Using 1 thread (no multithreaded calculations invoked).\n",
      "Before main variant filters, 174 founders and 0 nonfounders present.\n",
      "Calculating allele frequencies... 0%\b\b1%\b\b2%\b\b3%\b\b4%\b\b5%\b\b6%\b\b7%\b\b8%\b\b9%\b\b10%\b\b\b11%\b\b\b12%\b\b\b13%\b\b\b14%\b\b\b15%\b\b\b16%\b\b\b17%\b\b\b18%\b\b\b19%\b\b\b20%\b\b\b21%\b\b\b22%\b\b\b23%\b\b\b24%\b\b\b25%\b\b\b26%\b\b\b27%\b\b\b28%\b\b\b29%\b\b\b30%\b\b\b31%\b\b\b32%\b\b\b33%\b\b\b34%\b\b\b35%\b\b\b36%\b\b\b37%\b\b\b38%\b\b\b39%\b\b\b40%\b\b\b41%\b\b\b42%\b\b\b43%\b\b\b44%\b\b\b45%\b\b\b46%\b\b\b47%\b\b\b48%\b\b\b49%\b\b\b50%\b\b\b51%\b\b\b52%\b\b\b53%\b\b\b54%\b\b\b55%\b\b\b56%\b\b\b57%\b\b\b58%\b\b\b59%\b\b\b60%\b\b\b61%\b\b\b62%\b\b\b63%\b\b\b64%\b\b\b65%\b\b\b66%\b\b\b67%\b\b\b68%\b\b\b69%\b\b\b70%\b\b\b71%\b\b\b72%\b\b\b73%\b\b\b74%\b\b\b75%\b\b\b76%\b\b\b77%\b\b\b78%\b\b\b79%\b\b\b80%\b\b\b81%\b\b\b82%\b\b\b83%\b\b\b84%\b\b\b85%\b\b\b86%\b\b\b87%\b\b\b88%\b\b\b89%\b\b\b90%\b\b\b91%\b\b\b92%\b\b\b93%\b\b\b94%\b\b\b95%\b\b\b96%\b\b\b97%\b\b\b98%\b\b\b99%\b\b\b\b done.\n",
      "Total genotyping rate is 0.927873.\n",
      "12539 variants and 174 samples pass filters and QC.\n",
      "Note: No phenotypes present.\n",
      "--recode to\n",
      "/home/ipseg/Desktop/waples/chum_populations/results/batch_4/pop_analysis/bayescan/BS_group_1.ped\n",
      "+\n",
      "/home/ipseg/Desktop/waples/chum_populations/results/batch_4/pop_analysis/bayescan/BS_group_1.map\n",
      "... 0%\b\b1%\b\b2%\b\b3%\b\b4%\b\b5%\b\b6%\b\b7%\b\b8%\b\b9%\b\b10%\b\b\b11%\b\b\b12%\b\b\b13%\b\b\b14%\b\b\b15%\b\b\b16%\b\b\b17%\b\b\b18%\b\b\b19%\b\b\b20%\b\b\b21%\b\b\b22%\b\b\b23%\b\b\b24%\b\b\b25%\b\b\b26%\b\b\b27%\b\b\b28%\b\b\b29%\b\b\b30%\b\b\b31%\b\b\b32%\b\b\b33%\b\b\b34%\b\b\b35%\b\b\b36%\b\b\b37%\b\b\b38%\b\b\b39%\b\b\b40%\b\b\b41%\b\b\b42%\b\b\b43%\b\b\b44%\b\b\b45%\b\b\b46%\b\b\b47%\b\b\b48%\b\b\b49%\b\b\b50%\b\b\b51%\b\b\b52%\b\b\b53%\b\b\b54%\b\b\b55%\b\b\b56%\b\b\b57%\b\b\b58%\b\b\b59%\b\b\b60%\b\b\b61%\b\b\b62%\b\b\b63%\b\b\b64%\b\b\b65%\b\b\b66%\b\b\b67%\b\b\b68%\b\b\b69%\b\b\b70%\b\b\b71%\b\b\b72%\b\b\b73%\b\b\b74%\b\b\b75%\b\b\b76%\b\b\b77%\b\b\b78%\b\b\b79%\b\b\b80%\b\b\b81%\b\b\b82%\b\b\b83%\b\b\b84%\b\b\b85%\b\b\b86%\b\b\b87%\b\b\b88%\b\b\b89%\b\b\b90%\b\b\b91%\b\b\b92%\b\b\b93%\b\b\b94%\b\b\b95%\b\b\b96%\b\b\b97%\b\b\b98%\b\b\b99%\b\b\bdone.\n",
      "PLINK v1.90b3j 64-bit (2 Apr 2015)         https://www.cog-genomics.org/plink2\n",
      "(C) 2005-2015 Shaun Purcell, Christopher Chang   GNU General Public License v3\n",
      "Logging to /home/ipseg/Desktop/waples/chum_populations/results/batch_4/pop_analysis/bayescan/BS_group_3.log.\n",
      "32127 MB RAM detected; reserving 16063 MB for main workspace.\n",
      "12539 variants loaded from .bim file.\n",
      "174 samples (0 males, 0 females, 174 ambiguous) loaded from .fam.\n",
      "Ambiguous sex IDs written to\n",
      "/home/ipseg/Desktop/waples/chum_populations/results/batch_4/pop_analysis/bayescan/BS_group_3.nosex\n",
      ".\n",
      "--family: 2 clusters defined.\n",
      "134 samples removed by cluster filter(s).\n",
      "Using 1 thread (no multithreaded calculations invoked).\n",
      "Before main variant filters, 40 founders and 0 nonfounders present.\n",
      "Calculating allele frequencies... 0%\b\b1%\b\b2%\b\b3%\b\b4%\b\b5%\b\b6%\b\b7%\b\b8%\b\b9%\b\b10%\b\b\b11%\b\b\b12%\b\b\b13%\b\b\b14%\b\b\b15%\b\b\b16%\b\b\b17%\b\b\b18%\b\b\b19%\b\b\b20%\b\b\b21%\b\b\b22%\b\b\b23%\b\b\b24%\b\b\b25%\b\b\b26%\b\b\b27%\b\b\b28%\b\b\b29%\b\b\b30%\b\b\b31%\b\b\b32%\b\b\b33%\b\b\b34%\b\b\b35%\b\b\b36%\b\b\b37%\b\b\b38%\b\b\b39%\b\b\b40%\b\b\b41%\b\b\b42%\b\b\b43%\b\b\b44%\b\b\b45%\b\b\b46%\b\b\b47%\b\b\b48%\b\b\b49%\b\b\b50%\b\b\b51%\b\b\b52%\b\b\b53%\b\b\b54%\b\b\b55%\b\b\b56%\b\b\b57%\b\b\b58%\b\b\b59%\b\b\b60%\b\b\b61%\b\b\b62%\b\b\b63%\b\b\b64%\b\b\b65%\b\b\b66%\b\b\b67%\b\b\b68%\b\b\b69%\b\b\b70%\b\b\b71%\b\b\b72%\b\b\b73%\b\b\b74%\b\b\b75%\b\b\b76%\b\b\b77%\b\b\b78%\b\b\b79%\b\b\b80%\b\b\b81%\b\b\b82%\b\b\b83%\b\b\b84%\b\b\b85%\b\b\b86%\b\b\b87%\b\b\b88%\b\b\b89%\b\b\b90%\b\b\b91%\b\b\b92%\b\b\b93%\b\b\b94%\b\b\b95%\b\b\b96%\b\b\b97%\b\b\b98%\b\b\b99%\b\b\b\b done.\n",
      "Total genotyping rate in remaining samples is 0.925654.\n",
      "12539 variants and 40 samples pass filters and QC.\n",
      "Note: No phenotypes present.\n",
      "--recode to\n",
      "/home/ipseg/Desktop/waples/chum_populations/results/batch_4/pop_analysis/bayescan/BS_group_3.ped\n",
      "+\n",
      "/home/ipseg/Desktop/waples/chum_populations/results/batch_4/pop_analysis/bayescan/BS_group_3.map\n",
      "... 0%\b\b1%\b\b2%\b\b3%\b\b4%\b\b5%\b\b6%\b\b7%\b\b8%\b\b9%\b\b10%\b\b\b11%\b\b\b12%\b\b\b13%\b\b\b14%\b\b\b15%\b\b\b16%\b\b\b17%\b\b\b18%\b\b\b19%\b\b\b20%\b\b\b21%\b\b\b22%\b\b\b23%\b\b\b24%\b\b\b25%\b\b\b26%\b\b\b27%\b\b\b28%\b\b\b29%\b\b\b30%\b\b\b31%\b\b\b32%\b\b\b33%\b\b\b34%\b\b\b35%\b\b\b36%\b\b\b37%\b\b\b38%\b\b\b39%\b\b\b40%\b\b\b41%\b\b\b42%\b\b\b43%\b\b\b44%\b\b\b45%\b\b\b46%\b\b\b47%\b\b\b48%\b\b\b49%\b\b\b50%\b\b\b51%\b\b\b52%\b\b\b53%\b\b\b54%\b\b\b55%\b\b\b56%\b\b\b57%\b\b\b58%\b\b\b59%\b\b\b60%\b\b\b61%\b\b\b62%\b\b\b63%\b\b\b64%\b\b\b65%\b\b\b66%\b\b\b67%\b\b\b68%\b\b\b69%\b\b\b70%\b\b\b71%\b\b\b72%\b\b\b73%\b\b\b74%\b\b\b75%\b\b\b76%\b\b\b77%\b\b\b78%\b\b\b79%\b\b\b80%\b\b\b81%\b\b\b82%\b\b\b83%\b\b\b84%\b\b\b85%\b\b\b86%\b\b\b87%\b\b\b88%\b\b\b89%\b\b\b90%\b\b\b91%\b\b\b92%\b\b\b93%\b\b\b94%\b\b\b95%\b\b\b96%\b\b\b97%\b\b\b98%\b\b\b99%\b\b\bdone.\n",
      "PLINK v1.90b3j 64-bit (2 Apr 2015)         https://www.cog-genomics.org/plink2\n",
      "(C) 2005-2015 Shaun Purcell, Christopher Chang   GNU General Public License v3\n",
      "Logging to /home/ipseg/Desktop/waples/chum_populations/results/batch_4/pop_analysis/bayescan/BS_group_2.log.\n",
      "32127 MB RAM detected; reserving 16063 MB for main workspace.\n",
      "12539 variants loaded from .bim file.\n",
      "174 samples (0 males, 0 females, 174 ambiguous) loaded from .fam.\n",
      "Ambiguous sex IDs written to\n",
      "/home/ipseg/Desktop/waples/chum_populations/results/batch_4/pop_analysis/bayescan/BS_group_2.nosex\n",
      ".\n",
      "--family: 9 clusters defined.\n",
      "8 samples removed by cluster filter(s).\n",
      "Using 1 thread (no multithreaded calculations invoked).\n",
      "Before main variant filters, 166 founders and 0 nonfounders present.\n",
      "Calculating allele frequencies... 0%\b\b1%\b\b2%\b\b3%\b\b4%\b\b5%\b\b6%\b\b7%\b\b8%\b\b9%\b\b10%\b\b\b11%\b\b\b12%\b\b\b13%\b\b\b14%\b\b\b15%\b\b\b16%\b\b\b17%\b\b\b18%\b\b\b19%\b\b\b20%\b\b\b21%\b\b\b22%\b\b\b23%\b\b\b24%\b\b\b25%\b\b\b26%\b\b\b27%\b\b\b28%\b\b\b29%\b\b\b30%\b\b\b31%\b\b\b32%\b\b\b33%\b\b\b34%\b\b\b35%\b\b\b36%\b\b\b37%\b\b\b38%\b\b\b39%\b\b\b40%\b\b\b41%\b\b\b42%\b\b\b43%\b\b\b44%\b\b\b45%\b\b\b46%\b\b\b47%\b\b\b48%\b\b\b49%\b\b\b50%\b\b\b51%\b\b\b52%\b\b\b53%\b\b\b54%\b\b\b55%\b\b\b56%\b\b\b57%\b\b\b58%\b\b\b59%\b\b\b60%\b\b\b61%\b\b\b62%\b\b\b63%\b\b\b64%\b\b\b65%\b\b\b66%\b\b\b67%\b\b\b68%\b\b\b69%\b\b\b70%\b\b\b71%\b\b\b72%\b\b\b73%\b\b\b74%\b\b\b75%\b\b\b76%\b\b\b77%\b\b\b78%\b\b\b79%\b\b\b80%\b\b\b81%\b\b\b82%\b\b\b83%\b\b\b84%\b\b\b85%\b\b\b86%\b\b\b87%\b\b\b88%\b\b\b89%\b\b\b90%\b\b\b91%\b\b\b92%\b\b\b93%\b\b\b94%\b\b\b95%\b\b\b96%\b\b\b97%\b\b\b98%\b\b\b99%\b\b\b\b done.\n",
      "Total genotyping rate in remaining samples is 0.931692.\n",
      "12539 variants and 166 samples pass filters and QC.\n",
      "Note: No phenotypes present.\n",
      "--recode to\n",
      "/home/ipseg/Desktop/waples/chum_populations/results/batch_4/pop_analysis/bayescan/BS_group_2.ped\n",
      "+\n",
      "/home/ipseg/Desktop/waples/chum_populations/results/batch_4/pop_analysis/bayescan/BS_group_2.map\n",
      "... 0%\b\b1%\b\b2%\b\b3%\b\b4%\b\b5%\b\b6%\b\b7%\b\b8%\b\b9%\b\b10%\b\b\b11%\b\b\b12%\b\b\b13%\b\b\b14%\b\b\b15%\b\b\b16%\b\b\b17%\b\b\b18%\b\b\b19%\b\b\b20%\b\b\b21%\b\b\b22%\b\b\b23%\b\b\b24%\b\b\b25%\b\b\b26%\b\b\b27%\b\b\b28%\b\b\b29%\b\b\b30%\b\b\b31%\b\b\b32%\b\b\b33%\b\b\b34%\b\b\b35%\b\b\b36%\b\b\b37%\b\b\b38%\b\b\b39%\b\b\b40%\b\b\b41%\b\b\b42%\b\b\b43%\b\b\b44%\b\b\b45%\b\b\b46%\b\b\b47%\b\b\b48%\b\b\b49%\b\b\b50%\b\b\b51%\b\b\b52%\b\b\b53%\b\b\b54%\b\b\b55%\b\b\b56%\b\b\b57%\b\b\b58%\b\b\b59%\b\b\b60%\b\b\b61%\b\b\b62%\b\b\b63%\b\b\b64%\b\b\b65%\b\b\b66%\b\b\b67%\b\b\b68%\b\b\b69%\b\b\b70%\b\b\b71%\b\b\b72%\b\b\b73%\b\b\b74%\b\b\b75%\b\b\b76%\b\b\b77%\b\b\b78%\b\b\b79%\b\b\b80%\b\b\b81%\b\b\b82%\b\b\b83%\b\b\b84%\b\b\b85%\b\b\b86%\b\b\b87%\b\b\b88%\b\b\b89%\b\b\b90%\b\b\b91%\b\b\b92%\b\b\b93%\b\b\b94%\b\b\b95%\b\b\b96%\b\b\b97%\b\b\b98%\b\b\b99%\b\b\bdone.\n",
      "PLINK v1.90b3j 64-bit (2 Apr 2015)         https://www.cog-genomics.org/plink2\n",
      "(C) 2005-2015 Shaun Purcell, Christopher Chang   GNU General Public License v3\n",
      "Logging to /home/ipseg/Desktop/waples/chum_populations/results/batch_4/pop_analysis/bayescan/BS_group_5.log.\n",
      "32127 MB RAM detected; reserving 16063 MB for main workspace.\n",
      "12539 variants loaded from .bim file.\n",
      "174 samples (0 males, 0 females, 174 ambiguous) loaded from .fam.\n",
      "Ambiguous sex IDs written to\n",
      "/home/ipseg/Desktop/waples/chum_populations/results/batch_4/pop_analysis/bayescan/BS_group_5.nosex\n",
      ".\n",
      "--family: 2 clusters defined.\n",
      "111 samples removed by cluster filter(s).\n",
      "Using 1 thread (no multithreaded calculations invoked).\n",
      "Before main variant filters, 63 founders and 0 nonfounders present.\n",
      "Calculating allele frequencies... 0%\b\b1%\b\b2%\b\b3%\b\b4%\b\b5%\b\b6%\b\b7%\b\b8%\b\b9%\b\b10%\b\b\b11%\b\b\b12%\b\b\b13%\b\b\b14%\b\b\b15%\b\b\b16%\b\b\b17%\b\b\b18%\b\b\b19%\b\b\b20%\b\b\b21%\b\b\b22%\b\b\b23%\b\b\b24%\b\b\b25%\b\b\b26%\b\b\b27%\b\b\b28%\b\b\b29%\b\b\b30%\b\b\b31%\b\b\b32%\b\b\b33%\b\b\b34%\b\b\b35%\b\b\b36%\b\b\b37%\b\b\b38%\b\b\b39%\b\b\b40%\b\b\b41%\b\b\b42%\b\b\b43%\b\b\b44%\b\b\b45%\b\b\b46%\b\b\b47%\b\b\b48%\b\b\b49%\b\b\b50%\b\b\b51%\b\b\b52%\b\b\b53%\b\b\b54%\b\b\b55%\b\b\b56%\b\b\b57%\b\b\b58%\b\b\b59%\b\b\b60%\b\b\b61%\b\b\b62%\b\b\b63%\b\b\b64%\b\b\b65%\b\b\b66%\b\b\b67%\b\b\b68%\b\b\b69%\b\b\b70%\b\b\b71%\b\b\b72%\b\b\b73%\b\b\b74%\b\b\b75%\b\b\b76%\b\b\b77%\b\b\b78%\b\b\b79%\b\b\b80%\b\b\b81%\b\b\b82%\b\b\b83%\b\b\b84%\b\b\b85%\b\b\b86%\b\b\b87%\b\b\b88%\b\b\b89%\b\b\b90%\b\b\b91%\b\b\b92%\b\b\b93%\b\b\b94%\b\b\b95%\b\b\b96%\b\b\b97%\b\b\b98%\b\b\b99%\b\b\b\b done.\n",
      "Total genotyping rate in remaining samples is 0.93458.\n",
      "12539 variants and 63 samples pass filters and QC.\n",
      "Note: No phenotypes present.\n",
      "--recode to\n",
      "/home/ipseg/Desktop/waples/chum_populations/results/batch_4/pop_analysis/bayescan/BS_group_5.ped\n",
      "+\n",
      "/home/ipseg/Desktop/waples/chum_populations/results/batch_4/pop_analysis/bayescan/BS_group_5.map\n",
      "... 0%\b\b1%\b\b2%\b\b3%\b\b4%\b\b5%\b\b6%\b\b7%\b\b8%\b\b9%\b\b10%\b\b\b11%\b\b\b12%\b\b\b13%\b\b\b14%\b\b\b15%\b\b\b16%\b\b\b17%\b\b\b18%\b\b\b19%\b\b\b20%\b\b\b21%\b\b\b22%\b\b\b23%\b\b\b24%\b\b\b25%\b\b\b26%\b\b\b27%\b\b\b28%\b\b\b29%\b\b\b30%\b\b\b31%\b\b\b32%\b\b\b33%\b\b\b34%\b\b\b35%\b\b\b36%\b\b\b37%\b\b\b38%\b\b\b39%\b\b\b40%\b\b\b41%\b\b\b42%\b\b\b43%\b\b\b44%\b\b\b45%\b\b\b46%\b\b\b47%\b\b\b48%\b\b\b49%\b\b\b50%\b\b\b51%\b\b\b52%\b\b\b53%\b\b\b54%\b\b\b55%\b\b\b56%\b\b\b57%\b\b\b58%\b\b\b59%\b\b\b60%\b\b\b61%\b\b\b62%\b\b\b63%\b\b\b64%\b\b\b65%\b\b\b66%\b\b\b67%\b\b\b68%\b\b\b69%\b\b\b70%\b\b\b71%\b\b\b72%\b\b\b73%\b\b\b74%\b\b\b75%\b\b\b76%\b\b\b77%\b\b\b78%\b\b\b79%\b\b\b80%\b\b\b81%\b\b\b82%\b\b\b83%\b\b\b84%\b\b\b85%\b\b\b86%\b\b\b87%\b\b\b88%\b\b\b89%\b\b\b90%\b\b\b91%\b\b\b92%\b\b\b93%\b\b\b94%\b\b\b95%\b\b\b96%\b\b\b97%\b\b\b98%\b\b\b99%\b\b\bdone.\n",
      "PLINK v1.90b3j 64-bit (2 Apr 2015)         https://www.cog-genomics.org/plink2\n",
      "(C) 2005-2015 Shaun Purcell, Christopher Chang   GNU General Public License v3\n",
      "Logging to /home/ipseg/Desktop/waples/chum_populations/results/batch_4/pop_analysis/bayescan/BS_group_4.log.\n",
      "32127 MB RAM detected; reserving 16063 MB for main workspace.\n",
      "12539 variants loaded from .bim file.\n",
      "174 samples (0 males, 0 females, 174 ambiguous) loaded from .fam.\n",
      "Ambiguous sex IDs written to\n",
      "/home/ipseg/Desktop/waples/chum_populations/results/batch_4/pop_analysis/bayescan/BS_group_4.nosex\n",
      ".\n",
      "--family: 4 clusters defined.\n",
      "83 samples removed by cluster filter(s).\n",
      "Using 1 thread (no multithreaded calculations invoked).\n",
      "Before main variant filters, 91 founders and 0 nonfounders present.\n",
      "Calculating allele frequencies... 0%\b\b1%\b\b2%\b\b3%\b\b4%\b\b5%\b\b6%\b\b7%\b\b8%\b\b9%\b\b10%\b\b\b11%\b\b\b12%\b\b\b13%\b\b\b14%\b\b\b15%\b\b\b16%\b\b\b17%\b\b\b18%\b\b\b19%\b\b\b20%\b\b\b21%\b\b\b22%\b\b\b23%\b\b\b24%\b\b\b25%\b\b\b26%\b\b\b27%\b\b\b28%\b\b\b29%\b\b\b30%\b\b\b31%\b\b\b32%\b\b\b33%\b\b\b34%\b\b\b35%\b\b\b36%\b\b\b37%\b\b\b38%\b\b\b39%\b\b\b40%\b\b\b41%\b\b\b42%\b\b\b43%\b\b\b44%\b\b\b45%\b\b\b46%\b\b\b47%\b\b\b48%\b\b\b49%\b\b\b50%\b\b\b51%\b\b\b52%\b\b\b53%\b\b\b54%\b\b\b55%\b\b\b56%\b\b\b57%\b\b\b58%\b\b\b59%\b\b\b60%\b\b\b61%\b\b\b62%\b\b\b63%\b\b\b64%\b\b\b65%\b\b\b66%\b\b\b67%\b\b\b68%\b\b\b69%\b\b\b70%\b\b\b71%\b\b\b72%\b\b\b73%\b\b\b74%\b\b\b75%\b\b\b76%\b\b\b77%\b\b\b78%\b\b\b79%\b\b\b80%\b\b\b81%\b\b\b82%\b\b\b83%\b\b\b84%\b\b\b85%\b\b\b86%\b\b\b87%\b\b\b88%\b\b\b89%\b\b\b90%\b\b\b91%\b\b\b92%\b\b\b93%\b\b\b94%\b\b\b95%\b\b\b96%\b\b\b97%\b\b\b98%\b\b\b99%\b\b\b\b done.\n",
      "Total genotyping rate in remaining samples is 0.942133.\n",
      "12539 variants and 91 samples pass filters and QC.\n",
      "Note: No phenotypes present.\n",
      "--recode to\n",
      "/home/ipseg/Desktop/waples/chum_populations/results/batch_4/pop_analysis/bayescan/BS_group_4.ped\n",
      "+\n",
      "/home/ipseg/Desktop/waples/chum_populations/results/batch_4/pop_analysis/bayescan/BS_group_4.map\n",
      "... 0%\b\b1%\b\b2%\b\b3%\b\b4%\b\b5%\b\b6%\b\b7%\b\b8%\b\b9%\b\b10%\b\b\b11%\b\b\b12%\b\b\b13%\b\b\b14%\b\b\b15%\b\b\b16%\b\b\b17%\b\b\b18%\b\b\b19%\b\b\b20%\b\b\b21%\b\b\b22%\b\b\b23%\b\b\b24%\b\b\b25%\b\b\b26%\b\b\b27%\b\b\b28%\b\b\b29%\b\b\b30%\b\b\b31%\b\b\b32%\b\b\b33%\b\b\b34%\b\b\b35%\b\b\b36%\b\b\b37%\b\b\b38%\b\b\b39%\b\b\b40%\b\b\b41%\b\b\b42%\b\b\b43%\b\b\b44%\b\b\b45%\b\b\b46%\b\b\b47%\b\b\b48%\b\b\b49%\b\b\b50%\b\b\b51%\b\b\b52%\b\b\b53%\b\b\b54%\b\b\b55%\b\b\b56%\b\b\b57%\b\b\b58%\b\b\b59%\b\b\b60%\b\b\b61%\b\b\b62%\b\b\b63%\b\b\b64%\b\b\b65%\b\b\b66%\b\b\b67%\b\b\b68%\b\b\b69%\b\b\b70%\b\b\b71%\b\b\b72%\b\b\b73%\b\b\b74%\b\b\b75%\b\b\b76%\b\b\b77%\b\b\b78%\b\b\b79%\b\b\b80%\b\b\b81%\b\b\b82%\b\b\b83%\b\b\b84%\b\b\b85%\b\b\b86%\b\b\b87%\b\b\b88%\b\b\b89%\b\b\b90%\b\b\b91%\b\b\b92%\b\b\b93%\b\b\b94%\b\b\b95%\b\b\b96%\b\b\b97%\b\b\b98%\b\b\b99%\b\b\bdone.\n",
      "PLINK v1.90b3j 64-bit (2 Apr 2015)         https://www.cog-genomics.org/plink2\n",
      "(C) 2005-2015 Shaun Purcell, Christopher Chang   GNU General Public License v3\n",
      "Logging to /home/ipseg/Desktop/waples/chum_populations/results/batch_4/pop_analysis/bayescan/BS_group_7.log.\n",
      "32127 MB RAM detected; reserving 16063 MB for main workspace.\n",
      "12539 variants loaded from .bim file.\n",
      "174 samples (0 males, 0 females, 174 ambiguous) loaded from .fam.\n",
      "Ambiguous sex IDs written to\n",
      "/home/ipseg/Desktop/waples/chum_populations/results/batch_4/pop_analysis/bayescan/BS_group_7.nosex\n",
      ".\n",
      "--family: 2 clusters defined.\n",
      "131 samples removed by cluster filter(s).\n",
      "Using 1 thread (no multithreaded calculations invoked).\n",
      "Before main variant filters, 43 founders and 0 nonfounders present.\n",
      "Calculating allele frequencies... 0%\b\b1%\b\b2%\b\b3%\b\b4%\b\b5%\b\b6%\b\b7%\b\b8%\b\b9%\b\b10%\b\b\b11%\b\b\b12%\b\b\b13%\b\b\b14%\b\b\b15%\b\b\b16%\b\b\b17%\b\b\b18%\b\b\b19%\b\b\b20%\b\b\b21%\b\b\b22%\b\b\b23%\b\b\b24%\b\b\b25%\b\b\b26%\b\b\b27%\b\b\b28%\b\b\b29%\b\b\b30%\b\b\b31%\b\b\b32%\b\b\b33%\b\b\b34%\b\b\b35%\b\b\b36%\b\b\b37%\b\b\b38%\b\b\b39%\b\b\b40%\b\b\b41%\b\b\b42%\b\b\b43%\b\b\b44%\b\b\b45%\b\b\b46%\b\b\b47%\b\b\b48%\b\b\b49%\b\b\b50%\b\b\b51%\b\b\b52%\b\b\b53%\b\b\b54%\b\b\b55%\b\b\b56%\b\b\b57%\b\b\b58%\b\b\b59%\b\b\b60%\b\b\b61%\b\b\b62%\b\b\b63%\b\b\b64%\b\b\b65%\b\b\b66%\b\b\b67%\b\b\b68%\b\b\b69%\b\b\b70%\b\b\b71%\b\b\b72%\b\b\b73%\b\b\b74%\b\b\b75%\b\b\b76%\b\b\b77%\b\b\b78%\b\b\b79%\b\b\b80%\b\b\b81%\b\b\b82%\b\b\b83%\b\b\b84%\b\b\b85%\b\b\b86%\b\b\b87%\b\b\b88%\b\b\b89%\b\b\b90%\b\b\b91%\b\b\b92%\b\b\b93%\b\b\b94%\b\b\b95%\b\b\b96%\b\b\b97%\b\b\b98%\b\b\b99%\b\b\b\b done.\n",
      "Total genotyping rate in remaining samples is 0.957009.\n",
      "12539 variants and 43 samples pass filters and QC.\n",
      "Note: No phenotypes present.\n",
      "--recode to\n",
      "/home/ipseg/Desktop/waples/chum_populations/results/batch_4/pop_analysis/bayescan/BS_group_7.ped\n",
      "+\n",
      "/home/ipseg/Desktop/waples/chum_populations/results/batch_4/pop_analysis/bayescan/BS_group_7.map\n",
      "... 0%\b\b1%\b\b2%\b\b3%\b\b4%\b\b5%\b\b6%\b\b7%\b\b8%\b\b9%\b\b10%\b\b\b11%\b\b\b12%\b\b\b13%\b\b\b14%\b\b\b15%\b\b\b16%\b\b\b17%\b\b\b18%\b\b\b19%\b\b\b20%\b\b\b21%\b\b\b22%\b\b\b23%\b\b\b24%\b\b\b25%\b\b\b26%\b\b\b27%\b\b\b28%\b\b\b29%\b\b\b30%\b\b\b31%\b\b\b32%\b\b\b33%\b\b\b34%\b\b\b35%\b\b\b36%\b\b\b37%\b\b\b38%\b\b\b39%\b\b\b40%\b\b\b41%\b\b\b42%\b\b\b43%\b\b\b44%\b\b\b45%\b\b\b46%\b\b\b47%\b\b\b48%\b\b\b49%\b\b\b50%\b\b\b51%\b\b\b52%\b\b\b53%\b\b\b54%\b\b\b55%\b\b\b56%\b\b\b57%\b\b\b58%\b\b\b59%\b\b\b60%\b\b\b61%\b\b\b62%\b\b\b63%\b\b\b64%\b\b\b65%\b\b\b66%\b\b\b67%\b\b\b68%\b\b\b69%\b\b\b70%\b\b\b71%\b\b\b72%\b\b\b73%\b\b\b74%\b\b\b75%\b\b\b76%\b\b\b77%\b\b\b78%\b\b\b79%\b\b\b80%\b\b\b81%\b\b\b82%\b\b\b83%\b\b\b84%\b\b\b85%\b\b\b86%\b\b\b87%\b\b\b88%\b\b\b89%\b\b\b90%\b\b\b91%\b\b\b92%\b\b\b93%\b\b\b94%\b\b\b95%\b\b\b96%\b\b\b97%\b\b\b98%\b\b\b99%\b\b\bdone.\n",
      "PLINK v1.90b3j 64-bit (2 Apr 2015)         https://www.cog-genomics.org/plink2\n",
      "(C) 2005-2015 Shaun Purcell, Christopher Chang   GNU General Public License v3\n",
      "Logging to /home/ipseg/Desktop/waples/chum_populations/results/batch_4/pop_analysis/bayescan/BS_group_6.log.\n",
      "32127 MB RAM detected; reserving 16063 MB for main workspace.\n",
      "12539 variants loaded from .bim file.\n",
      "174 samples (0 males, 0 females, 174 ambiguous) loaded from .fam.\n",
      "Ambiguous sex IDs written to\n",
      "/home/ipseg/Desktop/waples/chum_populations/results/batch_4/pop_analysis/bayescan/BS_group_6.nosex\n",
      ".\n",
      "--family: 2 clusters defined.\n",
      "147 samples removed by cluster filter(s).\n",
      "Using 1 thread (no multithreaded calculations invoked).\n",
      "Before main variant filters, 27 founders and 0 nonfounders present.\n",
      "Calculating allele frequencies... 0%\b\b1%\b\b2%\b\b3%\b\b4%\b\b5%\b\b6%\b\b7%\b\b8%\b\b9%\b\b10%\b\b\b11%\b\b\b12%\b\b\b13%\b\b\b14%\b\b\b15%\b\b\b16%\b\b\b17%\b\b\b18%\b\b\b19%\b\b\b20%\b\b\b21%\b\b\b22%\b\b\b23%\b\b\b24%\b\b\b25%\b\b\b26%\b\b\b27%\b\b\b28%\b\b\b29%\b\b\b30%\b\b\b31%\b\b\b32%\b\b\b33%\b\b\b34%\b\b\b35%\b\b\b36%\b\b\b37%\b\b\b38%\b\b\b39%\b\b\b40%\b\b\b41%\b\b\b42%\b\b\b43%\b\b\b44%\b\b\b45%\b\b\b46%\b\b\b47%\b\b\b48%\b\b\b49%\b\b\b50%\b\b\b51%\b\b\b52%\b\b\b53%\b\b\b54%\b\b\b55%\b\b\b56%\b\b\b57%\b\b\b58%\b\b\b59%\b\b\b60%\b\b\b61%\b\b\b62%\b\b\b63%\b\b\b64%\b\b\b65%\b\b\b66%\b\b\b67%\b\b\b68%\b\b\b69%\b\b\b70%\b\b\b71%\b\b\b72%\b\b\b73%\b\b\b74%\b\b\b75%\b\b\b76%\b\b\b77%\b\b\b78%\b\b\b79%\b\b\b80%\b\b\b81%\b\b\b82%\b\b\b83%\b\b\b84%\b\b\b85%\b\b\b86%\b\b\b87%\b\b\b88%\b\b\b89%\b\b\b90%\b\b\b91%\b\b\b92%\b\b\b93%\b\b\b94%\b\b\b95%\b\b\b96%\b\b\b97%\b\b\b98%\b\b\b99%\b\b\b\b done.\n",
      "Total genotyping rate in remaining samples is 0.925542.\n",
      "12539 variants and 27 samples pass filters and QC.\n",
      "Note: No phenotypes present.\n",
      "--recode to\n",
      "/home/ipseg/Desktop/waples/chum_populations/results/batch_4/pop_analysis/bayescan/BS_group_6.ped\n",
      "+\n",
      "/home/ipseg/Desktop/waples/chum_populations/results/batch_4/pop_analysis/bayescan/BS_group_6.map\n",
      "... 0%\b\b1%\b\b2%\b\b3%\b\b4%\b\b5%\b\b6%\b\b7%\b\b8%\b\b9%\b\b10%\b\b\b11%\b\b\b12%\b\b\b13%\b\b\b14%\b\b\b15%\b\b\b16%\b\b\b17%\b\b\b18%\b\b\b19%\b\b\b20%\b\b\b21%\b\b\b22%\b\b\b23%\b\b\b24%\b\b\b25%\b\b\b26%\b\b\b27%\b\b\b28%\b\b\b29%\b\b\b30%\b\b\b31%\b\b\b32%\b\b\b33%\b\b\b34%\b\b\b35%\b\b\b36%\b\b\b37%\b\b\b38%\b\b\b39%\b\b\b40%\b\b\b41%\b\b\b42%\b\b\b43%\b\b\b44%\b\b\b45%\b\b\b46%\b\b\b47%\b\b\b48%\b\b\b49%\b\b\b50%\b\b\b51%\b\b\b52%\b\b\b53%\b\b\b54%\b\b\b55%\b\b\b56%\b\b\b57%\b\b\b58%\b\b\b59%\b\b\b60%\b\b\b61%\b\b\b62%\b\b\b63%\b\b\b64%\b\b\b65%\b\b\b66%\b\b\b67%\b\b\b68%\b\b\b69%\b\b\b70%\b\b\b71%\b\b\b72%\b\b\b73%\b\b\b74%\b\b\b75%\b\b\b76%\b\b\b77%\b\b\b78%\b\b\b79%\b\b\b80%\b\b\b81%\b\b\b82%\b\b\b83%\b\b\b84%\b\b\b85%\b\b\b86%\b\b\b87%\b\b\b88%\b\b\b89%\b\b\b90%\b\b\b91%\b\b\b92%\b\b\b93%\b\b\b94%\b\b\b95%\b\b\b96%\b\b\b97%\b\b\b98%\b\b\b99%\b\b\bdone.\n"
     ]
    }
   ],
   "source": [
    "for grp_name, group in bayescan_groups.items():\n",
    "    !plink --bfile /home/ipseg/Desktop/waples/chum_populations/data/batch_4/pop_genotypes/non_paralogs \\\n",
    "    --family --keep-cluster-names {\" \".join(group)} \\\n",
    "    --allow-extra-chr --allow-no-sex --autosome-num 50 \\\n",
    "    --recode --out /home/ipseg/Desktop/waples/chum_populations/results/batch_4/pop_analysis/bayescan/BS_group_{grp_name}"
   ]
  },
  {
   "cell_type": "code",
   "execution_count": null,
   "metadata": {
    "collapsed": false
   },
   "outputs": [],
   "source": []
  },
  {
   "cell_type": "code",
   "execution_count": null,
   "metadata": {
    "collapsed": false
   },
   "outputs": [],
   "source": []
  },
  {
   "cell_type": "code",
   "execution_count": null,
   "metadata": {
    "collapsed": false
   },
   "outputs": [],
   "source": []
  },
  {
   "cell_type": "code",
   "execution_count": null,
   "metadata": {
    "collapsed": false
   },
   "outputs": [],
   "source": []
  },
  {
   "cell_type": "code",
   "execution_count": null,
   "metadata": {
    "collapsed": false
   },
   "outputs": [],
   "source": []
  },
  {
   "cell_type": "markdown",
   "metadata": {},
   "source": [
    "### Use PGDSpider to convert to BAYESCAN format\n",
    "This requires a SPID file."
   ]
  },
  {
   "cell_type": "markdown",
   "metadata": {},
   "source": [
    "### PED -> BAYESCAN "
   ]
  },
  {
   "cell_type": "markdown",
   "metadata": {},
   "source": [
    "#### This is the SPID file"
   ]
  },
  {
   "cell_type": "code",
   "execution_count": 1,
   "metadata": {
    "collapsed": false
   },
   "outputs": [
    {
     "name": "stdout",
     "output_type": "stream",
     "text": [
      "# spid-file generated: Thu Apr 09 09:29:05 PDT 2015\r\n",
      "\r\n",
      "# PED Parser questions\r\n",
      "PARSER_FORMAT=PED\r\n",
      "\r\n",
      "# Is the Phenotype absent in the input file?\r\n",
      "PED_PARSER_PHENOTYPE_QUESTION=false\r\n",
      "# Is the Family ID column absent in the input file?\r\n",
      "PED_PARSER_FAMILY_ID_QUESTION=false\r\n",
      "# Do you want to include a MAP file with loci information?\r\n",
      "PED_PARSER_INCLUDE_MAP_QUESTION=false\r\n",
      "# Is the Sex column absent in the input file?\r\n",
      "PED_PARSER_SEX_QUESTION=false\r\n",
      "# Are the Paternal ID and the Maternal ID columns absent in the input file?\r\n",
      "PED_PARSER_PATERNAL_MATERNAL_ID_QUESTION=false\r\n",
      "# Open MAP file\r\n",
      "PED_PARSER_MAP_FILE_QUESTION=\r\n",
      "# Group individuals into populations according to:\r\n",
      "PED_PARSER_POPULATION_QUESTION=FAMILY\r\n",
      "# Is the Individual ID column absent in the input file?\r\n",
      "PED_PARSER_IND_ID_QUESTION=false\r\n",
      "\r\n",
      "# GESTE / BayeScan Writer questions\r\n",
      "WRITER_FORMAT=GESTE_BAYE_SCAN\r\n",
      "\r\n",
      "# Specify which data type should be included in the GESTE / BayeScan file  (GESTE / BayeScan can only analyze one data type per file):\r\n",
      "GESTE_BAYE_SCAN_WRITER_DATA_TYPE_QUESTION=SNP\r\n"
     ]
    }
   ],
   "source": [
    "!cat /home/ipseg/Desktop/waples/chum_populations/data/PGDSpider_SPID/PED_BAYESCAN.spid"
   ]
  },
  {
   "cell_type": "markdown",
   "metadata": {},
   "source": [
    "#### Run PGDSpider"
   ]
  },
  {
   "cell_type": "code",
   "execution_count": 19,
   "metadata": {
    "collapsed": false
   },
   "outputs": [
    {
     "name": "stdout",
     "output_type": "stream",
     "text": [
      "INFO  18:24:37 - load PGDSpider configuration from: /home/ipseg/Programs/PGDSpider/PGDSpider_2.0.8.0/spider.conf.xml\n",
      "initialize convert process...\n",
      "read input file...\n",
      "read input file done.\n",
      "write output file...\n",
      "write output file done.\n",
      "INFO  18:24:52 - load PGDSpider configuration from: /home/ipseg/Programs/PGDSpider/PGDSpider_2.0.8.0/spider.conf.xml\n",
      "initialize convert process...\n",
      "read input file...\n",
      "read input file done.\n",
      "write output file...\n",
      "write output file done.\n",
      "INFO  18:24:56 - load PGDSpider configuration from: /home/ipseg/Programs/PGDSpider/PGDSpider_2.0.8.0/spider.conf.xml\n",
      "initialize convert process...\n",
      "read input file...\n",
      "read input file done.\n",
      "write output file...\n",
      "write output file done.\n",
      "INFO  18:25:10 - load PGDSpider configuration from: /home/ipseg/Programs/PGDSpider/PGDSpider_2.0.8.0/spider.conf.xml\n",
      "initialize convert process...\n",
      "read input file...\n",
      "read input file done.\n",
      "write output file...\n",
      "write output file done.\n",
      "INFO  18:25:14 - load PGDSpider configuration from: /home/ipseg/Programs/PGDSpider/PGDSpider_2.0.8.0/spider.conf.xml\n",
      "initialize convert process...\n",
      "read input file...\n",
      "read input file done.\n",
      "write output file...\n",
      "write output file done.\n",
      "INFO  18:25:20 - load PGDSpider configuration from: /home/ipseg/Programs/PGDSpider/PGDSpider_2.0.8.0/spider.conf.xml\n",
      "initialize convert process...\n",
      "read input file...\n",
      "read input file done.\n",
      "write output file...\n",
      "write output file done.\n",
      "INFO  18:25:24 - load PGDSpider configuration from: /home/ipseg/Programs/PGDSpider/PGDSpider_2.0.8.0/spider.conf.xml\n",
      "initialize convert process...\n",
      "read input file...\n",
      "read input file done.\n",
      "write output file...\n",
      "write output file done.\n"
     ]
    }
   ],
   "source": [
    "for grp_name, group in bayescan_groups.items():\n",
    "    !java -Xmx1024m -Xms512m -jar '/home/ipseg/Programs/PGDSpider/PGDSpider_2.0.8.0/PGDSpider2-cli.jar' \\\n",
    "    -spid /home/ipseg/Desktop/waples/chum_populations/data/PGDSpider_SPID/PED_BAYESCAN.spid  \\\n",
    "    -inputfile /home/ipseg/Desktop/waples/chum_populations/results/batch_4/pop_analysis/bayescan/BS_group_{grp_name}.ped \\\n",
    "    -inputformat PED \\\n",
    "    -outputfile  /home/ipseg/Desktop/waples/chum_populations/results/batch_4/pop_analysis/bayescan/BS_group_{grp_name}.bayescan \\\n",
    "    -outputformat GESTE_BAYE_SCAN\n",
    "    "
   ]
  },
  {
   "cell_type": "markdown",
   "metadata": {},
   "source": [
    "### Run Bayescan\n",
    "This may take a while so the command is printed out to run directly on the command line."
   ]
  },
  {
   "cell_type": "code",
   "execution_count": 23,
   "metadata": {
    "collapsed": false
   },
   "outputs": [
    {
     "name": "stdout",
     "output_type": "stream",
     "text": [
      "/home/ipseg/Programs/bayescan/BayeScan2.1/source/bayescan_2.1     /home/ipseg/Desktop/waples/chum_populations/results/batch_4/pop_analysis/bayescan/BS_group_1.bayescan     -od /home/ipseg/Desktop/waples/chum_populations/results/batch_4/pop_analysis/bayescan     -threads 8     -n 10000     -thin 10     -nbp 20     -pilot 5000     -burn 50000     -out_freq\n",
      "\n",
      "/home/ipseg/Programs/bayescan/BayeScan2.1/source/bayescan_2.1     /home/ipseg/Desktop/waples/chum_populations/results/batch_4/pop_analysis/bayescan/BS_group_3.bayescan     -od /home/ipseg/Desktop/waples/chum_populations/results/batch_4/pop_analysis/bayescan     -threads 8     -n 10000     -thin 10     -nbp 20     -pilot 5000     -burn 50000     -out_freq\n",
      "\n",
      "/home/ipseg/Programs/bayescan/BayeScan2.1/source/bayescan_2.1     /home/ipseg/Desktop/waples/chum_populations/results/batch_4/pop_analysis/bayescan/BS_group_2.bayescan     -od /home/ipseg/Desktop/waples/chum_populations/results/batch_4/pop_analysis/bayescan     -threads 8     -n 10000     -thin 10     -nbp 20     -pilot 5000     -burn 50000     -out_freq\n",
      "\n",
      "/home/ipseg/Programs/bayescan/BayeScan2.1/source/bayescan_2.1     /home/ipseg/Desktop/waples/chum_populations/results/batch_4/pop_analysis/bayescan/BS_group_5.bayescan     -od /home/ipseg/Desktop/waples/chum_populations/results/batch_4/pop_analysis/bayescan     -threads 8     -n 10000     -thin 10     -nbp 20     -pilot 5000     -burn 50000     -out_freq\n",
      "\n",
      "/home/ipseg/Programs/bayescan/BayeScan2.1/source/bayescan_2.1     /home/ipseg/Desktop/waples/chum_populations/results/batch_4/pop_analysis/bayescan/BS_group_4.bayescan     -od /home/ipseg/Desktop/waples/chum_populations/results/batch_4/pop_analysis/bayescan     -threads 8     -n 10000     -thin 10     -nbp 20     -pilot 5000     -burn 50000     -out_freq\n",
      "\n",
      "/home/ipseg/Programs/bayescan/BayeScan2.1/source/bayescan_2.1     /home/ipseg/Desktop/waples/chum_populations/results/batch_4/pop_analysis/bayescan/BS_group_7.bayescan     -od /home/ipseg/Desktop/waples/chum_populations/results/batch_4/pop_analysis/bayescan     -threads 8     -n 10000     -thin 10     -nbp 20     -pilot 5000     -burn 50000     -out_freq\n",
      "\n",
      "/home/ipseg/Programs/bayescan/BayeScan2.1/source/bayescan_2.1     /home/ipseg/Desktop/waples/chum_populations/results/batch_4/pop_analysis/bayescan/BS_group_6.bayescan     -od /home/ipseg/Desktop/waples/chum_populations/results/batch_4/pop_analysis/bayescan     -threads 8     -n 10000     -thin 10     -nbp 20     -pilot 5000     -burn 50000     -out_freq\n",
      "\n"
     ]
    }
   ],
   "source": [
    "for grp_name, group in bayescan_groups.items():\n",
    "    print (\"\"\"/home/ipseg/Programs/bayescan/BayeScan2.1/source/bayescan_2.1 \\\n",
    "    /home/ipseg/Desktop/waples/chum_populations/results/batch_4/pop_analysis/bayescan/BS_group_{}.bayescan \\\n",
    "    -od /home/ipseg/Desktop/waples/chum_populations/results/batch_4/pop_analysis/bayescan \\\n",
    "    -threads 8 \\\n",
    "    -n 10000 \\\n",
    "    -thin 10 \\\n",
    "    -nbp 20 \\\n",
    "    -pilot 5000 \\\n",
    "    -burn 50000 \\\n",
    "    -out_freq\\n\"\"\").format(grp_name)"
   ]
  },
  {
   "cell_type": "markdown",
   "metadata": {},
   "source": [
    "### Next see: Plotting Bayescan results"
   ]
  }
 ],
 "metadata": {
  "kernelspec": {
   "display_name": "Python 2",
   "language": "python",
   "name": "python2"
  },
  "language_info": {
   "codemirror_mode": {
    "name": "ipython",
    "version": 2
   },
   "file_extension": ".py",
   "mimetype": "text/x-python",
   "name": "python",
   "nbconvert_exporter": "python",
   "pygments_lexer": "ipython2",
   "version": "2.7.9"
  }
 },
 "nbformat": 4,
 "nbformat_minor": 0
}
