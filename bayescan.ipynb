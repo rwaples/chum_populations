{
 "metadata": {
  "name": "",
  "signature": "sha256:8aece3888c95ea81b31424d305584501fbb6788d945c4952d74330897102389a"
 },
 "nbformat": 3,
 "nbformat_minor": 0,
 "worksheets": [
  {
   "cells": [
    {
     "cell_type": "markdown",
     "metadata": {},
     "source": [
      "### Use PGDSpider to convert to BAYESCAN format\n",
      "Notice this requires a SPID file."
     ]
    },
    {
     "cell_type": "code",
     "collapsed": false,
     "input": [
      "### Use PLINK to create a \\*.ped file"
     ],
     "language": "python",
     "metadata": {},
     "outputs": [],
     "prompt_number": 4
    },
    {
     "cell_type": "code",
     "collapsed": false,
     "input": [
      "!plink --bfile /home/ipseg/Desktop/waples/chum_populations/data/batch_4/pop_genotypes/non_paralogs \\\n",
      "--allow-extra-chr --allow-no-sex --autosome-num 50 \\\n",
      "--recode --out /home/ipseg/Desktop/waples/chum_populations/results/batch_4/pop_analysis/non_paralogs"
     ],
     "language": "python",
     "metadata": {},
     "outputs": [
      {
       "output_type": "stream",
       "stream": "stdout",
       "text": [
        "PLINK v1.90b3j 64-bit (2 Apr 2015)         https://www.cog-genomics.org/plink2\r\n",
        "(C) 2005-2015 Shaun Purcell, Christopher Chang   GNU General Public License v3\r\n",
        "Logging to /home/ipseg/Desktop/waples/chum_populations/results/batch_4/pop_analysis/non_paralogs.log.\r\n",
        "32127 MB RAM detected; reserving 16063 MB for main workspace.\r\n",
        "12539 variants loaded from .bim file.\r\n",
        "174 samples (0 males, 0 females, 174 ambiguous) loaded from .fam.\r\n",
        "Ambiguous sex IDs written to\r\n",
        "/home/ipseg/Desktop/waples/chum_populations/results/batch_4/pop_analysis/non_paralogs.nosex\r\n",
        ".\r\n",
        "Using 1 thread (no multithreaded calculations invoked).\r\n",
        "Before main variant filters, 174 founders and 0 nonfounders present.\r\n",
        "Calculating allele frequencies... 0%\b\b1%\b\b2%\b\b3%\b\b4%\b\b5%\b\b6%\b\b7%\b\b8%\b\b9%\b\b10%\b\b\b11%\b\b\b12%\b\b\b13%\b\b\b14%\b\b\b15%\b\b\b16%\b\b\b17%\b\b\b18%\b\b\b19%\b\b\b20%\b\b\b21%\b\b\b22%\b\b\b23%\b\b\b24%\b\b\b25%\b\b\b26%\b\b\b27%\b\b\b28%\b\b\b29%\b\b\b30%\b\b\b31%\b\b\b32%\b\b\b33%\b\b\b34%\b\b\b35%\b\b\b36%\b\b\b37%\b\b\b38%\b\b\b39%\b\b\b40%\b\b\b41%\b\b\b42%\b\b\b43%\b\b\b44%\b\b\b45%\b\b\b46%\b\b\b47%\b\b\b48%\b\b\b49%\b\b\b50%\b\b\b51%\b\b\b52%\b\b\b53%\b\b\b54%\b\b\b55%\b\b\b56%\b\b\b57%\b\b\b58%\b\b\b59%\b\b\b60%\b\b\b61%\b\b\b62%\b\b\b63%\b\b\b64%\b\b\b65%\b\b\b66%\b\b\b67%\b\b\b68%\b\b\b69%\b\b\b70%\b\b\b71%\b\b\b72%\b\b\b73%\b\b\b74%\b\b\b75%\b\b\b76%\b\b\b77%\b\b\b78%\b\b\b79%\b\b\b80%\b\b\b81%\b\b\b82%\b\b\b83%\b\b\b84%\b\b\b85%\b\b\b86%\b\b\b87%\b\b\b88%\b\b\b89%\b\b\b90%\b\b\b91%\b\b\b92%\b\b\b93%\b\b\b94%\b\b\b95%\b\b\b96%\b\b\b97%\b\b\b98%\b\b\b99%\b\b\b\b done.\r\n",
        "Total genotyping rate is 0.927873.\r\n",
        "12539 variants and 174 samples pass filters and QC.\r\n",
        "Note: No phenotypes present.\r\n",
        "--recode to\r\n",
        "/home/ipseg/Desktop/waples/chum_populations/results/batch_4/pop_analysis/non_paralogs.ped\r\n",
        "+\r\n",
        "/home/ipseg/Desktop/waples/chum_populations/results/batch_4/pop_analysis/non_paralogs.map\r\n",
        "... 0%\b\b1%\b\b2%\b\b3%\b\b4%\b\b5%\b\b6%\b\b7%\b\b8%\b\b9%\b\b10%\b\b\b11%\b\b\b12%\b\b\b13%\b\b\b14%\b\b\b15%\b\b\b16%\b\b\b17%\b\b\b18%\b\b\b19%\b\b\b20%\b\b\b21%\b\b\b22%\b\b\b23%\b\b\b24%\b\b\b25%\b\b\b26%\b\b\b27%\b\b\b28%\b\b\b29%\b\b\b30%\b\b\b31%\b\b\b32%\b\b\b33%\b\b\b34%\b\b\b35%\b\b\b36%\b\b\b37%\b\b\b38%\b\b\b39%\b\b\b40%\b\b\b41%\b\b\b42%\b\b\b43%\b\b\b44%\b\b\b45%\b\b\b46%\b\b\b47%\b\b\b48%\b\b\b49%\b\b\b50%\b\b\b51%\b\b\b52%\b\b\b53%\b\b\b54%\b\b\b55%\b\b\b56%\b\b\b57%\b\b\b58%\b\b\b59%\b\b\b60%\b\b\b61%\b\b\b62%\b\b\b63%\b\b\b64%\b\b\b65%\b\b\b66%\b\b\b67%\b\b\b68%\b\b\b69%\b\b\b70%\b\b\b71%\b\b\b72%\b\b\b73%\b\b\b74%\b\b\b75%\b\b\b76%\b\b\b77%\b\b\b78%\b\b\b79%\b\b\b80%\b\b\b81%"
       ]
      },
      {
       "output_type": "stream",
       "stream": "stdout",
       "text": [
        "\b\b\b82%\b\b\b83%\b\b\b84%\b\b\b85%\b\b\b86%\b\b\b87%\b\b\b88%\b\b\b89%\b\b\b90%\b\b\b91%\b\b\b92%\b\b\b93%\b\b\b94%\b\b\b95%\b\b\b96%\b\b\b97%\b\b\b98%\b\b\b99%\b\b\bdone.\r\n"
       ]
      }
     ],
     "prompt_number": 5
    },
    {
     "cell_type": "markdown",
     "metadata": {},
     "source": [
      "### SPID File\n",
      "### PED -> BAYESCAN "
     ]
    },
    {
     "cell_type": "code",
     "collapsed": false,
     "input": [
      "!cat /home/ipseg/Desktop/waples/chum_populations/data/PGDSpider_SPID/PED_BAYESCAN.spid"
     ],
     "language": "python",
     "metadata": {},
     "outputs": [
      {
       "output_type": "stream",
       "stream": "stdout",
       "text": [
        "# spid-file generated: Thu Apr 09 09:29:05 PDT 2015\r\n",
        "\r\n",
        "# PED Parser questions\r\n",
        "PARSER_FORMAT=PED\r\n",
        "\r\n",
        "# Is the Phenotype absent in the input file?\r\n",
        "PED_PARSER_PHENOTYPE_QUESTION=false\r\n",
        "# Is the Family ID column absent in the input file?\r\n",
        "PED_PARSER_FAMILY_ID_QUESTION=false\r\n",
        "# Do you want to include a MAP file with loci information?\r\n",
        "PED_PARSER_INCLUDE_MAP_QUESTION=false\r\n",
        "# Is the Sex column absent in the input file?\r\n",
        "PED_PARSER_SEX_QUESTION=false\r\n",
        "# Are the Paternal ID and the Maternal ID columns absent in the input file?\r\n",
        "PED_PARSER_PATERNAL_MATERNAL_ID_QUESTION=false\r\n",
        "# Open MAP file\r\n",
        "PED_PARSER_MAP_FILE_QUESTION=\r\n",
        "# Group individuals into populations according to:\r\n",
        "PED_PARSER_POPULATION_QUESTION=FAMILY\r\n",
        "# Is the Individual ID column absent in the input file?\r\n",
        "PED_PARSER_IND_ID_QUESTION=false\r\n",
        "\r\n",
        "# GESTE / BayeScan Writer questions\r\n",
        "WRITER_FORMAT=GESTE_BAYE_SCAN\r\n",
        "\r\n",
        "# Specify which data type should be included in the GESTE / BayeScan file  (GESTE / BayeScan can only analyze one data type per file):\r\n",
        "GESTE_BAYE_SCAN_WRITER_DATA_TYPE_QUESTION=SNP\r\n"
       ]
      }
     ],
     "prompt_number": 1
    },
    {
     "cell_type": "code",
     "collapsed": false,
     "input": [
      "!java -Xmx1024m -Xms512m -jar '/home/ipseg/Programs/PGDSpider/PGDSpider_2.0.8.0/PGDSpider2-cli.jar' \\\n",
      "-spid /home/ipseg/Desktop/waples/chum_populations/data/PGDSpider_SPID/PED_BAYESCAN.spid  \\\n",
      "-inputfile /home/ipseg/Desktop/waples/chum_populations/results/batch_4/pop_analysis/non_paralogs.ped \\\n",
      "-inputformat PED \\\n",
      "-outputfile  /home/ipseg/Desktop/waples/chum_populations/results/batch_4/pop_analysis/bayescan/non_paralogs.bayescan \\\n",
      "-outputformat GESTE_BAYE_SCAN"
     ],
     "language": "python",
     "metadata": {},
     "outputs": [
      {
       "output_type": "stream",
       "stream": "stdout",
       "text": [
        "INFO  11:29:47 - load PGDSpider configuration from: /home/ipseg/Programs/PGDSpider/PGDSpider_2.0.8.0/spider.conf.xml\r\n"
       ]
      },
      {
       "output_type": "stream",
       "stream": "stdout",
       "text": [
        "initialize convert process...\r\n",
        "read input file...\r\n"
       ]
      },
      {
       "output_type": "stream",
       "stream": "stdout",
       "text": [
        "read input file done.\r\n",
        "write output file...\r\n"
       ]
      },
      {
       "output_type": "stream",
       "stream": "stdout",
       "text": [
        "write output file done.\r\n"
       ]
      }
     ],
     "prompt_number": 6
    },
    {
     "cell_type": "markdown",
     "metadata": {},
     "source": [
      "### Run Bayescan\n",
      "This may take a while so the command is printed out to run directly on the command line."
     ]
    },
    {
     "cell_type": "code",
     "collapsed": false,
     "input": [
      "print (\"\"\"/home/ipseg/Programs/bayescan/BayeScan2.1/source/bayescan_2.1 \\\n",
      "/home/ipseg/Desktop/waples/chum_populations/results/batch_4/pop_analysis/bayescan/non_paralogs.bayescan \\\n",
      "-od /home/ipseg/Desktop/waples/chum_populations/results/batch_4/pop_analysis/bayescan \\\n",
      "-threads 7 \\\n",
      "-n 5000 \\\n",
      "-thin 10 \\\n",
      "-nbp 20 \\\n",
      "-pilot 5000 \\\n",
      "-burn 5000 \\\n",
      "-out_freq\"\"\")"
     ],
     "language": "python",
     "metadata": {},
     "outputs": [
      {
       "output_type": "stream",
       "stream": "stdout",
       "text": [
        "/home/ipseg/Programs/bayescan/BayeScan2.1/source/bayescan_2.1 /home/ipseg/Desktop/waples/chum_populations/results/batch_4/pop_analysis/bayescan/non_paralogs.bayescan -od /home/ipseg/Desktop/waples/chum_populations/results/batch_4/pop_analysis/bayescan -threads 7 -n 5000 -thin 10 -nbp 20 -pilot 5000 -burn 5000 -out_freq\n"
       ]
      }
     ],
     "prompt_number": 8
    },
    {
     "cell_type": "code",
     "collapsed": false,
     "input": [
      "### Plotting Bayescan results"
     ],
     "language": "python",
     "metadata": {},
     "outputs": [],
     "prompt_number": 1
    },
    {
     "cell_type": "code",
     "collapsed": false,
     "input": [
      "import pandas as pd\n",
      "baye_fst = pd.read_csv('/home/ipseg/Desktop/waples/chum_populations/results/batch_4/pop_analysis/bayescan/non_paralogs.baye_fst.txt', \n",
      "            sep = \" \", skiprows=1, header = None, skipinitialspace=True)\n",
      "baye_fst.columns = ['BSname','prob','log10(PO)','qval','alpha','fst', 'junk']\n"
     ],
     "language": "python",
     "metadata": {},
     "outputs": [],
     "prompt_number": 9
    },
    {
     "cell_type": "code",
     "collapsed": false,
     "input": [
      "%matplotlib inline\n",
      "figsize(16, 8)\n",
      "\n",
      "qval_threshold = .005\n",
      "\n",
      "plt.scatter(-np.log10(baye_fst['qval']), baye_fst['fst'])\n",
      "plt.axvline(x=-log10(qval_threshold), c= 'black',  ls = '--')\n",
      "plt.xlabel('-log10(q)',fontsize = 24); plt.ylabel(\"Fst\",fontsize = 24)\n",
      "plt.annotate('{} outliers at\\nqval <= {}'.format(sum(baye_fst['qval'] < qval_threshold), qval_threshold),  \n",
      "             xycoords='axes fraction', xy = (.1, .7), fontsize = 20)\n",
      "plt.show()"
     ],
     "language": "python",
     "metadata": {},
     "outputs": [
      {
       "metadata": {},
       "output_type": "display_data",
       "png": "[encoded data removed]",
       "text": [
        "<matplotlib.figure.Figure at 0x3a0b350>"
       ]
      }
     ],
     "prompt_number": 12
    },
    {
     "cell_type": "markdown",
     "metadata": {},
     "source": [
      "### get the Stacks_SNP id for each locus"
     ]
    },
    {
     "cell_type": "code",
     "collapsed": false,
     "input": [
      "# the output from plnk, column 2 is what we want\n",
      "stacks_SNPs = pd.read_csv('/home/ipseg/Desktop/waples/chum_populations/results/batch_4/pop_analysis/non_paralogs.map', \n",
      "            header = None, sep = '\\t')\n",
      "stacks_SNPs.columns =  ['ignore1', 'stacks_SNP', 'ignore2', 'ignore3']\n",
      "stacks_SNPs['BSname'] = stacks_SNPs.index + 1\n",
      "stacks_SNPs.head()"
     ],
     "language": "python",
     "metadata": {},
     "outputs": [
      {
       "html": [
        "<div style=\"max-height:1000px;max-width:1500px;overflow:auto;\">\n",
        "<table border=\"1\" class=\"dataframe\">\n",
        "  <thead>\n",
        "    <tr style=\"text-align: right;\">\n",
        "      <th></th>\n",
        "      <th>ignore1</th>\n",
        "      <th>stacks_SNP</th>\n",
        "      <th>ignore2</th>\n",
        "      <th>ignore3</th>\n",
        "      <th>BSname</th>\n",
        "    </tr>\n",
        "  </thead>\n",
        "  <tbody>\n",
        "    <tr>\n",
        "      <th>0</th>\n",
        "      <td>0</td>\n",
        "      <td>1013_6</td>\n",
        "      <td>0</td>\n",
        "      <td>6</td>\n",
        "      <td>1</td>\n",
        "    </tr>\n",
        "    <tr>\n",
        "      <th>1</th>\n",
        "      <td>0</td>\n",
        "      <td>2062_6</td>\n",
        "      <td>0</td>\n",
        "      <td>6</td>\n",
        "      <td>2</td>\n",
        "    </tr>\n",
        "    <tr>\n",
        "      <th>2</th>\n",
        "      <td>0</td>\n",
        "      <td>2574_6</td>\n",
        "      <td>0</td>\n",
        "      <td>6</td>\n",
        "      <td>3</td>\n",
        "    </tr>\n",
        "    <tr>\n",
        "      <th>3</th>\n",
        "      <td>0</td>\n",
        "      <td>2741_6</td>\n",
        "      <td>0</td>\n",
        "      <td>6</td>\n",
        "      <td>4</td>\n",
        "    </tr>\n",
        "    <tr>\n",
        "      <th>4</th>\n",
        "      <td>0</td>\n",
        "      <td>4096_6</td>\n",
        "      <td>0</td>\n",
        "      <td>6</td>\n",
        "      <td>5</td>\n",
        "    </tr>\n",
        "  </tbody>\n",
        "</table>\n",
        "</div>"
       ],
       "metadata": {},
       "output_type": "pyout",
       "prompt_number": 55,
       "text": [
        "   ignore1 stacks_SNP  ignore2  ignore3  BSname\n",
        "0        0     1013_6        0        6       1\n",
        "1        0     2062_6        0        6       2\n",
        "2        0     2574_6        0        6       3\n",
        "3        0     2741_6        0        6       4\n",
        "4        0     4096_6        0        6       5"
       ]
      }
     ],
     "prompt_number": 55
    },
    {
     "cell_type": "code",
     "collapsed": false,
     "input": [
      "mapped_bayescan = pd.merge(baye_fst,stacks_SNPs)\n",
      "mapped_bayescan = mapped_bayescan[['stacks_SNP', 'BSname', 'fst', 'log10(PO)', 'qval']]\n",
      "\n",
      "map_pop_fst = pd.read_csv('/home/ipseg/Desktop/waples/chum_populations/results/batch_4/pop_analysis/map_pop_fst.txt',\n",
      "                          sep = \"\\t\")\n",
      "map_pop_fst.head()\n",
      "len(mapped_bayescan[mapped_bayescan])"
     ],
     "language": "python",
     "metadata": {},
     "outputs": [
      {
       "metadata": {},
       "output_type": "pyout",
       "prompt_number": 60,
       "text": [
        "12539"
       ]
      }
     ],
     "prompt_number": 60
    },
    {
     "cell_type": "code",
     "collapsed": false,
     "input": [
      "map_pop_bayescan = pd.merge(map_pop_fst, mapped_bayescan, on=\"stacks_SNP\")\n",
      "\n",
      "# clarify the two differetn fst columns\n",
      "map_pop_bayescan.rename(columns={'fst': 'Fst_bayescan', 'FST': 'Fst_plink'}, inplace=True)\n",
      "\n",
      "map_pop_bayescan.to_csv('/home/ipseg/Desktop/waples/chum_populations/results/batch_4/pop_analysis/map_pop_bayescan.txt', \n",
      "                       sep = \"\\t\", index = False)\n",
      "\n",
      "map_pop_bayescan.head()"
     ],
     "language": "python",
     "metadata": {},
     "outputs": [
      {
       "html": [
        "<div style=\"max-height:1000px;max-width:1500px;overflow:auto;\">\n",
        "<table border=\"1\" class=\"dataframe\">\n",
        "  <thead>\n",
        "    <tr style=\"text-align: right;\">\n",
        "      <th></th>\n",
        "      <th>stacks_SNP</th>\n",
        "      <th>contig</th>\n",
        "      <th>ignore</th>\n",
        "      <th>pos</th>\n",
        "      <th>match</th>\n",
        "      <th>LEP_LG</th>\n",
        "      <th>LEPname</th>\n",
        "      <th>cM</th>\n",
        "      <th>resolved_locus</th>\n",
        "      <th>CHR</th>\n",
        "      <th>POS</th>\n",
        "      <th>NMISS</th>\n",
        "      <th>Fst_plink</th>\n",
        "      <th>BSname</th>\n",
        "      <th>Fst_bayescan</th>\n",
        "      <th>log10(PO)</th>\n",
        "      <th>qval</th>\n",
        "    </tr>\n",
        "  </thead>\n",
        "  <tbody>\n",
        "    <tr>\n",
        "      <th>0</th>\n",
        "      <td>8315_6</td>\n",
        "      <td>c19441</td>\n",
        "      <td>0</td>\n",
        "      <td>6</td>\n",
        "      <td>19441</td>\n",
        "      <td>1</td>\n",
        "      <td>1606</td>\n",
        "      <td>4.55</td>\n",
        "      <td>19441</td>\n",
        "      <td>1</td>\n",
        "      <td>6</td>\n",
        "      <td>168</td>\n",
        "      <td>0.023536</td>\n",
        "      <td>6160</td>\n",
        "      <td>0.027898</td>\n",
        "      <td>-1.16940</td>\n",
        "      <td>0.88768</td>\n",
        "    </tr>\n",
        "    <tr>\n",
        "      <th>1</th>\n",
        "      <td>36304_6</td>\n",
        "      <td>c52547</td>\n",
        "      <td>0</td>\n",
        "      <td>6</td>\n",
        "      <td>52547</td>\n",
        "      <td>1</td>\n",
        "      <td>6416</td>\n",
        "      <td>106.38</td>\n",
        "      <td>52547</td>\n",
        "      <td>1</td>\n",
        "      <td>6</td>\n",
        "      <td>163</td>\n",
        "      <td>0.075677</td>\n",
        "      <td>6161</td>\n",
        "      <td>0.031529</td>\n",
        "      <td>-0.85623</td>\n",
        "      <td>0.61134</td>\n",
        "    </tr>\n",
        "    <tr>\n",
        "      <th>2</th>\n",
        "      <td>41478_6</td>\n",
        "      <td>c58618</td>\n",
        "      <td>0</td>\n",
        "      <td>6</td>\n",
        "      <td>58618</td>\n",
        "      <td>1</td>\n",
        "      <td>7821</td>\n",
        "      <td>5.39</td>\n",
        "      <td>58618</td>\n",
        "      <td>1</td>\n",
        "      <td>6</td>\n",
        "      <td>162</td>\n",
        "      <td>0.046751</td>\n",
        "      <td>6162</td>\n",
        "      <td>0.028469</td>\n",
        "      <td>-1.12870</td>\n",
        "      <td>0.88272</td>\n",
        "    </tr>\n",
        "    <tr>\n",
        "      <th>3</th>\n",
        "      <td>6516_7</td>\n",
        "      <td>c17379</td>\n",
        "      <td>0</td>\n",
        "      <td>7</td>\n",
        "      <td>17379</td>\n",
        "      <td>1</td>\n",
        "      <td>1286</td>\n",
        "      <td>82.96</td>\n",
        "      <td>17379</td>\n",
        "      <td>1</td>\n",
        "      <td>7</td>\n",
        "      <td>147</td>\n",
        "      <td>0.084434</td>\n",
        "      <td>6163</td>\n",
        "      <td>0.050675</td>\n",
        "      <td>-0.20878</td>\n",
        "      <td>0.20170</td>\n",
        "    </tr>\n",
        "    <tr>\n",
        "      <th>4</th>\n",
        "      <td>41929_7</td>\n",
        "      <td>c59150</td>\n",
        "      <td>0</td>\n",
        "      <td>7</td>\n",
        "      <td>59150</td>\n",
        "      <td>1</td>\n",
        "      <td>7951</td>\n",
        "      <td>5.39</td>\n",
        "      <td>59150</td>\n",
        "      <td>1</td>\n",
        "      <td>7</td>\n",
        "      <td>166</td>\n",
        "      <td>0.005174</td>\n",
        "      <td>6164</td>\n",
        "      <td>0.027188</td>\n",
        "      <td>-1.05120</td>\n",
        "      <td>0.84973</td>\n",
        "    </tr>\n",
        "  </tbody>\n",
        "</table>\n",
        "</div>"
       ],
       "metadata": {},
       "output_type": "pyout",
       "prompt_number": 59,
       "text": [
        "  stacks_SNP  contig  ignore  pos  match  LEP_LG  LEPname      cM  \\\n",
        "0     8315_6  c19441       0    6  19441       1     1606    4.55   \n",
        "1    36304_6  c52547       0    6  52547       1     6416  106.38   \n",
        "2    41478_6  c58618       0    6  58618       1     7821    5.39   \n",
        "3     6516_7  c17379       0    7  17379       1     1286   82.96   \n",
        "4    41929_7  c59150       0    7  59150       1     7951    5.39   \n",
        "\n",
        "   resolved_locus  CHR  POS  NMISS  Fst_plink  BSname  Fst_bayescan  \\\n",
        "0           19441    1    6    168   0.023536    6160      0.027898   \n",
        "1           52547    1    6    163   0.075677    6161      0.031529   \n",
        "2           58618    1    6    162   0.046751    6162      0.028469   \n",
        "3           17379    1    7    147   0.084434    6163      0.050675   \n",
        "4           59150    1    7    166   0.005174    6164      0.027188   \n",
        "\n",
        "   log10(PO)     qval  \n",
        "0   -1.16940  0.88768  \n",
        "1   -0.85623  0.61134  \n",
        "2   -1.12870  0.88272  \n",
        "3   -0.20878  0.20170  \n",
        "4   -1.05120  0.84973  "
       ]
      }
     ],
     "prompt_number": 59
    },
    {
     "cell_type": "code",
     "collapsed": false,
     "input": [
      "len(mapped_bayescan)"
     ],
     "language": "python",
     "metadata": {},
     "outputs": [
      {
       "metadata": {},
       "output_type": "pyout",
       "prompt_number": 40,
       "text": [
        "12539"
       ]
      }
     ],
     "prompt_number": 40
    },
    {
     "cell_type": "code",
     "collapsed": false,
     "input": [],
     "language": "python",
     "metadata": {},
     "outputs": []
    }
   ],
   "metadata": {}
  }
 ]
}